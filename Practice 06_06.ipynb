{
 "cells": [
  {
   "cell_type": "code",
   "execution_count": null,
   "id": "aeb7ec84",
   "metadata": {},
   "outputs": [],
   "source": []
  },
  {
   "cell_type": "markdown",
   "id": "5af8859c",
   "metadata": {},
   "source": [
    "## Chapter 1"
   ]
  },
  {
   "cell_type": "markdown",
   "id": "a752bc1a",
   "metadata": {},
   "source": [
    "### Why should you learn to write programs?"
   ]
  },
  {
   "cell_type": "markdown",
   "id": "8386b55e",
   "metadata": {},
   "source": [
    "Programming is a creative and rewarding skill. People learn it for many reasons—earning a living, solving complex problems, helping others, or simply for fun. This book assumes that everyone should know how to program, and once you do, you’ll find your own meaningful use for it.\n",
    "\n",
    "Today, we’re surrounded by computers—from laptops to smartphones—that act as personal assistants, ready to help. The hardware is designed to constantly ask, “What would you like me to do next?”\n",
    "\n",
    "By adding an operating system and software, programmers turn this hardware into a powerful Personal Digital Assistant capable of handling a wide range of tasks. These machines are fast and have vast memory, and with the right programming language, we can instruct them to do repetitive tasks on our behalf. Interestingly, computers are best at the kinds of tasks that humans usually find boring or monotonous.\n",
    "\n",
    "Let’s say you want to find the most frequently used word in the first three paragraphs of this chapter and how often it appears. While reading and understanding text is easy for humans, counting words manually is tedious and not something our brains are naturally wired for. For computers, it’s the opposite—understanding language is difficult, but counting words is simple.\n",
    "\n",
    "For example, if we run the program:\n",
    "- python words.py\n",
    "- Enter file: words.txt\n",
    "\n",
    "The program might respond:\n",
    "- to 16\n",
    "\n",
    "This shows that our “personal information analysis assistant”—the computer—quickly determined that the word “to” appeared 16 times in those paragraphs.\n",
    "\n",
    "This contrast highlights why learning to “speak computer” is so valuable. Computers excel at repetitive, structured tasks that humans find dull. Once you learn the language of programming, you can delegate such tasks to your computer partner, freeing yourself to focus on creative and intuitive work—the things humans do best."
   ]
  },
  {
   "cell_type": "code",
   "execution_count": null,
   "id": "008a5a76",
   "metadata": {},
   "outputs": [],
   "source": []
  },
  {
   "cell_type": "code",
   "execution_count": null,
   "id": "8a5b6dfb",
   "metadata": {},
   "outputs": [],
   "source": []
  },
  {
   "cell_type": "code",
   "execution_count": null,
   "id": "6d794b36",
   "metadata": {},
   "outputs": [],
   "source": []
  },
  {
   "cell_type": "markdown",
   "id": "516907f3",
   "metadata": {},
   "source": [
    "#### Values and Types"
   ]
  },
  {
   "cell_type": "markdown",
   "id": "90a45f8b",
   "metadata": {},
   "source": [
    "A value is a basic thing that a program uses, like a number or some text.\n",
    "Examples of values are: 1, 2, and \"Hello, World!\".\n",
    "Each value has a type. For example, 2 is an integer (a whole number), and \"Hello, World!\" is a string (which means a group of letters or characters).\n",
    "You can tell something is a string because it’s written inside quotation marks.\n",
    "The print command can show both numbers and strings.\n",
    "To start using Python, we type the python command to open the interpreter."
   ]
  },
  {
   "cell_type": "code",
   "execution_count": 1,
   "id": "5e09cc0c",
   "metadata": {},
   "outputs": [
    {
     "name": "stdout",
     "output_type": "stream",
     "text": [
      "4\n"
     ]
    }
   ],
   "source": [
    "print(4)"
   ]
  },
  {
   "cell_type": "code",
   "execution_count": 29,
   "id": "2a0de3b0",
   "metadata": {},
   "outputs": [
    {
     "data": {
      "text/plain": [
       "int"
      ]
     },
     "execution_count": 29,
     "metadata": {},
     "output_type": "execute_result"
    }
   ],
   "source": [
    "type(4)"
   ]
  },
  {
   "cell_type": "code",
   "execution_count": 30,
   "id": "61579578",
   "metadata": {},
   "outputs": [
    {
     "data": {
      "text/plain": [
       "str"
      ]
     },
     "execution_count": 30,
     "metadata": {},
     "output_type": "execute_result"
    }
   ],
   "source": [
    "type(\"Hello World\")"
   ]
  },
  {
   "cell_type": "code",
   "execution_count": 31,
   "id": "29a33869",
   "metadata": {},
   "outputs": [
    {
     "data": {
      "text/plain": [
       "float"
      ]
     },
     "execution_count": 31,
     "metadata": {},
     "output_type": "execute_result"
    }
   ],
   "source": [
    "type(1.3)"
   ]
  },
  {
   "cell_type": "code",
   "execution_count": 32,
   "id": "880b5cb0",
   "metadata": {},
   "outputs": [
    {
     "data": {
      "text/plain": [
       "str"
      ]
     },
     "execution_count": 32,
     "metadata": {},
     "output_type": "execute_result"
    }
   ],
   "source": [
    "type(\"17\")"
   ]
  },
  {
   "cell_type": "code",
   "execution_count": 33,
   "id": "a4c09c88",
   "metadata": {},
   "outputs": [
    {
     "data": {
      "text/plain": [
       "str"
      ]
     },
     "execution_count": 33,
     "metadata": {},
     "output_type": "execute_result"
    }
   ],
   "source": [
    "type(\"3.2\")"
   ]
  },
  {
   "cell_type": "code",
   "execution_count": 34,
   "id": "9e2398b8",
   "metadata": {},
   "outputs": [
    {
     "name": "stdout",
     "output_type": "stream",
     "text": [
      "1 0 0\n"
     ]
    }
   ],
   "source": [
    "# Well, that’s not what we expected at all! Python interprets 1,000,000 as a commaseparated\n",
    "# sequence of integers, which it prints with spaces between.\n",
    "# This is the first example we have seen of a semantic error: the code runs without\n",
    "# producing an error message, but it doesn’t do the “right” thing.\n",
    "\n",
    "# semantic error\n",
    "print(1,000,000)"
   ]
  },
  {
   "cell_type": "markdown",
   "id": "d0c357d3",
   "metadata": {},
   "source": [
    "#### Variables"
   ]
  },
  {
   "cell_type": "code",
   "execution_count": 35,
   "id": "978e0e1b",
   "metadata": {},
   "outputs": [],
   "source": [
    "# A variable is a name that refers to a value\n",
    "# An assignment statement creates new variables and gives them values: for example\n",
    "\n",
    "message = 'And now for something completely different'\n",
    "n = 18\n",
    "pi = 3.1415\n",
    "\n",
    "# This example makes three assignments. The first assigns a string to a new variable\n",
    "# named message; the second assigns the integer 17 to n; the third assigns the\n",
    "# (approximate) value of   to pi."
   ]
  },
  {
   "cell_type": "code",
   "execution_count": 36,
   "id": "cda66c07",
   "metadata": {},
   "outputs": [
    {
     "name": "stdout",
     "output_type": "stream",
     "text": [
      "And now for something completely different\n"
     ]
    },
    {
     "data": {
      "text/plain": [
       "str"
      ]
     },
     "execution_count": 36,
     "metadata": {},
     "output_type": "execute_result"
    }
   ],
   "source": [
    "# To display the value of a variable, you can use a print statement:\n",
    "\n",
    "print(message)\n",
    "type(message)"
   ]
  },
  {
   "cell_type": "code",
   "execution_count": 37,
   "id": "7c8faa8c",
   "metadata": {},
   "outputs": [
    {
     "name": "stdout",
     "output_type": "stream",
     "text": [
      "18\n"
     ]
    },
    {
     "data": {
      "text/plain": [
       "int"
      ]
     },
     "execution_count": 37,
     "metadata": {},
     "output_type": "execute_result"
    }
   ],
   "source": [
    "print(n)\n",
    "\n",
    "# The type of a variable is the type of the value it refers to.\n",
    "type(n)"
   ]
  },
  {
   "cell_type": "code",
   "execution_count": 38,
   "id": "92a5385e",
   "metadata": {},
   "outputs": [
    {
     "name": "stdout",
     "output_type": "stream",
     "text": [
      "3.1415\n"
     ]
    },
    {
     "data": {
      "text/plain": [
       "float"
      ]
     },
     "execution_count": 38,
     "metadata": {},
     "output_type": "execute_result"
    }
   ],
   "source": [
    "print(pi)\n",
    "type(pi)"
   ]
  },
  {
   "cell_type": "markdown",
   "id": "5f39fd9b",
   "metadata": {},
   "source": [
    "#### Variable name and keywords"
   ]
  },
  {
   "cell_type": "code",
   "execution_count": 39,
   "id": "9ea27ae2",
   "metadata": {},
   "outputs": [
    {
     "ename": "SyntaxError",
     "evalue": "invalid decimal literal (2199210916.py, line 2)",
     "output_type": "error",
     "traceback": [
      "\u001b[0;36m  Cell \u001b[0;32mIn[39], line 2\u001b[0;36m\u001b[0m\n\u001b[0;31m    76trombones = 'big parade'\u001b[0m\n\u001b[0m     ^\u001b[0m\n\u001b[0;31mSyntaxError\u001b[0m\u001b[0;31m:\u001b[0m invalid decimal literal\n"
     ]
    }
   ],
   "source": [
    "# If you give a variable an illegal name, you get a syntax error:\n",
    "76trombones = 'big parade'\n",
    "\n",
    "\n",
    "# 76trombones is illegal because it begins with a number"
   ]
  },
  {
   "cell_type": "code",
   "execution_count": null,
   "id": "77238a74",
   "metadata": {},
   "outputs": [],
   "source": [
    "more@ = 10000\n",
    "\n",
    "# more@ is illegal because it contains an illegal character, @."
   ]
  },
  {
   "cell_type": "code",
   "execution_count": null,
   "id": "93471fb8",
   "metadata": {},
   "outputs": [],
   "source": [
    "class = \"advanced Theory\"\n",
    "\n",
    "# It turns out that class is one of Python’s keywords. The interpreter uses keywords to recognize the structure of the program, and they cannot be used as variable\n",
    "# names."
   ]
  },
  {
   "cell_type": "markdown",
   "id": "67377994",
   "metadata": {},
   "source": [
    "#### Python reserves 35 keywords:"
   ]
  },
  {
   "cell_type": "code",
   "execution_count": null,
   "id": "cb3f86c7",
   "metadata": {},
   "outputs": [],
   "source": [
    "# False await else import pass\n",
    "# None break except in raise\n",
    "# True class finally is return\n",
    "# and continue for lambda try\n",
    "# as def from nonlocal while\n",
    "# assert del global not with\n",
    "# async elif if or yield"
   ]
  },
  {
   "cell_type": "markdown",
   "id": "f0c7f145",
   "metadata": {},
   "source": [
    "#### Statements"
   ]
  },
  {
   "cell_type": "code",
   "execution_count": null,
   "id": "ea423a11",
   "metadata": {},
   "outputs": [],
   "source": [
    "# A statement is a unit of code which a python interprter can execute\n",
    "# The twow kinds are: print and assignment\n",
    "\n",
    "# a script contains a sequence of statements so if there are more than one statement the result appear \n",
    "# one at a time. for ex:\n",
    "\n",
    "print(1)\n",
    "a = 3\n",
    "print(9)\n",
    "\n",
    "# the assignment statement produces no output"
   ]
  },
  {
   "cell_type": "markdown",
   "id": "d7863962",
   "metadata": {},
   "source": [
    "#### Operators and operands"
   ]
  },
  {
   "cell_type": "code",
   "execution_count": null,
   "id": "0c01bbb3",
   "metadata": {},
   "outputs": [],
   "source": [
    "# Operators are special symbols that represent computations like addition and multiplication.\n",
    "# The values the operator is applied to are called operands.\n",
    "\n",
    "hour = 3\n",
    "minute = 24\n",
    "\n",
    "a = 20 + 32 \n",
    "b = hour - 1\n",
    "c = hour * 60 + minute\n",
    "d = minute / 60        #there has been a chnage in the division operator between python2 & 3, In python3 the results for d is floating point (i.e. 0.4). so to obtain the same answer in Python3 use floored (// integer) division. \n",
    "e = 5 ** 2\n",
    "f = (5 + 9) * (15 - 7)\n",
    "\n",
    "print(a, b, c, d, e, f)"
   ]
  },
  {
   "cell_type": "markdown",
   "id": "5358b700",
   "metadata": {},
   "source": [
    "#### Expressions"
   ]
  },
  {
   "cell_type": "code",
   "execution_count": null,
   "id": "199b5ed5",
   "metadata": {},
   "outputs": [],
   "source": [
    "# An expression is a combination of values, variables, and operators.\n",
    "# If you type an expression in interactive mode, the interpreter evaluates it and displays the result:\n",
    "# But in a script, an expression all by itself doesn’t do anything! This is a common source of confusion for beginners.\n",
    "\n",
    "\n",
    "17\n",
    "x = 6\n",
    "x + 17"
   ]
  },
  {
   "cell_type": "markdown",
   "id": "1506d613",
   "metadata": {},
   "source": [
    "#### Order of Operations"
   ]
  },
  {
   "cell_type": "code",
   "execution_count": null,
   "id": "1744ebe0",
   "metadata": {},
   "outputs": [],
   "source": [
    "# When more than one operator appears in an expression, the order of evaluation depends on the rules of precedence.\n",
    "\n",
    "# The acronym PEMDAS is a useful way to remember the rules\n",
    "# Parentheses have the highest precedence\n",
    "# Exponentiation has the next highest precedence\n",
    "# Multiplication and Division have the same precedence, which is higher than Addition and Subtraction, which also have the same precedence.\n",
    "# Operators with the same precedence are evaluated from left to right. So the expression 5-3-1 is 1, not 3, because the 5-3 happens first and then 1 is subtracted from 2.\n",
    "\n",
    "\n",
    "# **** When in doubt, always put parentheses in your expressions to make sure the computations are performed in the order you intend."
   ]
  },
  {
   "cell_type": "markdown",
   "id": "a635cd58",
   "metadata": {},
   "source": [
    "#### Modulus Operator"
   ]
  },
  {
   "cell_type": "code",
   "execution_count": null,
   "id": "80677d3f",
   "metadata": {},
   "outputs": [],
   "source": [
    "# The modulus operator works on integers and yields the reminder when the first operand is divided by the second\n",
    "# In python the modulus sign is (%)\n",
    "\n",
    "quotient = 7 // 3\n",
    "print(quotient)\n",
    "\n",
    "remainder = 7 % 3\n",
    "print(remainder)"
   ]
  },
  {
   "cell_type": "code",
   "execution_count": null,
   "id": "dd4f0eaf",
   "metadata": {},
   "outputs": [],
   "source": [
    "# So 7 divided by 3 is 2 with 1 left over.\n",
    "# The modulus operator turns out to be surprisingly useful. For example, you can\n",
    "# check whether one number is divisible by another: if x % y is zero, then x is\n",
    "# divisible by y.\n",
    "# You can also extract the right-most digit or digits from a number. For example,\n",
    "# x % 10 yields the right-most digit of x (in base 10). Similarly, x % 100 yields the\n",
    "# last two digits."
   ]
  },
  {
   "cell_type": "markdown",
   "id": "1f552a5b",
   "metadata": {},
   "source": [
    "#### String Operations"
   ]
  },
  {
   "cell_type": "code",
   "execution_count": null,
   "id": "ac1b8968",
   "metadata": {},
   "outputs": [],
   "source": [
    "# the '+' operator works with strings, but it is not addition in the mathematical sense.\n",
    "# Instead it perform concatenation, which means joining the two strings by linking them end to end\n",
    "\n",
    "first = 10\n",
    "second = 20\n",
    "print(first + second)"
   ]
  },
  {
   "cell_type": "code",
   "execution_count": null,
   "id": "92c0691e",
   "metadata": {},
   "outputs": [],
   "source": [
    "first = 100\n",
    "second = 200\n",
    "print(first + second)"
   ]
  },
  {
   "cell_type": "code",
   "execution_count": null,
   "id": "52ca11b5",
   "metadata": {},
   "outputs": [],
   "source": [
    "# The '*' operator also works with strings by multipying the content of a string by an integer.\n",
    "\n",
    "first = 'Test'\n",
    "second = 4\n",
    "print(first * second)\n",
    "print((first + ' ') * second)"
   ]
  },
  {
   "cell_type": "markdown",
   "id": "78037a4a",
   "metadata": {},
   "source": [
    "#### Asking the user for input"
   ]
  },
  {
   "cell_type": "code",
   "execution_count": 40,
   "id": "0bb9a750",
   "metadata": {},
   "outputs": [
    {
     "name": "stdout",
     "output_type": "stream",
     "text": [
      "hello\n",
      "hello\n"
     ]
    }
   ],
   "source": [
    "# Python provides a built-in function called input that gets input from the keyboard\n",
    "\n",
    "user_input = input()\n",
    "print(user_input)"
   ]
  },
  {
   "cell_type": "code",
   "execution_count": 41,
   "id": "c3474f15",
   "metadata": {},
   "outputs": [
    {
     "name": "stdout",
     "output_type": "stream",
     "text": [
      "What is your name?\n",
      "pyladies\n",
      "pyladies\n"
     ]
    }
   ],
   "source": [
    "# Before getting input from the user, it is a good idea to print a prompt telling the user what to input.\n",
    "\n",
    "name = input(\"What is your name?\\n\")\n",
    "print(name)\n",
    "\n",
    "# The sequence '\\n' at the end of the prompt represents a newline, which is a special character that causes a line break."
   ]
  },
  {
   "cell_type": "code",
   "execution_count": 42,
   "id": "386b79fa",
   "metadata": {},
   "outputs": [
    {
     "name": "stdout",
     "output_type": "stream",
     "text": [
      "what... is the speed of light?\n",
      "6000\n"
     ]
    },
    {
     "data": {
      "text/plain": [
       "6005"
      ]
     },
     "execution_count": 42,
     "metadata": {},
     "output_type": "execute_result"
    }
   ],
   "source": [
    "# If you expect the user to type an integer, you can try to convert the return value to int using the int() function:\n",
    "\n",
    "prompt = \"what... is the speed of light?\\n\"\n",
    "speed = int(input(prompt)) \n",
    "speed_x = speed + 5\n",
    "speed_x"
   ]
  },
  {
   "cell_type": "code",
   "execution_count": 43,
   "id": "d254230c",
   "metadata": {},
   "outputs": [
    {
     "name": "stdout",
     "output_type": "stream",
     "text": [
      "what... is the speed of light?\n",
      "6000\n"
     ]
    },
    {
     "data": {
      "text/plain": [
       "6005"
      ]
     },
     "execution_count": 43,
     "metadata": {},
     "output_type": "execute_result"
    }
   ],
   "source": [
    "# But if the user types something other than a string of digits, you get an error:\n",
    "\n",
    "prompt = \"what... is the speed of light?\\n\"\n",
    "speed = int(input(prompt)) \n",
    "speed_x = speed + 5\n",
    "speed_x"
   ]
  },
  {
   "cell_type": "markdown",
   "id": "13892585",
   "metadata": {},
   "source": [
    "#### We will see how to handle this kind of error later.!!"
   ]
  },
  {
   "cell_type": "markdown",
   "id": "c6c8dfbe",
   "metadata": {},
   "source": [
    "#### Comments"
   ]
  },
  {
   "cell_type": "code",
   "execution_count": 44,
   "id": "c76808b9",
   "metadata": {},
   "outputs": [],
   "source": [
    "# As programs get bigger and more complicated, they get more difficult to read.\n",
    "# it is a good idea to add notes to your programs to explain in natural language what the program is doing."
   ]
  },
  {
   "cell_type": "markdown",
   "id": "9f38412d",
   "metadata": {},
   "source": [
    "#### Choosing mnemonic variable names"
   ]
  },
  {
   "cell_type": "code",
   "execution_count": 45,
   "id": "b58586c3",
   "metadata": {},
   "outputs": [
    {
     "name": "stdout",
     "output_type": "stream",
     "text": [
      "437.5\n",
      "437.5\n",
      "437.5\n"
     ]
    }
   ],
   "source": [
    "# For example, the following three programs are identical in terms of what they accomplish, but very different when you read them and try to understand them.\n",
    "\n",
    "\n",
    "a = 35.0\n",
    "b = 12.50\n",
    "c = a * b\n",
    "print(c)\n",
    "\n",
    "hours = 35.0\n",
    "rate = 12.50\n",
    "pay = hours * rate\n",
    "print(pay)\n",
    "\n",
    "x1q3z9ahd = 35.0\n",
    "x1q3z9afd = 12.50\n",
    "x1q3p9afd = x1q3z9ahd * x1q3z9afd\n",
    "print(x1q3p9afd)\n",
    "\n",
    "\n",
    "# The Python interpreter sees all three of these programs as exactly the same but humans see and understand these programs quite differently.\n",
    "\n",
    "# We call these wisely chosen variable names “mnemonic variable names”. The word mnemonic2 means “memory aid”. We choose mnemonic variable names to help us\n",
    "# remember why we created the variable in the first place."
   ]
  },
  {
   "cell_type": "markdown",
   "id": "cff8840c",
   "metadata": {},
   "source": [
    "#### Exercises"
   ]
  },
  {
   "cell_type": "code",
   "execution_count": 46,
   "id": "07d68318",
   "metadata": {},
   "outputs": [
    {
     "name": "stdout",
     "output_type": "stream",
     "text": [
      "What is your name?pyladies\n",
      "Hello pyladies\n"
     ]
    }
   ],
   "source": [
    "# Exercise 2: Write a program that uses input to prompt a user for their name and then welcomes them.\n",
    "\n",
    "name = input('What is your name?')\n",
    "print('Hello ' + name)"
   ]
  },
  {
   "cell_type": "code",
   "execution_count": null,
   "id": "47a6b187",
   "metadata": {},
   "outputs": [],
   "source": [
    "# Exercise 3: Write a program to prompt the user for hours and rate per hour to compute gross pay.\n",
    "\n",
    "hours = float(input('How many hours?'))\n",
    "rate = float(input('What is the rate per hour?'))\n",
    "\n",
    "pay = round((hours * rate), 2)\n",
    "print(pay)"
   ]
  },
  {
   "cell_type": "code",
   "execution_count": null,
   "id": "c8e2597e",
   "metadata": {},
   "outputs": [],
   "source": [
    "# Exercise 4: Assume that we execute the following assignment statements:\n",
    "\n",
    "width = 17\n",
    "height = 12.0\n",
    "\n",
    "# For each of the following expressions, write the value of the expression and the type (of the value of the expression).\n",
    "\n",
    "a = width//2\n",
    "print(a)\n",
    "\n",
    "b = width/2.0\n",
    "print(b)\n",
    "\n",
    "c = height/3\n",
    "print(c)\n",
    "\n",
    "d = 1 + 2 * 5\n",
    "print(d)"
   ]
  },
  {
   "cell_type": "code",
   "execution_count": null,
   "id": "fbff1222",
   "metadata": {},
   "outputs": [],
   "source": [
    "# Exercise 5: Write a program which prompts the user for a Celsius temperature,convert the temperature to Fahrenheit, and print out the converted temperature.\n",
    "\n",
    "# (0°C × 9/5) + 32 = 32°F\n",
    "\n",
    "temp = input('What is the temperature in °C')\n",
    "temp_F = int((float(temp) * (9 / 5)) + float(32))\n",
    "print(\"The Temperature is \" + str(temp_F) + \"°F\")"
   ]
  },
  {
   "cell_type": "markdown",
   "id": "8a522841",
   "metadata": {},
   "source": [
    "## Chapter 3"
   ]
  },
  {
   "cell_type": "markdown",
   "id": "6a27d968",
   "metadata": {},
   "source": [
    "### Conditional execution"
   ]
  },
  {
   "cell_type": "markdown",
   "id": "bfce09e9",
   "metadata": {},
   "source": [
    "#### Boolean expression"
   ]
  },
  {
   "cell_type": "code",
   "execution_count": null,
   "id": "5e03ce9f",
   "metadata": {},
   "outputs": [],
   "source": [
    "# A boolean expression is an expression that is either true or false.\n",
    "\n",
    "5 == 5"
   ]
  },
  {
   "cell_type": "code",
   "execution_count": null,
   "id": "9082a420",
   "metadata": {},
   "outputs": [],
   "source": [
    "5 == 6"
   ]
  },
  {
   "cell_type": "code",
   "execution_count": null,
   "id": "d5498fa5",
   "metadata": {},
   "outputs": [],
   "source": [
    "type(True)"
   ]
  },
  {
   "cell_type": "code",
   "execution_count": null,
   "id": "68028370",
   "metadata": {},
   "outputs": [],
   "source": [
    "# The == operator is one of the comparison operators; the others are:\n",
    "# x != y # x is not equal to y\n",
    "# x > y # x is greater than y\n",
    "# x < y # x is less than y\n",
    "# x >= y # x is greater than or equal to y\n",
    "# x <= y # x is less than or equal to y\n",
    "# x is y # x is the same as y\n",
    "# x is not y # x is not the same as y\n",
    "\n",
    "# Remember that = is an assignment operator and == is a comparison operator. There is no such thing as =< or =>."
   ]
  },
  {
   "cell_type": "markdown",
   "id": "03eca611",
   "metadata": {},
   "source": [
    "#### Logical Operators"
   ]
  },
  {
   "cell_type": "code",
   "execution_count": null,
   "id": "41b3d0b1",
   "metadata": {},
   "outputs": [],
   "source": [
    "# There are three logical operators: and, or, and not.\n",
    "\n",
    "x = 2\n",
    "x > 0 and x < 10   #it is only true if x is greater than zero"
   ]
  },
  {
   "cell_type": "code",
   "execution_count": null,
   "id": "a154039e",
   "metadata": {},
   "outputs": [],
   "source": [
    "n = 3\n",
    "n%2 == 0 or n%3 == 0   #is true if either of the conditions is true, that is, if the number is divisible by 2 or 3."
   ]
  },
  {
   "cell_type": "code",
   "execution_count": null,
   "id": "92f25d4c",
   "metadata": {},
   "outputs": [],
   "source": [
    "# Finally, the not operator negates a boolean expression, so not (x > y) is true if x > y is false.\n",
    "\n",
    "x = 1\n",
    "y = 2\n",
    "x > y"
   ]
  },
  {
   "cell_type": "code",
   "execution_count": null,
   "id": "417628cf",
   "metadata": {},
   "outputs": [],
   "source": [
    "not(x > y)"
   ]
  },
  {
   "cell_type": "code",
   "execution_count": null,
   "id": "12cc34c3",
   "metadata": {},
   "outputs": [],
   "source": [
    "# Strictly speaking, the operands of the logical operators should be boolean expressions,\n",
    "# but Python is not very strict. Any nonzero number is interpreted as “true.”\n",
    "\n",
    "17 and True"
   ]
  },
  {
   "cell_type": "markdown",
   "id": "8da7f2af",
   "metadata": {},
   "source": [
    "#### Conditional execution"
   ]
  },
  {
   "cell_type": "code",
   "execution_count": null,
   "id": "451f86a7",
   "metadata": {},
   "outputs": [],
   "source": [
    "# In order to write useful programs, we almost always need the ability to check conditions and change the behavior of the program accordingly. Conditional statements\n",
    "# give us this ability. The simplest form is the if statement:\n",
    "\n",
    "x = 2\n",
    "if x > 0:\n",
    "    print('x is positive')\n"
   ]
  },
  {
   "cell_type": "markdown",
   "id": "f0878df0",
   "metadata": {},
   "source": [
    "#### Alternative execution"
   ]
  },
  {
   "cell_type": "code",
   "execution_count": null,
   "id": "d3218a59",
   "metadata": {},
   "outputs": [],
   "source": [
    "# A second form of the if statement is alternative execution, in which there are two possibilities and the condition determines which one gets executed.\n",
    "\n",
    "x = 2\n",
    "if x % 2 == 0:\n",
    "    print('x is even')\n",
    "else:\n",
    "    print('x is odd')"
   ]
  },
  {
   "cell_type": "markdown",
   "id": "53bc3d85",
   "metadata": {},
   "source": [
    "#### Chained conditionals"
   ]
  },
  {
   "cell_type": "code",
   "execution_count": null,
   "id": "8a5f6b87",
   "metadata": {},
   "outputs": [],
   "source": [
    "# Sometimes there are more than two possibilities and we need more than two\n",
    "# branches. One way to express a computation like that is a chained conditional:\n",
    "\n",
    "x = 5\n",
    "y = 5\n",
    "if x < y:\n",
    "    print('x is less than y')\n",
    "elif x > y:\n",
    "    print('x is greater than y')\n",
    "else:\n",
    "    print('x and y are equal')"
   ]
  },
  {
   "cell_type": "markdown",
   "id": "c1562753",
   "metadata": {},
   "source": [
    "#### Nested conditionals"
   ]
  },
  {
   "cell_type": "code",
   "execution_count": null,
   "id": "12631e66",
   "metadata": {},
   "outputs": [],
   "source": [
    "# One conditional can also be nested within another. We could have written the three-branch example like this:\n",
    "\n",
    "\n",
    "x = 10 \n",
    "y = 20\n",
    "if x == y:\n",
    "    print('x and y are equal')\n",
    "else:\n",
    "    if x < y:\n",
    "        print('x is less than y')\n",
    "    else:\n",
    "        print('x is greater than y')\n"
   ]
  },
  {
   "cell_type": "markdown",
   "id": "8be751a3",
   "metadata": {},
   "source": [
    "#### Catching exceptions using try and except"
   ]
  },
  {
   "cell_type": "code",
   "execution_count": null,
   "id": "061320a9",
   "metadata": {},
   "outputs": [],
   "source": [
    "# There is a conditional execution structure built into Python to handle these types\n",
    "# of expected and unexpected errors called “try / except”. The purpose of try and\n",
    "# except is that you know that some sequence of instruction(s) may have a problem\n",
    "# and you want to add some statements to be executed if an error occurs. These\n",
    "# extra statements (the except block) are ignored if there is no error."
   ]
  },
  {
   "cell_type": "code",
   "execution_count": null,
   "id": "b666cfce",
   "metadata": {},
   "outputs": [],
   "source": [
    "# Here is a sample program to convert a Fahrenheit temperature to a Celsius temperature:\n",
    "\n",
    "inp = input('Enter Fahrenheit Temperature: ')\n",
    "fahr = float(inp)\n",
    "cel = (fahr - 32.0) * 5.0 / 9.0\n",
    "print(cel)"
   ]
  },
  {
   "cell_type": "markdown",
   "id": "c793ba00",
   "metadata": {},
   "source": [
    "If we execute this code this gives us error. You can think of try and except method feature in Python"
   ]
  },
  {
   "cell_type": "code",
   "execution_count": null,
   "id": "abce1fd4",
   "metadata": {},
   "outputs": [],
   "source": [
    "# we can rewrite our code as:\n",
    "\n",
    "inp = input('Enter Fahrenheit Temperature: ')\n",
    "try:\n",
    "    fahr = float(inp)\n",
    "    cel = (fahr - 32.0) * 5/9\n",
    "    print(cel)\n",
    "except:\n",
    "    print('Please enter a number')\n",
    "    "
   ]
  },
  {
   "cell_type": "markdown",
   "id": "b0bff364",
   "metadata": {},
   "source": [
    "Python starts by executing the sequence of statements in the try block. If all goes well, it skips the except block and proceeds. If an exception occurs in the try block, Python jumps out of the try block and executes the sequence of statements in the except block. Handling an exception by try statement is called caatching an exception.\n",
    "\n",
    "In general, catching an exception gives you a chance to fix the problem, or try again, or at least end the program gracefully."
   ]
  },
  {
   "cell_type": "markdown",
   "id": "1b116276",
   "metadata": {},
   "source": [
    "#### Short circuit evaluation of logical expression"
   ]
  },
  {
   "cell_type": "markdown",
   "id": "80e074ee",
   "metadata": {},
   "source": [
    "When Python detects that there is nothing to be gained by evaluating the rest of logical expression, it stops its evaluation and does not do the computations in the rest of the logical expression. \n",
    "\n",
    "When the evaluation of a logical expression stops because the overall value is already known, it is called short-circuiting the evaluation. \n",
    "\n",
    "While this may seem like a fine point, the short-circuit behavior leads to a clever technique called the guardian pattern. For example:"
   ]
  },
  {
   "cell_type": "code",
   "execution_count": null,
   "id": "c2ceb941",
   "metadata": {},
   "outputs": [],
   "source": [
    "x = 12\n",
    "y = 2\n",
    "x >= 2 and (x/y) > 2"
   ]
  },
  {
   "cell_type": "code",
   "execution_count": null,
   "id": "88897b05",
   "metadata": {},
   "outputs": [],
   "source": [
    "x = 1\n",
    "y = 0\n",
    "x >= 2 and (x/y) > 2"
   ]
  },
  {
   "cell_type": "code",
   "execution_count": null,
   "id": "a3d080ec",
   "metadata": {
    "scrolled": true
   },
   "outputs": [],
   "source": [
    "x = 90\n",
    "y = 0\n",
    "x >= 4 and (x/y) > 4"
   ]
  },
  {
   "cell_type": "markdown",
   "id": "105dfb69",
   "metadata": {},
   "source": [
    "The 3rd calculation failed because python was evaluating (x/y) and y was zero which causes a runtime error. But the first and 2nd example did not fail because in the 1st calculation y was non zero and in the 2nd on the first part of these expressions x >= 2 evaluated to False so the x/y was not ever executed due to the short ciruit rule and there was no error. \n",
    "\n",
    "We can construct the logical expression to strategically place a guard evaluation just before the evaluation that might cause an error as follows:"
   ]
  },
  {
   "cell_type": "code",
   "execution_count": null,
   "id": "7da9f9de",
   "metadata": {},
   "outputs": [],
   "source": [
    "x = 1\n",
    "y = 0\n",
    "x >= 2 and y != 0 and (x/y) > 2"
   ]
  },
  {
   "cell_type": "code",
   "execution_count": null,
   "id": "67054ebd",
   "metadata": {},
   "outputs": [],
   "source": [
    "x = 6\n",
    "y = 0\n",
    "x >= 2 and y != 0 and (x/y) > 2"
   ]
  },
  {
   "cell_type": "code",
   "execution_count": null,
   "id": "64f4dfda",
   "metadata": {},
   "outputs": [],
   "source": [
    "x >= 2 and (x/y) > 2 and y != 0"
   ]
  },
  {
   "cell_type": "markdown",
   "id": "34733862",
   "metadata": {},
   "source": [
    "In the first logical expression, x >= 2 is False so the evaluation stops at the and In the second logical expression, x >= 2 is True but y != 0 is False so we never reach (x/y). In the third logical expression, the y != 0 is after the (x/y) calculation so the expression fails with an error. In the second expression, we say that y != 0 acts as a guard to insure that we only execute (x/y) if y is non-zero."
   ]
  },
  {
   "cell_type": "markdown",
   "id": "dc122ec3",
   "metadata": {},
   "source": [
    "#### Excercises"
   ]
  },
  {
   "cell_type": "markdown",
   "id": "c592901c",
   "metadata": {},
   "source": [
    "Exercise 1: \n",
    "\n",
    "Rewrite your pay computation to give the employee 1.5 times the hourly rate for hours worked above 40 hours.\n",
    "\n",
    "Enter Hours: 45\n",
    "\n",
    "Enter Rate: 10\n",
    "\n",
    "Pay: 475.0"
   ]
  },
  {
   "cell_type": "code",
   "execution_count": null,
   "id": "49149aef",
   "metadata": {},
   "outputs": [],
   "source": [
    "hour = int(input(\"Enter the total hours\\n\"))\n",
    "rate = input(\"What is the rate per hour?\\n\")\n",
    "\n",
    "if hour > 40:\n",
    "    hr = float(hour % 40)\n",
    "    pay1 = (float(hour - hr) * float(rate))\n",
    "    pay2 = hr * (float(rate) * 1.5)\n",
    "    pay = pay1 + pay2\n",
    "    print(f\"Your total pay is ${pay}\")\n",
    "else:\n",
    "    pay = float(hour) * float(rate)\n",
    "    print('Your total pay is ' + '$' + str(pay))"
   ]
  },
  {
   "cell_type": "code",
   "execution_count": null,
   "id": "0d4b63dd",
   "metadata": {
    "scrolled": true
   },
   "outputs": [],
   "source": [
    "# Alternative Method\n",
    "\n",
    "# Function to compute pay\n",
    "def compute_pay(hour, rate):\n",
    "    if hour > 40:\n",
    "        hr = hour % 40\n",
    "        pay1 = (hour - hr) * rate\n",
    "        pay2 = hr * (rate * 1.5)\n",
    "        pay = pay1 + pay2\n",
    "#         print('Your total pay is ' + '$' + str(pay))\n",
    "\n",
    "    else:\n",
    "        pay = hour * rate\n",
    "#         print('Your total pay is ' + '$' + str(pay))\n",
    "\n",
    "    return pay\n",
    "\n",
    "# Input hours and rate\n",
    "hour = float(input(\"Enter hours\\n\"))\n",
    "rate = float(input(\"Enter rate\\n\"))\n",
    "\n",
    "# Calculate pay\n",
    "pay = compute_pay(hour, rate)\n",
    "\n",
    "# Print the pay\n",
    "print(\"The Pay is : \" + '$' + str(pay))"
   ]
  },
  {
   "cell_type": "markdown",
   "id": "a2e6a80c",
   "metadata": {},
   "source": [
    "Exercise 2: \n",
    "\n",
    "Rewrite your pay program using try and except so that your program that handles non-numeric input gracefully by printing a message and exiting the program. The following shows two executions of the program:\n",
    "\n",
    "Enter Hours: 20\n",
    "\n",
    "Enter Rate: nine\n",
    "\n",
    "Error, please enter numeric input\n",
    "\n",
    "Enter Hours: forty\n",
    "\n",
    "Error, please enter numeric input\n"
   ]
  },
  {
   "cell_type": "code",
   "execution_count": null,
   "id": "b5fec7f4",
   "metadata": {
    "scrolled": true
   },
   "outputs": [],
   "source": [
    "try:\n",
    "    hour = int(input(\"Enter the total hours\\n\"))\n",
    "    rate = input(\"What is the rate per hour?\\n\")\n",
    "    \n",
    "    if hour > 40:\n",
    "        hr = float(hour % 40)\n",
    "        pay1 = (float(hour - hr) * float(rate))\n",
    "        pay2 = hr * (float(rate) * 1.5)\n",
    "        pay = pay1 + pay2\n",
    "        print(f\"Your total pay is ${pay}\")\n",
    "    else:\n",
    "        pay = float(hour) * float(rate)\n",
    "        print('Your total pay is ' + '$' + str(pay))\n",
    "\n",
    "except:\n",
    "    print(\"Error, please enter numeric input\")"
   ]
  },
  {
   "cell_type": "markdown",
   "id": "65b31aa4",
   "metadata": {},
   "source": [
    "Exercise 3: Write a program to prompt for a score between 0.0 and 1.0. If the score is out of range, print an error message. If the score is between 0.0 and 1.0, print a grade using the following table:\n",
    "\n",
    "Score     Grade\n",
    "if >= 0.9   A\n",
    "if >= 0.8   B\n",
    "if >= 0.7   C\n",
    "if >= 0.6   D\n",
    "if < 0.6    F\n",
    "\n",
    "Enter score: 0.95, then: \n",
    "A\n",
    "\n",
    "Enter score: perfect, then: \n",
    "Bad score\n",
    "\n",
    "Enter score: 10.0, then: \n",
    "Bad score\n",
    "\n",
    "Enter score: 0.75, then: \n",
    "C\n",
    "\n",
    "Enter score: 0.5, then: \n",
    "F\n",
    "\n",
    "Run the program repeatedly as shown above to test the various different values for input."
   ]
  },
  {
   "cell_type": "code",
   "execution_count": null,
   "id": "9354819d",
   "metadata": {},
   "outputs": [],
   "source": [
    "def score_board(s):\n",
    "    if s >= 0.9:\n",
    "        grade = 'A'\n",
    "    elif s >= 0.8:\n",
    "        grade = 'B'\n",
    "    elif s >= 0.7:\n",
    "        grade = 'C'\n",
    "    elif s >= 0.6:\n",
    "        grade = 'D'\n",
    "    elif s < 0.6:\n",
    "        grade = 'F'\n",
    "    else:\n",
    "        grade = 'Bad Score'\n",
    "    return grade\n",
    "\n",
    "# Input score\n",
    "def main():\n",
    "    s_i = input(\"Enter score: \")\n",
    "    \n",
    "    try:\n",
    "        score = float(s_i)\n",
    "        if score < 0.0 or score > 1.0:\n",
    "            print(\"Bad score\")\n",
    "        else:\n",
    "            result = score_board(score)\n",
    "            print(result)\n",
    "    except ValueError:\n",
    "        print(\"Bad score\")\n",
    "        \n",
    "        \n",
    "# Run the main function\n",
    "if __name__ == \"__main__\":\n",
    "    main()"
   ]
  },
  {
   "cell_type": "markdown",
   "id": "569bd9a2",
   "metadata": {},
   "source": [
    "## Chapter 4"
   ]
  },
  {
   "cell_type": "markdown",
   "id": "98ab095a",
   "metadata": {},
   "source": [
    "### Functions"
   ]
  },
  {
   "cell_type": "markdown",
   "id": "98ddd185",
   "metadata": {},
   "source": [
    "#### 4.1 Function Calls"
   ]
  },
  {
   "cell_type": "markdown",
   "id": "bac5d3c0",
   "metadata": {},
   "source": [
    "In the context of programming, a function is a named sequence of statements that performs a computation. When you define a function, you specify the name and the sequence of statements. Later, you can “call” the function by name. We have already seen one example of a function call:"
   ]
  },
  {
   "cell_type": "code",
   "execution_count": null,
   "id": "4aebb353",
   "metadata": {},
   "outputs": [],
   "source": [
    "type(32)"
   ]
  },
  {
   "cell_type": "markdown",
   "id": "8596b223",
   "metadata": {},
   "source": [
    "#### 4.2 Built-in Functions"
   ]
  },
  {
   "cell_type": "markdown",
   "id": "71fa6388",
   "metadata": {},
   "source": [
    "Python provides a number of important built-in functions that we can use without needing to provide the function definition.\n",
    "\n",
    "The max function tells us the “largest character” in the string (which turns out to be the letter “r”)"
   ]
  },
  {
   "cell_type": "code",
   "execution_count": null,
   "id": "994c66e2",
   "metadata": {},
   "outputs": [],
   "source": [
    "max('Hello World')"
   ]
  },
  {
   "cell_type": "markdown",
   "id": "bda11386",
   "metadata": {},
   "source": [
    "The min function shows us the smallest character (which turns out to be a space)."
   ]
  },
  {
   "cell_type": "code",
   "execution_count": null,
   "id": "078c6b23",
   "metadata": {},
   "outputs": [],
   "source": [
    "min('Hello World')"
   ]
  },
  {
   "cell_type": "markdown",
   "id": "32a8e567",
   "metadata": {},
   "source": [
    "Another very common built-in function is the len function which tells us how many items are in its argument. If the argument to len is a string, it returns the number of characters in the string.\n",
    "\n",
    "These functions are not limited to looking at strings. They operate on any set of values.\n",
    "\n",
    "You should treat the names of built-in functions as reserved words (i.e., avoid using “max” as a variable name)."
   ]
  },
  {
   "cell_type": "code",
   "execution_count": null,
   "id": "a15e4aaa",
   "metadata": {},
   "outputs": [],
   "source": [
    "len('Hello World')"
   ]
  },
  {
   "cell_type": "markdown",
   "id": "42d29f2a",
   "metadata": {},
   "source": [
    "#### Type conversion functions"
   ]
  },
  {
   "cell_type": "markdown",
   "id": "2b330111",
   "metadata": {},
   "source": [
    "Python also provides built-in functions that convert values from one type to another.\n"
   ]
  },
  {
   "cell_type": "code",
   "execution_count": null,
   "id": "74cd05a4",
   "metadata": {},
   "outputs": [],
   "source": [
    "int('32')"
   ]
  },
  {
   "cell_type": "code",
   "execution_count": null,
   "id": "fa921e5c",
   "metadata": {},
   "outputs": [],
   "source": [
    "int('Hello')"
   ]
  },
  {
   "cell_type": "markdown",
   "id": "4bb212be",
   "metadata": {},
   "source": [
    "int() can convert floating-point values to integers, but it doesn’t round off; it chops off the fraction part:\n"
   ]
  },
  {
   "cell_type": "code",
   "execution_count": null,
   "id": "26da306e",
   "metadata": {},
   "outputs": [],
   "source": [
    "int(3.999)"
   ]
  },
  {
   "cell_type": "code",
   "execution_count": null,
   "id": "f13b87a8",
   "metadata": {},
   "outputs": [],
   "source": [
    "int(-2)"
   ]
  },
  {
   "cell_type": "markdown",
   "id": "576aa209",
   "metadata": {},
   "source": [
    "float() converts integers and strings to floating-point numbers"
   ]
  },
  {
   "cell_type": "code",
   "execution_count": null,
   "id": "6d5101ec",
   "metadata": {},
   "outputs": [],
   "source": [
    "float(32)"
   ]
  },
  {
   "cell_type": "code",
   "execution_count": null,
   "id": "ed408657",
   "metadata": {},
   "outputs": [],
   "source": [
    "float('3.146')"
   ]
  },
  {
   "cell_type": "markdown",
   "id": "62551664",
   "metadata": {},
   "source": [
    "str() converts its argument to a string:"
   ]
  },
  {
   "cell_type": "code",
   "execution_count": null,
   "id": "49e79763",
   "metadata": {},
   "outputs": [],
   "source": [
    "str(32)"
   ]
  },
  {
   "cell_type": "code",
   "execution_count": null,
   "id": "768dbde1",
   "metadata": {},
   "outputs": [],
   "source": [
    "str(3.14652)"
   ]
  },
  {
   "cell_type": "markdown",
   "id": "debd6d4a",
   "metadata": {},
   "source": [
    "#### 4.4 Math functions"
   ]
  },
  {
   "cell_type": "markdown",
   "id": "517628d8",
   "metadata": {},
   "source": [
    "Python has a math module that provides most of the familiar mathematical functions.\n",
    "Before we can use the module, we have to import it:"
   ]
  },
  {
   "cell_type": "code",
   "execution_count": null,
   "id": "3ef669b5",
   "metadata": {},
   "outputs": [],
   "source": [
    "import math \n",
    "\n",
    "# This statement creates a module object named math.\n",
    "\n",
    "print(math)"
   ]
  },
  {
   "cell_type": "markdown",
   "id": "077c78e8",
   "metadata": {},
   "source": [
    "The module object contains the functions and variables defined in the module. To access one of the functions, you have to specify the name of the module and the name of the function, separated by a dot (also known as a period). This format is called dot notation.\n",
    "\n",
    "\n",
    "The first example computes the logarithm base 10 of the signal-to-noise ratio. The math module also provides a function called log that computes logarithms base e.\n"
   ]
  },
  {
   "cell_type": "code",
   "execution_count": null,
   "id": "b64c0595",
   "metadata": {},
   "outputs": [],
   "source": [
    "signal_power = 50\n",
    "noise_power = 100\n",
    "ratio = signal_power / noise_power\n",
    "decibels = 10 * math.log10(ratio)\n",
    "print(decibels)"
   ]
  },
  {
   "cell_type": "markdown",
   "id": "f637bab1",
   "metadata": {},
   "source": [
    "The second example finds the sine of radians. The name of the variable is a hint that sin and the other trigonometric functions (cos, tan, etc.) take arguments in radians.\n"
   ]
  },
  {
   "cell_type": "code",
   "execution_count": null,
   "id": "cf4aab8c",
   "metadata": {},
   "outputs": [],
   "source": [
    "radians = 0.7\n",
    "height = math.sin(radians)\n",
    "print(height)"
   ]
  },
  {
   "cell_type": "markdown",
   "id": "3461ad5c",
   "metadata": {},
   "source": [
    "To convert from degrees to radians, divide by 360 and multiply by 2:\n",
    "\n",
    "The expression math.pi gets the variable pi from the math module. The value of this variable is an approximation of pi, accurate to about 15 digits."
   ]
  },
  {
   "cell_type": "code",
   "execution_count": null,
   "id": "5f3d7418",
   "metadata": {},
   "outputs": [],
   "source": [
    "degrees = 45\n",
    "radians = degrees / 360 * 2 * math.pi\n",
    "math.sin(radians)"
   ]
  },
  {
   "cell_type": "markdown",
   "id": "3e7537df",
   "metadata": {},
   "source": [
    "#### 4.5 Random numbers"
   ]
  },
  {
   "cell_type": "markdown",
   "id": "6ec2ab8b",
   "metadata": {},
   "source": [
    "Given the same inputs, most computer programs generate the same outputs everytime, so they are said to be deterministic. Determinism is usually a good thing, since we expect the same calculation to yield the same result. For some applications, though, we want the computer to be unpredictable. Games are an obvious example, but there are more.\n",
    "\n",
    "Making a program truly nondeterministic turns out to be not so easy, but there are ways to make it at least seem nondeterministic. One of them is to use al-gorithms that generate pseudorandom numbers.\n",
    "Pseudorandom numbers are not truly random because they are generated by a deterministic computation, but just by looking at the numbers it is all but impossible to distinguish them from random.\n",
    "\n",
    "The random module provides functions that generate pseudorandom numbers. The function random returns a random float between 0.0 and 1.0 (including 0.0 but not 1.0).\n",
    "\n",
    "for example, This program produces the following list of 10 random numbers between 0.0 and up to but not including 1.0.\n"
   ]
  },
  {
   "cell_type": "code",
   "execution_count": null,
   "id": "7301cd12",
   "metadata": {
    "scrolled": false
   },
   "outputs": [],
   "source": [
    "import random\n",
    "\n",
    "for i in range(10):\n",
    "    x = random.random()\n",
    "    print(x)"
   ]
  },
  {
   "cell_type": "markdown",
   "id": "5d641f7e",
   "metadata": {},
   "source": [
    "The random function is only one of many functions that handle random numbers. The function randint takes the parameters low and high, and returns an integer between low and high (including both)."
   ]
  },
  {
   "cell_type": "code",
   "execution_count": null,
   "id": "2eb7103b",
   "metadata": {},
   "outputs": [],
   "source": [
    "random.randint(68, 910)"
   ]
  },
  {
   "cell_type": "markdown",
   "id": "6e56d1e8",
   "metadata": {},
   "source": [
    "To choose an element from a sequence at random, you can use choice:\n",
    "\n",
    "\n",
    "The random module also provides functions to generate random values from continuous distributions including Gaussian, exponential, gamma, and a few more."
   ]
  },
  {
   "cell_type": "code",
   "execution_count": null,
   "id": "7bba19b1",
   "metadata": {},
   "outputs": [],
   "source": [
    "t = [1,22,333,4444,55555]\n",
    "random.choice(t)"
   ]
  },
  {
   "cell_type": "markdown",
   "id": "c9c591aa",
   "metadata": {},
   "source": [
    "#### 4.6 Adding new functions"
   ]
  },
  {
   "cell_type": "markdown",
   "id": "cf7834db",
   "metadata": {},
   "source": [
    "A function definition specifies the name of a new function and the sequence of statements that execute when the function is called.\n",
    "Once we define a function, we can reuse the function over and over throughout our program.\n",
    "\n",
    "Here is an example:"
   ]
  },
  {
   "cell_type": "code",
   "execution_count": null,
   "id": "8ff0e74e",
   "metadata": {},
   "outputs": [],
   "source": [
    "def print_lyrics():\n",
    "print(\"I'm a lumberjack, and I'm okay.\")\n",
    "print('I sleep all night and I work all day.')"
   ]
  },
  {
   "cell_type": "markdown",
   "id": "ee11050a",
   "metadata": {},
   "source": [
    "def is a keyword that indicates that this is a function definition. \n",
    "\n",
    "The name of the function is print_lyrics. \n",
    "\n",
    "The rules for function names are the same as for variable names: letters, numbers and some punctuation marks are legal, but the first character can’t be a number. You can’t use a keyword as the name of a function, and you should avoid having a variable and a function with the same name."
   ]
  },
  {
   "cell_type": "markdown",
   "id": "88c79f82",
   "metadata": {},
   "source": [
    "The empty parentheses after the name indicate that this function doesn’t take any arguments. Later we will build functions that take arguments as their inputs.\n",
    "\n",
    "The first line of the function definition is called the header; the rest is called the body. The header has to end with a colon and the body has to be indented.\n",
    "\n",
    "By convention, the indentation is always four spaces. The body can contain any number of statements.\n",
    "\n",
    "If you type a function definition in interactive mode, the interpreter prints ellipses (. . . ) to let you know that the definition isn’t complete:\n"
   ]
  },
  {
   "cell_type": "code",
   "execution_count": null,
   "id": "1f2c9ec0",
   "metadata": {},
   "outputs": [],
   "source": [
    "def print_lyrics():\n",
    "    print(\"I'm a lumberjack, and I'm okay.\")\n",
    "    print('I sleep all night and I work all day.')"
   ]
  },
  {
   "cell_type": "code",
   "execution_count": null,
   "id": "b8533c44",
   "metadata": {},
   "outputs": [],
   "source": [
    "print(print_lyrics)"
   ]
  },
  {
   "cell_type": "code",
   "execution_count": null,
   "id": "5e8e99a6",
   "metadata": {},
   "outputs": [],
   "source": [
    "print(type(print_lyrics))\n",
    "\n",
    "# The value of print_lyrics is a function object, which has type “function”."
   ]
  },
  {
   "cell_type": "markdown",
   "id": "299b28ee",
   "metadata": {},
   "source": [
    "The syntax for calling the new function is the same as for built-in functions:"
   ]
  },
  {
   "cell_type": "code",
   "execution_count": null,
   "id": "6f3c370c",
   "metadata": {
    "scrolled": false
   },
   "outputs": [],
   "source": [
    "print_lyrics()"
   ]
  },
  {
   "cell_type": "markdown",
   "id": "f232eb3c",
   "metadata": {},
   "source": [
    "Once you have defined a function, you can use it inside another function. For example,"
   ]
  },
  {
   "cell_type": "code",
   "execution_count": null,
   "id": "2a0f0b27",
   "metadata": {},
   "outputs": [],
   "source": [
    "def repeat_lyrics():\n",
    "    print_lyrics()\n",
    "    print_lyrics()\n",
    "    \n",
    "    \n",
    "repeat_lyrics()"
   ]
  },
  {
   "cell_type": "markdown",
   "id": "b124824e",
   "metadata": {},
   "source": [
    "#### 4.7 Definitions and uses"
   ]
  },
  {
   "cell_type": "markdown",
   "id": "a99d7d35",
   "metadata": {},
   "source": [
    "This program has two function definitions: print_lyrics and repeat_lyrics.\n",
    "\n",
    "Function definitions get executed just like other statements, but the effect is to create function objects. The statements inside the function do not get executed until the function is called, and the function definition generates no output. \n",
    "\n",
    "As you might expect, you have to create a function before you can execute it. In other words, the function definition has to be executed before the first time it is called."
   ]
  },
  {
   "cell_type": "markdown",
   "id": "23116087",
   "metadata": {},
   "source": [
    "Exercise 2: \n",
    "\n",
    "Move the last line of this program to the top, so the function call appears before the definitions. Run the program and see what error message you get."
   ]
  },
  {
   "cell_type": "code",
   "execution_count": null,
   "id": "74a81ed9",
   "metadata": {},
   "outputs": [],
   "source": [
    "repeat_lyrics()\n",
    "\n",
    "def repeat_lyrics():\n",
    "    print_lyrics()\n",
    "    print_lyrics()\n"
   ]
  },
  {
   "cell_type": "markdown",
   "id": "e700b8ff",
   "metadata": {},
   "source": [
    "Exercise 3: \n",
    "\n",
    "Move the function call back to the bottom and move the definition of print_lyrics after the definition of repeat_lyrics. What happens when you run this program?"
   ]
  },
  {
   "cell_type": "code",
   "execution_count": null,
   "id": "f4c3f377",
   "metadata": {},
   "outputs": [],
   "source": [
    "def repeat_lyrics():\n",
    "    print_lyrics()\n",
    "    print_lyrics()\n",
    "    \n",
    "def print_lyrics():\n",
    "    print(\"I'm a lumberjack, and I'm okay.\")\n",
    "    print('I sleep all night and I work all day.')\n",
    "    \n",
    "repeat_lyrics()"
   ]
  },
  {
   "cell_type": "markdown",
   "id": "dc755180",
   "metadata": {},
   "source": [
    "#### 4.8 Flow of execution"
   ]
  },
  {
   "cell_type": "markdown",
   "id": "59df9735",
   "metadata": {},
   "source": [
    "In order to ensure that a function is defined before its first use, you have to know the order in which statements are executed, which is called the flow of execution.\n",
    "\n",
    "Execution always begins at the first statement of the program. Statements are executed one at a time, in order from top to bottom.\n",
    "\n",
    "Function definitions do not alter the flow of execution of the program, but remember that statements inside the function are not executed until the function is called.\n",
    "\n",
    "A function call is like a detour in the flow of execution. Instead of going to the next statement, the flow jumps to the body of the function, executes all the statements there, and then comes back to pick up where it left off.\n",
    "\n",
    "That sounds simple enough, until you remember that one function can call another. While in the middle of one function, the program might have to execute the statements in another function. But while executing that new function, the program might have to execute yet another function!\n",
    "\n",
    "Fortunately, Python is good at keeping track of where it is, so each time a function completes, the program picks up where it left off in the function that called it. When it gets to the end of the program, it terminates.\n",
    "\n",
    "What’s the moral of this sordid tale? When you read a program, you don’t always want to read from top to bottom. Sometimes it makes more sense if you follow the flow of execution."
   ]
  },
  {
   "cell_type": "markdown",
   "id": "1bfe3519",
   "metadata": {},
   "source": [
    "#### 4.9 Parameters and arguments"
   ]
  },
  {
   "cell_type": "markdown",
   "id": "773ac349",
   "metadata": {},
   "source": [
    "Some of the built-in and all user-defined functions we have seen require arguments.For example, when you call math.sin you pass a number as an argument. Some functions take more than one argument: math.pow takes two, the base and the exponent.\n",
    "\n",
    "Inside the function, the arguments are assigned to variables called parameters.\n",
    "\n",
    "Here is an example of a user-defined function that takes an argument:\n",
    "This function assigns the argument to a parameter named bruce. When the function is called, it prints the value of the parametertwice. The argument is evaluated before the function is called,"
   ]
  },
  {
   "cell_type": "code",
   "execution_count": null,
   "id": "bb09fd7e",
   "metadata": {},
   "outputs": [],
   "source": [
    "def print_twice(bruce):\n",
    "    print(bruce)\n",
    "    print(bruce)\n",
    "    \n",
    "print_twice('Hey there!')"
   ]
  },
  {
   "cell_type": "markdown",
   "id": "96c77895",
   "metadata": {},
   "source": [
    "The same rules of composition that apply to built-in functions also apply to user-defined functions, so we can use any kind of expression as an argument for print_twice:"
   ]
  },
  {
   "cell_type": "code",
   "execution_count": null,
   "id": "de86ffd3",
   "metadata": {
    "scrolled": true
   },
   "outputs": [],
   "source": [
    "print_twice('Hello ' * 2)"
   ]
  },
  {
   "cell_type": "markdown",
   "id": "25bd349a",
   "metadata": {},
   "source": [
    "The argument is evaluated before the function is called, so in the examples the expressions 'Hello '* 2 and math.cos(math.pi) are only evaluated once.\n",
    "You can also use a variable as an argument:\n",
    "\n",
    "\n",
    "The name of the variable we pass as an argument (hey) has nothing to do with the name of the parameter (bruce). It doesn’t matter what the value was called back home (in the caller); here in print_twice, we call everybody bruce."
   ]
  },
  {
   "cell_type": "code",
   "execution_count": null,
   "id": "87ed61c9",
   "metadata": {},
   "outputs": [],
   "source": [
    "hey = 'How are you doing today?'\n",
    "print_twice(hey)"
   ]
  },
  {
   "cell_type": "markdown",
   "id": "601ffeea",
   "metadata": {},
   "source": [
    "#### 4.10 Fruitful dunctions and void functions"
   ]
  },
  {
   "cell_type": "markdown",
   "id": "2d22088e",
   "metadata": {},
   "source": [
    "Some of the functions we are using, such as the math functions, yield results; for lack of a better name, we can call them fruitful functions. Other functions, like print_twice, perform an action but don’t return a value. They are called void functions.\n",
    "\n",
    "When you call a fruitful function, you almost always want to do something with the result; for example, you might assign it to a variable or use it as part of an expression:\n"
   ]
  },
  {
   "cell_type": "code",
   "execution_count": null,
   "id": "50b25791",
   "metadata": {},
   "outputs": [],
   "source": [
    "import math\n",
    "\n",
    "radians = 12\n",
    "x = math.cos(radians)\n",
    "golden = (math.sqrt(5) + 1) / 2\n",
    "\n",
    "# When you call a function in interactive mode, Python displays the result:\n",
    "math.sqrt(5)"
   ]
  },
  {
   "cell_type": "markdown",
   "id": "1be26f86",
   "metadata": {},
   "source": [
    "But in a script, if you call a fruitful function and do not store the result of the function in a variable, the return value vanishes into the mist!\n",
    "\n",
    "Void functions might display something on the screen or have some other effect, but they don’t have a return value. If you try to assign the result to a variable, you get a special value called None."
   ]
  },
  {
   "cell_type": "code",
   "execution_count": null,
   "id": "d78918f1",
   "metadata": {
    "scrolled": true
   },
   "outputs": [],
   "source": [
    "def print_twice(bruce):\n",
    "    print(bruce)\n",
    "    print(bruce)\n",
    "    \n",
    "result = print_twice('Bing')"
   ]
  },
  {
   "cell_type": "code",
   "execution_count": null,
   "id": "0495b884",
   "metadata": {},
   "outputs": [],
   "source": [
    "print(result)"
   ]
  },
  {
   "cell_type": "markdown",
   "id": "eddaa9e2",
   "metadata": {},
   "source": [
    "The value None is not the same as the string “None”. It is a special value that has its own type:"
   ]
  },
  {
   "cell_type": "code",
   "execution_count": null,
   "id": "6f18dd95",
   "metadata": {
    "scrolled": true
   },
   "outputs": [],
   "source": [
    "print(type(None))"
   ]
  },
  {
   "cell_type": "markdown",
   "id": "2851bf73",
   "metadata": {},
   "source": [
    "To return a result from a function, we use the return statement in our function.\n",
    "For example, we could make a very simple function called addtwo that adds two numbers together and returns a result."
   ]
  },
  {
   "cell_type": "code",
   "execution_count": null,
   "id": "429abbd9",
   "metadata": {},
   "outputs": [],
   "source": [
    "def addtwo(a, b):\n",
    "    added = a + b\n",
    "    return added\n",
    "\n",
    "x = addtwo(3, 5)      # here x is called as the local function variable\n",
    "print(x)"
   ]
  },
  {
   "cell_type": "markdown",
   "id": "09847dd0",
   "metadata": {},
   "source": [
    "When this script executes, the print statement will print out “8” because the addtwo function was called with 3 and 5 as arguments. Within the function, the parameters a and b were 3 and 5 respectively. The function computed the sum of the two numbers and placed it in the local function variable named added. Then it used the return statement to send the computed value back to the calling code as the function result, which was assigned to the variable x and printed out."
   ]
  },
  {
   "cell_type": "markdown",
   "id": "f0cbb73b",
   "metadata": {},
   "source": [
    "#### 4.11 Why functions?"
   ]
  },
  {
   "cell_type": "markdown",
   "id": "2b8c6ffb",
   "metadata": {},
   "source": [
    "It may not be clear why it is worth the trouble to divide a program into functions. There are several reasons:\n",
    "• Creating a new function gives you an opportunity to name a group of statements, which makes your program easier to read, understand, and debug.\n",
    "\n",
    "• Functions can make a program smaller by eliminating repetitive code. Later, if you make a change, you only have to make it in one place.\n",
    "\n",
    "• Dividing a long program into functions allows you to debug the parts one at a time and then assemble them into a working whole.\n",
    "\n",
    "• Well-designed functions are often useful for many programs. Once you write and debug one, you can reuse it. \n",
    "\n",
    "Throughout the rest of the book, often we will use a function definition to explain a concept. Part of the skill of creating and using functions is to have a function properly capture an idea such as “find the smallest value in a list of values”. Later we will show you code that finds the smallest in a list of values and we will present\n",
    "it to you as a function named min which takes a list of values as its argument and returns the smallest value in the list."
   ]
  },
  {
   "cell_type": "markdown",
   "id": "262d4208",
   "metadata": {},
   "source": [
    "#### 4.12 Excercise"
   ]
  },
  {
   "cell_type": "markdown",
   "id": "5eaa0897",
   "metadata": {},
   "source": [
    "Excercise 4:\n",
    "\n",
    "What is the purpose of the “def” keyword in Python?\n",
    "\n",
    "a) It is slang that means “the following code is really cool”\n",
    "\n",
    "b) It indicates the start of a function\n",
    "\n",
    "c) It indicates that the following indented section of code is to be stored for later\n",
    "\n",
    "d) b and c are both true\n",
    "\n",
    "e) None of the above"
   ]
  },
  {
   "cell_type": "markdown",
   "id": "37e70a6e",
   "metadata": {},
   "source": [
    "Exercise 5: \n",
    "\n",
    "What will the following Python program print out?\n",
    "\n",
    "def fred():\n",
    "\n",
    "    print(\"Zap\")\n",
    "    \n",
    "def jane():\n",
    "\n",
    "    print(\"ABC\")\n",
    "    \n",
    "jane()\n",
    "\n",
    "fred()\n",
    "\n",
    "jane()\n",
    "\n",
    "\n",
    "a) Zap ABC jane fred jane\n",
    "\n",
    "b) Zap ABC Zap\n",
    "\n",
    "c) ABC Zap jane\n",
    "\n",
    "d) ABC Zap ABC\n",
    "\n",
    "e) Zap Zap Zap"
   ]
  },
  {
   "cell_type": "code",
   "execution_count": null,
   "id": "90bc5210",
   "metadata": {
    "scrolled": true
   },
   "outputs": [],
   "source": [
    "# Exercise 5: What will the following Python program print out?\n",
    "\n",
    "def fred():\n",
    "    print(\"Zap\")\n",
    "def jane():\n",
    "    print(\"ABC\")\n",
    "jane()\n",
    "fred()\n",
    "jane()"
   ]
  },
  {
   "cell_type": "markdown",
   "id": "c7955de5",
   "metadata": {},
   "source": [
    "Exercise 6: \n",
    "\n",
    "Rewrite your pay computation with time-and-a-half for overtime and\n",
    "create a function called computepay which takes two parameters (hours and rate).\n",
    "\n",
    "Enter Hours: 45\n",
    "\n",
    "Enter Rate: 10\n",
    "\n",
    "Pay: 475.0"
   ]
  },
  {
   "cell_type": "code",
   "execution_count": null,
   "id": "1e1cfb4f",
   "metadata": {},
   "outputs": [],
   "source": [
    "def compute_pay(hours, rate):\n",
    "    hour = int(input('Enter your hours\\n'))\n",
    "    rate = input('What is the rate?\\n')\n",
    "    \n",
    "    if hour > 40:\n",
    "        hr = float(hour % 40)\n",
    "        pay1 = float(hour - hr) * float(rate)\n",
    "        pay2 = hr * float(rate) * 1.5\n",
    "        pay = pay1 + pay2\n",
    "    else:\n",
    "        pay = float(hour) * float(rate)\n",
    "    return pay\n",
    "\n",
    "total_pay = compute_pay(45, 10)\n",
    "print(f'Your total pay is ${total_pay}')"
   ]
  },
  {
   "cell_type": "markdown",
   "id": "44df1c8e",
   "metadata": {},
   "source": [
    "## Chapter 5"
   ]
  },
  {
   "cell_type": "markdown",
   "id": "3a099a0b",
   "metadata": {},
   "source": [
    "### Iteration"
   ]
  },
  {
   "cell_type": "markdown",
   "id": "d98ebd55",
   "metadata": {},
   "source": [
    "#### 5.1 Updating variables"
   ]
  },
  {
   "cell_type": "markdown",
   "id": "f9a23bf5",
   "metadata": {},
   "source": [
    "A common pattern in assignment statements is an assignment statement that updates a variable, where the new value of the variable depends on the old."
   ]
  },
  {
   "cell_type": "code",
   "execution_count": null,
   "id": "d1dea946",
   "metadata": {},
   "outputs": [],
   "source": [
    "x = x + 1"
   ]
  },
  {
   "cell_type": "markdown",
   "id": "2788f18b",
   "metadata": {},
   "source": [
    "This means “get the current value of x, add 1, and then update x with the new value.”\n",
    "If you try to update a variable that doesn’t exist, you get an error, because Python evaluates the right side before it assigns a value to x:"
   ]
  },
  {
   "cell_type": "markdown",
   "id": "09702178",
   "metadata": {},
   "source": [
    "Before you can update a variable, you have to initialize it, usually with a simple assignment as shown below:\n",
    "\n",
    "And updating a variable by adding 1 is called an increment; subtracting 1 is called a decrement."
   ]
  },
  {
   "cell_type": "code",
   "execution_count": null,
   "id": "4a803a6c",
   "metadata": {},
   "outputs": [],
   "source": [
    "x = 0\n",
    "x = x + 1"
   ]
  },
  {
   "cell_type": "markdown",
   "id": "29a03e9b",
   "metadata": {},
   "source": [
    "#### 5.2 The While statement"
   ]
  },
  {
   "cell_type": "markdown",
   "id": "0bf5e898",
   "metadata": {},
   "source": [
    "Computers are often used to automate repetitive tasks. Repeating identical or similar tasks without making errors is something that computers do well and people do poorly. Because iteration is so common, Python provides several language features to make it easier.\n",
    "\n",
    "One form of iteration in Python is the while statement. Here is a simple program that counts down from five and then says “Blastoff!”."
   ]
  },
  {
   "cell_type": "code",
   "execution_count": null,
   "id": "b3c46a08",
   "metadata": {},
   "outputs": [],
   "source": [
    "n = 5\n",
    "while n > 0:\n",
    "    print(n)\n",
    "    n = n - 1\n",
    "print('Blastoff!')"
   ]
  },
  {
   "cell_type": "markdown",
   "id": "fab21379",
   "metadata": {},
   "source": [
    "It means, “While n is greater than 0, display the value of n and then reduce the value of n by 1.\n",
    "When you get to 0, exit the while statement and display the word Blastoff!”\n",
    "More formally, here is the flow of execution for a while statement:\n",
    "\n",
    "1. Evaluate the condition, yielding True or False.\n",
    "\n",
    "2. If the condition is false, exit the while statement and continue execution at the next statement.\n",
    "\n",
    "3. If the condition is true, execute the body and then go back to step"
   ]
  },
  {
   "cell_type": "markdown",
   "id": "3c04f477",
   "metadata": {},
   "source": [
    "This type of flow is called a *loop* because the third step loops back around to the top. We call each time we execute the body of the loop an *iteration*. For the above loop, we would say, “It had five iterations”, which means that the body of the loop was executed five times."
   ]
  },
  {
   "cell_type": "markdown",
   "id": "5745e3ec",
   "metadata": {},
   "source": [
    "The body of the loop should change the value of one or more variables so that eventually the condition becomes false and the loop terminates. We call the variable that changes each time the loop executes and controls when the loop finishes the *iteration variable*. If there is no iteration variable, the loop will repeat forever, resulting in an *infinite loop*."
   ]
  },
  {
   "cell_type": "markdown",
   "id": "1d8f4c99",
   "metadata": {},
   "source": [
    "#### 5.3 Iteration loops"
   ]
  },
  {
   "cell_type": "markdown",
   "id": "079f6429",
   "metadata": {},
   "source": [
    "An endless source of amusement for programmers is the observation that the directions on shampoo, “Lather, rinse, repeat,” are an infinite loop because there is no iteration variable telling you how many times to execute the loop.\n",
    "\n",
    "In the case of countdown, we can prove that the loop terminates because we know that the value of n is finite, and we can see that the value of n gets smaller each time through the loop, so eventually we have to get to 0. Other times a loop is obviously infinite because it has no iteration variable at all.\n",
    "\n",
    "Sometimes you don’t know it’s time to end a loop until you get half way through the body. In that case you can write an infinite loop on purpose and then use the break statement to jump out of the loop.\n",
    "This loop is obviously an infinite loop because the logical expression on the while statement is simply the logical constant True:"
   ]
  },
  {
   "cell_type": "code",
   "execution_count": null,
   "id": "55208219",
   "metadata": {},
   "outputs": [],
   "source": [
    "n = 10\n",
    "while True:\n",
    "    print(n, end=\" \")\n",
    "    n = n - 1\n",
    "print('Done!')"
   ]
  },
  {
   "cell_type": "markdown",
   "id": "7a28fbc5",
   "metadata": {},
   "source": [
    "If you make the mistake and run this code, you will learn quickly how to stop a runaway Python process on your system or find where the power-off button is on your computer. This program will run forever or until your battery runs out because the logical expression at the top of the loop is always true by virtue of the fact that the expression is the constant value True.\n",
    "\n",
    "While this is a dysfunctional infinite loop, we can still use this pattern to build useful loops as long as we carefully add code to the body of the loop to explicitly exit the loop using break when we have reached the exit condition."
   ]
  },
  {
   "cell_type": "markdown",
   "id": "e35ae7f0",
   "metadata": {},
   "source": [
    "For example, suppose you want to take input from the user until they type done. You could write:"
   ]
  },
  {
   "cell_type": "code",
   "execution_count": null,
   "id": "b81cc95b",
   "metadata": {},
   "outputs": [],
   "source": [
    "while True:\n",
    "    line = input('> ')\n",
    "    if line == 'done':\n",
    "        break\n",
    "    print(line)\n",
    "print('Done!')"
   ]
  },
  {
   "cell_type": "markdown",
   "id": "1ce374bd",
   "metadata": {},
   "source": [
    "The loop condition is True, which is always true, so the loop runs repeatedly until it hits the break statement.\n",
    "Each time through, it prompts the user with an angle bracket. If the user types done, the break statement exits the loop. Otherwise the program echoes whatever the user types and goes back to the top of the loop.\n",
    "\n",
    "This way of writing while loops is common because you can check the condition anywhere in the loop (not just at the top) and you can express the stop condition affirmatively (“stop when this happens”) rather than negatively (“keep going until that happens.”)."
   ]
  },
  {
   "cell_type": "markdown",
   "id": "8ed94df6",
   "metadata": {},
   "source": [
    "#### 5.4 Finishing iterations with continue"
   ]
  },
  {
   "cell_type": "markdown",
   "id": "dcb8016a",
   "metadata": {},
   "source": [
    "Sometimes you are in an iteration of a loop and want to finish the current iteration and immediately jump to the next iteration. In that case you can use the continue statement to skip to the next iteration without finishing the body of the loop for the current iteration.\n",
    "\n",
    "Here is an example of a loop that copies its input until the user types “done”, but treats lines that start with the hash character as lines not to be printed (kind of like Python comments)."
   ]
  },
  {
   "cell_type": "code",
   "execution_count": null,
   "id": "3b31c6f9",
   "metadata": {},
   "outputs": [],
   "source": [
    "while True:\n",
    "    line = input('>')\n",
    "    if line[0] == '#':\n",
    "        continue\n",
    "    if line == 'done':\n",
    "        break\n",
    "    print(line)\n",
    "print('Done!')"
   ]
  },
  {
   "cell_type": "markdown",
   "id": "a598d2c7",
   "metadata": {},
   "source": [
    "All the lines are printed except the one that starts with the hash sign because when the continue is executed, it ends the current iteration and jumps back to the while statement to start the next iteration, thus skipping the print statement."
   ]
  },
  {
   "cell_type": "markdown",
   "id": "1174ed33",
   "metadata": {},
   "source": [
    "#### 5.5 Define loops using for"
   ]
  },
  {
   "cell_type": "markdown",
   "id": "3cbbca8f",
   "metadata": {},
   "source": [
    "Sometimes we want to loop through a set of things such as a list of words, the lines in a file, or a list of numbers. *When we have a list of things to loop through, we can construct a definite loop using a for statement.* We call the while statement an indefinite loop because it simply loops until some condition becomes False, whereas the for loop is looping through a known set of items so it runs through as many iterations as there are items in the set.\n",
    "\n",
    "The syntax of a for loop is similar to the while loop in that there is a for statement and a loop body:"
   ]
  },
  {
   "cell_type": "code",
   "execution_count": null,
   "id": "edcf3b59",
   "metadata": {},
   "outputs": [],
   "source": [
    "friends = ['Garry', 'Jerry', 'Ferry']\n",
    "for friend in friends:\n",
    "    print('Hey! Nice to meet you', friend)\n",
    "print('Done!')"
   ]
  },
  {
   "cell_type": "markdown",
   "id": "a4cb20ad",
   "metadata": {},
   "source": [
    "In Python terms, the variable friends is a list1 of three strings and the for loop goes through the list and executes the body once for each of the three strings in the list resulting in this output.\n",
    "\n",
    "Translating this for loop to English is not as direct as the while, but if you think of friends as a set, it goes like this: “Run the statements in the body of the for loop once for each friend in the set named friends.”\n",
    "\n",
    "In particular, friend is the iteration variable for the for loop. The variable friend changes for each iteration of the loop and controls when the for loop completes. The iteration variable steps successively through the three strings stored in the friends variable."
   ]
  },
  {
   "cell_type": "markdown",
   "id": "ea559542",
   "metadata": {},
   "source": [
    "#### 5.6 Loop patterns"
   ]
  },
  {
   "cell_type": "markdown",
   "id": "9f3dc39c",
   "metadata": {},
   "source": [
    "Often we use a for or while loop to go through a list of items or the contents of a file and we are looking for something such as the largest or smallest value of the data we scan through.\n",
    "\n",
    "These loops are generally constructed by:\n",
    "\n",
    "• Initializing one or more variables before the loop starts\n",
    "\n",
    "• Performing some computation on each item in the loop body, possibly changing the variables in the body of the loop\n",
    "\n",
    "• Looking at the resulting variables when the loop completes"
   ]
  },
  {
   "cell_type": "markdown",
   "id": "04ae88c9",
   "metadata": {},
   "source": [
    "##### 5.6.1 Counting and summing loops"
   ]
  },
  {
   "cell_type": "markdown",
   "id": "cad9e574",
   "metadata": {},
   "source": [
    "For example, to count the number of items in a list, we would write the following for loop:"
   ]
  },
  {
   "cell_type": "code",
   "execution_count": null,
   "id": "f34a4388",
   "metadata": {},
   "outputs": [],
   "source": [
    "count = 0\n",
    "for itervar in [3, 41, 12, 9, 74, 15]:\n",
    "    count = count + 1\n",
    "print('Count: ', count)"
   ]
  },
  {
   "cell_type": "markdown",
   "id": "17cf1c59",
   "metadata": {},
   "source": [
    "We set the variable count to zero before the loop starts, then we write a for loop to run through the list of numbers. Our iteration variable is named itervar and while we do not use itervar in the loop, it does control the loop and cause the loop body to be executed once for each of the values in the list.\n",
    "\n",
    "In the body of the loop, we add 1 to the current value of count for each of the values in the list. While the loop is executing, the value of count is the number of values we have seen “so far”.\n",
    "\n",
    "Once the loop completes, the value of count is the total number of items. The total number “falls in our lap” at the end of the loop. We construct the loop so that we have what we want when the loop finishes.\n",
    "Another similar loop that computes the total of a set of numbers is as follows:"
   ]
  },
  {
   "cell_type": "code",
   "execution_count": null,
   "id": "215720c8",
   "metadata": {},
   "outputs": [],
   "source": [
    "total_sum = 0\n",
    "for itervar in [3, 41, 12, 9, 74, 15]:\n",
    "    total_sum = total_sum + itervar\n",
    "print('The sum is', total_sum)"
   ]
  },
  {
   "cell_type": "markdown",
   "id": "a485b464",
   "metadata": {},
   "source": [
    "In this loop we do use the iteration variable. Instead of simply adding one to the count as in the previous loop, we add the actual number (3, 41, 12, etc.) to the running total during each loop iteration. If you think about the variable total, it contains the “running total of the values so far”. So before the loop starts total is zero because we have not yet seen any values, during the loop total is the running total, and at the end of the loop total is the overall total of all the values in the list.\n",
    "\n",
    "As the loop executes, total accumulates the sum of the elements; a variable used this way is sometimes called an accumulator.\n",
    "\n",
    "Neither the counting loop nor the summing loop are particularly useful in practice because there are built-in functions len() and sum() that compute the number of items in a list and the total of the items in the list respectively."
   ]
  },
  {
   "cell_type": "markdown",
   "id": "d5dcbe63",
   "metadata": {},
   "source": [
    "##### 5.6.2 Maximum and minimum loops"
   ]
  },
  {
   "cell_type": "markdown",
   "id": "3944d8dc",
   "metadata": {},
   "source": [
    "To find the largest value in a list or sequence, we construct the following loop:"
   ]
  },
  {
   "cell_type": "code",
   "execution_count": null,
   "id": "54ce32ce",
   "metadata": {},
   "outputs": [],
   "source": [
    "# Maximum Number:\n",
    "    largest = 0\n",
    "for item in [3, 41, 12, 9, 74, 15]:\n",
    "    if largest is None or item > largest:\n",
    "        largest = item\n",
    "    print('Loop:', item, largest)\n",
    "print('Largest:', largest)"
   ]
  },
  {
   "cell_type": "markdown",
   "id": "d9275485",
   "metadata": {},
   "source": [
    "The variable largest is best thought of as the “largest value we have seen so far”.Before the loop, we set largest to the constant None. None is a special constantvalue which we can store in a variable to mark the variable as “empty”.\n",
    "\n",
    "Before the loop starts, the largest value we have seen so far is None since we have not yet seen any values. While the loop is executing, if largest is None then we take the first value we see as the largest so far. You can see in the first iteration when the value of itervar is 3, since largest is None, we immediately set largest to be 3.\n",
    "\n",
    "After the first iteration, largest is no longer None, so the second part of the compound logical expression that checks itervar > largest triggers only when we see a value that is larger than the “largest so far”. When we see a new “even larger” value we take that new value for largest. You can see in the program output that largest progresses from 3 to 41 to 74.\n",
    "\n",
    "At the end of the loop, we have scanned all of the values and the variable largest now does contain the largest value in the list.\n",
    "\n",
    "To compute the smallest number, the code is very similar with one small change:"
   ]
  },
  {
   "cell_type": "code",
   "execution_count": null,
   "id": "7132f95a",
   "metadata": {},
   "outputs": [],
   "source": [
    "# Maximum Number:\n",
    "largest = None\n",
    "for itervar in [3, 41, 12, 9, 74, 15]:\n",
    "    if largest is None or itervar > largest:\n",
    "        largest = itervar\n",
    "    print('loop:', itervar, largest)\n",
    "print('largest is:', largest)"
   ]
  },
  {
   "cell_type": "code",
   "execution_count": null,
   "id": "91476695",
   "metadata": {},
   "outputs": [],
   "source": [
    "# Minimum Number\n",
    "smallest = None\n",
    "print('Before:', smallest)\n",
    "for itervar in [3, 41, 12, 9, 74, 15]:\n",
    "    if smallest is None or itervar < smallest:\n",
    "        smallest = itervar\n",
    "    print('Loop', itervar, smallest)\n",
    "print('small:', smallest)"
   ]
  },
  {
   "cell_type": "markdown",
   "id": "c3541e1f",
   "metadata": {},
   "source": [
    "Again, smallest is the “smallest so far” before, during, and after the loop executes.\n",
    "\n",
    "When the loop has completed, smallest contains the minimum value in the list.\n",
    "\n",
    "Again as in counting and summing, the built-in functions max() and min() make writing these exact loops unnecessary.\n",
    "\n",
    "The following is a simple version of the Python built-in min() function:"
   ]
  },
  {
   "cell_type": "code",
   "execution_count": null,
   "id": "a04314ef",
   "metadata": {},
   "outputs": [],
   "source": [
    "def min(values):\n",
    "    small = None\n",
    "    for i in values:\n",
    "        if small is None or i < small:\n",
    "            small = i\n",
    "    return small\n",
    "\n",
    "a = [3, 41, 12, 9, 74, 15]\n",
    "smallest = min(a)\n",
    "print('Smallest is', smallest)"
   ]
  },
  {
   "cell_type": "code",
   "execution_count": null,
   "id": "67dcfdeb",
   "metadata": {},
   "outputs": [],
   "source": [
    "def max(values):\n",
    "    big = None\n",
    "    for i in values:\n",
    "        if big is None or i > big:\n",
    "            big = i\n",
    "    return big\n",
    "\n",
    "b = [3, 41, 12, 9, 74, 15]\n",
    "bigger = max(b)\n",
    "print('Largest is: ', bigger)"
   ]
  },
  {
   "cell_type": "markdown",
   "id": "c553893b",
   "metadata": {},
   "source": [
    "#### 5.9 Excercises"
   ]
  },
  {
   "cell_type": "markdown",
   "id": "ee9f3740",
   "metadata": {},
   "source": [
    "Exercise 1: \n",
    "\n",
    "Write a program which repeatedly reads integers until the user enters\n",
    "“done”. Once “done” is entered, print out the total, count, and average of the integers. If the user enters anything other than a integers, detect their mistake using try and except and print an error message and skip to the next integers."
   ]
  },
  {
   "cell_type": "code",
   "execution_count": null,
   "id": "703c8742",
   "metadata": {},
   "outputs": [],
   "source": [
    "num = []\n",
    "\n",
    "while True:\n",
    "    user_num = input('>')\n",
    "    if user_num == 'done':\n",
    "        print('Done!')\n",
    "        break\n",
    "    \n",
    "    try:\n",
    "        digit = int(user_num)\n",
    "        num.append(digit)\n",
    "    except:\n",
    "        print('Invalid input, enter a valid number')\n",
    "        \n",
    "        "
   ]
  },
  {
   "cell_type": "code",
   "execution_count": null,
   "id": "4cfcb39b",
   "metadata": {},
   "outputs": [],
   "source": [
    "digits = []\n",
    "\n",
    "while True:\n",
    "    user_num = input('Enter a number:')\n",
    "    \n",
    "    if user_num == 'done':\n",
    "        print('Done!')\n",
    "        break\n",
    "        \n",
    "    try:\n",
    "        num = int(user_num)\n",
    "        digits.append(num)\n",
    "    except:\n",
    "        print(\"Invalid input, enter a number\")"
   ]
  },
  {
   "cell_type": "markdown",
   "id": "7e0a10f6",
   "metadata": {},
   "source": [
    "Exercise 2: \n",
    "\n",
    "Write another program that prompts for a list of numbers as above\n",
    "and at the end prints out both the maximum and minimum of the numbers instead of the average."
   ]
  },
  {
   "cell_type": "code",
   "execution_count": null,
   "id": "1c2e206c",
   "metadata": {},
   "outputs": [],
   "source": [
    "n = int(input('Enter the number of elements in your list:'))\n",
    "\n",
    "numbers = []\n",
    "\n",
    "for i in range(n):\n",
    "    user_input = int(input('Enter the number:'))\n",
    "    numbers.append(user_input)\n",
    "\n",
    "    print('Your list is:', numbers)\n",
    "    \n",
    "def find_max_num(values):\n",
    "    largest = None\n",
    "    for itervar in values:\n",
    "        if largest is None or itervar > largest:\n",
    "            largest = itervar\n",
    "    return largest\n",
    "\n",
    "def find_min_num(values):\n",
    "    smallest = None\n",
    "    for itervari in values:\n",
    "        if smallest is None or itervari < smallest:\n",
    "            smallest = itervari\n",
    "    return smallest\n",
    "\n",
    "min_num = find_min_num(numbers)\n",
    "max_num = find_max_num(numbers)\n",
    "print('The smallest number is:', min_num)\n",
    "print('The largest number is:', max_num)\n",
    "        "
   ]
  },
  {
   "cell_type": "markdown",
   "id": "51a9d7b7",
   "metadata": {},
   "source": [
    "## Chapter 6"
   ]
  },
  {
   "cell_type": "markdown",
   "id": "4dfd92af",
   "metadata": {},
   "source": [
    "### Strings"
   ]
  },
  {
   "cell_type": "markdown",
   "id": "1250f726",
   "metadata": {},
   "source": [
    "#### 6.1 A string is a sequence"
   ]
  },
  {
   "cell_type": "markdown",
   "id": "e7cb5f98",
   "metadata": {},
   "source": [
    "A string is a sequence of characters. You can access the characters one at a time with the bracket operator:"
   ]
  },
  {
   "cell_type": "code",
   "execution_count": null,
   "id": "3a698689",
   "metadata": {},
   "outputs": [],
   "source": [
    "fruit = 'banana'\n",
    "letter = fruit[1]\n",
    "letter"
   ]
  },
  {
   "cell_type": "markdown",
   "id": "6c42aca8",
   "metadata": {},
   "source": [
    "The second statement extracts the character at index position 1 from the fruit variable and assigns it to the letter variable.\n",
    "\n",
    "The expression in brackets is called an index. The index indicates which character in the sequence you want (hence the name).\n",
    "\n",
    "For most people, the first letter of “banana” is “b”, not “a”. But in Python, the index is an offset from the beginning of the string, and the offset of the first letter is zero."
   ]
  },
  {
   "cell_type": "code",
   "execution_count": null,
   "id": "98340f01",
   "metadata": {},
   "outputs": [],
   "source": [
    "letter = fruit[0]\n",
    "letter"
   ]
  },
  {
   "cell_type": "markdown",
   "id": "d8c1bfa6",
   "metadata": {},
   "source": [
    "So “b” is the 0th letter (“zero-th”) of “banana”, “a” is the 1th letter (“one-th”), and “n” is the 2th (“two-th”) letter.\n",
    "You can use any expression, including variables and operators, as an index, but the value of the index has to be an integer. \n",
    "\n",
    "Otherwise you get:"
   ]
  },
  {
   "cell_type": "code",
   "execution_count": null,
   "id": "18f83ad7",
   "metadata": {},
   "outputs": [],
   "source": [
    "letter = fruit[1.5]"
   ]
  },
  {
   "cell_type": "markdown",
   "id": "8b9b1ebb",
   "metadata": {},
   "source": [
    "here is the stirng indexes:\n",
    "\n",
    "b a n a n a\n",
    "\n",
    "0 1 2 3 4 5"
   ]
  },
  {
   "cell_type": "markdown",
   "id": "bdbdbed8",
   "metadata": {},
   "source": [
    "#### 6.2 Getting the length of a string using len"
   ]
  },
  {
   "cell_type": "markdown",
   "id": "686c06bc",
   "metadata": {},
   "source": [
    "len is a built-in function that returns the number of characters in a string:"
   ]
  },
  {
   "cell_type": "code",
   "execution_count": null,
   "id": "b384d826",
   "metadata": {},
   "outputs": [],
   "source": [
    "fruit = 'banana'\n",
    "len(fruit)"
   ]
  },
  {
   "cell_type": "markdown",
   "id": "bd2618c0",
   "metadata": {},
   "source": [
    "To get the last letter of a string, you might be tempted to try something like this:"
   ]
  },
  {
   "cell_type": "code",
   "execution_count": null,
   "id": "8f781e1e",
   "metadata": {},
   "outputs": [],
   "source": [
    "length = len(fruit)\n",
    "last = fruit[length]"
   ]
  },
  {
   "cell_type": "markdown",
   "id": "8fe5d451",
   "metadata": {},
   "source": [
    "The reason for the IndexError is that there is no letter in “banana” with the index 6. Since we started counting at zero, the six letters are numbered 0 to 5. To get the last character, you have to subtract 1 from length:"
   ]
  },
  {
   "cell_type": "code",
   "execution_count": null,
   "id": "fb0178f6",
   "metadata": {},
   "outputs": [],
   "source": [
    "last = fruit[length - 1]\n",
    "last"
   ]
  },
  {
   "cell_type": "markdown",
   "id": "60addde5",
   "metadata": {},
   "source": [
    "Alternatively, you can use negative indices, which count backward from the end of the string. The expression fruit[-1] yields the last letter, fruit[-2] yields the second to last, and so on. As shown below:"
   ]
  },
  {
   "cell_type": "code",
   "execution_count": null,
   "id": "c5ed4a4b",
   "metadata": {},
   "outputs": [],
   "source": [
    "last = fruit[-1]\n",
    "last"
   ]
  },
  {
   "cell_type": "markdown",
   "id": "557fda79",
   "metadata": {},
   "source": [
    "#### 6.3 Traversal through a string with a loop"
   ]
  },
  {
   "cell_type": "markdown",
   "id": "6dd0f914",
   "metadata": {},
   "source": [
    "A lot of computations involve processing a string one character at a time. Often they start at the beginning, select each character in turn, do something to it, and continue until the end. This pattern of processing is called a traversal. One way to write a traversal is with a while loop:"
   ]
  },
  {
   "cell_type": "code",
   "execution_count": null,
   "id": "58fd544a",
   "metadata": {},
   "outputs": [],
   "source": [
    "index = 0\n",
    "while index < len(fruit):\n",
    "    letter = fruit[index]\n",
    "    print(letter)\n",
    "    index = index + 1\n"
   ]
  },
  {
   "cell_type": "markdown",
   "id": "9cded4e7",
   "metadata": {},
   "source": [
    "This loop traverses the string and displays each letter on a line by itself. The loop condition is index < len(fruit), so when index is equal to the length of the string, the condition is false, and the body of the loop is not executed. The last character accessed is the one with the index len(fruit)-1, which is the last character in the string."
   ]
  },
  {
   "cell_type": "markdown",
   "id": "191021b7",
   "metadata": {},
   "source": [
    "Exercise 1: \n",
    "\n",
    "Write a while loop that starts at the last character in the string and\n",
    "works its way backwards to the first character in the string, printing each letter on a separate line, except backwards."
   ]
  },
  {
   "cell_type": "code",
   "execution_count": null,
   "id": "d133ffc2",
   "metadata": {},
   "outputs": [],
   "source": [
    "index = len(fruit) - 1\n",
    "\n",
    "while index < len(fruit) and index > -1:\n",
    "    letter = fruit[index]\n",
    "    print(letter)\n",
    "    index = index - 1"
   ]
  },
  {
   "cell_type": "markdown",
   "id": "b853b803",
   "metadata": {},
   "source": [
    "Another way to write a traversal is with a for loop:\n",
    "Each time through the loop, the next character in the string is assigned to the variable char. The loop continues until no characters are left."
   ]
  },
  {
   "cell_type": "code",
   "execution_count": null,
   "id": "0d1608a4",
   "metadata": {},
   "outputs": [],
   "source": [
    "for char in fruit:\n",
    "    print(char)"
   ]
  },
  {
   "cell_type": "markdown",
   "id": "e1c3785b",
   "metadata": {},
   "source": [
    "#### 6.4 String slices"
   ]
  },
  {
   "cell_type": "markdown",
   "id": "383ec4c7",
   "metadata": {},
   "source": [
    "A segment of a string is called a slice. Selecting a slice is similar to selecting a\n",
    "character:"
   ]
  },
  {
   "cell_type": "code",
   "execution_count": null,
   "id": "4f2a0e13",
   "metadata": {},
   "outputs": [],
   "source": [
    "s = 'Awesome Python'\n",
    "print(s[0:5])"
   ]
  },
  {
   "cell_type": "code",
   "execution_count": null,
   "id": "a3a88636",
   "metadata": {},
   "outputs": [],
   "source": [
    "print(s[6:12])"
   ]
  },
  {
   "cell_type": "markdown",
   "id": "26234619",
   "metadata": {},
   "source": [
    "The operator [n:m] returns the part of the string from the “n-th”character to the “m-th” character, including the first but excluding the last.\n",
    "\n",
    "If you omit the first index (before the colon), the slice starts at the beginning of the string. If you omit the second index, the slice goes to the end of the string:"
   ]
  },
  {
   "cell_type": "code",
   "execution_count": null,
   "id": "bb65ac76",
   "metadata": {},
   "outputs": [],
   "source": [
    "s[:3]"
   ]
  },
  {
   "cell_type": "code",
   "execution_count": null,
   "id": "36d9d46f",
   "metadata": {},
   "outputs": [],
   "source": [
    "s[3:]"
   ]
  },
  {
   "cell_type": "markdown",
   "id": "d5b4d4fe",
   "metadata": {},
   "source": [
    "If the first index is greater than or equal to the second the result is an empty string, represented by two quotation marks:\n",
    "\n",
    "An empty string contains no characters and has length 0, but other than that, it is the same as any other string."
   ]
  },
  {
   "cell_type": "code",
   "execution_count": null,
   "id": "c64384a3",
   "metadata": {},
   "outputs": [],
   "source": [
    "s[5:5]"
   ]
  },
  {
   "cell_type": "markdown",
   "id": "bcf7b8cc",
   "metadata": {},
   "source": [
    "Exercise 2: \n",
    "\n",
    "Given that fruit is a string, what does fruit[:] mean?"
   ]
  },
  {
   "cell_type": "code",
   "execution_count": null,
   "id": "3595890d",
   "metadata": {},
   "outputs": [],
   "source": [
    "s[:]"
   ]
  },
  {
   "cell_type": "markdown",
   "id": "c372eba4",
   "metadata": {},
   "source": [
    "#### 6.5 Strings are immutable"
   ]
  },
  {
   "cell_type": "markdown",
   "id": "2dead5c0",
   "metadata": {},
   "source": [
    "It is tempting to use the operator on the left side of an assignment, with the intention of changing a character in a string. For example:"
   ]
  },
  {
   "cell_type": "code",
   "execution_count": null,
   "id": "ee8d5a33",
   "metadata": {},
   "outputs": [],
   "source": [
    "greeting = 'Hello there!'\n",
    "greeting[1] = 'a'"
   ]
  },
  {
   "cell_type": "markdown",
   "id": "2bc23eb4",
   "metadata": {},
   "source": [
    "The “object” in this case is the string and the “item” is the character you tried to assign. For now, an object is the same thing as a value, but we will refine that definition later. An item is one of the values in a sequence.\n",
    "\n",
    "The reason for the error is that strings are immutable, which means you can’t change an existing string. The best you can do is create a new string that is a variation on the original below and this example concatenates a new first letter onto a slice of greeting. It has no\n",
    "effect on the original string."
   ]
  },
  {
   "cell_type": "code",
   "execution_count": null,
   "id": "4bf1abca",
   "metadata": {},
   "outputs": [],
   "source": [
    "greeting = 'Hello there!'\n",
    "fine_greeting = 'A' + greeting[1:]\n",
    "print(fine_greeting)"
   ]
  },
  {
   "cell_type": "markdown",
   "id": "58918c14",
   "metadata": {},
   "source": [
    "#### 6.6 Looping and counting"
   ]
  },
  {
   "cell_type": "markdown",
   "id": "263b51a1",
   "metadata": {},
   "source": [
    "The following program counts the number of times the letter “a” appears in a string:"
   ]
  },
  {
   "cell_type": "code",
   "execution_count": null,
   "id": "9c3b9f4f",
   "metadata": {},
   "outputs": [],
   "source": [
    "word = 'banana'\n",
    "count = 0\n",
    "for letter in word:\n",
    "    if letter == 'a':\n",
    "        count = count + 1\n",
    "print(count)"
   ]
  },
  {
   "cell_type": "markdown",
   "id": "9288ae50",
   "metadata": {},
   "source": [
    "This program demonstrates another pattern of computation called a counter. The variable count is initialized to 0 and then incremented each time an “a” is found. When the loop exits, count contains the result: the total number of a’s."
   ]
  },
  {
   "cell_type": "markdown",
   "id": "3fdda6f9",
   "metadata": {},
   "source": [
    "Exercise 3: \n",
    "\n",
    "Encapsulate this code in a function named count, and generalize it\n",
    "so that it accepts the string and the letter as arguments."
   ]
  },
  {
   "cell_type": "code",
   "execution_count": null,
   "id": "69428bb0",
   "metadata": {},
   "outputs": [],
   "source": [
    "def count(value):\n",
    "    count = 0\n",
    "    for letter in value:\n",
    "        if letter == 'a':\n",
    "            count = count + 1\n",
    "    return count\n",
    "\n",
    "user = str(input('Enter a word:\\n'))\n",
    "total_count = count(user)\n",
    "print('The result is:', total_count)"
   ]
  },
  {
   "cell_type": "markdown",
   "id": "6488f0cd",
   "metadata": {},
   "source": [
    "#### 6.7 The in operator"
   ]
  },
  {
   "cell_type": "markdown",
   "id": "0408f2ee",
   "metadata": {},
   "source": [
    "The word in is a boolean operator that takes two strings and returns True if the first appears as a substring in the second:"
   ]
  },
  {
   "cell_type": "code",
   "execution_count": null,
   "id": "2ae9cb0e",
   "metadata": {},
   "outputs": [],
   "source": [
    "'a' in 'banana'"
   ]
  },
  {
   "cell_type": "code",
   "execution_count": null,
   "id": "af413a91",
   "metadata": {},
   "outputs": [],
   "source": [
    "'you are' in 'you are amazing, just the way you are!'"
   ]
  },
  {
   "cell_type": "markdown",
   "id": "f5909fbc",
   "metadata": {},
   "source": [
    "#### 6.8 String comaprision"
   ]
  },
  {
   "cell_type": "markdown",
   "id": "7e780380",
   "metadata": {},
   "source": [
    "The comaprision operator works on strings. to see if two strings are equal:"
   ]
  },
  {
   "cell_type": "code",
   "execution_count": null,
   "id": "b537ab3d",
   "metadata": {},
   "outputs": [],
   "source": [
    "if word == 'banana':\n",
    "    print('Perfect, bananas.')"
   ]
  },
  {
   "cell_type": "markdown",
   "id": "3f5244a7",
   "metadata": {},
   "source": [
    "Other comparison operations are useful for putting words in alphabetical order:"
   ]
  },
  {
   "cell_type": "code",
   "execution_count": null,
   "id": "06699257",
   "metadata": {},
   "outputs": [],
   "source": [
    "if word < 'banana':\n",
    "    print('your word' + word + ', comes before baanana')\n",
    "elif word > 'banana':\n",
    "    print('your word' + word + ', comes after banana')\n",
    "else:\n",
    "    print('Perfect')"
   ]
  },
  {
   "cell_type": "markdown",
   "id": "8de1972a",
   "metadata": {},
   "source": [
    "Python does not handle uppercase and lowercase letters the same way that people do. All the uppercase letters come before all the lowercase letters, so:"
   ]
  },
  {
   "cell_type": "markdown",
   "id": "d4644d09",
   "metadata": {},
   "source": [
    "Your word, Pineapple, comes before banana.\n",
    "\n",
    "\n",
    "A common way to address this problem is to convert strings to a standard format, such as all lowercase, before performing the comparison. Keep that in mind in case you have to defend yourself against a man armed with a Pineapple."
   ]
  },
  {
   "cell_type": "markdown",
   "id": "a5f68b24",
   "metadata": {},
   "source": [
    "#### 6.9 String methods"
   ]
  },
  {
   "cell_type": "markdown",
   "id": "5577924b",
   "metadata": {},
   "source": [
    "Strings are an example of Python objects. An object contains both data (the actual string itself) and methods, which are effectively functions that are built into the object and are available to any instance of the object.\n",
    "\n",
    "Python has a function called dir which lists the methods available for an object. The type function shows the type of an object and the dir function shows the available methods."
   ]
  },
  {
   "cell_type": "code",
   "execution_count": null,
   "id": "ae37c9c3",
   "metadata": {},
   "outputs": [],
   "source": [
    "stuff = 'Hello there!'\n",
    "type(stuff)"
   ]
  },
  {
   "cell_type": "code",
   "execution_count": null,
   "id": "ade38848",
   "metadata": {},
   "outputs": [],
   "source": [
    " dir(stuff)"
   ]
  },
  {
   "cell_type": "code",
   "execution_count": null,
   "id": "1828b672",
   "metadata": {},
   "outputs": [],
   "source": [
    "help(str.capitalize)"
   ]
  },
  {
   "cell_type": "markdown",
   "id": "d083fe44",
   "metadata": {},
   "source": [
    "While the dir function lists the methods, and you can use help to get some simple documentation on a method, a better source of documentation for string methods would be\n",
    "\n",
    "https://docs.python.org/library/stdtypes.html#string-methods.\n",
    "\n",
    "Calling a method is similar to calling a function (it takes arguments and returns a value) but the syntax is different. We call a method by appending the method name to the variable name using the period as a delimiter.\n",
    "\n",
    "For example, the method upper takes a string and returns a new string with all uppercase letters:\n",
    "\n",
    "Instead of the function syntax upper(word), it uses the method syntax\n",
    "word.upper()."
   ]
  },
  {
   "cell_type": "code",
   "execution_count": null,
   "id": "7007529f",
   "metadata": {},
   "outputs": [],
   "source": [
    "word = 'banana'\n",
    "new_word = word.upper()\n",
    "new_word"
   ]
  },
  {
   "cell_type": "markdown",
   "id": "76aa9455",
   "metadata": {},
   "source": [
    "This form of dot notation specifies the name of the method, upper, and the name of the string to apply the method to, word. The empty parentheses indicate that this method takes no argument.\n",
    "\n",
    "\n",
    "A method call is called an invocation; in this case, we would say that we are invoking upper on the word.\n",
    "\n",
    "For example, there is a string method named find that searches for the position of one string within another:"
   ]
  },
  {
   "cell_type": "code",
   "execution_count": null,
   "id": "2259a113",
   "metadata": {},
   "outputs": [],
   "source": [
    "word = 'banana'\n",
    "index = word.find('a')\n",
    "index"
   ]
  },
  {
   "cell_type": "markdown",
   "id": "f097468a",
   "metadata": {},
   "source": [
    "In this example, we invoke find on word and pass the letter we are looking for as a parameter.\n",
    "The find method can find substrings as well as characters:"
   ]
  },
  {
   "cell_type": "code",
   "execution_count": null,
   "id": "991b838f",
   "metadata": {},
   "outputs": [],
   "source": [
    "word.find('na')"
   ]
  },
  {
   "cell_type": "markdown",
   "id": "01ede521",
   "metadata": {},
   "source": [
    "It can take as a second argument the index where it should start:"
   ]
  },
  {
   "cell_type": "code",
   "execution_count": null,
   "id": "d4408ed2",
   "metadata": {},
   "outputs": [],
   "source": [
    "word.find('na', 3)"
   ]
  },
  {
   "cell_type": "markdown",
   "id": "df2c0899",
   "metadata": {},
   "source": [
    "One common task is to remove white space (spaces, tabs, or newlines) from the beginning and end of a string using the strip method:"
   ]
  },
  {
   "cell_type": "code",
   "execution_count": null,
   "id": "32173104",
   "metadata": {},
   "outputs": [],
   "source": [
    "line = '     There you go   '\n",
    "line.strip()"
   ]
  },
  {
   "cell_type": "markdown",
   "id": "1e9d29f5",
   "metadata": {},
   "source": [
    "Some methods such as startswith return boolean values."
   ]
  },
  {
   "cell_type": "code",
   "execution_count": null,
   "id": "02d32d6b",
   "metadata": {},
   "outputs": [],
   "source": [
    "line = 'Have a nice day, dear!'\n",
    "line.startswith('Have')"
   ]
  },
  {
   "cell_type": "code",
   "execution_count": null,
   "id": "1d401125",
   "metadata": {},
   "outputs": [],
   "source": [
    "line.startswith('have')"
   ]
  },
  {
   "cell_type": "markdown",
   "id": "16c71bfc",
   "metadata": {},
   "source": [
    "You will note that startswith requires case to match, so sometimes we take a line and map it all to lowercase before we do any checking using the lower method."
   ]
  },
  {
   "cell_type": "code",
   "execution_count": null,
   "id": "a83f01c8",
   "metadata": {},
   "outputs": [],
   "source": [
    "line = 'Have a nice day, dear!'\n",
    "line.startswith('h')"
   ]
  },
  {
   "cell_type": "code",
   "execution_count": null,
   "id": "adba48a1",
   "metadata": {},
   "outputs": [],
   "source": [
    "line.lower()"
   ]
  },
  {
   "cell_type": "code",
   "execution_count": null,
   "id": "c9d0bfc5",
   "metadata": {},
   "outputs": [],
   "source": [
    "line.lower().startswith('h')"
   ]
  },
  {
   "cell_type": "markdown",
   "id": "6a8a584b",
   "metadata": {},
   "source": [
    "In the last example, the method lower is called and then we use startswith to see if the resulting lowercase string starts with the letter “h”. As long as we are careful with the order, we can make multiple method calls in a single expression."
   ]
  },
  {
   "cell_type": "markdown",
   "id": "90151227",
   "metadata": {},
   "source": [
    "#### 6.10 Parsing strings"
   ]
  },
  {
   "cell_type": "markdown",
   "id": "227fd3d5",
   "metadata": {},
   "source": [
    "Often, we want to look into a string and find a substring. For example if we were presented a series of lines formatted as follows:\n",
    "\n",
    "From stephen.marquard@uct.ac.za Sat Jan 5 09:14:16 2008 \n",
    "\n",
    "and we wanted to pull out only the second half of the address (i.e., uct.ac.za)\n",
    "from each line, we can do this by using the find method and string slicing.\n",
    "\n",
    "First, we will find the position of the at-sign in the string. Then we will find the position of the first space after the at-sign. And then we will use string slicing to extract the portion of the string which we are looking for."
   ]
  },
  {
   "cell_type": "code",
   "execution_count": null,
   "id": "f059b3b1",
   "metadata": {},
   "outputs": [],
   "source": [
    "data = 'From stephen.marquard@uct.ac.za Sat Jan 5 09:14:16 2008'\n",
    "atpos = data.find('@')\n",
    "atpos"
   ]
  },
  {
   "cell_type": "code",
   "execution_count": null,
   "id": "29b88874",
   "metadata": {},
   "outputs": [],
   "source": [
    "sppos = data.find(' ', atpos)\n",
    "sppos"
   ]
  },
  {
   "cell_type": "code",
   "execution_count": null,
   "id": "fa10a524",
   "metadata": {},
   "outputs": [],
   "source": [
    "host = data[atpos+1:sppos]\n",
    "host"
   ]
  },
  {
   "cell_type": "markdown",
   "id": "5ecdd1da",
   "metadata": {},
   "source": [
    "We use a version of the find method which allows us to specify a position in the string where we want find to start looking. When we slice, we extract the characters from “one beyond the at-sign through up to but not including the space character”."
   ]
  },
  {
   "cell_type": "markdown",
   "id": "fd7668f8",
   "metadata": {},
   "source": [
    "#### 6.11 Formatted String Literals"
   ]
  },
  {
   "cell_type": "markdown",
   "id": "42ec4fe3",
   "metadata": {},
   "source": [
    "A formatted string literal (often referred to simply as an f-string) allows Python expressions to be used within string literals. This is accomplished by prepending an f to the string literal and enclosing expressions in curly braces {}.\n",
    "\n",
    "For example, wrapping a variable name in curly braces inside an f-string will cause it to be replaced by its value:"
   ]
  },
  {
   "cell_type": "code",
   "execution_count": null,
   "id": "84fbe047",
   "metadata": {},
   "outputs": [],
   "source": [
    "camels = 42\n",
    "f'{camels}'"
   ]
  },
  {
   "cell_type": "markdown",
   "id": "b6eeb62c",
   "metadata": {},
   "source": [
    "The result is the string ‘42’, which is not to be confused with the integer value 42.\n",
    "\n",
    "An expression can appear anywhere in the string, so you can embed a value in a sentence:"
   ]
  },
  {
   "cell_type": "code",
   "execution_count": null,
   "id": "edbfa192",
   "metadata": {},
   "outputs": [],
   "source": [
    "camels = 42\n",
    "f'I have spotted {camels} camels.'"
   ]
  },
  {
   "cell_type": "markdown",
   "id": "96717c67",
   "metadata": {},
   "source": [
    "Several expressions can be included within a single string literal in order to create more complex strings."
   ]
  },
  {
   "cell_type": "code",
   "execution_count": null,
   "id": "6b01f5a1",
   "metadata": {},
   "outputs": [],
   "source": [
    "years = 3\n",
    "count = 1\n",
    "species = 'camels'\n",
    "f'In {years} years I have spotted {count} {species}.'"
   ]
  },
  {
   "cell_type": "markdown",
   "id": "2b810db0",
   "metadata": {},
   "source": [
    "#### 6.14 Excercises"
   ]
  },
  {
   "cell_type": "markdown",
   "id": "9d2be5cb",
   "metadata": {},
   "source": [
    "Exercise 5: \n",
    "\n",
    "Slicing strings\n",
    "\n",
    "Take the following Python code that stores a string:\n",
    "\n",
    "str = 'X-DSPAM-Confidence: 0.8475'\n",
    "\n",
    "Use find and string slicing to extract the portion of the string after the colon character and then use the float function to convert the extracted string into a floating point number."
   ]
  },
  {
   "cell_type": "code",
   "execution_count": null,
   "id": "507f7a5a",
   "metadata": {},
   "outputs": [],
   "source": [
    "data = 'X-DSPAM-Confidence: 0.8475'\n",
    "d_find = data.find(':')\n",
    "d_find"
   ]
  },
  {
   "cell_type": "code",
   "execution_count": null,
   "id": "28c11731",
   "metadata": {
    "scrolled": true
   },
   "outputs": [],
   "source": [
    "sliced_data = float(data[d_find+1:])\n",
    "print(sliced_data)\n",
    "type(sliced_data)"
   ]
  },
  {
   "cell_type": "markdown",
   "id": "5e3c646d",
   "metadata": {},
   "source": [
    "## Chapter 7"
   ]
  },
  {
   "cell_type": "markdown",
   "id": "9a6f23fb",
   "metadata": {},
   "source": [
    "### Files"
   ]
  },
  {
   "cell_type": "markdown",
   "id": "706570cb",
   "metadata": {},
   "source": [
    "#### 7.1 Persistence"
   ]
  },
  {
   "cell_type": "markdown",
   "id": "8a91123a",
   "metadata": {},
   "source": [
    "So far, we have learned how to write programs and communicate our intentions to the Central Processing Unit using conditional execution, functions, and iterations. We have learned how to create and use data structures in the Main Memory. The CPU and memory are where our software works and runs. It is where all of the\n",
    "“thinking” happens.\n",
    "\n",
    "But if you recall from our hardware architecture discussions, once the power is turned off, anything stored in either the CPU or main memory is erased. So up to now, our programs have just been transient fun exercises to learn Python.\n",
    "\n",
    "In this chapter, we start to work with Secondary Memory (or files). Secondary memory is not erased when the power is turned off. Or in the case of a USB flash drive, the data we write from our programs can be removed from the system and transported to another system.\n",
    "\n",
    "We will primarily focus on reading and writing text files such as those we create in a text editor. Later we will see how to work with database files which are binary files, specifically designed to be read and written through database software."
   ]
  },
  {
   "cell_type": "markdown",
   "id": "1d4968de",
   "metadata": {},
   "source": [
    "#### 7.2 Opening files"
   ]
  },
  {
   "cell_type": "markdown",
   "id": "ba9d33cd",
   "metadata": {},
   "source": [
    "When we want to read or write a file (say on your hard drive), we first must open the file. Opening the file communicates with your operating system, which knows where the data for each file is stored. When you open a file, you are asking the operating system to find the file by name and make sure the file exists.\n",
    "\n",
    "In this example, we open the file mbox.txt, which should be stored in the same folder that you are in when you start Python. You can download this file from www.py4e.com/code3/mbox.txt"
   ]
  },
  {
   "cell_type": "code",
   "execution_count": null,
   "id": "558431d4",
   "metadata": {},
   "outputs": [],
   "source": [
    "fhand = open('mbox.txt')\n",
    "fhand"
   ]
  },
  {
   "cell_type": "markdown",
   "id": "b010da5c",
   "metadata": {},
   "source": [
    "Image 1"
   ]
  },
  {
   "cell_type": "markdown",
   "id": "12dcca7c",
   "metadata": {},
   "source": [
    "Image 2"
   ]
  },
  {
   "cell_type": "markdown",
   "id": "b6d92221",
   "metadata": {},
   "source": [
    "If the open is successful, the operating system returns us a file handle. The file handle is not the actual data contained in the file, but instead it is a “handle” that we can use to read the data. You are given a handle if the requested file exists and you have the proper permissions to read the file.\n",
    "\n",
    "If the file does not exist, open will fail with a traceback and you will not get a handle to access the contents of the file:"
   ]
  },
  {
   "cell_type": "code",
   "execution_count": null,
   "id": "b5f5ab98",
   "metadata": {},
   "outputs": [],
   "source": [
    "fhand = open('stuff.txt')"
   ]
  },
  {
   "cell_type": "markdown",
   "id": "d40d5127",
   "metadata": {},
   "source": [
    "#### 7.3 Text files and lines"
   ]
  },
  {
   "cell_type": "markdown",
   "id": "94ee02b5",
   "metadata": {},
   "source": [
    "A text file can be thought of as a sequence of lines, much like a Python string can be thought of as a sequence of characters. For example, this is a sample of a text file which records mail activity from various individuals in an open source project development team:"
   ]
  },
  {
   "cell_type": "markdown",
   "id": "1cf8d054",
   "metadata": {},
   "source": [
    "From stephen.marquard@uct.ac.za Sat Jan 5 09:14:16 2008\n",
    "\n",
    "Return-Path: <postmaster@collab.sakaiproject.org>\n",
    "\n",
    "Date: Sat, 5 Jan 2008 09:12:18 -0500\n",
    "\n",
    "To: source@collab.sakaiproject.org\n",
    "\n",
    "From: stephen.marquard@uct.ac.za\n",
    "\n",
    "Subject: [sakai] svn commit: r39772 - content/branches/\n",
    "\n",
    "Details: http://source.sakaiproject.org/viewsvn/?view=rev&rev=39772\n",
    "\n",
    "..."
   ]
  },
  {
   "cell_type": "markdown",
   "id": "09acfdea",
   "metadata": {},
   "source": [
    "The entire file of mail interactions is available from\n",
    "\n",
    "www.py4e.com/code3/mbox.txt\n",
    "\n",
    "and a shortened version of the file is available from\n",
    "\n",
    "www.py4e.com/code3/mbox-short.txt\n",
    "\n",
    "These files are in a standard format for a file containing multiple mail messages. The lines which start with “From” separate the messages and the lines which start with “From:” are part of the messages. For more information about the mbox format, see https://en.wikipedia.org/wiki/Mbox.\n",
    "\n",
    "To break the file into lines, there is a special character that represents the “end of the line” called the newline character.\n",
    "\n",
    "In Python, we represent the newline character as a backslash-n in string constants. Even though this looks like two characters, it is actually a single character. When we look at the variable by entering “stuff” in the interpreter, it shows us the \\n in the string, but when we use print to show the string, we see the string broken into two lines by the newline character."
   ]
  },
  {
   "cell_type": "code",
   "execution_count": null,
   "id": "6b2afa9c",
   "metadata": {},
   "outputs": [],
   "source": [
    "stuff = 'Hello\\nWorld!'\n",
    "stuff"
   ]
  },
  {
   "cell_type": "code",
   "execution_count": null,
   "id": "a0942ce7",
   "metadata": {},
   "outputs": [],
   "source": [
    "print(stuff)"
   ]
  },
  {
   "cell_type": "code",
   "execution_count": null,
   "id": "c24fb955",
   "metadata": {
    "scrolled": true
   },
   "outputs": [],
   "source": [
    "stuff = 'X\\nY'\n",
    "print(stuff)"
   ]
  },
  {
   "cell_type": "code",
   "execution_count": null,
   "id": "1c7979b7",
   "metadata": {},
   "outputs": [],
   "source": [
    "len(stuff)"
   ]
  },
  {
   "cell_type": "markdown",
   "id": "db62bfe4",
   "metadata": {},
   "source": [
    "You can also see that the length of the string X\\nY is three characters because the newline character is a single character.\n",
    "\n",
    "So when we look at the lines in a file, we need to imagine that there is a special invisible character called the newline at the end of each line that marks the end of the line.\n",
    "\n",
    "So the newline character separates the characters in the file into lines."
   ]
  },
  {
   "cell_type": "markdown",
   "id": "21611ecd",
   "metadata": {},
   "source": [
    "#### 7.4 Reading files"
   ]
  },
  {
   "cell_type": "markdown",
   "id": "1647e464",
   "metadata": {},
   "source": [
    "While the file handle does not contain the data for the file, it is quite easy to construct a for loop to read through and count each of the lines in a file:"
   ]
  },
  {
   "cell_type": "code",
   "execution_count": null,
   "id": "b3f63e74",
   "metadata": {},
   "outputs": [],
   "source": [
    "fhand = open('mbox-short.txt')\n",
    "count = 0\n",
    "for line in fhand:\n",
    "    count = count + 1\n",
    "print('Line count:', count)"
   ]
  },
  {
   "cell_type": "markdown",
   "id": "d6215019",
   "metadata": {},
   "source": [
    "We can use the file handle as the sequence in our for loop. Our for loop simply counts the number of lines in the file and prints them out. The rough translation of the for loop into English is, “for each line in the file represented by the file handle, add one to the count variable.”\n",
    "\n",
    "The reason that the open function does not read the entire file is that the file might be quite large with many gigabytes of data. The open statement takes the same amount of time regardless of the size of the file. The for loop actually causes the data to be read from the file.\n",
    "\n",
    "When the file is read using a for loop in this manner, Python takes care of splitting the data in the file into separate lines using the newline character. Python reads each line through the newline and includes the newline as the last character in the line variable for each iteration of the for loop.\n",
    "\n",
    "Because the for loop reads the data one line at a time, it can efficiently read and count the lines in very large files without running out of main memory to store the data. The above program can count the lines in any size file using very little memory since each line is read, counted, and then discarded.\n",
    "\n",
    "If you know the file is relatively small compared to the size of your main memory, you can read the whole file into one string using the read method on the file handle."
   ]
  },
  {
   "cell_type": "code",
   "execution_count": null,
   "id": "9b88d059",
   "metadata": {},
   "outputs": [],
   "source": [
    "fhand = open('mbox-short.txt')\n",
    "inp = fhand.read()\n",
    "print(len(inp))"
   ]
  },
  {
   "cell_type": "code",
   "execution_count": null,
   "id": "c83362e9",
   "metadata": {},
   "outputs": [],
   "source": [
    "print(inp[:20])"
   ]
  },
  {
   "cell_type": "markdown",
   "id": "e765e0ec",
   "metadata": {},
   "source": [
    "In this example, the entire contents (all 94,626 characters) of the file mbox-short.txt are read directly into the variable inp. We use string slicing to print out the first 20 characters of the string data stored in inp.\n",
    "\n",
    "When the file is read in this manner, all the characters including all of the lines and newline characters are one big string in the variable inp. It is a good idea to store the output of read as a variable because each call to read exhausts the resource:"
   ]
  },
  {
   "cell_type": "code",
   "execution_count": null,
   "id": "b64b8868",
   "metadata": {},
   "outputs": [],
   "source": [
    "fhand = open('mbox-short.txt')\n",
    "print(len(fhand.read()))"
   ]
  },
  {
   "cell_type": "code",
   "execution_count": null,
   "id": "341c6c4a",
   "metadata": {},
   "outputs": [],
   "source": [
    "print(len(fhand.read()))"
   ]
  },
  {
   "cell_type": "markdown",
   "id": "3fabcaaa",
   "metadata": {},
   "source": [
    "Remember that this form of the open function should only be used if the file data will fit comfortably in the main memory of your computer. If the file is too large to fit in main memory, you should write your program to read the file in chunks using a for or while loop."
   ]
  },
  {
   "cell_type": "markdown",
   "id": "d5c3b618",
   "metadata": {},
   "source": [
    "#### 7.5 Searching through a file"
   ]
  },
  {
   "cell_type": "markdown",
   "id": "656f686e",
   "metadata": {},
   "source": [
    "When you are searching through data in a file, it is a very common pattern to read through a file, ignoring most of the lines and only processing lines which meet a particular condition. We can combine the pattern for reading a file with string methods to build simple search mechanisms.\n",
    "\n",
    "For example, if we wanted to read a file and only print out lines which started with the prefix “From:”, we could use the string method startswith to select only those lines with the desired prefix:"
   ]
  },
  {
   "cell_type": "code",
   "execution_count": null,
   "id": "7bf30a2f",
   "metadata": {},
   "outputs": [],
   "source": [
    "fhand = open('mbox-short.txt')\n",
    "for line in fhand:\n",
    "    if line.startswith('From:'):\n",
    "        print(line)"
   ]
  },
  {
   "cell_type": "markdown",
   "id": "7c588887",
   "metadata": {},
   "source": [
    "The output looks great since the only lines we are seeing are those which start with “From:”, but why are we seeing the extra blank lines? This is due to that invisible newline character. Each of the lines ends with a newline, so the print statement prints the string in the variable line which includes a newline and then print adds another newline, resulting in the double spacing effect we see.\n",
    "\n",
    "We could use line slicing to print all but the last character, but a simpler approach is to use the rstrip method which strips whitespaces from the right side of a string as follows:"
   ]
  },
  {
   "cell_type": "code",
   "execution_count": null,
   "id": "7e2628f5",
   "metadata": {},
   "outputs": [],
   "source": [
    "fhand = open('mbox-short.txt')\n",
    "for line in fhand:\n",
    "    line = line.rstrip()\n",
    "    if line.startswith('From:'):\n",
    "        print(line)"
   ]
  },
  {
   "cell_type": "markdown",
   "id": "a4bb11da",
   "metadata": {},
   "source": [
    "As your file processing programs get more complicated, you may want to structure your search loops using continue. The basic idea of the search loop is that you are looking for “interesting” lines and effectively skipping “uninteresting” lines. And then when we find an interesting line, we do something with that line.\n",
    "\n",
    "We can structure the loop to follow the pattern of skipping uninteresting lines as follows:"
   ]
  },
  {
   "cell_type": "code",
   "execution_count": null,
   "id": "25eda501",
   "metadata": {},
   "outputs": [],
   "source": [
    "fhand = open('mbox-short.txt')\n",
    "for line in fhand:\n",
    "    line = line.rstrip()\n",
    "#     skip 'uninteresting line'\n",
    "    if not line.startswith('From:'):\n",
    "        continue\n",
    "#     process our 'interesting line'\n",
    "    print(line)"
   ]
  },
  {
   "cell_type": "markdown",
   "id": "f01a4c7d",
   "metadata": {},
   "source": [
    "The output of the program is the same. In English, the uninteresting lines are those which do not start with “From:”, which we skip using continue. For the “interesting” lines (i.e., those that start with “From:”) we perform the processing.\n",
    "\n",
    "We can use the find string method to simulate a text editor search that finds lines where the search string is anywhere in the line. Since find looks for an occurrence of a string within another string and either returns the position of the string or -1 if the string was not found, we can write the following loop to show lines which contain the string “@uct.ac.za” (i.e., they come from the University of Cape Town in South Africa):"
   ]
  },
  {
   "cell_type": "code",
   "execution_count": null,
   "id": "e226ccbe",
   "metadata": {},
   "outputs": [],
   "source": [
    "fhand = open('mbox-short.txt')\n",
    "for line in fhand:\n",
    "    line = line.rstrip()\n",
    "    if line.find('@uct.ac.za') == -1:\n",
    "        continue\n",
    "    print(line)"
   ]
  },
  {
   "cell_type": "markdown",
   "id": "8abf3ac7",
   "metadata": {},
   "source": [
    "#### 7.6 Letting the user chosse the file name"
   ]
  },
  {
   "cell_type": "markdown",
   "id": "7320e9d6",
   "metadata": {},
   "source": [
    "We really do not want to have to edit our Python code every time we want to process a different file. It would be more usable to ask the user to enter the file name string each time the program runs so they can use our program on different files without changing the Python code.\n",
    "\n",
    "This is quite simple to do by reading the file name from the user using input as follows:"
   ]
  },
  {
   "cell_type": "code",
   "execution_count": null,
   "id": "87604b01",
   "metadata": {},
   "outputs": [],
   "source": [
    "fname = input('Enter the file name:')\n",
    "fhand = open(fname)\n",
    "count = 0\n",
    "for line in fhand:\n",
    "    if line .startswith('Subject:'):\n",
    "        count = count + 1\n",
    "print(f'There were {count} subject lines in {fname}')"
   ]
  },
  {
   "cell_type": "markdown",
   "id": "ee27cf0e",
   "metadata": {},
   "source": [
    "#### 7.7 Using try, except, and open"
   ]
  },
  {
   "cell_type": "markdown",
   "id": "62f395ca",
   "metadata": {},
   "source": [
    "What if our user types something that is not a file name?"
   ]
  },
  {
   "cell_type": "markdown",
   "id": "7f1793a1",
   "metadata": {},
   "source": [
    "Users will eventually do every possible thing they can do to break\n",
    "your programs, either mistakenly or with malicious intent. As a matter of fact, an important part of any software development team is a person or group called Quality Assurance (or QA for short) whose very job it is to do the craziest things possible in an attempt to break the software that the programmer has created.\n",
    "\n",
    "The QA team is responsible for finding the flaws in programs before we have delivered the program to the end users who may be purchasing the software or paying our salary to write the software. So the QA team is the programmer’s best friend.\n",
    "\n",
    "So now that we see the flaw in the program, we can elegantly fix it using the try/except structure. We need to assume that the open call might fail and add recovery code when the open fails as follows:"
   ]
  },
  {
   "cell_type": "code",
   "execution_count": null,
   "id": "9b470ff0",
   "metadata": {},
   "outputs": [],
   "source": [
    "fname = input('Enter the file name:')\n",
    "try:\n",
    "    fhand = open(fname)\n",
    "except:\n",
    "    print('File cannot be opened:', fname)\n",
    "    exit()\n",
    "count = 0\n",
    "for line in fhand:\n",
    "    if line.startswith('Subject:'):\n",
    "        count = count + 1\n",
    "print(f'There were {count} subject lines in {fname}')"
   ]
  },
  {
   "cell_type": "markdown",
   "id": "4101fe5a",
   "metadata": {},
   "source": [
    "The exit function terminates the program. It is a function that we call that never returns. Now when our user (or QA team) types in silliness or bad file names, we “catch” them and recover gracefully.\n",
    "\n",
    "Protecting the open call is a good example of the proper use of try and except in a Python program. We use the term “Pythonic” when we are doing something the “Python way”. We might say that the above example is the Pythonic way to open a file.\n",
    "\n",
    "Once you become more skilled in Python, you can engage in repartee with other Python programmers to decide which of two equivalent solutions to a problem is “more Pythonic”. The goal to be “more Pythonic” captures the notion that programming is part engineering and part art. We are not always interested in just making something work, we also want our solution to be elegant and to be appreciated as elegant by our peers."
   ]
  },
  {
   "cell_type": "markdown",
   "id": "56f50a31",
   "metadata": {},
   "source": [
    "#### 7.8 Writing files"
   ]
  },
  {
   "cell_type": "markdown",
   "id": "c9fa7cd1",
   "metadata": {},
   "source": [
    "To write a file, you have to open it with mode “w” as a second parameter:"
   ]
  },
  {
   "cell_type": "code",
   "execution_count": null,
   "id": "f5177746",
   "metadata": {},
   "outputs": [],
   "source": [
    "fout = open('output.txt', 'w')\n",
    "print(fout)"
   ]
  },
  {
   "cell_type": "markdown",
   "id": "551156bc",
   "metadata": {},
   "source": [
    "If the file already exists, opening it in write mode clears out the old data and starts fresh, so be careful! If the file doesn’t exist, a new one is created.\n",
    "\n",
    "The write method of the file handle object puts data into the file, returning the number of characters written. The default write mode is text for writing (and reading) strings."
   ]
  },
  {
   "cell_type": "code",
   "execution_count": null,
   "id": "439a9919",
   "metadata": {},
   "outputs": [],
   "source": [
    "line1 = 'This is a beautiful day, my dear!\\n'\n",
    "fout.write(line1)"
   ]
  },
  {
   "cell_type": "markdown",
   "id": "0f1ed51e",
   "metadata": {},
   "source": [
    "Again, the file object keeps track of where it is, so if you call write again, it adds the new data to the end.\n",
    "\n",
    "We must make sure to manage the ends of lines as we write to the file by explicitly inserting the newline character when we want to end a line. The print statement automatically appends a newline, but the write method does not add the newline automatically."
   ]
  },
  {
   "cell_type": "code",
   "execution_count": null,
   "id": "de465959",
   "metadata": {},
   "outputs": [],
   "source": [
    "line2 = 'Do you agree, my dear!\\n'\n",
    "fout.write(line2)"
   ]
  },
  {
   "cell_type": "markdown",
   "id": "227983c9",
   "metadata": {},
   "source": [
    "When you are done writing, you have to close the file to make sure that the last bit of data is physically written to the disk so it will not be lost if the power goes off."
   ]
  },
  {
   "cell_type": "code",
   "execution_count": null,
   "id": "caa1dc55",
   "metadata": {},
   "outputs": [],
   "source": [
    "fout.close()"
   ]
  },
  {
   "cell_type": "markdown",
   "id": "07c5d508",
   "metadata": {},
   "source": [
    "We could close the files which we open for read as well, but we can be a little sloppy if we are only opening a few files since Python makes sure that all open files are closed when the program ends. When we are writing files, we want to explicitly close the files so as to leave nothing to chance.\n",
    "\n",
    "\n",
    "When you are reading and writing files, you might run into problems with whitespace. These errors can be hard to debug because spaces, tabs, and newlines are normally invisible:"
   ]
  },
  {
   "cell_type": "code",
   "execution_count": null,
   "id": "7fb81351",
   "metadata": {},
   "outputs": [],
   "source": [
    "s = '1 2\\t 3\\n 4'\n",
    "print(s)"
   ]
  },
  {
   "cell_type": "markdown",
   "id": "f3a73202",
   "metadata": {},
   "source": [
    "The built-in function repr can help. It takes any object as an argument and returns a string representation of the object. For strings, it represents whitespace characters with backslash sequences:"
   ]
  },
  {
   "cell_type": "code",
   "execution_count": null,
   "id": "0aa04943",
   "metadata": {},
   "outputs": [],
   "source": [
    "print(repr(s))"
   ]
  },
  {
   "cell_type": "markdown",
   "id": "076e2c86",
   "metadata": {},
   "source": [
    "This can be helpful for debugging.\n",
    "\n",
    "One other problem you might run into is that different systems use different characters to indicate the end of a line. Some systems use a newline, represented \\n. Others use a return character, represented \\r. Some use both. If you move files between different systems, these inconsistencies might cause problems."
   ]
  },
  {
   "cell_type": "markdown",
   "id": "9d8fa85e",
   "metadata": {},
   "source": [
    "#### 7.10 Excercises"
   ]
  },
  {
   "cell_type": "markdown",
   "id": "326ef7ed",
   "metadata": {},
   "source": [
    "Exercise 1: \n",
    "\n",
    "Write a program to read through a file and print the contents of the\n",
    "file (line by line) all in upper case. Executing the program will look as follows:\n",
    "\n",
    "python shout.py\n",
    "\n",
    "Enter a file name: mbox-short.txt\n",
    "\n",
    "FROM STEPHEN.MARQUARD@UCT.AC.ZA SAT JAN 5 09:14:16 2008\n",
    "\n",
    "RETURN-PATH: <POSTMASTER@COLLAB.SAKAIPROJECT.ORG>\n",
    "\n",
    "RECEIVED: FROM MURDER (MAIL.UMICH.EDU [141.211.14.90])\n",
    "\n",
    "    BY FRANKENSTEIN.MAIL.UMICH.EDU (CYRUS V2.3.8) WITH LMTPA;\n",
    "    SAT, 05 JAN 2008 09:14:16 -0500\n",
    "\n",
    "You can download the file from www.py4e.com/code3/mbox-short.txt"
   ]
  },
  {
   "cell_type": "code",
   "execution_count": null,
   "id": "6eb30593",
   "metadata": {},
   "outputs": [],
   "source": [
    "fname = input('Enter a file name:')\n",
    "\n",
    "try:\n",
    "    fhand = open(fname)\n",
    "except:\n",
    "    print('File cannot be opend:', fname)\n",
    "    exit()\n",
    "for line in fhand:\n",
    "    print(line.rstrip().upper())"
   ]
  },
  {
   "cell_type": "markdown",
   "id": "f0e06f8a",
   "metadata": {},
   "source": [
    "Exercise 2: \n",
    "\n",
    "Write a program to prompt for a file name, and then read through\n",
    "the file and look for lines of the form:\n",
    "\n",
    "X-DSPAM-Confidence: 0.8475\n",
    "\n",
    "When you encounter a line that starts with “X-DSPAM-Confidence:” pull apart the line to extract the floating-point number on the line. Count these lines and then compute the total of the spam confidence values from these lines. When you reach the end of the file, print out the average spam confidence.\n",
    "\n",
    "Enter the file name: mbox.txt\n",
    "\n",
    "Average spam confidence: 0.894128046745\n",
    "\n",
    "\n",
    "Enter the file name: mbox-short.txt\n",
    "\n",
    "Average spam confidence: 0.750718518519\n",
    "\n",
    "\n",
    "Test your file on the mbox.txt and mbox-short.txt files."
   ]
  },
  {
   "cell_type": "code",
   "execution_count": null,
   "id": "0c829ac7",
   "metadata": {},
   "outputs": [],
   "source": [
    "fname = input('Enter a file name:')\n",
    "\n",
    "try:\n",
    "    line_count = 0\n",
    "    total_confidence = 0.0\n",
    "    \n",
    "    fhand = open(fname)\n",
    "except:\n",
    "    print('File cannot be opend:', fname)\n",
    "    exit()\n",
    "    \n",
    "for line in fhand:\n",
    "    if line.startswith('X-DSPAM-Confidence:'):\n",
    "        confidence = float(line.split(':')[1].strip())\n",
    "        total_confidence = total_confidence + confidence\n",
    "        line_count = line_count + 1\n",
    "\n",
    "if line_count > 0:\n",
    "    avergae_confidence = total_confidence / line_count\n",
    "    print(f'Average Spam Confidence: {avergae_confidence}')"
   ]
  },
  {
   "cell_type": "markdown",
   "id": "63fa9bcc",
   "metadata": {},
   "source": [
    "Exercise 3:\n",
    "\n",
    "Sometimes when programmers get bored or want to have a bit of fun, they add a harmless Easter Egg to their program. Modify the program that prompts the user for the file name so that it prints a funny message when the user types in the exact file name “na na boo boo”. The program should behave normally for all other files which exist and don’t exist. Here is a sample execution of the program:\n",
    "\n",
    "python egg.py\n",
    "\n",
    "Enter the file name: mbox.txt\n",
    "\n",
    "There were 1797 subject lines in mbox.txt\n",
    "\n",
    "python egg.py\n",
    "\n",
    "Enter the file name: missing.tyxt\n",
    "\n",
    "File cannot be opened: missing.tyxt\n",
    "\n",
    "python egg.py\n",
    "\n",
    "Enter the file name: na na boo boo\n",
    "\n",
    "NA NA BOO BOO TO YOU - You have been punk'd!"
   ]
  },
  {
   "cell_type": "code",
   "execution_count": null,
   "id": "5d9dab2d",
   "metadata": {},
   "outputs": [],
   "source": [
    "fname = input('Enter a file name:')\n",
    "\n",
    "try:\n",
    "    fhand = open(fname)\n",
    "    \n",
    "except:\n",
    "    if fname == 'na na boo boo':\n",
    "        print(\"NA NA BOO BOO TO YOU - You have been punk'd!\")\n",
    "    else:\n",
    "        print('File cannot be opend:', fname)\n",
    "        exit()\n",
    "    \n",
    "count = 0   \n",
    "for line in fhand:\n",
    "    if line.startswith('Subject:'):\n",
    "        count = count + 1\n",
    "        \n",
    "print(f'There were {count} subject lines in {fname}')\n",
    "    "
   ]
  },
  {
   "cell_type": "markdown",
   "id": "73fa71dc",
   "metadata": {},
   "source": [
    "## Chapter 8"
   ]
  },
  {
   "cell_type": "markdown",
   "id": "e31e7920",
   "metadata": {},
   "source": [
    "### Lists"
   ]
  },
  {
   "cell_type": "markdown",
   "id": "5ee6a03b",
   "metadata": {},
   "source": [
    "#### A list is a sequence"
   ]
  },
  {
   "cell_type": "markdown",
   "id": "f25e3afa",
   "metadata": {},
   "source": [
    "Like a string, a list is a sequence of values. In a string, the values are characters; in a list, they can be any type. The values in lists are called elements or sometimes items.\n",
    "\n",
    "There are several ways to create a new list; the simplest is to enclose the elements in square brackets (“[\" and \"]”):"
   ]
  },
  {
   "cell_type": "code",
   "execution_count": null,
   "id": "759085af",
   "metadata": {},
   "outputs": [],
   "source": [
    "[10, 20, 30, 40]      # it is a list of four integers\n",
    "['AAA', 'BBB', 'CCC', 'DDD']    #is a list of four strings"
   ]
  },
  {
   "cell_type": "markdown",
   "id": "bf1d67ba",
   "metadata": {},
   "source": [
    "The first example is a list of four integers. The second is a list of three strings. The elements of a list don’t have to be the same type. The following list contains a string, a float, an integer, and (lo!) another list:"
   ]
  },
  {
   "cell_type": "code",
   "execution_count": null,
   "id": "ff64a18f",
   "metadata": {},
   "outputs": [],
   "source": [
    "['AAA', 3.0, 7, [10, 20]]"
   ]
  },
  {
   "cell_type": "markdown",
   "id": "de294422",
   "metadata": {},
   "source": [
    "A list within another list is nested.\n",
    "\n",
    "A list that contains no elements is called an empty list; you can create one with empty brackets, [].\n",
    "\n",
    "As you might expect, you can assign list values to variables:"
   ]
  },
  {
   "cell_type": "code",
   "execution_count": null,
   "id": "acebc939",
   "metadata": {},
   "outputs": [],
   "source": [
    "cheese = ['cheddar', 'mozirella']\n",
    "num = [17, 123]\n",
    "blank = []\n",
    "\n",
    "print(cheese, num, blank)"
   ]
  },
  {
   "cell_type": "markdown",
   "id": "55f3c82b",
   "metadata": {},
   "source": [
    "#### 8.2 Lists are mutable"
   ]
  },
  {
   "cell_type": "markdown",
   "id": "102a4617",
   "metadata": {},
   "source": [
    "The syntax for accessing the elements of a list is the same as for accessing the characters of a string: the bracket operator. The expression inside the brackets specifies the index. Remember that the indices start at 0:"
   ]
  },
  {
   "cell_type": "code",
   "execution_count": null,
   "id": "8e00d2e3",
   "metadata": {},
   "outputs": [],
   "source": [
    "print(cheese[0])"
   ]
  },
  {
   "cell_type": "markdown",
   "id": "89ccca89",
   "metadata": {},
   "source": [
    "Unlike strings, lists are mutable because you can change the order of items in a list or reassign an item in a list. When the bracket operator appears on the left side of an assignment, it identifies the element of the list that will be assigned."
   ]
  },
  {
   "cell_type": "code",
   "execution_count": null,
   "id": "09c9f087",
   "metadata": {},
   "outputs": [],
   "source": [
    "num = [17, 123]\n",
    "num[1] = 5\n",
    "print(num)"
   ]
  },
  {
   "cell_type": "markdown",
   "id": "320fe2f7",
   "metadata": {},
   "source": [
    "The one-th element of numbers, which used to be 123, is now 5.\n",
    "\n",
    "You can think of a list as a relationship between indices and elements. This relationship is called a mapping; each index “maps to” one of the elements.\n",
    "\n",
    "List indices work the same way as string indices:\n",
    "\n",
    "• Any integer expression can be used as an index.\n",
    "\n",
    "• If you try to read or write an element that does not exist, you get an IndexError.\n",
    "\n",
    "• If an index has a negative value, it counts backward from the end of the list.\n",
    "\n",
    "The in operator also works on lists."
   ]
  },
  {
   "cell_type": "code",
   "execution_count": null,
   "id": "90836143",
   "metadata": {},
   "outputs": [],
   "source": [
    "cheese = ['cheddar', 'mozirella']\n",
    "'cheddar' in cheese"
   ]
  },
  {
   "cell_type": "markdown",
   "id": "b6ddf964",
   "metadata": {},
   "source": [
    "#### 8.3 Traversing a list"
   ]
  },
  {
   "cell_type": "markdown",
   "id": "57626a55",
   "metadata": {},
   "source": [
    "The most common way to traverse the elements of a list is with a for loop. The syntax is the same as for strings:"
   ]
  },
  {
   "cell_type": "code",
   "execution_count": null,
   "id": "9b69cff1",
   "metadata": {},
   "outputs": [],
   "source": [
    "for cheez in cheese:\n",
    "    print(cheez)"
   ]
  },
  {
   "cell_type": "markdown",
   "id": "d3211a4c",
   "metadata": {},
   "source": [
    "This works well if you only need to read the elements of the list. But if you want to write or update the elements, you need the indices. A common way to do that is to combine the functions range and len:"
   ]
  },
  {
   "cell_type": "code",
   "execution_count": null,
   "id": "1eeb6f23",
   "metadata": {},
   "outputs": [],
   "source": [
    "for i in range(len(num)):\n",
    "    num[i] = num[i] * 2"
   ]
  },
  {
   "cell_type": "markdown",
   "id": "f40d26f1",
   "metadata": {},
   "source": [
    "This loop traverses the list and updates each element. len returns the number of elements in the list. range returns a list of indices from 0 to n − 1, where n is the length of the list. Each time through the loop, i gets the index of the next element. The assignment statement in the body uses i to read the old value of the element and to assign the new value.\n",
    "\n",
    "A for loop over an empty list never executes the body:"
   ]
  },
  {
   "cell_type": "code",
   "execution_count": null,
   "id": "20234871",
   "metadata": {},
   "outputs": [],
   "source": [
    "for x in blank:\n",
    "    print('this never happens')"
   ]
  },
  {
   "cell_type": "markdown",
   "id": "e33bf1dd",
   "metadata": {},
   "source": [
    "Although a list can contain another list, the nested list still counts as a single element. The length of this list is four:"
   ]
  },
  {
   "cell_type": "code",
   "execution_count": null,
   "id": "e8651eba",
   "metadata": {},
   "outputs": [],
   "source": [
    "['spam', 1, ['Brie', 'Roquefort', 'Pol le Veq'], [1, 2, 3]]"
   ]
  },
  {
   "cell_type": "markdown",
   "id": "041c6406",
   "metadata": {},
   "source": [
    "#### 8.4 List Operations"
   ]
  },
  {
   "cell_type": "markdown",
   "id": "b15381f8",
   "metadata": {},
   "source": [
    "The + operator concatenates lists:"
   ]
  },
  {
   "cell_type": "code",
   "execution_count": null,
   "id": "597d6d49",
   "metadata": {},
   "outputs": [],
   "source": [
    "a = [1, 2, 3]\n",
    "b = [4, 5, 6]\n",
    "c = a + b\n",
    "print(c)"
   ]
  },
  {
   "cell_type": "markdown",
   "id": "a7b210c5",
   "metadata": {},
   "source": [
    "Similarly, the * operator repeats a list a given number of times:"
   ]
  },
  {
   "cell_type": "code",
   "execution_count": null,
   "id": "98b83b77",
   "metadata": {},
   "outputs": [],
   "source": [
    "# the * operator repeats a list a given number of times:\n",
    "\n",
    "[0] * 4      # The first example repeats four times.\n",
    "\n",
    "[1,2,3] * 3     # The second example repeats the list three times."
   ]
  },
  {
   "cell_type": "markdown",
   "id": "0d8b2316",
   "metadata": {},
   "source": [
    "The first example repeats four times. The second example repeats the list three times."
   ]
  },
  {
   "cell_type": "markdown",
   "id": "199d0012",
   "metadata": {},
   "source": [
    "#### 8.5 List Slices"
   ]
  },
  {
   "cell_type": "markdown",
   "id": "f082e48a",
   "metadata": {},
   "source": [
    "The slice operator also works on lists:"
   ]
  },
  {
   "cell_type": "code",
   "execution_count": null,
   "id": "b483e498",
   "metadata": {},
   "outputs": [],
   "source": [
    "x = ['a', 'b', 'c', 'd', 'e', 'f']\n",
    "x[1:3]"
   ]
  },
  {
   "cell_type": "markdown",
   "id": "08d5bdf2",
   "metadata": {},
   "source": [
    "If you omit the first index, the slice starts at the beginning. If you omit the second, the slice goes to the end. So if you omit both, the slice is a copy of the whole list."
   ]
  },
  {
   "cell_type": "code",
   "execution_count": null,
   "id": "f77fc8a7",
   "metadata": {},
   "outputs": [],
   "source": []
  },
  {
   "cell_type": "code",
   "execution_count": null,
   "id": "667a3e8d",
   "metadata": {},
   "outputs": [],
   "source": [
    "x[:4]"
   ]
  },
  {
   "cell_type": "code",
   "execution_count": null,
   "id": "ca51dcae",
   "metadata": {},
   "outputs": [],
   "source": [
    "x[3:]"
   ]
  },
  {
   "cell_type": "markdown",
   "id": "42b7486a",
   "metadata": {},
   "source": [
    "Since lists are mutable, it is often useful to make a copy before performing operations that fold, spindle, or mutilate lists.\n",
    "\n",
    "A slice operator on the left side of an assignment can update multiple elements:"
   ]
  },
  {
   "cell_type": "code",
   "execution_count": null,
   "id": "dae744ad",
   "metadata": {},
   "outputs": [],
   "source": [
    "x[:]"
   ]
  },
  {
   "cell_type": "code",
   "execution_count": null,
   "id": "3e5e0560",
   "metadata": {},
   "outputs": [],
   "source": [
    "x = ['a', 'b', 'c', 'd', 'e', 'f']\n",
    "x[1:3] = ['p', 'q']\n",
    "print(x)"
   ]
  },
  {
   "cell_type": "markdown",
   "id": "75cacbcf",
   "metadata": {},
   "source": [
    "#### 8.6 List Methods"
   ]
  },
  {
   "cell_type": "markdown",
   "id": "626deea1",
   "metadata": {},
   "source": [
    "Python provides methods that operate on lists. For example, append adds a new element to the end of a list:"
   ]
  },
  {
   "cell_type": "code",
   "execution_count": null,
   "id": "33b9f5f7",
   "metadata": {},
   "outputs": [],
   "source": [
    "x = ['a', 'b', 'c']\n",
    "x.append('d')\n",
    "print(x)"
   ]
  },
  {
   "cell_type": "markdown",
   "id": "d44ccea8",
   "metadata": {},
   "source": [
    "extend takes a list as an argument and appends all of the elements:"
   ]
  },
  {
   "cell_type": "code",
   "execution_count": null,
   "id": "12802b25",
   "metadata": {},
   "outputs": [],
   "source": [
    "x1 = ['a', 'b', 'c']\n",
    "x2 = ['d', 'e']\n",
    "x1.extend(x2)\n",
    "print(x1)"
   ]
  },
  {
   "cell_type": "markdown",
   "id": "3edef4da",
   "metadata": {},
   "source": [
    "This example leaves t2 unmodified.\n",
    "\n",
    "sort arranges the elements of the list from low to high:"
   ]
  },
  {
   "cell_type": "code",
   "execution_count": null,
   "id": "0eaad5dc",
   "metadata": {
    "scrolled": true
   },
   "outputs": [],
   "source": [
    "x = ['d', 'c', 'e', 'b', 'a']\n",
    "x.sort()\n",
    "print(x)"
   ]
  },
  {
   "cell_type": "markdown",
   "id": "17a364cc",
   "metadata": {},
   "source": [
    "Most list methods are void; they modify the list and return None. If you accidentally write t = t.sort(), you will be disappointed with the result."
   ]
  },
  {
   "cell_type": "markdown",
   "id": "337704ec",
   "metadata": {},
   "source": [
    "#### 8.7 Deleting elements"
   ]
  },
  {
   "cell_type": "markdown",
   "id": "ee0a4556",
   "metadata": {},
   "source": [
    "There are several ways to delete elements from a list. If you know the index of the element you want, you can use pop:"
   ]
  },
  {
   "cell_type": "code",
   "execution_count": null,
   "id": "8fbc9bda",
   "metadata": {},
   "outputs": [],
   "source": [
    "x = ['a', 'b', 'c']\n",
    "y = x.pop(1)\n",
    "print(x)\n",
    "print(y)"
   ]
  },
  {
   "cell_type": "markdown",
   "id": "2b6bb75b",
   "metadata": {},
   "source": [
    "pop modifies the list and returns the element that was removed. If you don’t provide an index, it deletes and returns the last element.\n",
    "\n",
    "If you don’t need the removed value, you can use the del statement:"
   ]
  },
  {
   "cell_type": "code",
   "execution_count": null,
   "id": "8d9ca577",
   "metadata": {},
   "outputs": [],
   "source": [
    "x = ['a', 'b', 'c']\n",
    "del x[1]\n",
    "print(x)"
   ]
  },
  {
   "cell_type": "markdown",
   "id": "5a6a2169",
   "metadata": {},
   "source": [
    "If you know the element you want to remove (but not the index), you can use remove:"
   ]
  },
  {
   "cell_type": "code",
   "execution_count": null,
   "id": "9da2ed93",
   "metadata": {},
   "outputs": [],
   "source": [
    "x = ['a', 'b', 'c']\n",
    "x.remove('b')\n",
    "print(x)    # The return value from remove is None."
   ]
  },
  {
   "cell_type": "markdown",
   "id": "a2fb21a4",
   "metadata": {},
   "source": [
    "To remove more than one element, you can use del with a slice index:"
   ]
  },
  {
   "cell_type": "code",
   "execution_count": null,
   "id": "072c319b",
   "metadata": {},
   "outputs": [],
   "source": [
    "x = ['a', 'b', 'c', 'd', 'e', 'f']\n",
    "del x[1:5]\n",
    "print(x)"
   ]
  },
  {
   "cell_type": "markdown",
   "id": "01ce06d7",
   "metadata": {},
   "source": [
    "As usual, the slice selects all the elements up to, but not including, the second index."
   ]
  },
  {
   "cell_type": "markdown",
   "id": "b5344a0d",
   "metadata": {},
   "source": [
    "#### 8.8 Lists and Fucntions"
   ]
  },
  {
   "cell_type": "markdown",
   "id": "1026ac09",
   "metadata": {},
   "source": [
    "There are a number of built-in functions that can be used on lists that allow you to quickly look through a list without writing your own loops:"
   ]
  },
  {
   "cell_type": "code",
   "execution_count": null,
   "id": "1ddb103c",
   "metadata": {},
   "outputs": [],
   "source": [
    "x = [3, 41, 12, 9, 74, 15]\n",
    "print(len(x))"
   ]
  },
  {
   "cell_type": "code",
   "execution_count": null,
   "id": "adf3acc6",
   "metadata": {},
   "outputs": [],
   "source": [
    "print(max(x))"
   ]
  },
  {
   "cell_type": "code",
   "execution_count": null,
   "id": "1368a2da",
   "metadata": {},
   "outputs": [],
   "source": [
    "print(min(x))"
   ]
  },
  {
   "cell_type": "code",
   "execution_count": null,
   "id": "3c9a254a",
   "metadata": {},
   "outputs": [],
   "source": [
    "print(sum(x))"
   ]
  },
  {
   "cell_type": "markdown",
   "id": "2d3286b4",
   "metadata": {},
   "source": [
    "The sum() function only works when the list elements are numbers. The other functions (max(), len(), etc.) work with lists of strings and other types that can be comparable.\n",
    "\n",
    "We could rewrite an earlier program that computed the average of a list of numbers entered by the user using a list.\n",
    "\n",
    "First, the program to compute an average without a list:"
   ]
  },
  {
   "cell_type": "code",
   "execution_count": null,
   "id": "be8b660c",
   "metadata": {},
   "outputs": [],
   "source": [
    "total = 0\n",
    "count = 0\n",
    "\n",
    "while True:\n",
    "    inp = input('Enter the number:')\n",
    "    try:\n",
    "        \n",
    "        if inp == 'done':\n",
    "            break\n",
    "        value = float(inp)\n",
    "        total = total + value\n",
    "        count = count + 1\n",
    "    except:\n",
    "        print('Enter a valid number.')\n",
    "        \n",
    "print(f'The sum is: \\n{total}')\n",
    "print(f'Number of elements: \\n{count}')\n",
    "average = round((total / count), 2)\n",
    "print(f'Average is: {average}' )"
   ]
  },
  {
   "cell_type": "markdown",
   "id": "3a37fd8a",
   "metadata": {},
   "source": [
    "In this program, we have count and total variables to keep the number and running total of the user’s numbers as we repeatedly prompt the user for a number.\n",
    "\n",
    "We could simply remember each number as the user entered it and use built-in functions to compute the sum and count at the end."
   ]
  },
  {
   "cell_type": "code",
   "execution_count": null,
   "id": "1db22f4a",
   "metadata": {},
   "outputs": [],
   "source": [
    "numlist = list()\n",
    "\n",
    "while True:\n",
    "    inp = input('Enter the number:')\n",
    "    try:\n",
    "        if inp == 'done':\n",
    "            break\n",
    "        value = float(inp)\n",
    "        numlist.append(value)\n",
    "    except:\n",
    "        print('Enter a valid number.')\n",
    "\n",
    "average = sum(numlist) / len(numlist)\n",
    "print(f'Average is: {average}' ) "
   ]
  },
  {
   "cell_type": "markdown",
   "id": "dbd6600a",
   "metadata": {},
   "source": [
    "We make an empty list before the loop starts, and then each time we have a number, we append it to the list. At the end of the program, we simply compute the sum of the numbers in the list and divide it by the count of the numbers in the list to come up with the average."
   ]
  },
  {
   "cell_type": "markdown",
   "id": "2a523de7",
   "metadata": {},
   "source": [
    "#### Lists and Strings"
   ]
  },
  {
   "cell_type": "markdown",
   "id": "76ddd1f1",
   "metadata": {},
   "source": [
    "A string is a sequence of characters and a list is a sequence of values, but a list of characters is not the same as a string. To convert from a string to a list of characters, you can use list:"
   ]
  },
  {
   "cell_type": "code",
   "execution_count": null,
   "id": "69a992ab",
   "metadata": {
    "scrolled": true
   },
   "outputs": [],
   "source": [
    "s = 'hello'\n",
    "x = list(s)\n",
    "print(x)"
   ]
  },
  {
   "cell_type": "markdown",
   "id": "ce013aad",
   "metadata": {},
   "source": [
    "Because list is the name of a built-in function, you should avoid using it as a variable name. \n",
    "\n",
    "The list function breaks a string into individual letters. If you want to break a string into words, you can use the split method:"
   ]
  },
  {
   "cell_type": "code",
   "execution_count": null,
   "id": "c8b925d8",
   "metadata": {},
   "outputs": [],
   "source": [
    "s = 'This is a beautiful day!'\n",
    "x = s.split()\n",
    "print(x)\n",
    "print(x[1])"
   ]
  },
  {
   "cell_type": "markdown",
   "id": "58994cef",
   "metadata": {},
   "source": [
    "Once you have used split to break the string into a list of words, you can use the index operator (square bracket) to look at a particular word in the list.\n",
    "\n",
    "You can call split with an optional argument called a delimiter that specifies which characters to use as word boundaries. The following example uses a hyphen as a delimiter:"
   ]
  },
  {
   "cell_type": "code",
   "execution_count": null,
   "id": "383e495d",
   "metadata": {},
   "outputs": [],
   "source": [
    "s = 'hey!hey!hey!'\n",
    "delimiter = '!'\n",
    "x = s.split(delimiter)\n",
    "print(x)\n",
    "print(x[1])"
   ]
  },
  {
   "cell_type": "markdown",
   "id": "80d9bd55",
   "metadata": {},
   "source": [
    "join is the inverse of split. It takes a list of strings and concatenates the elements. join is a string method, so you have to invoke it on the delimiter and pass the list as a parameter:"
   ]
  },
  {
   "cell_type": "code",
   "execution_count": null,
   "id": "aded7621",
   "metadata": {
    "scrolled": true
   },
   "outputs": [],
   "source": [
    "a = 'Hey! nice to meet you'\n",
    "x = a.split()\n",
    "delimiter = ' '\n",
    "print(x)\n",
    "y = delimiter.join(x)\n",
    "print(y)"
   ]
  },
  {
   "cell_type": "markdown",
   "id": "d91b13ab",
   "metadata": {},
   "source": [
    "In this case the delimiter is a space character, so join puts a space between words.\n",
    "\n",
    "To concatenate strings without spaces, you can use the empty string, \"\", as a delimiter."
   ]
  },
  {
   "cell_type": "markdown",
   "id": "8a4e2f71",
   "metadata": {},
   "source": [
    "#### 8.10 Parsing line"
   ]
  },
  {
   "cell_type": "markdown",
   "id": "375310a2",
   "metadata": {},
   "source": [
    "Usually when we are reading a file we want to do something to the lines other than just printing the whole line. Often we want to find the “interesting lines” and then parse the line to find some interesting part of the line. What if we wanted to print out the day of the week from those lines that start with “From”?\n",
    "\n",
    "From stephen.marquard@uct.ac.za Sat Jan 5 09:14:16 2008\n",
    "\n",
    "The split method is very effective when faced with this kind of problem. We can write a small program that looks for lines where the line starts with “From”, split those lines, and then print out the third word in the line:"
   ]
  },
  {
   "cell_type": "code",
   "execution_count": null,
   "id": "f89a096e",
   "metadata": {},
   "outputs": [],
   "source": [
    "fhand = open('mbox-short.txt')\n",
    "for line in fhand:\n",
    "    line = line.rstrip()\n",
    "    if not line.startswith('From '):\n",
    "        continue\n",
    "    words = line.split()\n",
    "    print(words[2])"
   ]
  },
  {
   "cell_type": "markdown",
   "id": "e822acb7",
   "metadata": {},
   "source": [
    "# Picture to be added "
   ]
  },
  {
   "cell_type": "markdown",
   "id": "8b4b3820",
   "metadata": {},
   "source": [
    "#### 8.11 Objects and values"
   ]
  },
  {
   "cell_type": "markdown",
   "id": "d0333508",
   "metadata": {},
   "source": [
    "if we execute these assignment statements:"
   ]
  },
  {
   "cell_type": "code",
   "execution_count": null,
   "id": "ec0d40bd",
   "metadata": {},
   "outputs": [],
   "source": [
    "a = 'banana'\n",
    "b = 'banana'\n",
    "print(a)\n",
    "print(b)"
   ]
  },
  {
   "cell_type": "markdown",
   "id": "6ff3984f",
   "metadata": {},
   "source": [
    "we know that a and b both refer to a string, but we don’t know whether they refer to the same string. There are two possible states:\n",
    "\n",
    "In one case, a and b refer to two different objects that have the same value. In the second case, they refer to the same object.\n",
    "\n",
    "To check whether two variables refer to the same object, you can use the is operator."
   ]
  },
  {
   "cell_type": "code",
   "execution_count": null,
   "id": "6ba96f35",
   "metadata": {},
   "outputs": [],
   "source": [
    "a is b"
   ]
  },
  {
   "cell_type": "markdown",
   "id": "248e2bfb",
   "metadata": {},
   "source": [
    "In this example, Python only created one string object, and both a and b refer to it.\n",
    "\n",
    "But when you create two lists, you get two objects:"
   ]
  },
  {
   "cell_type": "markdown",
   "id": "795975b3",
   "metadata": {},
   "source": [
    "In this case we would say that the two lists are equivalent, because they have the same elements, but not identical, because they are not the same object. If two objects are identical, they are also equivalent, but if they are equivalent, they are not necessarily identical.\n",
    "\n",
    "Until now, we have been using “object” and “value” interchangeably, but it is more precise to say that an object has a value. If you execute a = [1,2,3], a refers to a list object whose value is a particular sequence of elements. If another list has the same elements, we would say it has the same value."
   ]
  },
  {
   "cell_type": "markdown",
   "id": "cc046cd2",
   "metadata": {},
   "source": [
    "#### 8.12 Aliasing"
   ]
  },
  {
   "cell_type": "markdown",
   "id": "faf95b7f",
   "metadata": {},
   "source": [
    "If a refers to an object and you assign b = a, then both variables refer to the same object:"
   ]
  },
  {
   "cell_type": "code",
   "execution_count": null,
   "id": "ce6674e8",
   "metadata": {
    "scrolled": true
   },
   "outputs": [],
   "source": [
    "a= [1, 2 , 3]\n",
    "b = a\n",
    "b is a"
   ]
  },
  {
   "cell_type": "markdown",
   "id": "7455975f",
   "metadata": {},
   "source": [
    "The association of a variable with an object is called a reference. In this example, there are two references to the same object.\n",
    "\n",
    "An object with more than one reference has more than one name, so we say that the object is aliased.\n",
    "\n",
    "If the aliased object is mutable, changes made with one alias affect the other:"
   ]
  },
  {
   "cell_type": "code",
   "execution_count": null,
   "id": "01b508be",
   "metadata": {},
   "outputs": [],
   "source": [
    "b[0] = 17\n",
    "print(a)"
   ]
  },
  {
   "cell_type": "markdown",
   "id": "1a547b0b",
   "metadata": {},
   "source": [
    "Although this behavior can be useful, it is error-prone. In general, it is safer to avoid aliasing when you are working with mutable objects.\n",
    "\n",
    "For immutable objects like strings, aliasing is not as much of a problem. In this example:"
   ]
  },
  {
   "cell_type": "code",
   "execution_count": null,
   "id": "16984b47",
   "metadata": {},
   "outputs": [],
   "source": [
    "a = 'banana'\n",
    "b = 'banana'\n",
    "\n",
    "# it almost never makes a difference whether a and b refer to the same string or not."
   ]
  },
  {
   "cell_type": "markdown",
   "id": "7acd39a1",
   "metadata": {},
   "source": [
    "#### 8.13 List Argument"
   ]
  },
  {
   "cell_type": "markdown",
   "id": "028355e9",
   "metadata": {},
   "source": [
    "When you pass a list to a function, the function gets a reference to the list. If the function modifies a list parameter, the caller sees the change. For example, delete_head removes the first element from a list:"
   ]
  },
  {
   "cell_type": "code",
   "execution_count": null,
   "id": "d8420ecf",
   "metadata": {},
   "outputs": [],
   "source": [
    "def delete_head(t):\n",
    "    del t[0]\n",
    "    \n",
    "letters = ['a', 'b', 'c']\n",
    "delete_head(letters)\n",
    "print(letters)"
   ]
  },
  {
   "cell_type": "markdown",
   "id": "d963fc51",
   "metadata": {},
   "source": [
    "The parameter t and the variable letters are aliases for the same object.\n",
    "\n",
    "It is important to distinguish between operations that modify lists and operations that create new lists. For example, the append method modifies a list, but the + operator creates a new list:"
   ]
  },
  {
   "cell_type": "code",
   "execution_count": null,
   "id": "177e3bcd",
   "metadata": {},
   "outputs": [],
   "source": [
    "t1 = [1, 2]\n",
    "t2 = t1.append(3)\n",
    "print(t1)\n",
    "print(t2)"
   ]
  },
  {
   "cell_type": "code",
   "execution_count": null,
   "id": "bf0b2141",
   "metadata": {},
   "outputs": [],
   "source": [
    "t3 = t1 + [3]\n",
    "print(t3)\n",
    "t1 is t3"
   ]
  },
  {
   "cell_type": "markdown",
   "id": "7ea19595",
   "metadata": {},
   "source": [
    "This difference is important when you write functions that are supposed to modify lists. For example, this function does not delete the head of a list:"
   ]
  },
  {
   "cell_type": "code",
   "execution_count": null,
   "id": "8f7161da",
   "metadata": {},
   "outputs": [],
   "source": [
    "def bad_delete_head(t):\n",
    "    t = t[1:]"
   ]
  },
  {
   "cell_type": "markdown",
   "id": "fccb20ad",
   "metadata": {},
   "source": [
    "The slice operator creates a new list and the assignment makes t refer to it, but none of that has any effect on the list that was passed as an argument.\n",
    "\n",
    "An alternative is to write a function that creates and returns a new list. For example, tail returns all but the first element of a list:"
   ]
  },
  {
   "cell_type": "code",
   "execution_count": null,
   "id": "0f85f96d",
   "metadata": {},
   "outputs": [],
   "source": [
    "def tail(t):\n",
    "    return t[1:]"
   ]
  },
  {
   "cell_type": "markdown",
   "id": "0299c237",
   "metadata": {},
   "source": [
    "This function leaves the original list unmodified. Here’s how it is used:"
   ]
  },
  {
   "cell_type": "code",
   "execution_count": null,
   "id": "86bbfb38",
   "metadata": {},
   "outputs": [],
   "source": [
    "letters = ['a', 'b', 'c']\n",
    "rest = tail(letters)\n",
    "print(rest)"
   ]
  },
  {
   "cell_type": "markdown",
   "id": "0c62fdd0",
   "metadata": {},
   "source": [
    "Exercise 1: \n",
    "\n",
    "Write a function called chop that takes a list and modifies it, removing the first and last elements, and returns None. Then write a function called middle that takes a list and returns a new list that contains all but the first and last elements."
   ]
  },
  {
   "cell_type": "code",
   "execution_count": null,
   "id": "cba8a7d6",
   "metadata": {},
   "outputs": [],
   "source": [
    "def chop(x):\n",
    "    if len(x) > 1:\n",
    "        del x[0]\n",
    "        del x[-1]\n",
    "    elif len(x) == 1:\n",
    "        x.clear()\n",
    "    return None\n",
    "\n"
   ]
  },
  {
   "cell_type": "code",
   "execution_count": null,
   "id": "09c44015",
   "metadata": {},
   "outputs": [],
   "source": [
    "def middle(y):\n",
    "    y = y[1:-1]\n",
    "    return y "
   ]
  },
  {
   "cell_type": "code",
   "execution_count": null,
   "id": "ceb11c52",
   "metadata": {},
   "outputs": [],
   "source": [
    "z = ['a', 'b', 'c', 'd']\n",
    "b = chop(z)\n",
    "print(b)"
   ]
  },
  {
   "cell_type": "code",
   "execution_count": null,
   "id": "dee4683e",
   "metadata": {},
   "outputs": [],
   "source": [
    "z = ['a', 'b', 'c', 'd']\n",
    "c = middle(z)\n",
    "print(c)"
   ]
  },
  {
   "cell_type": "markdown",
   "id": "c249e593",
   "metadata": {},
   "source": [
    "#### 8.14 Debugging"
   ]
  },
  {
   "cell_type": "markdown",
   "id": "ccdbcfcd",
   "metadata": {},
   "source": [
    "Careless use of lists (and other mutable objects) can lead to long hours of debugging.\n",
    "\n",
    "Here are some common pitfalls and ways to avoid them:\n",
    "\n",
    "1. Don’t forget that most list methods modify the argument and return None. This is the opposite of the string methods, which return a new string and leave the original alone.\n",
    "\n",
    "If you are used to writing string code like this:"
   ]
  },
  {
   "cell_type": "code",
   "execution_count": null,
   "id": "3644ef8e",
   "metadata": {},
   "outputs": [],
   "source": [
    "word = 'hello'\n",
    "word = word.strip()"
   ]
  },
  {
   "cell_type": "markdown",
   "id": "e60c7c71",
   "metadata": {},
   "source": [
    "It is tempting to write list code like this:"
   ]
  },
  {
   "cell_type": "code",
   "execution_count": null,
   "id": "fd9aff15",
   "metadata": {},
   "outputs": [],
   "source": [
    "t = [1, 2, 3, 4]\n",
    "t = t.sort()        # This is wrong!"
   ]
  },
  {
   "cell_type": "markdown",
   "id": "f1298c90",
   "metadata": {},
   "source": [
    "Because sort returns None, the next operation you perform with t is likely to fail."
   ]
  },
  {
   "cell_type": "markdown",
   "id": "8c7bfc40",
   "metadata": {},
   "source": [
    "2. Pick an idiom and stick with it.\n",
    "\n",
    "Part of the problem with lists is that there are too many ways to do things. For example, to remove an element from a list, you can use pop, remove, del, or even a slice assignment.\n",
    "\n",
    "To add an element, you can use the append method or the + operator. But don’t forget that these are right:"
   ]
  },
  {
   "cell_type": "code",
   "execution_count": null,
   "id": "0c33a1a4",
   "metadata": {},
   "outputs": [],
   "source": [
    "x = ['a', 'b']\n",
    "t = t.append[x]\n",
    "t = t + [x]"
   ]
  },
  {
   "cell_type": "markdown",
   "id": "16ff9be4",
   "metadata": {},
   "source": [
    "What Happened:\n",
    "\n",
    "\t1.\tThe append() Method:\n",
    "    \n",
    "\t•\tIn Python, the .append() method modifies a list in place (i.e., it updates the original list directly) and does not return any value. Its return value is None.\n",
    "    \n",
    "\t•\tBy writing t = t.append[x], you are trying to assign the result of t.append[x] to t. But since t.append() returns None, t becomes None.\n",
    "    \n",
    "    \n",
    "\t2.\tWhat Happens Next:\n",
    "    \n",
    "\t•\tAfter t becomes None, when you try to execute the next line t = t + [x], Python raises an AttributeError because None is not a list and does not have an append method."
   ]
  },
  {
   "cell_type": "markdown",
   "id": "41a9f84b",
   "metadata": {},
   "source": [
    "Corrected Code:\n",
    "\n",
    "Here’s the fixed version of your code:"
   ]
  },
  {
   "cell_type": "code",
   "execution_count": null,
   "id": "e08fbaca",
   "metadata": {},
   "outputs": [],
   "source": [
    "x = ['a', 'b']\n",
    "t = []  # Initialize an empty list\n",
    "\n",
    "# Append x to t\n",
    "t.append(x)  # Use append correctly\n",
    "\n",
    "# Concatenate x to t as a new list\n",
    "t = t + [x]  # Add x as a separate element"
   ]
  },
  {
   "cell_type": "markdown",
   "id": "1657666f",
   "metadata": {},
   "source": [
    "t.append(x)\n",
    "\n",
    "t = t + [x]\n",
    "\n",
    "And these are wrong:\n",
    "\n",
    "t.append([x])   # WRONG!\n",
    "\n",
    "t = t.append(x) # WRONG!\n",
    "\n",
    "t + [x]         # WRONG!\n",
    "\n",
    "t = t + x       # WRONG!\n",
    "\n",
    "Try out each of these examples in interactive mode to make sure you understand what they do. Notice that only the last one causes a runtime error; the other three are legal, but they do the wrong thing."
   ]
  },
  {
   "cell_type": "markdown",
   "id": "4b22a916",
   "metadata": {},
   "source": [
    "3. Make copies to avoid aliasing.\n",
    "\n",
    "If you want to use a method like sort that modifies the argument, but you need to keep the original list as well, you can make a copy."
   ]
  },
  {
   "cell_type": "code",
   "execution_count": null,
   "id": "d5f2169d",
   "metadata": {},
   "outputs": [],
   "source": [
    "orig = t[:]\n",
    "t.sort()"
   ]
  },
  {
   "cell_type": "markdown",
   "id": "9ef1094a",
   "metadata": {},
   "source": [
    "In this example you could also use the built-in function sorted, which returns a new, sorted list and leaves the original alone. But in that case you should avoid using sorted as a variable name!"
   ]
  },
  {
   "cell_type": "markdown",
   "id": "2bff7de8",
   "metadata": {},
   "source": [
    "4. Lists, split, and files\n",
    "\n",
    "When we read and parse files, there are many opportunities to encounter input that can crash our program so it is a good idea to revisit the guardian pattern when it comes to writing programs that read through a file and look for a “needle in the haystack”.\n",
    "\n",
    "Let’s revisit our program that is looking for the day of the week on the from lines of our file:\n",
    "\n",
    "From stephen.marquard@uct.ac.za Sat Jan 5 09:14:16 2008\n",
    "\n",
    "Since we are breaking this line into words, we could dispense with the use of startswith and simply look at the first word of the line to determine if we are interested in the line at all. We can use continue to skip lines that don’t have “From” as the first word as follows:"
   ]
  },
  {
   "cell_type": "code",
   "execution_count": null,
   "id": "aa539d4b",
   "metadata": {},
   "outputs": [],
   "source": [
    "fhand = open('mbox-short.txt')\n",
    "for line in fhand:\n",
    "    words = line.split()\n",
    "    if words[0] != 'From':\n",
    "        continue\n",
    "    print(words[2])"
   ]
  },
  {
   "cell_type": "markdown",
   "id": "47d7609a",
   "metadata": {},
   "source": [
    "It kind of works and we see the day from the first line (Sat), but then the program fails with a traceback error. What went wrong? What messed-up data caused our elegant, clever, and very Pythonic program to fail?\n",
    "\n",
    "You could stare at it for a long time and puzzle through it or ask someone for help, but the quicker and smarter approach is to add a print statement. The best place to add the print statement is right before the line where the program failed and print out the data that seems to be causing the failure.\n",
    "\n",
    "Now this approach may generate a lot of lines of output, but at least you will immediately have some clue as to the problem at hand. So we add a print of the variable words right before line five. We even add a prefix “Debug:” to the line so we can keep our regular output separate from our debug output."
   ]
  },
  {
   "cell_type": "code",
   "execution_count": null,
   "id": "d17a30a9",
   "metadata": {},
   "outputs": [],
   "source": [
    "for line in fhand:\n",
    "    words = line.split()\n",
    "    print('Debug:', words)\n",
    "    if words[0] != 'From':\n",
    "        continue\n",
    "    print(words[2])"
   ]
  },
  {
   "cell_type": "markdown",
   "id": "aa4b0096",
   "metadata": {},
   "source": [
    "When we run the program, a lot of output scrolls off the screen but at the end, we see our debug output and the traceback so we know what happened just before the traceback."
   ]
  },
  {
   "cell_type": "markdown",
   "id": "e0faf5c3",
   "metadata": {},
   "source": [
    "Each debug line is printing the list of words which we get when we split the line into words. When the program fails, the list of words is empty []."
   ]
  },
  {
   "cell_type": "markdown",
   "id": "f71fa52a",
   "metadata": {},
   "source": [
    "The error occurs when our program encounters a blank line! Of course there are “zero words” on a blank line. Why didn’t we think of that when we were writing the code? When the code looks for the first word (word[0]) to check to see if it matches “From”, we get an “index out of range” error.\n",
    "\n",
    "This of course is the perfect place to add some guardian code to avoid checking the first word if the first word is not there. There are many ways to protect this code; we will choose to check the number of words we have before we look at the first word:"
   ]
  },
  {
   "cell_type": "code",
   "execution_count": null,
   "id": "68db0704",
   "metadata": {},
   "outputs": [],
   "source": [
    "fhand = open('mbox-short.txt')\n",
    "count = 0\n",
    "for line in fhand:\n",
    "    words = line.split()\n",
    "#     print('Debug:', words)\n",
    "    if len(words) == 0:\n",
    "        continue\n",
    "    elif words[0] != 'From':\n",
    "        continue\n",
    "    print(words[2])"
   ]
  },
  {
   "cell_type": "markdown",
   "id": "b714bd61",
   "metadata": {},
   "source": [
    "First we commented out the debug print statement instead of removing it, in case our modification fails and we need to debug again. Then we added a guardian statement that checks to see if we have zero words, and if so, we use continue to skip to the next line in the file.\n",
    "\n",
    "We can think of the two continue statements as helping us refine the set of lines which are “interesting” to us and which we want to process some more. A line which has no words is “uninteresting” to us so we skip to the next line. A line which does not have “From” as its first word is uninteresting to us so we skip it.\n",
    "\n",
    "The program as modified runs successfully, so perhaps it is correct. Our guardian statement does make sure that the words[0] will never fail, but perhaps it is not enough. When we are programming, we must always be thinking, “What might go wrong?”"
   ]
  },
  {
   "cell_type": "markdown",
   "id": "83f74621",
   "metadata": {},
   "source": [
    "#### 8.16 Excercises"
   ]
  },
  {
   "cell_type": "markdown",
   "id": "37e3031f",
   "metadata": {},
   "source": [
    "Exercise 4: Find all unique words in a file\n",
    "\n",
    "Shakespeare used over 20,000 words in his works. But how would you determine that? How would you produce the list of all the words that Shakespeare used? Would you download all his work, read it and track all unique words by hand?\n",
    "\n",
    "Let’s use Python to achieve that instead. List all unique words, sorted in alphabetical order, that are stored in a file romeo.txt containing a subset of Shakespeare’s work.\n",
    "\n",
    "To get started, download a copy of the file www.py4e.com/code3/romeo.txt. Create a list of unique words, which will contain the final result. \n",
    "\n",
    "1. Write a program to open the file romeo.txt and read it line by line. \n",
    "\n",
    "2. For each line, split the line into a list of words using the split function. \n",
    "\n",
    "3. For each word, check to see if the word is already in the list of unique words. If the word is not in the list of unique words, add it to the list. \n",
    "\n",
    "4. When the program completes, sort and print the list of unique words in alphabetical order.\n",
    "\n",
    "Enter file: romeo.txt\n",
    "\n",
    "['Arise', 'But', 'It', 'Juliet', 'Who', 'already',\n",
    "'and', 'breaks', 'east', 'envious', 'fair', 'grief',\n",
    "'is', 'kill', 'light', 'moon', 'pale', 'sick', 'soft',\n",
    "'sun', 'the', 'through', 'what', 'window',\n",
    "'with', 'yonder']"
   ]
  },
  {
   "cell_type": "code",
   "execution_count": null,
   "id": "3bc58e3a",
   "metadata": {},
   "outputs": [],
   "source": [
    "fhand = open('romeo.txt')\n",
    "unique_word = []\n",
    "\n",
    "for line in fhand:\n",
    "    line = line.strip()\n",
    "    words = line.split()\n",
    "    for word in words:\n",
    "        unique_word.append(word)\n",
    "\n",
    "sorted_unique_word = sorted(unique_word)\n",
    "    \n",
    "print(f'The list of unique words is:\\n {sorted_unique_word}')"
   ]
  },
  {
   "cell_type": "markdown",
   "id": "129ceb3c",
   "metadata": {},
   "source": [
    "Exercise 5: Minimalist Email Client.\n",
    "\n",
    "MBOX (mail box) is a popular file format to store and share a collection of emails. This was used by early email servers and desktop apps. Without getting into too many details, MBOX is a text file, which stores emails consecutively. Emails are separated by a special line which starts with From (notice the space). Importantly, lines starting with From: (notice the colon) describes the email itself and does not act as a separator. Imagine you wrote a minimalist email app, that lists the email of the senders in the user’s Inbox and counts the number of emails.\n",
    "\n",
    "Write a program to read through the mail box data and when you find line that starts with “From”, you will split the line into words using the split function. We are interested in who sent the message, which is the second word on the From line.\n",
    "\n",
    "From stephen.marquard@uct.ac.za Sat Jan 5 09:14:16 2008\n",
    "\n",
    "You will parse the From line and print out the second word for each From line, then you will also count the number of From (not From:) lines and print out a count at the end. This is a good sample output with a few lines removed:\n",
    "\n",
    "python fromcount.py\n",
    "\n",
    "Enter a file name: mbox-short.txt\n",
    "\n",
    "stephen.marquard@uct.ac.za\n",
    "\n",
    "louis@media.berkeley.edu\n",
    "\n",
    "zqian@umich.edu\n",
    "\n",
    "[...some output removed...]\n",
    "\n",
    "ray@media.berkeley.edu\n",
    "\n",
    "cwen@iupui.edu\n",
    "\n",
    "cwen@iupui.edu\n",
    "\n",
    "cwen@iupui.edu\n",
    "\n",
    "There were 27 lines in the file with From as the first word"
   ]
  },
  {
   "cell_type": "code",
   "execution_count": null,
   "id": "a9c19ec9",
   "metadata": {},
   "outputs": [],
   "source": [
    "file_name = input('Enter the file name: ')\n",
    "\n",
    "try:\n",
    "    fhand = open(file_name)  # Try to open the file\n",
    "except FileNotFoundError:\n",
    "    print(f'File cannot be opened: {file_name}')\n",
    "    exit()  # Exit if the file is not found\n",
    "\n",
    "count = 0  # Initialize the count variable\n",
    "\n",
    "for line in fhand:\n",
    "    line = line.rstrip()  # Remove trailing whitespace\n",
    "    if line.startswith('From '):  # Match lines that start with 'From ' only\n",
    "        words = line.split()  # Split the line into words\n",
    "        count = count + 1  # Increment the count\n",
    "        emails = words[1]  # Extract the email (2nd word)\n",
    "        print(emails)  # Print the email address\n",
    "\n",
    "print(f'There were {count} lines in the file with From as the first word')"
   ]
  },
  {
   "cell_type": "markdown",
   "id": "78b57666",
   "metadata": {},
   "source": [
    "Exercise 6:\n",
    "\n",
    "Rewrite the program that prompts the user for a list of numbers and prints out the maximum and minimum of the numbers at the end when the user enters “done”. Write the program to store the numbers the user enters in a list and use the max() and min() functions to compute the maximum and minimum numbers after the loop completes.\n",
    "\n",
    "Enter a number: 6\n",
    "\n",
    "Enter a number: 2\n",
    "\n",
    "Enter a number: 9\n",
    "\n",
    "Enter a number: 3\n",
    "\n",
    "Enter a number: 5\n",
    "\n",
    "Enter a number: done\n",
    "\n",
    "Maximum: 9.0\n",
    "\n",
    "Minimum: 2.0"
   ]
  },
  {
   "cell_type": "code",
   "execution_count": null,
   "id": "a9b10d1b",
   "metadata": {},
   "outputs": [],
   "source": [
    "user_list = []  # Initialize an empty list\n",
    "count = 0       # Initialize a counter\n",
    "\n",
    "while True:\n",
    "    inp = input('Enter a number (or type \"done\" to finish): ')\n",
    "    \n",
    "#     Break the loop if user tyes 'done'\n",
    "    if inp == 'done':\n",
    "        break\n",
    "    \n",
    "    try:\n",
    "        # Convert input to a number and append to the list\n",
    "        num = float(inp)   # Use float to handle decimal numbers\n",
    "        user_list.append(num)\n",
    "        count = count + 1\n",
    "    except:\n",
    "        print('invalid input! Please enter a valid number.')\n",
    "        \n",
    "# Print the results\n",
    "print(f'Your list of numbers is {user_list} and you have entered a total of {count} elements.')\n",
    "max_num = max(user_list)\n",
    "min_num = min(user_list)\n",
    "print(f'The maximum number in your list is {max_num}')\n",
    "print(f'The minimum number in your list is {min_num}')"
   ]
  },
  {
   "cell_type": "markdown",
   "id": "f57b1524",
   "metadata": {},
   "source": [
    "## Chapter 9"
   ]
  },
  {
   "cell_type": "markdown",
   "id": "3165918e",
   "metadata": {},
   "source": [
    "### Dictionaries"
   ]
  },
  {
   "cell_type": "markdown",
   "id": "3e153757",
   "metadata": {},
   "source": [
    "A *dictionary* is like a list, but more general. In a list, the index positions have to be integers; in a dictionary, the indices can be (almost) any type.\n",
    "\n",
    "You can think of a dictionary as a mapping between a set of indices (which are called keys) and a set of values. Each key maps to a value. The association of a key and a value is called a key-value pair or sometimes an item.\n",
    "\n",
    "As an example, we’ll build a dictionary that maps from English to Spanish words, so the keys and the values are all strings.\n",
    "\n",
    "The function dict creates a new dictionary with no items. Because dict is the name of a built-in function, you should avoid using it as a variable name."
   ]
  },
  {
   "cell_type": "code",
   "execution_count": null,
   "id": "53bef83b",
   "metadata": {},
   "outputs": [],
   "source": [
    "eng2sp = dict()\n",
    "print(eng2sp)"
   ]
  },
  {
   "cell_type": "markdown",
   "id": "94cf9854",
   "metadata": {},
   "source": [
    "The curly brackets, {}, represent an empty dictionary. To add items to the dictionary, you can use square brackets:"
   ]
  },
  {
   "cell_type": "code",
   "execution_count": null,
   "id": "e8ddbeeb",
   "metadata": {},
   "outputs": [],
   "source": [
    "eng2sp['one'] = 'uno'"
   ]
  },
  {
   "cell_type": "markdown",
   "id": "0e4657a9",
   "metadata": {},
   "source": [
    "This line creates an item that maps from the key 'one' to the value “uno”. If we print the dictionary again, we see a key-value pair with a colon between the key and value:"
   ]
  },
  {
   "cell_type": "code",
   "execution_count": null,
   "id": "80497754",
   "metadata": {
    "scrolled": true
   },
   "outputs": [],
   "source": [
    "print(eng2sp)"
   ]
  },
  {
   "cell_type": "markdown",
   "id": "25137fdf",
   "metadata": {},
   "source": [
    "This output format is also an input format. For example, you can create a new dictionary with three items."
   ]
  },
  {
   "cell_type": "code",
   "execution_count": null,
   "id": "b321ec53",
   "metadata": {},
   "outputs": [],
   "source": [
    "eng2sp = {'one':'uno', 'two':'dos', 'three':'tres'}\n",
    "print(eng2sp)"
   ]
  },
  {
   "cell_type": "markdown",
   "id": "e6200140",
   "metadata": {},
   "source": [
    "Since Python 3.7x the order of key-value pairs is the same as their input order, i.e. dictionaries are now ordered structures.\n",
    "\n",
    "But that doesn’t really matter because the elements of a dictionary are never indexed with integer indices. Instead, you use the keys to look up the corresponding values:"
   ]
  },
  {
   "cell_type": "code",
   "execution_count": null,
   "id": "d09497c8",
   "metadata": {},
   "outputs": [],
   "source": [
    "print(eng2sp['two'])"
   ]
  },
  {
   "cell_type": "markdown",
   "id": "5d1a28a2",
   "metadata": {},
   "source": [
    "The key 'two' always maps to the value “dos” so the order of the items doesn’t matter.\n",
    "\n",
    "If the key isn’t in the dictionary, you get an exception:"
   ]
  },
  {
   "cell_type": "code",
   "execution_count": null,
   "id": "562c0620",
   "metadata": {},
   "outputs": [],
   "source": [
    "print(eng2sp['four'])"
   ]
  },
  {
   "cell_type": "markdown",
   "id": "a8f4d6e9",
   "metadata": {},
   "source": [
    "The len function works on dictionaries; it returns the number of key-value pairs:"
   ]
  },
  {
   "cell_type": "code",
   "execution_count": null,
   "id": "2283a586",
   "metadata": {},
   "outputs": [],
   "source": [
    "len(eng2sp)"
   ]
  },
  {
   "cell_type": "markdown",
   "id": "57d8644e",
   "metadata": {},
   "source": [
    "The in operator works on dictionaries; it tells you whether something appears as a key in the dictionary (appearing as a value is not good enough)."
   ]
  },
  {
   "cell_type": "code",
   "execution_count": null,
   "id": "05efcd2d",
   "metadata": {},
   "outputs": [],
   "source": [
    "'one' in eng2sp"
   ]
  },
  {
   "cell_type": "code",
   "execution_count": null,
   "id": "5e28e188",
   "metadata": {},
   "outputs": [],
   "source": [
    "'uno' in eng2sp"
   ]
  },
  {
   "cell_type": "markdown",
   "id": "0124f7d4",
   "metadata": {},
   "source": [
    "To see whether something appears as a value in a dictionary, you can use the method values, which returns the values as a type that can be converted to a list, and then use the in operator:"
   ]
  },
  {
   "cell_type": "code",
   "execution_count": null,
   "id": "df82e107",
   "metadata": {},
   "outputs": [],
   "source": [
    "vals = list(eng2sp.values())\n",
    "'uno' in vals"
   ]
  },
  {
   "cell_type": "markdown",
   "id": "d23d8b31",
   "metadata": {},
   "source": [
    "The in operator uses different algorithms for lists and dictionaries. For lists, it uses a linear search algorithm. As the list gets longer, the search time gets longer in direct proportion to the length of the list. For dictionaries, Python uses an\n",
    "algorithm called a hash table that has a remarkable property: the in operator takes about the same amount of time no matter how many items there are in a dictionary."
   ]
  },
  {
   "cell_type": "markdown",
   "id": "dcccad23",
   "metadata": {},
   "source": [
    "Exercise 1: Download a copy of the file\n",
    "\n",
    "www.py4e.com/code3/words.txt\n",
    "\n",
    "Write a program that reads the words in words.txt and stores them as keys in a dictionary. It doesn’t matter what the values are. Then you can use the in operator as a fast way to check whether a string is in the dictionary."
   ]
  },
  {
   "cell_type": "code",
   "execution_count": null,
   "id": "cace7ee7",
   "metadata": {},
   "outputs": [],
   "source": [
    "fhand = open('words.txt')\n",
    "\n",
    "words_dict = {}\n",
    "\n",
    "for line in fhand:\n",
    "    words = line.split()\n",
    "    for word in words:\n",
    "        words_dict[word] = None\n",
    "\n",
    "        \n",
    "user_word = input('Enter a word to check:\\n')\n",
    "if user_word in words_dict:\n",
    "    print(f'The word \"{user_word}\" is in the dictionary.')\n",
    "else:\n",
    "    print(f'The word \"{user_word}\" is NOT in the dictionary.')"
   ]
  },
  {
   "cell_type": "markdown",
   "id": "fe194a65",
   "metadata": {},
   "source": [
    "#### 9.1 Dictionary as a set of counters"
   ]
  },
  {
   "cell_type": "markdown",
   "id": "9105c635",
   "metadata": {},
   "source": [
    "Suppose you are given a string and you want to count how many times each letter appears. There are several ways you could do it:\n",
    "\n",
    "1. You could create 26 variables, one for each letter of the alphabet. Then you could traverse the string and, for each character, increment the corresponding counter, probably using a chained conditional.\n",
    "\n",
    "2. You could create a list with 26 elements. Then you could convert each character to a number (using the built-in function ord), use the number as an index into the list, and increment the appropriate counter.\n",
    "\n",
    "3. You could create a dictionary with characters as keys and counters as the corresponding values. The first time you see a character, you would add an item to the dictionary. After that you would increment the value of an existing item.\n",
    "\n",
    "Each of these options performs the same computation, but each of them implements that computation in a different way.\n",
    "\n",
    "An implementation is a way of performing a computation; some implementations are better than others. For example, an advantage of the dictionary implementation is that we don’t have to know ahead of time which letters appear in the string and we only have to make room for the letters that do appear.\n",
    "\n",
    "Here is what the code might look like:"
   ]
  },
  {
   "cell_type": "code",
   "execution_count": null,
   "id": "9c22f85e",
   "metadata": {},
   "outputs": [],
   "source": [
    "word = 'brontosaurus'\n",
    "d = dict()\n",
    "for c in word:\n",
    "    if c not in d:\n",
    "        d[c] = 1\n",
    "    else:\n",
    "        d[c] = d[c] + 1\n",
    "    print(d)\n",
    "print(d)"
   ]
  },
  {
   "cell_type": "markdown",
   "id": "4c7cdf45",
   "metadata": {},
   "source": [
    "We are effectively computing a histogram, which is a statistical term for a set of counters (or frequencies).\n",
    "\n",
    "The for loop traverses the string. Each time through the loop, if the character c is not in the dictionary, we create a new item with key c and the initial value 1 (since we have seen this letter once). If c is already in the dictionary we increment d['c'].\n",
    "\n",
    "Here’s the output of the program:\n",
    "\n",
    "{'b': 1, 'r': 2, 'o': 2, 'n': 1, 't': 1, 's': 2, 'a': 1, 'u': 2}\n",
    "\n",
    "The histogram indicates that the letters “a” and “b” appear once; “o” appears twice, and so on.\n",
    "\n",
    "Dictionaries have a method called get that takes a key and a default value. If the key appears in the dictionary, get returns the corresponding value; otherwise it returns the default value. For example:"
   ]
  },
  {
   "cell_type": "code",
   "execution_count": null,
   "id": "7bc4442f",
   "metadata": {},
   "outputs": [],
   "source": [
    "counts = {'chuck':1, 'annie':42, 'jan':100}\n",
    "print(counts.get('jan', 0))"
   ]
  },
  {
   "cell_type": "code",
   "execution_count": null,
   "id": "a69630d6",
   "metadata": {},
   "outputs": [],
   "source": [
    "print(counts.get('tim', 0))"
   ]
  },
  {
   "cell_type": "markdown",
   "id": "c11d0a2e",
   "metadata": {},
   "source": [
    "We can use get to write our histogram loop more concisely. Because the get method automatically handles the case where a key is not in a dictionary, we can reduce four lines down to one and eliminate the if statement."
   ]
  },
  {
   "cell_type": "code",
   "execution_count": null,
   "id": "a422f73a",
   "metadata": {},
   "outputs": [],
   "source": [
    "word = 'brontosaurus'\n",
    "d = dict()\n",
    "for c in word:\n",
    "    d[c] = d.get(c, 0) + 1\n",
    "#     print(d)\n",
    "print(d)"
   ]
  },
  {
   "cell_type": "markdown",
   "id": "ea104883",
   "metadata": {},
   "source": [
    "The use of the get method to simplify this counting loop ends up being a very commonly used “idiom” in Python and we will use it many times in the rest of the book. So you should take a moment and compare the loop using the if statement and in operator with the loop using the get method. They do exactly the same thing, but one is more succinct."
   ]
  },
  {
   "cell_type": "markdown",
   "id": "a93d1bfa",
   "metadata": {},
   "source": [
    "#### 9.2 Dictionaries and files"
   ]
  },
  {
   "cell_type": "markdown",
   "id": "6151db33",
   "metadata": {},
   "source": [
    "One of the common uses of a dictionary is to count the occurrence of words in a file with some written text. Let’s start with a very simple file of words taken from the text of Romeo and Juliet.   \n",
    "For the first set of examples, we will use a shortened and simplified version of the text with no punctuation. Later we will work with the text of the scene with punctuation included.\n",
    "\n",
    "But soft what light through yonder window breaks  \n",
    "It is the east and Juliet is the sun  \n",
    "Arise fair sun and kill the envious moon  \n",
    "Who is already sick and pale with grief  \n",
    "\n",
    "We will write a Python program to read through the lines of the file, break each line into a list of words, and then loop through each of the words in the line and count each word using a dictionary.  \n",
    "You will see that we have two for loops. The outer loop is reading the lines of the file and the inner loop is iterating through each of the words on that particular line. This is an example of a pattern called nested loops because one of the loops is the outer loop and the other loop is the inner loop.  \n",
    "Because the inner loop executes all of its iterations each time the outer loop makes a single iteration, we think of the inner loop as iterating “more quickly” and the outer loop as iterating more slowly.  \n",
    "The combination of the two nested loops ensures that we will count every word on every line of the input file."
   ]
  },
  {
   "cell_type": "code",
   "execution_count": null,
   "id": "4533e110",
   "metadata": {},
   "outputs": [],
   "source": [
    "fname = input('Enter the file name: ')\n",
    "\n",
    "try:\n",
    "    fhand = open(fname)\n",
    "except:\n",
    "    print('File cannot be opened:', fname)\n",
    "    exit()\n",
    "\n",
    "count = dict()\n",
    "for line in fhand:\n",
    "    words = line.split()\n",
    "    for word in words:\n",
    "        if word not in count:\n",
    "            count[word] = 1\n",
    "        else:\n",
    "            count[word] = count[word] + 1\n",
    "print(count)"
   ]
  },
  {
   "cell_type": "markdown",
   "id": "12073077",
   "metadata": {},
   "source": [
    "In our else statement, we use the more compact alternative for incrementing a variable. counts[word] += 1 is equivalent to counts[word] = counts[word] + 1. Either method can be used to change the value of a variable by any desired amount. Similar alternatives exist for -=, *=, and /=.  \n",
    "When we run the program, we see a raw dump of all of the counts in unsorted hash order. (the romeo.txt file is available at www.py4e.com/code3/romeo.txt)"
   ]
  },
  {
   "cell_type": "markdown",
   "id": "3e9ccd58",
   "metadata": {},
   "source": [
    "#### 9.3 Looping and dictionaries"
   ]
  },
  {
   "cell_type": "markdown",
   "id": "0ebc6203",
   "metadata": {},
   "source": [
    "If you use a dictionary as the sequence in a for statement, it traverses the keys of the dictionary. This loop prints each key and the corresponding value:"
   ]
  },
  {
   "cell_type": "code",
   "execution_count": null,
   "id": "110ff9b4",
   "metadata": {},
   "outputs": [],
   "source": [
    "counts = {'chuck':1, 'annie':42, 'jan':100}\n",
    "for key in counts:\n",
    "    print(key, counts[key])"
   ]
  },
  {
   "cell_type": "markdown",
   "id": "efb1f20b",
   "metadata": {},
   "source": [
    "Again, the keys are ordered.  \n",
    "We can use this pattern to implement the various loop idioms that we have described earlier. For example if we wanted to find all the entries in a dictionary with a value above ten, we could write the following code:"
   ]
  },
  {
   "cell_type": "code",
   "execution_count": null,
   "id": "ee8aeed6",
   "metadata": {},
   "outputs": [],
   "source": [
    "counts = {'chuck':1, 'annie':42, 'jan':100}\n",
    "for key in counts:\n",
    "    if counts[key] > 10:\n",
    "        print(key, counts[key])"
   ]
  },
  {
   "cell_type": "markdown",
   "id": "ae70a71e",
   "metadata": {},
   "source": [
    "The for loop iterates through the keys of the dictionary, so we must use the index operator to retrieve the corresponding value for each key.  \n",
    "If you want to print the keys in alphabetical order, you first make a list of the keys in the dictionary using the keys method available in dictionary objects, and then sort that list and loop through the sorted list, looking up each key and printing out key-value pairs in sorted order as follows:"
   ]
  },
  {
   "cell_type": "code",
   "execution_count": null,
   "id": "a6903e1d",
   "metadata": {},
   "outputs": [],
   "source": [
    "counts = {'chuck':1, 'annie':42, 'jan':100}\n",
    "lst = list(counts.keys())\n",
    "print(lst)\n",
    "lst.sort()\n",
    "print(lst)\n",
    "for key in lst:\n",
    "    print(key, counts[key])"
   ]
  },
  {
   "cell_type": "markdown",
   "id": "a37a1cf4",
   "metadata": {},
   "source": [
    "First you see the list of keys in non-alphabetical order that we get from the keys method. Then we see the key-value pairs in alphabetical order from the for loop."
   ]
  },
  {
   "cell_type": "markdown",
   "id": "d63bb4bc",
   "metadata": {},
   "source": [
    "#### 9.4 Advanced text parsing"
   ]
  },
  {
   "cell_type": "markdown",
   "id": "a5988e8d",
   "metadata": {},
   "source": [
    "In the above example using the file romeo.txt, we made the file as simple as possible by removing all punctuation by hand. The actual text has lots of punctuation, as shown below.\n",
    "\n",
    "But, soft! what light through yonder window breaks?  \n",
    "It is the east, and Juliet is the sun.  \n",
    "Arise, fair sun, and kill the envious moon,  \n",
    "Who is already sick and pale with grief, \n",
    "\n",
    "Since the Python split function looks for spaces and treats words as tokens separated by spaces, we would treat the words “soft!” and “soft” as different words and create a separate dictionary entry for each word.\n",
    "\n",
    "Also since the file has capitalization, we would treat “who” and “Who” as different words with different counts.  \n",
    "\n",
    "We can solve both these problems by using the string methods lower, punctuation, and translate. The translate is the most subtle of the methods. Here is the documentation for translate:  \n",
    "\n",
    "line.translate(str.maketrans(fromstr, tostr, deletestr))\n",
    "\n",
    "*Replace the characters in fromstr with the character in the same position in tostr and delete all characters that are in deletestr. The fromstr and tostr can be empty strings and the deletestr parameter can be omitted.*. \n",
    "\n",
    "We will not specify the tostr but we will use the deletestr parameter to delete all of the punctuation. We will even let Python tell us the list of characters that it considers “punctuation”:"
   ]
  },
  {
   "cell_type": "code",
   "execution_count": null,
   "id": "6cdb133c",
   "metadata": {},
   "outputs": [],
   "source": [
    "import string\n",
    "string.punctuation"
   ]
  },
  {
   "cell_type": "markdown",
   "id": "30c6bee1",
   "metadata": {},
   "source": [
    "We make the following modifications to our program:"
   ]
  },
  {
   "cell_type": "code",
   "execution_count": null,
   "id": "6b73efde",
   "metadata": {},
   "outputs": [],
   "source": [
    "fname = input('Enter the file name: ')\n",
    "\n",
    "try:\n",
    "    fhand = open(fname)\n",
    "except:\n",
    "    print('File cannot be opened:', fname)\n",
    "    exit()\n",
    "\n",
    "count = dict()\n",
    "\n",
    "for line in fhand:\n",
    "    line = line.rstrip()\n",
    "#     First two parameters are empty strings\n",
    "#     Creates a translation table to map all punctuation characters to None and removes all punctuation characters from the line\n",
    "    line = line.translate(line.maketrans(\"\", \"\", string.punctuation))\n",
    "#     converts the line to lowercase for case-insensitive word counting\n",
    "    line = line.lower()\n",
    "    words = line.split()\n",
    "    for word in words:\n",
    "        if word not in count:\n",
    "            count[word] = 1\n",
    "        else:\n",
    "            count[word] += 1\n",
    "print(count)"
   ]
  },
  {
   "cell_type": "markdown",
   "id": "582b94f8",
   "metadata": {},
   "source": [
    "#### 9.5 Excercises"
   ]
  },
  {
   "cell_type": "markdown",
   "id": "ce37bcd9",
   "metadata": {},
   "source": [
    "Exercise 2:\n",
    "\n",
    "Write a program that categorizes each mail message by which day of\n",
    "the week the commit was done. To do this look for lines that start with “From”, then look for the third word and keep a running count of each of the days of the week. At the end of the program print out the contents of your dictionary (order does not matter).\n",
    "\n",
    "Sample Line:  \n",
    "From stephen.marquard@uct.ac.za Sat Jan 5 09:14:16 2008\n",
    "\n",
    "Sample Execution:  \n",
    "python dow.py  \n",
    "Enter a file name: mbox-short.txt  \n",
    "{'Fri': 20, 'Thu': 6, 'Sat': 1}  "
   ]
  },
  {
   "cell_type": "code",
   "execution_count": null,
   "id": "2345194b",
   "metadata": {},
   "outputs": [],
   "source": [
    "fname = input('Enter the file name: ')\n",
    "\n",
    "try:\n",
    "    fhand = open(fname)\n",
    "except:\n",
    "    print('File cannot be opened:', fname)\n",
    "    exit()\n",
    "\n",
    "count = dict()\n",
    "for line in fhand:\n",
    "    line.rstrip()\n",
    "    if line.startswith('From '):\n",
    "        words = line.split()\n",
    "        day = words[2]\n",
    "        if day not in count:\n",
    "            count[day] = 1\n",
    "        else:\n",
    "            count[day] += 1\n",
    "\n",
    "print(count)  "
   ]
  },
  {
   "cell_type": "markdown",
   "id": "e5450d6c",
   "metadata": {},
   "source": [
    "Exercise 4: \n",
    "\n",
    "Add code to the above program to figure out who has the most\n",
    "messages in the file. After all the data has been read and the dictionary has been created, look through the dictionary using a maximum loop (see Chapter 5: Maximum and minimum loops) to find who has the most messages and print how many messages the person has.\n",
    "\n",
    "Enter a file name: mbox-short.txt  \n",
    "cwen@iupui.edu 5\n",
    "\n",
    "Enter a file name: mbox.txt  \n",
    "zqian@umich.edu 195 "
   ]
  },
  {
   "cell_type": "code",
   "execution_count": null,
   "id": "9d70953f",
   "metadata": {},
   "outputs": [],
   "source": [
    "fname = input('Enter the file name: ')\n",
    "\n",
    "try:\n",
    "    fhand = open(fname)\n",
    "except:\n",
    "    print('File cannot be opened:', fname)\n",
    "    exit()\n",
    "\n",
    "email_count = dict()\n",
    "for line in fhand:\n",
    "    line.rstrip()\n",
    "    if line.startswith('From '):\n",
    "        words = line.split()\n",
    "        email = words[1]\n",
    "        if email not in email_count:\n",
    "            email_count[email] = 1\n",
    "        else:\n",
    "            email_count[email] += 1\n",
    "\n",
    "\n",
    "def max_count(email_counts):\n",
    "    max_email = None\n",
    "    max_count = 0\n",
    "    for email, count in email_count.items():\n",
    "        if count > max_count:\n",
    "            max_email = email\n",
    "            max_count = count\n",
    "    return max_email, max_count\n",
    "\n",
    "def min_count(email_counts):\n",
    "    min_email = None\n",
    "    min_count = len(email_count)\n",
    "    for email, count in email_count.items():\n",
    "        if count < min_count:\n",
    "            min_email = email\n",
    "            min_count = count\n",
    "    return min_email, min_count\n",
    "\n",
    "results_email, results_count = max_count(email_count)\n",
    "result_email, result_count = min_count(email_count)\n",
    "print(results_email, results_count) \n",
    "print(result_email, result_count)"
   ]
  },
  {
   "cell_type": "markdown",
   "id": "bcdf6d1a",
   "metadata": {},
   "source": [
    "Exercise 5: \n",
    "\n",
    "This program records the domain name (instead of the address) where\n",
    "the message was sent from instead of who the mail came from (i.e., the whole email address). At the end of the program, print out the contents of your dictionary.\n",
    "\n",
    "python schoolcount.py  \n",
    "Enter a file name: mbox-short.txt  \n",
    "{'media.berkeley.edu': 4, 'uct.ac.za': 6, 'umich.edu': 7,  \n",
    "'gmail.com': 1, 'caret.cam.ac.uk': 1, 'iupui.edu': 8}   "
   ]
  },
  {
   "cell_type": "code",
   "execution_count": null,
   "id": "7bdde3c5",
   "metadata": {},
   "outputs": [],
   "source": [
    "fname = input('Enter the file name: ')\n",
    "\n",
    "try:\n",
    "    fhand = open(fname)\n",
    "except:\n",
    "    print('File cannot be opneed:', fname)\n",
    "    exit()\n",
    "\n",
    "domain_counts = dict()\n",
    "\n",
    "for line in fhand:\n",
    "    line = line.rstrip()\n",
    "    if line.startswith('From '):\n",
    "        words = line.split()\n",
    "        email = words[1].split(\"@\")[1]\n",
    "        if email not in domain_counts:\n",
    "            domain_counts[email] = 1\n",
    "        else:\n",
    "            domain_counts[email] += 1\n",
    "        \n",
    "        ##Alternative Way##\n",
    "#         domain_name = email.split(\"@\")[1]\n",
    "#         domain_counts[domain_name] = domain_counts.get(domain_name, 0) + 1\n",
    "print(domain_counts)"
   ]
  },
  {
   "cell_type": "markdown",
   "id": "24a0fca4",
   "metadata": {},
   "source": [
    "## Chapter 10"
   ]
  },
  {
   "cell_type": "markdown",
   "id": "a0895ed6",
   "metadata": {},
   "source": [
    "### Tuples"
   ]
  },
  {
   "cell_type": "markdown",
   "id": "24361489",
   "metadata": {},
   "source": [
    "#### 10.1 Tuples are immutable"
   ]
  },
  {
   "cell_type": "markdown",
   "id": "e677e792",
   "metadata": {},
   "source": [
    "A tuple1 is a sequence of values much like a list. The values stored in a tuple can be any type, and they are indexed by integers. The important difference is that tuples are immutable. Tuples are also comparable and hashable so we can sort lists of them and use tuples as key values in Python dictionaries.\n",
    "\n",
    "Syntactically, a tuple is a comma-separated list of values:"
   ]
  },
  {
   "cell_type": "code",
   "execution_count": null,
   "id": "22e4c8f7",
   "metadata": {},
   "outputs": [],
   "source": [
    "t = 'a', 'b', 'c', 'd', 'e'"
   ]
  },
  {
   "cell_type": "markdown",
   "id": "dc27685b",
   "metadata": {},
   "source": [
    "Although it is not necessary, it is common to enclose tuples in parentheses to help us quickly identify tuples when we look at Python code:"
   ]
  },
  {
   "cell_type": "code",
   "execution_count": null,
   "id": "bedc32bb",
   "metadata": {},
   "outputs": [],
   "source": [
    "t = ('a', 'b', 'c', 'd', 'e')"
   ]
  },
  {
   "cell_type": "markdown",
   "id": "650202f2",
   "metadata": {},
   "source": [
    "To create a tuple with a single element, you have to include the final comma:"
   ]
  },
  {
   "cell_type": "code",
   "execution_count": null,
   "id": "e6309f2d",
   "metadata": {},
   "outputs": [],
   "source": [
    "t1 = ('a',)\n",
    "type(t1)"
   ]
  },
  {
   "cell_type": "markdown",
   "id": "a223df31",
   "metadata": {},
   "source": [
    "Without the comma Python treats ('a') as an expression with a string in parentheses that evaluates to a string:"
   ]
  },
  {
   "cell_type": "code",
   "execution_count": null,
   "id": "e3744b7f",
   "metadata": {},
   "outputs": [],
   "source": [
    "t2 = ('a')\n",
    "type(t2)"
   ]
  },
  {
   "cell_type": "markdown",
   "id": "b8f34bf9",
   "metadata": {},
   "source": [
    "Another way to construct a tuple is the built-in function tuple. With no argument, it creates an empty tuple:"
   ]
  },
  {
   "cell_type": "code",
   "execution_count": null,
   "id": "2a678255",
   "metadata": {},
   "outputs": [],
   "source": [
    "t = tuple()\n",
    "print(t)"
   ]
  },
  {
   "cell_type": "markdown",
   "id": "d400a3b1",
   "metadata": {},
   "source": [
    "If the argument is a sequence (string, list, or tuple), the result of the call to tuple is a tuple with the elements of the sequence:"
   ]
  },
  {
   "cell_type": "code",
   "execution_count": null,
   "id": "6c8478d4",
   "metadata": {
    "scrolled": true
   },
   "outputs": [],
   "source": [
    "t = tuple('lupins')\n",
    "print(t)"
   ]
  },
  {
   "cell_type": "markdown",
   "id": "d929654b",
   "metadata": {},
   "source": [
    "Because tuple is the name of a constructor, you should avoid using it as a variable name.\n",
    "\n",
    "Most list operators also work on tuples. The bracket operator indexes an element:"
   ]
  },
  {
   "cell_type": "code",
   "execution_count": null,
   "id": "f410a63e",
   "metadata": {},
   "outputs": [],
   "source": [
    "t = ('a', 'b', 'c', 'd', 'e')\n",
    "print(t[0])"
   ]
  },
  {
   "cell_type": "markdown",
   "id": "172b1add",
   "metadata": {},
   "source": [
    "And the slice operator selects a range of elements."
   ]
  },
  {
   "cell_type": "code",
   "execution_count": null,
   "id": "8fbc02cf",
   "metadata": {},
   "outputs": [],
   "source": [
    "print(t[1:3])"
   ]
  },
  {
   "cell_type": "markdown",
   "id": "c3e19247",
   "metadata": {},
   "source": [
    "But if you try to modify one of the elements of the tuple, you get an error:"
   ]
  },
  {
   "cell_type": "code",
   "execution_count": null,
   "id": "2b0ba383",
   "metadata": {},
   "outputs": [],
   "source": [
    "t[0] = 'A'"
   ]
  },
  {
   "cell_type": "markdown",
   "id": "4bcb8729",
   "metadata": {},
   "source": [
    "You can’t modify the elements of a tuple, but you can replace one tuple with another:"
   ]
  },
  {
   "cell_type": "code",
   "execution_count": null,
   "id": "70bd2f4f",
   "metadata": {},
   "outputs": [],
   "source": [
    "t = ('A',) + t[1:]\n",
    "print(t)"
   ]
  },
  {
   "cell_type": "markdown",
   "id": "90899105",
   "metadata": {},
   "source": [
    "#### 10.2 Comparing tuples"
   ]
  },
  {
   "cell_type": "markdown",
   "id": "7ee65363",
   "metadata": {},
   "source": [
    "The comparison operators work with tuples and other sequences. Python starts by comparing the first element from each sequence. If they are equal, it goes on to the next element, and so on, until it finds elements that differ. Subsequent elements are not considered (even if they are really big)."
   ]
  },
  {
   "cell_type": "code",
   "execution_count": null,
   "id": "af7aa2e8",
   "metadata": {},
   "outputs": [],
   "source": [
    "(0, 1, 2) < (0, 3, 4)"
   ]
  },
  {
   "cell_type": "code",
   "execution_count": null,
   "id": "50c001a4",
   "metadata": {},
   "outputs": [],
   "source": [
    "(0, 1, 200000) < (0, 3, 4) "
   ]
  },
  {
   "cell_type": "markdown",
   "id": "7bb182cb",
   "metadata": {},
   "source": [
    "The sort function works the same way. It sorts primarily by first element, but in the case of a tie, it sorts by second element, and so on.\n",
    "\n",
    "This feature lends itself to a pattern called DSU for\n",
    "\n",
    "*Decorate* a sequence by building a list of tuples with one or more sort keys preceding the elements from the sequence,  \n",
    "*Sort* the list of tuples using the Python built-in sort, and  \n",
    "*Undecorate* by extracting the sorted elements of the sequence.\n",
    "\n",
    "For example, suppose you have a list of words and you want to sort them from longest to shortest:"
   ]
  },
  {
   "cell_type": "code",
   "execution_count": null,
   "id": "9f87d76d",
   "metadata": {},
   "outputs": [],
   "source": [
    "txt = 'but soft what light in younder window breaks'\n",
    "words = txt.split()\n",
    "t = list()\n",
    "for word in words:\n",
    "    t.append((len(word), word))\n",
    "    \n",
    "t.sort(reverse=True)\n",
    "\n",
    "res = list()\n",
    "for length, word in t:\n",
    "    res.append(word)\n",
    "    \n",
    "print(res)"
   ]
  },
  {
   "cell_type": "markdown",
   "id": "5b0f99d3",
   "metadata": {},
   "source": [
    "The first loop builds a list of tuples, where each tuple is a word preceded by its length.\n",
    "\n",
    "sort compares the first element, length, first, and only considers the second element to break ties. The keyword argument reverse=True tells sort to go in decreasing order.\n",
    "\n",
    "The second loop traverses the list of tuples and builds a list of words in descending order of length. The four-character words are sorted in reverse alphabetical order, so “what” appears before “soft” in the following list.\n",
    "\n",
    "The output of the program is as follows:  \n",
    "['yonder', 'window', 'breaks', 'light', 'what',\n",
    "'soft', 'but', 'in']"
   ]
  },
  {
   "cell_type": "markdown",
   "id": "2acefc59",
   "metadata": {},
   "source": [
    "#### 10.3 Tuple assignment"
   ]
  },
  {
   "cell_type": "markdown",
   "id": "b6b81a7c",
   "metadata": {},
   "source": [
    "One of the unique syntactic features of the Python language is the ability to have a tuple on the left side and a sequence on the right side of an assignment statement. This allows you to assign more than one variable at a time to the given sequence.\n",
    "\n",
    "In this example we have a two-element tuple and assign the first and second elements of the tuple to the variables x and y in a single statement."
   ]
  },
  {
   "cell_type": "code",
   "execution_count": null,
   "id": "4fc81f42",
   "metadata": {},
   "outputs": [],
   "source": [
    "m = ('have', 'fun')\n",
    "x, y = m\n",
    "x"
   ]
  },
  {
   "cell_type": "code",
   "execution_count": null,
   "id": "e5e90e3c",
   "metadata": {},
   "outputs": [],
   "source": [
    "y"
   ]
  },
  {
   "cell_type": "markdown",
   "id": "4656759f",
   "metadata": {},
   "source": [
    "This is more general than tuple-to-tuple assignment. Both tuples and lists are sequences, so this syntax works with a two element list as well."
   ]
  },
  {
   "cell_type": "code",
   "execution_count": null,
   "id": "ae219848",
   "metadata": {},
   "outputs": [],
   "source": [
    "m = ['have', 'fun']\n",
    "x, y = m\n",
    "x"
   ]
  },
  {
   "cell_type": "code",
   "execution_count": null,
   "id": "1deb236c",
   "metadata": {},
   "outputs": [],
   "source": [
    "y"
   ]
  },
  {
   "cell_type": "markdown",
   "id": "7ea5f5ed",
   "metadata": {},
   "source": [
    "It is not magic, Python roughly translates the tuple assignment syntax to be the following:"
   ]
  },
  {
   "cell_type": "code",
   "execution_count": null,
   "id": "14248fe3",
   "metadata": {},
   "outputs": [],
   "source": [
    "m = ('have', 'fun')\n",
    "x = m[0]\n",
    "y = m[1]\n",
    "x"
   ]
  },
  {
   "cell_type": "code",
   "execution_count": null,
   "id": "807c0794",
   "metadata": {},
   "outputs": [],
   "source": [
    "y"
   ]
  },
  {
   "cell_type": "markdown",
   "id": "dc1ead1b",
   "metadata": {},
   "source": [
    "Stylistically when we use a tuple on the left side of the assignment statement, we omit the parentheses, but the following is an equally valid syntax:"
   ]
  },
  {
   "cell_type": "code",
   "execution_count": null,
   "id": "696f7112",
   "metadata": {},
   "outputs": [],
   "source": [
    "m = ('have', 'fun')\n",
    "(x, y) = m\n",
    "x"
   ]
  },
  {
   "cell_type": "code",
   "execution_count": null,
   "id": "81843de5",
   "metadata": {},
   "outputs": [],
   "source": [
    "y"
   ]
  },
  {
   "cell_type": "markdown",
   "id": "0d8d4e7e",
   "metadata": {},
   "source": [
    "A particularly clever application of tuple assignment allows us to swap the values of two variables in a single statement:"
   ]
  },
  {
   "cell_type": "code",
   "execution_count": null,
   "id": "253519ee",
   "metadata": {},
   "outputs": [],
   "source": [
    "a, b = b, a"
   ]
  },
  {
   "cell_type": "markdown",
   "id": "988ae2d0",
   "metadata": {},
   "source": [
    "Both sides of this statement are tuples, but the left side is a tuple of variables; the right side is a tuple of expressions. Each value on the right side is assigned to its respective variable on the left side. All the expressions on the right side are evaluated before any of the assignments.\n",
    "\n",
    "The number of variables on the left and the number of values on the right must be the same:"
   ]
  },
  {
   "cell_type": "code",
   "execution_count": null,
   "id": "91a2a03a",
   "metadata": {},
   "outputs": [],
   "source": [
    "a, b = 1, 2, 3"
   ]
  },
  {
   "cell_type": "markdown",
   "id": "959e9190",
   "metadata": {},
   "source": [
    "More generally, the right side can be any kind of sequence (string, list, or tuple). For example, to split an email address into a user name and a domain, you could write:"
   ]
  },
  {
   "cell_type": "code",
   "execution_count": null,
   "id": "ecf755b0",
   "metadata": {},
   "outputs": [],
   "source": [
    "addr = 'monty@python.org'\n",
    "uname, domain = addr.split('@')\n",
    "uname, domain"
   ]
  },
  {
   "cell_type": "markdown",
   "id": "0914b14c",
   "metadata": {},
   "source": [
    "The return value from split is a list with two elements; the first element is assigned to uname, the second to domain."
   ]
  },
  {
   "cell_type": "markdown",
   "id": "116d269d",
   "metadata": {},
   "source": [
    "#### 10.4 Dictionaries and tuples"
   ]
  },
  {
   "cell_type": "markdown",
   "id": "d87bcac6",
   "metadata": {},
   "source": [
    "Dictionaries have a method called items that returns a list of tuples, where each tuple is a key-value pair:"
   ]
  },
  {
   "cell_type": "code",
   "execution_count": null,
   "id": "13dea3c5",
   "metadata": {},
   "outputs": [],
   "source": [
    "d = {'b':1, 'a':10, 'c':22}\n",
    "t = list(d.items())\n",
    "print(t)"
   ]
  },
  {
   "cell_type": "markdown",
   "id": "29b537dc",
   "metadata": {},
   "source": [
    "As you should expect from a dictionary, the items are in non-alphabetical order.\n",
    "\n",
    "However, since the list of tuples is a list, and tuples are comparable, we can now sort the list of tuples. Converting a dictionary to a list of tuples is a way for us to output the contents of a dictionary sorted by key:"
   ]
  },
  {
   "cell_type": "code",
   "execution_count": null,
   "id": "96980f7d",
   "metadata": {},
   "outputs": [],
   "source": [
    "d = {'b':1, 'a':10, 'c':22}\n",
    "t = list(d.items())\n",
    "t"
   ]
  },
  {
   "cell_type": "code",
   "execution_count": null,
   "id": "a6016b03",
   "metadata": {
    "scrolled": true
   },
   "outputs": [],
   "source": [
    "t.sort()\n",
    "t"
   ]
  },
  {
   "cell_type": "markdown",
   "id": "bab65e45",
   "metadata": {},
   "source": [
    "The new list is sorted in ascending alphabetical order by the key value."
   ]
  },
  {
   "cell_type": "markdown",
   "id": "9091a070",
   "metadata": {},
   "source": [
    "#### 10.5 Multiple assignment with dictionaries"
   ]
  },
  {
   "cell_type": "markdown",
   "id": "22e2a01a",
   "metadata": {},
   "source": [
    "Combining items, tuple assignment, and for, you can see a nice code pattern for traversing the keys and values of a dictionary in a single loop:"
   ]
  },
  {
   "cell_type": "code",
   "execution_count": null,
   "id": "78d05f09",
   "metadata": {},
   "outputs": [],
   "source": [
    "d = {'a':10, 'b':1, 'c':22}\n",
    "for key, val in d.items():\n",
    "    print(val, key)"
   ]
  },
  {
   "cell_type": "markdown",
   "id": "a016ad4b",
   "metadata": {},
   "source": [
    "This loop has two iteration variables because items returns a list of tuples and key, val is a tuple assignment that successively iterates through each of the key-value pairs in the dictionary.\n",
    "\n",
    "For each iteration through the loop, both key and val are advanced to the nextkey-value pair in the dictionary (still in hash order).\n",
    "\n",
    "The output of this loop is:\n",
    "\n",
    "10 a  \n",
    "1 b  \n",
    "22 c  \n",
    "\n",
    "Again, it is in hash key order (i.e., no particular order).\n",
    "\n",
    "If we combine these two techniques, we can print out the contents of a dictionary sorted by the value stored in each key-value pair.\n",
    "\n",
    "To do this, we first make a list of tuples where each tuple is (value, key). The items method would give us a list of (key, value) tuples, but this time we want to sort by value, not key. Once we have constructed the list with the value-key tuples, it is a simple matter to sort the list in reverse order and print out the new,\n",
    "sorted list."
   ]
  },
  {
   "cell_type": "code",
   "execution_count": null,
   "id": "a79f26e6",
   "metadata": {},
   "outputs": [],
   "source": [
    "d = {'a':10, 'b':1, 'c':22}\n",
    "l = list()\n",
    "for key, val in d.items():\n",
    "    l.append((val, key))\n",
    "\n",
    "print(l)\n",
    "l.sort(reverse=True)\n",
    "print(f'sorted list: {l}')"
   ]
  },
  {
   "cell_type": "markdown",
   "id": "8ff9c32a",
   "metadata": {},
   "source": [
    "By carefully constructing the list of tuples to have the value as the first element of each tuple, we can sort the list of tuples and get our dictionary contents sorted by value."
   ]
  },
  {
   "cell_type": "markdown",
   "id": "1867d8c5",
   "metadata": {},
   "source": [
    "#### 10.6 The most common words"
   ]
  },
  {
   "cell_type": "markdown",
   "id": "f820f074",
   "metadata": {},
   "source": [
    "Coming back to our running example of the text from Romeo and Juliet Act 2, Scene 2, we can augment our program to use this technique to print the ten most common words in the text as follows:"
   ]
  },
  {
   "cell_type": "code",
   "execution_count": null,
   "id": "80fdec61",
   "metadata": {},
   "outputs": [],
   "source": [
    "import string\n",
    "\n",
    "fhand = open('romeo.txt')\n",
    "\n",
    "count = dict()\n",
    "for line in fhand:\n",
    "    line = line.translate(str.maketrans('', '', string.punctuation))\n",
    "    line = line.lower()\n",
    "    words = line.split()\n",
    "    for word in words:\n",
    "        if word not in count:\n",
    "            count[word] = 1\n",
    "        else:\n",
    "            count[word] += 1\n",
    "            \n",
    "# sorting the dictionary by value\n",
    "lst = []\n",
    "for key, val in list(count.items()):\n",
    "    lst.append((val, key))\n",
    "    \n",
    "lst.sort(reverse=True)\n",
    "\n",
    "for key, val in lst[:10]:\n",
    "    print(key, val)"
   ]
  },
  {
   "cell_type": "markdown",
   "id": "95195abb",
   "metadata": {},
   "source": [
    "The first part of the program which reads the file and computes the dictionary that maps each word to the count of words in the document is unchanged. But instead of simply printing out counts and ending the program, we construct a list of (val, key) tuples and then sort the list in reverse order.\n",
    "\n",
    "Since the value is first, it will be used for the comparisons. If there is more than one tuple with the same value, it will look at the second element (the key), so tuples where the value is the same will be further sorted by the alphabetical order of the key.\n",
    "\n",
    "At the end we write a nice for loop which does a multiple assignment iteration and prints out the ten most common words by iterating through a slice of the list (lst[:10])."
   ]
  },
  {
   "cell_type": "markdown",
   "id": "0f53d9eb",
   "metadata": {},
   "source": [
    "#### 10.7 Using tuples as keys in dictionaries"
   ]
  },
  {
   "cell_type": "markdown",
   "id": "4420766a",
   "metadata": {},
   "source": [
    "Because tuples are hashable and lists are not, if we want to create a composite key to use in a dictionary we must use a tuple as the key.\n",
    "\n",
    "We would encounter a composite key if we wanted to create a telephone directory that maps from last-name, first-name pairs to telephone numbers. Assuming that we have defined the variables last, first, and number, we could write a dictionary assignment statement as follows:\n",
    "\n",
    "directory[last,first] = number\n",
    "\n",
    "The expression in brackets is a tuple. We could use tuple assignment in a for loop to traverse this dictionary."
   ]
  },
  {
   "cell_type": "code",
   "execution_count": null,
   "id": "5799e7a0",
   "metadata": {},
   "outputs": [],
   "source": [
    "directory[last, first] = number\n",
    "for last, first in directory:\n",
    "    print(first, last, directory[last, first])"
   ]
  },
  {
   "cell_type": "markdown",
   "id": "da16be9e",
   "metadata": {},
   "source": [
    "This loop traverses the keys in directory, which are tuples. It assigns the elements of each tuple to last and first, then prints the name and corresponding telephone number."
   ]
  },
  {
   "cell_type": "markdown",
   "id": "e8d8301b",
   "metadata": {},
   "source": [
    "#### 10.8 Sequences: String, lists and tuples - Oh My!"
   ]
  },
  {
   "cell_type": "markdown",
   "id": "ba5c95c9",
   "metadata": {},
   "source": [
    "I have focused on lists of tuples, but almost all of the examples in this chapter also work with lists of lists, tuples of tuples, and tuples of lists. To avoid enumerating the possible combinations, it is sometimes easier to talk about sequences of\n",
    "sequences.\n",
    "\n",
    "In many contexts, the different kinds of sequences (strings, lists, and tuples) can be used interchangeably. So how and why do you choose one over the others?\n",
    "\n",
    "To start with the obvious, strings are more limited than other sequences because the elements have to be characters. They are also immutable. If you need the ability to change the characters in a string (as opposed to creating a new string), you might want to use a list of characters instead.\n",
    "\n",
    "Lists are more common than tuples, mostly because they are mutable. But there are a few cases where you might prefer tuples:  \n",
    "1. In some contexts, like a return statement, it is syntactically simpler to create a tuple than a list. In other contexts, you might prefer a list.  \n",
    "2. If you want to use a sequence as a dictionary key, you have to use an immutable type like a tuple or string.\n",
    "3. If you are passing a sequence as an argument to a function, using tuples reduces the potential for unexpected behavior due to aliasing.\n",
    "\n",
    "Because tuples are immutable, they don’t provide methods like sort and reverse, which modify existing lists. However Python provides the built-in functions sorted and reversed, which take any sequence as a parameter and return a new sequence with the same elements in a different order."
   ]
  },
  {
   "cell_type": "markdown",
   "id": "25661986",
   "metadata": {},
   "source": [
    "#### 10.9 List comprehension"
   ]
  },
  {
   "cell_type": "markdown",
   "id": "19080677",
   "metadata": {},
   "source": [
    "Sometimes you want to create a sequence by using data from another sequence. You can achieve this by writing a for loop and appending one item at a time. For example, if you wanted to convert a list of strings – each string storing digits – into numbers that you can sum up, you would write:"
   ]
  },
  {
   "cell_type": "code",
   "execution_count": null,
   "id": "f1d61925",
   "metadata": {},
   "outputs": [],
   "source": [
    "list_of_ints_in_strings = ['42', '65', '12']\n",
    "list_of_ints = []\n",
    "\n",
    "for x in list_of_ints_in_strings:\n",
    "    list_of_ints.append(int(x))\n",
    "\n",
    "print(sum(list_of_ints))"
   ]
  },
  {
   "cell_type": "markdown",
   "id": "c089e2b4",
   "metadata": {},
   "source": [
    "With list comprehension, the above code can be written in a more compact manner:"
   ]
  },
  {
   "cell_type": "code",
   "execution_count": null,
   "id": "d161044d",
   "metadata": {},
   "outputs": [],
   "source": [
    "list_of_ints_in_strings = ['42', '65', '12']\n",
    "list_of_ints = [ int(x) for x in list_of_ints_in_strings ]\n",
    "print(sum(list_of_ints))"
   ]
  },
  {
   "cell_type": "markdown",
   "id": "58ffb130",
   "metadata": {},
   "source": [
    "\t•\tA list comprehension is used here to iterate through each element (x) in list_of_ints_in_strings.\n",
    "\t•\tint(x) converts each string x into an integer.\n",
    "\t•\tThe result, list_of_ints, is a new list: [42, 65, 12]."
   ]
  },
  {
   "cell_type": "markdown",
   "id": "e49371c0",
   "metadata": {},
   "source": [
    "#### 10.10 Debugging"
   ]
  },
  {
   "cell_type": "markdown",
   "id": "701d8b9a",
   "metadata": {},
   "source": [
    "Lists, dictionaries and tuples are known generically as data structures; in this chapter we are starting to see compound data structures, like lists of tuples, and dictionaries that contain tuples as keys and lists as values. Compound data structures are useful, but they are prone to what I call shape errors; that is, errors caused when a data structure has the wrong type, size, or composition, or perhaps you write some code and forget the shape of your data and introduce an error. For example, if you are expecting a list with one integer and I give you a plain old integer (not in a list), it won’t work."
   ]
  },
  {
   "cell_type": "markdown",
   "id": "20c7c139",
   "metadata": {},
   "source": [
    "#### 10.11 Excercise"
   ]
  },
  {
   "cell_type": "markdown",
   "id": "64c44ee3",
   "metadata": {},
   "source": [
    "Exercise 1: \n",
    "\n",
    "Revise a previous program as follows: Read and parse the “From”\n",
    "lines and pull out the addresses from the line. Count the number of messages from each person using a dictionary.\n",
    "\n",
    "After all the data has been read, print the person with the most commits by creating a list of (count, email) tuples from the dictionary. Then sort the list in reverse order and print out the person who has the most commits.\n",
    "\n",
    "Sample Line:\n",
    "\n",
    "From stephen.marquard@uct.ac.za Sat Jan 5 09:14:16 2008 \n",
    "\n",
    "Enter a file name: mbox-short.txt  \n",
    "cwen@iupui.edu 5  \n",
    "\n",
    "Enter a file name: mbox.txt  \n",
    "zqian@umich.edu 195"
   ]
  },
  {
   "cell_type": "code",
   "execution_count": null,
   "id": "300807cc",
   "metadata": {},
   "outputs": [],
   "source": [
    "# Prompt the user for a file name\n",
    "file_name = input(\"Enter a file name: \")\n",
    "\n",
    "try:\n",
    "    fhand = open(file_name)\n",
    "except FileNotFoundError:\n",
    "    print(\"File not found:\", file_name)\n",
    "    exit()\n",
    "\n",
    "# Dictionary to count the number of messages from each person\n",
    "email_counts = {}\n",
    "\n",
    "# Parse the file line by line\n",
    "for line in fhand:\n",
    "    line = line.strip()\n",
    "    if line.startswith(\"From \"):  # Look for lines starting with 'From '\n",
    "        words = line.split()\n",
    "        email = words[1]  # Extract the email address\n",
    "        email_counts[email] = email_counts.get(email, 0) + 1\n",
    "\n",
    "# Convert the dictionary to a list of (count, email) tuples\n",
    "email_list = [(count, email) for email, count in email_counts.items()]\n",
    "\n",
    "# Sort the list in reverse order by count\n",
    "email_list.sort(reverse=True)\n",
    "# print(email_list)\n",
    "\n",
    "# Print the person with the most commits\n",
    "if email_list:\n",
    "    most_commits = email_list[0]  # The first item in the sorted list\n",
    "    print(f\"{most_commits[1]} {most_commits[0]}\")\n",
    "else:\n",
    "    print(\"No 'From' lines found in the file.\")"
   ]
  },
  {
   "cell_type": "markdown",
   "id": "1d7613f4",
   "metadata": {},
   "source": [
    "Exercise 2: \n",
    "\n",
    "This program counts the distribution of the hour of the day for each of the messages. You can pull the hour from the “From” line by finding the time string and then splitting that string into parts using the colon character. Once you have accumulated the counts for each hour, print out the counts, one per line, sorted by hour as shown below.\n",
    "\n",
    "python timeofday.py  \n",
    "Enter a file name: mbox-short.txt  \n",
    "04 3  \n",
    "06 1  \n",
    "07 1  \n",
    "09 2  \n",
    "10 3  \n",
    "11 6  \n",
    "14 1  \n",
    "15 2  \n",
    "16 4  \n",
    "17 2  \n",
    "18 1   \n",
    "19 1"
   ]
  },
  {
   "cell_type": "code",
   "execution_count": null,
   "id": "73419a86",
   "metadata": {},
   "outputs": [],
   "source": [
    "fname = input('Enter the file name: ')\n",
    "\n",
    "try:\n",
    "    fhand = open(fname)\n",
    "except:\n",
    "    print('File cannot be opened:', fname)\n",
    "    exit()\n",
    "    \n",
    "hour_counts =dict()\n",
    "\n",
    "for line in fhand:\n",
    "    line = line.strip()\n",
    "    if line.startswith('From '):\n",
    "        words = line.split()\n",
    "        time = words[5]\n",
    "        hour = time.split(\":\")[0]\n",
    "        hour_counts[hour] = hour_counts.get(hour, 0) + 1\n",
    "        \n",
    "hour_list = [(count, hour) for hour, count in hour_counts.items()]\n",
    "sorted_hour = sorted(hour_list, reverse=True)\n",
    "\n",
    "for count, hour in sorted_hour:\n",
    "    print(hour, count)"
   ]
  },
  {
   "cell_type": "markdown",
   "id": "da344991",
   "metadata": {},
   "source": [
    "Exercise 3: \n",
    "\n",
    "Write a program that reads a file and prints the letters in decreasing order of frequency. Your program should convert all the input to lower case and only count the letters a-z. Your program should not count spaces, digits, punctuation, or anything other\n",
    "than the letters a-z. Find text samples from several different languages and see how letter frequency varies between languages. Compare your results with the tables at https://wikipedia.org/wiki/Letter_frequencies."
   ]
  },
  {
   "cell_type": "code",
   "execution_count": null,
   "id": "f5ef58db",
   "metadata": {},
   "outputs": [],
   "source": [
    "fname = input('Enter the file name: ')\n",
    "\n",
    "try:\n",
    "    fhand = open(fname)\n",
    "except:\n",
    "    print('File cannot be opened:', fname)\n",
    "    exit()\n",
    "    \n",
    "letter_count = dict()\n",
    "\n",
    "for line in fhand:\n",
    "    line = line.lower()\n",
    "    line = line.translate(str.maketrans('', '', string.punctuation))\n",
    "    line = line.replace(\" \", \"\")\n",
    "    line = ''.join(filter(str.isalpha, line))\n",
    "    for char in line:\n",
    "        letter_count[char] = letter_count.get(char, 0) + 1\n",
    "        \n",
    "fhand.close()\n",
    "\n",
    "sorted_letters = sorted(letter_count.items(), key=lambda x: x[1], reverse=True)\n",
    "\n",
    "print(\"letter frequencies:\")\n",
    "for letter, count in sorted_letters:\n",
    "    print(f\"{letter}: {count}\")"
   ]
  },
  {
   "cell_type": "markdown",
   "id": "ad86280b",
   "metadata": {},
   "source": [
    "## Chapter 11"
   ]
  },
  {
   "cell_type": "markdown",
   "id": "b56094d5",
   "metadata": {},
   "source": [
    "### Regular expressions"
   ]
  },
  {
   "cell_type": "markdown",
   "id": "138df853",
   "metadata": {},
   "source": [
    "So far we have been reading through files, looking for patterns and extracting various bits of lines that we find interesting. We have been using string methods like split and find and using lists and string slicing to extract portions of the lines.\n",
    "\n",
    "This task of searching and extracting is so common that Python has a very powerful module called regular expressions that handles many of these tasks quite elegantly. The reason we have not introduced regular expressions earlier in the book is because while they are very powerful, they are a little complicated and their syntax takes\n",
    "some getting used to.\n",
    "\n",
    "Regular expressions are almost their own little programming language for searching and parsing strings. As a matter of fact, entire books have been written on the topic of regular expressions. In this chapter, we will only cover the basics of regular\n",
    "expressions. For more detail on regular expressions, see:  \n",
    "https://en.wikipedia.org/wiki/Regular_expression  \n",
    "https://docs.python.org/library/re.html  \n",
    "\n",
    "The regular expression module re must be imported into your program before you can use it. The simplest use of the regular expression module is the search() function. The following program demonstrates a trivial use of the search function."
   ]
  },
  {
   "cell_type": "code",
   "execution_count": null,
   "id": "ae6d6167",
   "metadata": {},
   "outputs": [],
   "source": [
    "# search for line that contain 'From'\n",
    "import re\n",
    "fhand = open('mbox-short.txt')\n",
    "for line in fhand:\n",
    "    line = line.rstrip()\n",
    "    if re.search('From:', line):\n",
    "        print(line)"
   ]
  },
  {
   "cell_type": "markdown",
   "id": "7878400b",
   "metadata": {},
   "source": [
    "We open the file, loop through each line, and use the regular expression search() to only print out lines that contain the string “From:”. This program does not use the real power of regular expressions, since we could have just as easily used\n",
    "line.find() to accomplish the same result.\n",
    "\n",
    "The power of the regular expressions comes when we add special characters to the search string that allow us to more precisely control which lines match the string. Adding these special characters to our regular expression allow us to do sophisticated matching and extraction while writing very little code.\n",
    "\n",
    "For example, the caret character is used in regular expressions to match “the beginning” of a line. We could change our program to only match lines where “From:” was at the beginning of the line as follows:"
   ]
  },
  {
   "cell_type": "code",
   "execution_count": null,
   "id": "149b37b1",
   "metadata": {},
   "outputs": [],
   "source": [
    "# search for line that contain 'From'\n",
    "import re\n",
    "fhand = open('mbox-short.txt')\n",
    "for line in fhand:\n",
    "    line = line.rstrip()\n",
    "    if re.search('^From:', line):\n",
    "        print(line)"
   ]
  },
  {
   "cell_type": "markdown",
   "id": "b481feb6",
   "metadata": {},
   "source": [
    "Now we will only match lines that start with the string “From:”. This is still a very simple example that we could have done equivalently with the startswith() method from the string module. But it serves to introduce the notion that regular expressions contain special action characters that give us more control as to what will match the regular expression."
   ]
  },
  {
   "cell_type": "markdown",
   "id": "e4b35643",
   "metadata": {},
   "source": [
    "#### 11.1 Character matching in regular expressions"
   ]
  },
  {
   "cell_type": "markdown",
   "id": "40280e39",
   "metadata": {},
   "source": [
    "There are a number of other special characters that let us build even more powerful regular expressions. The most commonly used special character is the period or full stop, which matches any character.\n",
    "\n",
    "In the following example, the regular expression F..m: would match any of the strings “From:”, “Fxxm:”, “F12m:”, or “F!@m:” since the period characters in the regular expression match any character."
   ]
  },
  {
   "cell_type": "code",
   "execution_count": null,
   "id": "8dc2129f",
   "metadata": {},
   "outputs": [],
   "source": [
    "# Search for lines that start with 'F', followed by\n",
    "# 2 characters, followed by 'm:'\n",
    "import re\n",
    "hand = open('mbox-short.txt')\n",
    "for line in hand:\n",
    "    line = line.rstrip()\n",
    "    if re.search('^F..m', line):\n",
    "        print(line)"
   ]
  },
  {
   "cell_type": "markdown",
   "id": "dc4c7469",
   "metadata": {},
   "source": [
    "This is particularly powerful when combined with the ability to indicate that a character can be repeated any number of times using the * or + characters in your regular expression. These special characters mean that instead of matching a single character in the search string, they match zero-or-more characters (in the case of\n",
    "the asterisk) or one-or-more of the characters (in the case of the plus sign). We can further narrow down the lines that we match using a repeated wild card character in the following example:"
   ]
  },
  {
   "cell_type": "code",
   "execution_count": null,
   "id": "6bbfb775",
   "metadata": {},
   "outputs": [],
   "source": [
    "# Search for lines that start with From and have an at sign\n",
    "import re\n",
    "hand = open('mbox-short.txt')\n",
    "for line in hand:\n",
    "    line = line.rstrip()\n",
    "    if re.search('^From:.+@', line):\n",
    "        print(line)"
   ]
  },
  {
   "cell_type": "markdown",
   "id": "4c47f997",
   "metadata": {},
   "source": [
    "The search string ˆFrom:.+@ will successfully match lines that start with “From:”, followed by one or more characters (.+), followed by an at-sign. So this will match the following line:\n",
    "\n",
    "From: stephen.marquard@uct.ac.za\n",
    "\n",
    "You can think of the .+ wildcard as expanding to match all the characters between the colon character and the at-sign.\n",
    "\n",
    "From:.+@\n",
    "\n",
    "It is good to think of the plus and asterisk characters as “pushy”. For example, the following string would match the last at-sign in the string as the .+ pushes outwards, as shown below:\n",
    "\n",
    "From: stephen.marquard@uct.ac.za, csev@umich.edu, and cwen@iupui.edu\n",
    "\n",
    "It is possible to tell an asterisk or plus sign not to be so “greedy” by adding another character. See the detailed documentation for information on turning off the greedy behavior."
   ]
  },
  {
   "cell_type": "markdown",
   "id": "3ee7846d",
   "metadata": {},
   "source": [
    "#### 11.2 Extracting data using regular expression"
   ]
  },
  {
   "cell_type": "markdown",
   "id": "807c58f4",
   "metadata": {},
   "source": [
    "If we want to extract data from a string in Python we can use the findall() method to extract all of the substrings which match a regular expression. Let’s use the example of wanting to extract anything that looks like an email address from any line regardless of format. For example, we want to pull the email addresses from each of the following lines:\n",
    "\n",
    "From stephen.marquard@uct.ac.za Sat Jan 5 09:14:16 2008  \n",
    "Return-Path: <postmaster@collab.sakaiproject.org>  \n",
    "for <source@collab.sakaiproject.org>;  \n",
    "Received: (from apache@localhost)  \n",
    "Author: stephen.marquard@uct.ac.za  \n",
    "\n",
    "We don’t want to write code for each of the types of lines, splitting and slicing differently for each line. This following program uses findall() to find the lines with email addresses in them and extract one or more addresses from each of those lines."
   ]
  },
  {
   "cell_type": "code",
   "execution_count": null,
   "id": "1e5ca784",
   "metadata": {},
   "outputs": [],
   "source": [
    "import re\n",
    "s = 'A message from csev@umich.edu to cwen@iupui.edu about meeting @2PM'\n",
    "lst = re.findall('\\S+@\\S+', s)\n",
    "print(lst)"
   ]
  },
  {
   "cell_type": "markdown",
   "id": "d9fac5f9",
   "metadata": {},
   "source": [
    "The findall() method searches the string in the second argument and returns a list of all of the strings that look like email addresses. We are using a two-character sequence that matches a non-whitespace character (\\S).\n",
    "\n",
    "The output of the program would be:  \n",
    "['csev@umich.edu', 'cwen@iupui.edu']\n",
    "\n",
    "\n",
    "Translating the regular expression, we are looking for substrings that have at least one non-whitespace character, followed by an at-sign, followed by at least one more non-whitespace character. The \\S+ matches as many non-whitespace characters as possible.\n",
    "\n",
    "The regular expression would match twice (csev@umich.edu and cwen@iupui.edu), but it would not match the string “@2PM” because there are no non-blank characters before the at-sign. We can use this regular expression in a program to read all the lines in a file and print out anything that looks like an email address as follows:"
   ]
  },
  {
   "cell_type": "code",
   "execution_count": null,
   "id": "3e4e65b9",
   "metadata": {},
   "outputs": [],
   "source": [
    "# search for lines that have an at sign between characters\n",
    "\n",
    "import re\n",
    "hand = open('mbox-short.txt')\n",
    "for line in hand:\n",
    "    line = line.strip()\n",
    "    x = re.findall('\\S+@\\S', line)\n",
    "    if len(x) > 0:\n",
    "        print(x)"
   ]
  },
  {
   "cell_type": "markdown",
   "id": "e135a9f1",
   "metadata": {},
   "source": [
    "We read each line and then extract all the substrings that match our regular expression. Since findall() returns a list, we simply check if the number of elements in our returned list is more than zero to print only lines where we found at least one substring that looks like an email address.\n",
    "\n",
    "Some of our email addresses have incorrect characters like “<” or “;” at the beginning or end. Let’s declare that we are only interested in the portion of the string that starts and ends with a letter or a number.\n",
    "\n",
    "To do this, we use another feature of regular expressions. Square brackets are used to indicate a set of multiple acceptable characters we are willing to consider matching. In a sense, the \\S is asking to match the set of “non-whitespace characters”. Now we will be a little more explicit in terms of the characters we will match.\n",
    "\n",
    "Here is our new regular expression:  \n",
    "[a-zA-Z0-9]\\S*@\\S*[a-zA-Z]\n",
    "\n",
    "This is getting a little complicated and you can begin to see why regular expressions are their own little language unto themselves. Translating this regular expression, we are looking for substrings that start with a single lowercase letter, uppercase letter, or number “[a-zA-Z0-9]”, followed by zero or more non-blank characters\n",
    "(\\S*), followed by an at-sign, followed by zero or more non-blank characters (\\S*), followed by an uppercase or lowercase letter. Note that we switched from + to * to indicate zero or more non-blank characters since [a-zA-Z0-9] is already one non-blank character. Remember that the * or + applies to the single character\n",
    "immediately to the left of the plus or asterisk.\n",
    "\n",
    "If we use this expression in our program, our data is much cleaner:"
   ]
  },
  {
   "cell_type": "code",
   "execution_count": null,
   "id": "6c86c670",
   "metadata": {},
   "outputs": [],
   "source": [
    "# search for lines that have an at sign between characters\n",
    "# the characters must be a letter or number\n",
    "\n",
    "import re\n",
    "hand = open('mbox-short.txt')\n",
    "for line in hand:\n",
    "    line = line.strip()\n",
    "    x = re.findall('[a-zA-Z0-9]\\S*@\\S*[a-zA-Z]', line)\n",
    "    if len(x) > 0:\n",
    "        print(x)"
   ]
  },
  {
   "cell_type": "markdown",
   "id": "ad7c4385",
   "metadata": {},
   "source": [
    "Notice that on the source@collab.sakaiproject.org lines, our regular expression eliminated two letters at the end of the string (“>;”). This is because when we append [a-zA-Z] to the end of our regular expression, we are demanding that whatever string the regular expression parser finds must end with a letter. So when it sees the “>” at the end of “sakaiproject.org>;” it simply stops at the last “matching” letter it found (i.e., the “g” was the last good match).\n",
    "\n",
    "Also note that the output of the program is a Python list that has a string as the single element in the list."
   ]
  },
  {
   "cell_type": "markdown",
   "id": "6679f6ae",
   "metadata": {},
   "source": [
    "#### 11.3 Combining searching and extracting"
   ]
  },
  {
   "cell_type": "markdown",
   "id": "0ca19fc1",
   "metadata": {},
   "source": [
    "If we want to find numbers on lines that start with the string “X-” such as:\n",
    "\n",
    "X-DSPAM-Confidence: 0.8475  \n",
    "X-DSPAM-Probability: 0.0000  \n",
    "\n",
    "we don’t just want any floating-point numbers from any lines. We only want to extract numbers from lines that have the above syntax.\n",
    "\n",
    "We can construct the following regular expression to select the lines:\n",
    "^X-.*: [0-9.]+  \n",
    "\n",
    "Translating this, we are saying, we want lines that start with X-, followed by zero or more characters (.*), followed by a colon (:) and then a space. After the space we are looking for one or more characters that are either a digit (0-9) or a period [0-9.]+. Note that inside the square brackets, the period matches an actual period (i.e., it is not a wildcard between the square brackets).\n",
    "\n",
    "This is a very tight expression that will pretty much match only the lines we are interested in as follows:"
   ]
  },
  {
   "cell_type": "code",
   "execution_count": null,
   "id": "109893a4",
   "metadata": {},
   "outputs": [],
   "source": [
    "# search for lines that starts with 'X' followed by any non \n",
    "# whitespace characters and ':' followed by a space and any number. \n",
    "# The number can include a decimal.\n",
    "\n",
    "import re\n",
    "hand = open('mbox-short.txt')\n",
    "for line in hand:\n",
    "    line = line.rstrip()\n",
    "    if re.search('^X\\S*: [0-9.]+', line):\n",
    "        print(line)"
   ]
  },
  {
   "cell_type": "markdown",
   "id": "46d18551",
   "metadata": {},
   "source": [
    "When we run the program, we see the data nicely filtered to show only the lines we are looking for.\n",
    "\n",
    "X-DSPAM-Confidence: 0.8475  \n",
    "X-DSPAM-Probability: 0.0000  \n",
    "X-DSPAM-Confidence: 0.6178  \n",
    "X-DSPAM-Probability: 0.0000  \n",
    "...  \n",
    "\n",
    "But now we have to solve the problem of extracting the numbers. While it would be simple enough to use split, we can use another feature of regular expressions to both search and parse the line at the same time.\n",
    "\n",
    "Parentheses are another special character in regular expressions. When you add parentheses to a regular expression, they are ignored when matching the string. But when you are using findall(), parentheses indicate that while you want the whole expression to match, you only are interested in extracting a portion of the\n",
    "substring that matches the regular expression.\n",
    "\n",
    "So we make the following change to our program:"
   ]
  },
  {
   "cell_type": "code",
   "execution_count": null,
   "id": "e28feda4",
   "metadata": {},
   "outputs": [],
   "source": [
    "# Search for lines that start with 'X' followed by any\n",
    "# non whitespace characters and ':' followed by a space\n",
    "# and any number. The number can include a decimal.\n",
    "# Then print the number if it is greater than zero.\n",
    "\n",
    "import re\n",
    "hand = open('mbox-short.txt')\n",
    "for line in hand:\n",
    "    line = line.rstrip()\n",
    "    x = re.findall('^X\\S*: ([0-9.]+)', line)\n",
    "    if len(x) > 0:\n",
    "        print(x)"
   ]
  },
  {
   "cell_type": "markdown",
   "id": "489f1d87",
   "metadata": {},
   "source": [
    "Instead of calling search(), we add parentheses around the part of the regular expression that represents the floating-point number to indicate we only want findall() to give us back the floating-point number portion of the matching string."
   ]
  },
  {
   "cell_type": "markdown",
   "id": "abb2abeb",
   "metadata": {},
   "source": [
    "The numbers are still in a list and need to be converted from strings to floating point, but we have used the power of regular expressions to both search and extract the information we found interesting.\n",
    "\n",
    "As another example of this technique, if you look at the file there are a number of lines of the form:\n",
    "Details: http://source.sakaiproject.org/viewsvn/?view=rev&rev=39772\n",
    "\n",
    "If we wanted to extract all of the revision numbers (the integer number at the end of these lines) using the same technique as above, we could write the following program:"
   ]
  },
  {
   "cell_type": "code",
   "execution_count": null,
   "id": "769dfc38",
   "metadata": {},
   "outputs": [],
   "source": [
    "# Search for lines that start with 'Details: rev='\n",
    "# followed by numbers\n",
    "# Then print the number if one is found\n",
    "\n",
    "import re \n",
    "hand = open('mbox-short.txt')\n",
    "for line in hand:\n",
    "    line = line.rstrip()\n",
    "    x = re.findall('^Details:.*rev=([0-9]+)', line)\n",
    "    if len(x) > 0:\n",
    "        print(x)"
   ]
  },
  {
   "cell_type": "markdown",
   "id": "34bb1f64",
   "metadata": {},
   "source": [
    "Translating our regular expression, we are looking for lines that start with Details:, followed by any number of characters (.*), followed by rev=, and then by one or more digits. We want to find lines that match the entire expression but we only want to extract the integer number at the end of the line, so we surround [0-9]+ with parentheses.\n",
    "\n",
    "Remember that the [0-9]+ is “greedy” and it tries to make as large a string of digits as possible before extracting those digits. This “greedy” behavior is why we get all five digits for each number. The regular expression module expands in both directions until it encounters a non-digit, or the beginning or the end of a line.\n",
    "\n",
    "Now we can use regular expressions to redo an exercise from earlier in the book where we were interested in the time of day of each mail message. We looked for lines of the form:\n",
    "\n",
    "From stephen.marquard@uct.ac.za Sat Jan 5 09:14:16 2008\n",
    "\n",
    "and wanted to extract the hour of the day for each line. Previously we did this with two calls to split. First the line was split into words and then we pulled out the fifth word and split it again on the colon character to pull out the two characters we were interested in.\n",
    "\n",
    "While this worked, it actually results in pretty brittle code that is assuming the lines are nicely formatted. If you were to add enough error checking (or a big try/except block) to insure that your program never failed when presented with incorrectly formatted lines, the code would balloon to 10-15 lines of code that was pretty hard to read.\n",
    "\n",
    "We can do this in a far simpler way with the following regular expression:\n",
    "\n",
    "^From .* [0-9][0-9]:\n",
    "\n",
    "The translation of this regular expression is that we are looking for lines that start with From (note the space), followed by any number of characters (.*), followed by a space, followed by two digits [0-9][0-9], followed by a colon character. This is the definition of the kinds of lines we are looking for.\n",
    "\n",
    "In order to pull out only the hour using findall(), we add parentheses around the two digits as follows:\n",
    "\n",
    "^From .* ([0-9][0-9]):\n",
    "\n",
    "This results in the following program:"
   ]
  },
  {
   "cell_type": "code",
   "execution_count": null,
   "id": "968aa888",
   "metadata": {},
   "outputs": [],
   "source": [
    "# Search for lines that start with From and a character\n",
    "# followed by a two digit number between 00 and 99 followed by ':'\n",
    "# Then print the number if one is found\n",
    "\n",
    "import re\n",
    "hand = open('mbox-short.txt')\n",
    "for line in hand:\n",
    "    line = line.rstrip()\n",
    "    x = re.findall('^From .* ([0-9][0-9]):', line)\n",
    "    if len(x) > 0:\n",
    "        print(x)"
   ]
  },
  {
   "cell_type": "markdown",
   "id": "a5aebf3c",
   "metadata": {},
   "source": [
    "#### 11.4 Escape character"
   ]
  },
  {
   "cell_type": "markdown",
   "id": "00dd54b8",
   "metadata": {},
   "source": [
    "Since we use special characters in regular expressions to match the beginning or end of a line or specify wild cards, we need a way to indicate that these characters are “normal” and we want to match the actual character such as a dollar sign or caret.\n",
    "\n",
    "We can indicate that we want to simply match a character by prefixing that character with a backslash. For example, we can find money amounts with the following regular expression."
   ]
  },
  {
   "cell_type": "code",
   "execution_count": null,
   "id": "b064c780",
   "metadata": {},
   "outputs": [],
   "source": [
    "import re\n",
    "x = 'We just received $10.00 for cookies.'\n",
    "y = re.findall('\\$[0-9.]+', x)\n",
    "if len(y) > 0:\n",
    "    print(y)"
   ]
  },
  {
   "cell_type": "markdown",
   "id": "5b8dd661",
   "metadata": {},
   "source": [
    "Since we prefix the dollar sign with a backslash, it actually matches the dollar sign in the input string instead of matching the “end of line”, and the rest of the regular expression matches one or more digits or the period character. Note: Inside square brackets, characters are not “special”. So when we say [0-9.], it\n",
    "really means digits or a period. Outside of square brackets, a period is the “wildcard” character and matches any character. Inside square brackets, the period is a period."
   ]
  },
  {
   "cell_type": "markdown",
   "id": "9cd7193b",
   "metadata": {},
   "source": [
    "#### 11.5 Summary"
   ]
  },
  {
   "cell_type": "markdown",
   "id": "f6393ffe",
   "metadata": {},
   "source": [
    "While this only scratched the surface of regular expressions, we have learned a bit about the language of regular expressions. They are search strings with special characters in them that communicate your wishes to the regular expression system as to what defines “matching” and what is extracted from the matched strings.\n",
    "Here are some of those special characters and character sequences:\n",
    "\n",
    "1. ˆ Matches the beginning of the line.  \n",
    "2. $ Matches the end of the line.  \n",
    "3. . Matches any character (a wildcard).  \n",
    "4. \\s Matches a whitespace character.  \n",
    "5. \\S Matches a non-whitespace character (opposite of \\s).    \n",
    "6. * Applies to the immediately preceding character(s) and indicates to match zero or more times.  \n",
    "7. *? Applies to the immediately preceding character(s) and indicates to match zero or more times in “non-greedy mode”.  \n",
    "8. + Applies to the immediately preceding character(s) and indicates to match one or more times.  \n",
    "9. +? Applies to the immediately preceding character(s) and indicates to match one or more times in “non-greedy mode”.\n",
    "\n",
    "\n",
    "10. ? Applies to the immediately preceding character(s) and indicates to match zero or one time.  \n",
    "11. ?? Applies to the immediately preceding character(s) and indicates to match zero or one time in “non-greedy mode”.  \n",
    "12. [aeiou] Matches a single character as long as that character is in the specified set. In this example, it would match “a”, “e”, “i”, “o”, or “u”, but no other characters.   \n",
    "13. [a-z0-9] You can specify ranges of characters using the minus sign. This example is a single character that must be a lowercase letter or a digit.  \n",
    "14. [ˆA-Za-z] When the first character in the set notation is a caret, it inverts the logic. This example matches a single character that is anything other than an uppercase or lowercase letter.  \n",
    "15. ( ) When parentheses are added to a regular expression, they are ignored for the purpose of matching, but allow you to extract a particular subset of the matched string rather than the whole string when using findall().  \n",
    "16. \\b Matches the empty string, but only at the start or end of a word.  \n",
    "17. \\B Matches the empty string, but not at the start or end of a word.  \n",
    "18. \\d Matches any decimal digit; equivalent to the set [0-9].  \n",
    "19. \\D Matches any non-digit character; equivalent to the set [ˆ0-9]."
   ]
  },
  {
   "cell_type": "markdown",
   "id": "611ae386",
   "metadata": {},
   "source": [
    "#### 11.6 Excercise"
   ]
  },
  {
   "cell_type": "markdown",
   "id": "80ecbb40",
   "metadata": {},
   "source": [
    "11.9 Exercises\n",
    "\n",
    "Exercise 1: Write a simple program to simulate the operation of the grep command on Unix. Ask the user to enter a regular expression and count the number of lines that matched the regular expression:\n",
    "\n",
    "$ python grep.py  \n",
    "Enter a regular expression: ^Author  \n",
    "mbox.txt had 1798 lines that matched ^Author  \n",
    "\n",
    "$ python grep.py  \n",
    "Enter a regular expression: ^Xmbox.  \n",
    "txt had 14368 lines that matched ^X-  \n",
    "\n",
    "$ python grep.py    \n",
    "\n",
    "Enter a regular expression: java$ \n",
    "\n",
    "mbox.txt had 4175 lines that matched java$  "
   ]
  },
  {
   "cell_type": "code",
   "execution_count": null,
   "id": "db50bc42",
   "metadata": {},
   "outputs": [],
   "source": [
    "import re\n",
    "\n",
    "fhand = open('mbox.txt')\n",
    "\n",
    "regex = input('Enter a regular expression: ')\n",
    "\n",
    "pattern = re.compile(regex)\n",
    "\n",
    "match_count = 0\n",
    "for line in fhand:\n",
    "    if pattern.search(line):\n",
    "        match_count += 1\n",
    "fhand.close()\n",
    "\n",
    "print(f\"{fhand} had {match_count} lines that matched {regex}\")"
   ]
  },
  {
   "cell_type": "markdown",
   "id": "272c8500",
   "metadata": {},
   "source": [
    "Exercise 2: \n",
    "\n",
    "Write a program to look for lines of the form:\n",
    "\n",
    "New Revision: 39772\n",
    "\n",
    "Extract the number from each of the lines using a regular expression and the findall() method. Compute the average of the numbers and print out the average as an integer.\n",
    "\n",
    "Enter file:mbox.txt  \n",
    "38549  \n",
    "Enter file:mbox-short.txt  \n",
    "39756  "
   ]
  },
  {
   "cell_type": "code",
   "execution_count": null,
   "id": "021be1ef",
   "metadata": {
    "scrolled": true
   },
   "outputs": [],
   "source": [
    "import re\n",
    "\n",
    "fname = input('Enter the file name: ')\n",
    "\n",
    "fhand = open(fname)\n",
    "\n",
    "total = 0\n",
    "count = 0\n",
    "\n",
    "for line in fhand:\n",
    "    match = re.findall(r\"New Revision: (\\d+)\", line)\n",
    "    if match:\n",
    "        total = int(total) + int(match[0])\n",
    "        count = count + 1\n",
    "#         print(match[0])\n",
    "fhand.close()\n",
    "\n",
    "if count > 0:\n",
    "    average = total // count\n",
    "    print(f\"Avg is {average}\")\n",
    "else:\n",
    "    print('no atching lines found.')"
   ]
  },
  {
   "cell_type": "markdown",
   "id": "1de56e9e",
   "metadata": {},
   "source": [
    "## Chapter 12"
   ]
  },
  {
   "cell_type": "markdown",
   "id": "d79efc11",
   "metadata": {},
   "source": [
    "### Networked programs"
   ]
  },
  {
   "cell_type": "markdown",
   "id": "e646e65a",
   "metadata": {},
   "source": [
    "While many of the examples in this book have focused on reading files and looking for data in those files, there are many different sources of information when one considers the Internet.\n",
    "\n",
    "In this chapter we will pretend to be a web browser and retrieve web pages using the Hypertext Transfer Protocol (HTTP). Then we will read through the web page data and parse it."
   ]
  },
  {
   "cell_type": "markdown",
   "id": "0d750cd0",
   "metadata": {},
   "source": [
    "#### 12.1 Hypertext Transfer Protocol - HTTP"
   ]
  },
  {
   "cell_type": "markdown",
   "id": "3ee74012",
   "metadata": {},
   "source": [
    "The network protocol that powers the web is actually quite simple and there is built-in support in Python called socket which makes it very easy to make network connections and retrieve data over those sockets in a Python program.\n",
    "\n",
    "A socket is much like a file, except that a single socket provides a two-way connection between two programs. You can both read from and write to the same socket. If you write something to a socket, it is sent to the application at the other end of the socket. If you read from the socket, you are given the data which the other\n",
    "application has sent.\n",
    "\n",
    "But if you try to read a socket1 when the program on the other end of the socket has not sent any data, you just sit and wait. If the programs on both ends of the socket simply wait for some data without sending anything, they will wait for a very long time, so an important part of programs that communicate over the Internet is to have some sort of protocol.\n",
    "\n",
    "A protocol is a set of precise rules that determine who is to go first, what they are to do, and then what the responses are to that message, and who sends next, and so on. In a sense the two applications at either end of the socket are doing a dance and making sure not to step on each other’s toes. There are many documents that describe these network protocols. The Hypertext\n",
    "Transfer Protocol is described in the following document:\n",
    "\n",
    "https://www.w3.org/Protocols/rfc2616/rfc2616.txt\n",
    "\n",
    "This is a long and complex 176-page document with a lot of detail. If you find it interesting, feel free to read it all. But if you take a look around page 36 of RFC2616 you will find the syntax for the GET request. To request a document from a web server, we make a connection, e.g. to the www.pr4e.org server on port 80, and then send a line of the form\n",
    "\n",
    "GET http://data.pr4e.org/romeo.txt HTTP/1.0\n",
    "\n",
    "where the second parameter is the web page we are requesting, and then we also send a blank line. The web server will respond with some header information about the document and a blank line followed by the document content."
   ]
  },
  {
   "cell_type": "markdown",
   "id": "809aa114",
   "metadata": {},
   "source": [
    "#### 12.2 The world's simplest web browser"
   ]
  },
  {
   "cell_type": "markdown",
   "id": "4cb6194f",
   "metadata": {},
   "source": [
    "Perhaps the easiest way to show how the HTTP protocol works is to write a very simple Python program that makes a connection to a web server and follows the rules of the HTTP protocol to request a document and display what the server sends back."
   ]
  },
  {
   "cell_type": "code",
   "execution_count": null,
   "id": "2e3833e7",
   "metadata": {},
   "outputs": [],
   "source": [
    "import socket\n",
    "\n",
    "mysock = socket.socket(socket.AF_INET, socket.SOCK_STREAM)\n",
    "mysock.connect(('data.pr4e.org', 80))\n",
    "cmd = 'GET http://data.pr4e.org/romeo.txt HTTP/1.0\\r\\n\\r\\n'.encode()\n",
    "mysock.send(cmd)\n",
    "\n",
    "while True:\n",
    "    data = mysock.recv(512)\n",
    "    if len(data) < 1:\n",
    "        break\n",
    "    print(data.decode(), end='')\n",
    "    \n",
    "mysock.close()"
   ]
  },
  {
   "cell_type": "markdown",
   "id": "e316c31b",
   "metadata": {},
   "source": [
    "First the program makes a connection to port 80 on the server www.pr4e.com. Since our program is playing the role of the “web browser”, the HTTP protocol says we must send the GET command followed by a blank line. \\r\\n signifies an EOL (end of line), so \\r\\n\\r\\n signifies nothing between two EOL sequences. That is the equivalent of a blank line.\n",
    "\n",
    "Once we send that blank line, we write a loop that receives data in 512-character chunks from the socket and prints the data out until there is no more data to read (i.e., the recv() returns an empty string).\n",
    "\n",
    "The program produces the following output:\n",
    "\n",
    "HTTP/1.1 200 OK  \n",
    "Date: Wed, 11 Apr 2018 18:52:55 GMT  \n",
    "Server: Apache/2.4.7 (Ubuntu)  \n",
    "Last-Modified: Sat, 13 May 2017 11:22:22 GMT  \n",
    "ETag: \"a7-54f6609245537\"  \n",
    "Accept-Ranges: bytes  \n",
    "Content-Length: 167  \n",
    "Cache-Control: max-age=0, no-cache, no-store, must-revalidate  \n",
    "Pragma: no-cache  \n",
    "Expires: Wed, 11 Jan 1984 05:00:00 GMT  \n",
    "Connection: close  \n",
    "Content-Type: text/plain   \n",
    "But soft what light through yonder window breaks  \n",
    "It is the east and Juliet is the sun  \n",
    "Arise fair sun and kill the envious moon  \n",
    "Who is already sick and pale with grief  \n",
    "\n",
    "The output starts with headers which the web server sends to describe the document. For example, the Content-Type header indicates that the document is a plain text document (text/plain).\n",
    "\n",
    "After the server sends us the headers, it adds a blank line to indicate the end of the headers, and then sends the actual data of the file romeo.txt.\n",
    "\n",
    "This example shows how to make a low-level network connection with sockets. Sockets can be used to communicate with a web server or with a mail server or many other kinds of servers. All that is needed is to find the document which describes the protocol and write the code to send and receive the data according to the protocol.\n",
    "\n",
    "However, since the protocol that we use most commonly is the HTTP web protocol, Python has a special library specifically designed to support the HTTP protocol for the retrieval of documents and data over the web.\n",
    "\n",
    "One of the requirements for using the HTTP protocol is the need to send and receive data as bytes objects, instead of strings. In the preceding example, the encode() and decode() methods convert strings into bytes objects and back again.\n",
    "\n",
    "The next example uses b'' notation to specify that a variable should be stored as a bytes object. encode() and b'' are equivalent."
   ]
  },
  {
   "cell_type": "code",
   "execution_count": null,
   "id": "929e51ac",
   "metadata": {},
   "outputs": [],
   "source": [
    "b'Hello world'"
   ]
  },
  {
   "cell_type": "code",
   "execution_count": null,
   "id": "2752b4b7",
   "metadata": {},
   "outputs": [],
   "source": [
    "'Hello world'.encode()"
   ]
  },
  {
   "cell_type": "markdown",
   "id": "043abe4c",
   "metadata": {},
   "source": [
    "#### 12.3 Retrieving an image over HTTP"
   ]
  },
  {
   "cell_type": "markdown",
   "id": "1123e2a1",
   "metadata": {},
   "source": [
    "In the above example, we retrieved a plain text file which had newlines in the file and we simply copied the data to the screen as the program ran. We can use a similar program to retrieve an image across using HTTP. Instead of copying the data to the screen as the program runs, we accumulate the data in a string, trim off the headers, and then save the image data to a file as follows:"
   ]
  },
  {
   "cell_type": "code",
   "execution_count": null,
   "id": "60c3e824",
   "metadata": {},
   "outputs": [],
   "source": [
    "import socket\n",
    "import time\n",
    "\n",
    "HOST = 'data.pr4e.org'\n",
    "PORT =80\n",
    "mysock = socket.socket(socket.AF_INET, socket.SOCK_STREAM)\n",
    "mysock.connect((HOST, PORT))\n",
    "mysock.sendall(b'GET http://data.pr4e.org/cover3.jpg HTTP/1.0\\r\\n\\r\\n')\n",
    "count = 0\n",
    "picture = b\"\"\n",
    "\n",
    "while True:\n",
    "    data = mysock.recv(5120)\n",
    "    if len(data) < 1:\n",
    "        break\n",
    "    count = count + len(data)\n",
    "    print(len(data), count)\n",
    "    picture = picture + data\n",
    "    \n",
    "mysock.close()\n",
    "\n",
    "# Look for the end of the header \n",
    "pos = picture.find(b\"\\r\\n\\r\\n\")\n",
    "print('Header length', pos)\n",
    "print(picture[:pos].decode())\n",
    "\n",
    "# Skip past the header and save the picture data\n",
    "picture = picture[pos+4:]\n",
    "fhand = open(\"stuff.jpg\", \"wb\")\n",
    "fhand.write(picture)\n",
    "fhand.close()"
   ]
  },
  {
   "cell_type": "markdown",
   "id": "d92df283",
   "metadata": {},
   "source": [
    "You can see that for this url, the Content-Type header indicates that body of the document is an image (image/jpeg). Once the program completes, you can view the image data by opening the file stuff.jpg in an image viewer.\n",
    "\n",
    "As the program runs, you can see that we don’t get 5120 characters each time we call the recv() method. We get as many characters as have been transferred across the network to us by the web server at the moment we call recv(). In this example, we either get as few as 3200 characters each time we request up to 5120 characters of data.\n",
    "\n",
    "Your results may be different depending on your network speed. Also note that on the last call to recv() we get 3167 bytes, which is the end of the stream, and in the next call to recv() we get a zero-length string that tells us that the server has called close() on its end of the socket and there is no more data forthcoming.\n",
    "\n",
    "We can slow down our successive recv() calls by uncommenting the call to time.sleep(). This way, we wait a quarter of a second after each call so that the server can “get ahead” of us and send more data to us before we call recv() again. With the delay, in place the program executes as follows:\n",
    "\n",
    "$ python urljpeg.py  \n",
    "5120 5120  \n",
    "5120 10240  \n",
    "5120 15360  \n",
    "...  \n",
    "5120 225280\n",
    "5120 230400\n",
    "207 230607  \n",
    "Header length 393  \n",
    "HTTP/1.1 200 OK  \n",
    "Date: Wed, 11 Apr 2018 21:42:08 GMT  \n",
    "Server: Apache/2.4.7 (Ubuntu)  \n",
    "Last-Modified: Mon, 15 May 2017 12:27:40 GMT  \n",
    "ETag: \"38342-54f8f2e5b6277\"  \n",
    "Accept-Ranges: bytes  \n",
    "Content-Length: 230210  \n",
    "Vary: Accept-Encoding   \n",
    "Cache-Control: max-age=0, no-cache, no-store, must-revalidate  \n",
    "Pragma: no-cache  \n",
    "Expires: Wed, 11 Jan 1984 05:00:00 GMT  \n",
    "Connection: close  \n",
    "Content-Type: image/jpeg  \n",
    "\n",
    "Now other than the first and last calls to recv(), we now get 5120 characters each time we ask for new data.\n",
    "\n",
    "There is a buffer between the server making send() requests and our application making recv() requests. When we run the program with the delay in place, at some point the server might fill up the buffer in the socket and be forced to pause until our program starts to empty the buffer. The pausing of either the sending application or the receiving application is called “flow control.”"
   ]
  },
  {
   "cell_type": "markdown",
   "id": "dc3c1651",
   "metadata": {},
   "source": [
    "#### 12.4 Retrieving web pages with urllib"
   ]
  },
  {
   "cell_type": "markdown",
   "id": "dc42df22",
   "metadata": {},
   "source": [
    "While we can manually send and receive data over HTTP using the socket library, there is a much simpler way to perform this common task in Python by using the urllib library.\n",
    "\n",
    "Using urllib, you can treat a web page much like a file. You simply indicate which web page you would like to retrieve and urllib handles all of the HTTP protocol and header details.\n",
    "\n",
    "The equivalent code to read the romeo.txt file from the web using urllib is as follows:"
   ]
  },
  {
   "cell_type": "code",
   "execution_count": null,
   "id": "13c8cbf9",
   "metadata": {},
   "outputs": [],
   "source": [
    "import urllib.request\n",
    "\n",
    "fhand = urllib.request.urlopen('http://data.pr4e.org/romeo.txt')\n",
    "for line in fhand:\n",
    "    print(line.decode().strip())"
   ]
  },
  {
   "cell_type": "markdown",
   "id": "2b562a6e",
   "metadata": {},
   "source": [
    "Once the web page has been opened with urllib.request.urlopen, we can treat it like a file and read through it using a for loop.\n",
    "\n",
    "When the program runs, we only see the output of the contents of the file. The headers are still sent, but the urllib code consumes the headers and only returns the data to us."
   ]
  },
  {
   "cell_type": "markdown",
   "id": "6e6d9ca1",
   "metadata": {},
   "source": [
    "As an example, we can write a program to retrieve the data for romeo.txt and compute the frequency of each word in the file as follows:"
   ]
  },
  {
   "cell_type": "code",
   "execution_count": null,
   "id": "88ead9e1",
   "metadata": {},
   "outputs": [],
   "source": [
    "import urllib.request, urllib.parse, urllib.error\n",
    "\n",
    "fhand = urllib.request.urlopen('http://data.pr4e.org/romeo.txt')\n",
    "\n",
    "counts = dict()\n",
    "for line in fhand:\n",
    "    line = line.strip()\n",
    "    words = line.decode().split()\n",
    "    for word in words:\n",
    "        counts[word] = counts.get(word, 0) + 1\n",
    "print(counts)"
   ]
  },
  {
   "cell_type": "markdown",
   "id": "a0c34703",
   "metadata": {},
   "source": [
    "#### 12.5 Reading binary files using urllib"
   ]
  },
  {
   "cell_type": "markdown",
   "id": "56911da9",
   "metadata": {},
   "source": [
    "Sometimes you want to retrieve a non-text (or binary) file such as an image or video file. The data in these files is generally not useful to print out, but you can easily make a copy of a URL to a local file on your hard disk using urllib.\n",
    "\n",
    "The pattern is to open the URL and use read to download the entire contents of the document into a string variable (img) then write that information to a local file as follows:"
   ]
  },
  {
   "cell_type": "code",
   "execution_count": null,
   "id": "eae11c22",
   "metadata": {},
   "outputs": [],
   "source": [
    "import urllib.request, urllib.parse, urllib.error\n",
    "img = urllib.request.urlopen('http://data.pr4e.org/cover3.jpg').read()\n",
    "fhand = open('cover3.jpg', 'wb')\n",
    "fhand.write(img)\n",
    "fhand.close()"
   ]
  },
  {
   "cell_type": "markdown",
   "id": "a0995c98",
   "metadata": {},
   "source": [
    "This program reads all of the data in at once across the network and stores it in the variable img in the main memory of your computer, then opens the file cover.jpg and writes the data out to your disk. The wb argument for open() opens a binary file for writing only. This program will work if the size of the file is less than the size of the memory of your computer.\n",
    "\n",
    "However if this is a large audio or video file, this program may crash or at least run extremely slowly when your computer runs out of memory. In order to avoid running out of memory, we retrieve the data in blocks (or buffers) and then write each block to your disk before retrieving the next block. This way the program can read any size file without using up all of the memory you have in your computer."
   ]
  },
  {
   "cell_type": "code",
   "execution_count": null,
   "id": "9b416fe3",
   "metadata": {},
   "outputs": [],
   "source": [
    "import urllib.request, urllib.parse, urllib.error\n",
    "\n",
    "img = urllib.request.urlopen('http://data.pr4e.org/cover3.jpg')\n",
    "fhand = open('cover3.jpg', 'wb')\n",
    "size = 0\n",
    "while True:\n",
    "    info = img.read(100000)\n",
    "    if len(info) < 1:\n",
    "        break\n",
    "    size = size + len(info)\n",
    "    fhand.write(info)\n",
    "    \n",
    "print(size, 'characters copied.')\n",
    "fhand.close()"
   ]
  },
  {
   "cell_type": "markdown",
   "id": "5b41dbf6",
   "metadata": {},
   "source": [
    "In this example, we read only 100,000 characters at a time and then write those characters to the cover3.jpg file before retrieving the next 100,000 characters of data from the web."
   ]
  },
  {
   "cell_type": "markdown",
   "id": "2bbf45fe",
   "metadata": {},
   "source": [
    "#### 12.6 Parsing HTML and scraping the web"
   ]
  },
  {
   "cell_type": "markdown",
   "id": "129ffe11",
   "metadata": {},
   "source": [
    "One of the common uses of the urllib capability in Python is to scrape the web. Web scraping is when we write a program that pretends to be a web browser and retrieves pages, then examines the data in those pages looking for patterns.\n",
    "\n",
    "As an example, a search engine such as Google will look at the source of one web page and extract the links to other pages and retrieve those pages, extracting links, and so on. Using this technique, Google spiders its way through nearly all of the pages on the web.\n",
    "\n",
    "Google also uses the frequency of links from pages it finds to a particular page as one measure of how “important” a page is and how high the page should appear in its search results."
   ]
  },
  {
   "cell_type": "markdown",
   "id": "601d4eb1",
   "metadata": {},
   "source": [
    "#### 12.7 Parsing HTML using regular expressions"
   ]
  },
  {
   "cell_type": "markdown",
   "id": "7e07ab74",
   "metadata": {},
   "source": [
    "One simple way to parse HTML is to use regular expressions to repeatedly search for and extract substrings that match a particular pattern.\n",
    "\n",
    "Here is a simple web page:"
   ]
  },
  {
   "cell_type": "code",
   "execution_count": null,
   "id": "b03e75e2",
   "metadata": {},
   "outputs": [],
   "source": [
    "<h1>The First Page</h1>\n",
    "<p>\n",
    "If you like, you can switch to the \n",
    "<a href=\"http://www.dr-chuck.com/page2.htm\">\n",
    "Second Page</a>.\n",
    "</p>"
   ]
  },
  {
   "cell_type": "markdown",
   "id": "bb3e1013",
   "metadata": {},
   "source": [
    "We can construct a well-formed regular expression to match and extract the link values from the above text as follows:\n",
    "\n",
    "href=\"http[s]?://.+?\"\n",
    "\n",
    "Our regular expression looks for strings that start with “href=\"http://” or “href=\"https://”, followed by one or more characters (.+?), followed by another double quote. The question mark behind the [s]? indicates to search for the string “http” followed by zero or one “s”.\n",
    "\n",
    "The question mark added to the .+? indicates that the match is to be done in a “non-greedy” fashion instead of a “greedy” fashion. A non-greedy match tries to find the smallest possible matching string and a greedy match tries to find the largest possible matching string.\n",
    "\n",
    "We add parentheses to our regular expression to indicate which part of our matched string we would like to extract, and produce the following program:"
   ]
  },
  {
   "cell_type": "code",
   "execution_count": null,
   "id": "f4afc90f",
   "metadata": {},
   "outputs": [],
   "source": [
    "# Search for link values within URL input\n",
    "import urllib.request, urllib.parse, urllib.error\n",
    "import re\n",
    "import ssl\n",
    "\n",
    "# Ignore SSL certificate errors\n",
    "ctx = ssl.create_default_context()\n",
    "ctx.check_hostname = False\n",
    "ctx.verify_mode = ssl.CERT_NONE\n",
    "\n",
    "url = input('Enter - ')\n",
    "html = urllib.request.urlopen( url, context=ctx).read()\n",
    "links = re.findall(b'href=\"(http[s]?://.*)\"',html)\n",
    "for link in links:\n",
    "    print(link.decode())"
   ]
  },
  {
   "cell_type": "markdown",
   "id": "56fa999b",
   "metadata": {},
   "source": [
    "The ssl library allows this program to access web sites that strictly enforce HTTPS. The read method returns HTML source code as a bytes object instead of returning an HTTPResponse object. The findall regular expression method will give us a list of all of the strings that match our regular expression, returning only the link\n",
    "text between the double quotes.\n",
    "\n",
    "When we run the program and input a URL, we get the following output as shown above.\n",
    "\n",
    "Regular expressions work very nicely when your HTML is well formatted and predictable. But since there are a lot of “broken” HTML pages out there, a solution only using regular expressions might either miss some valid links or end up with bad data."
   ]
  },
  {
   "cell_type": "markdown",
   "id": "da3b5c3b",
   "metadata": {},
   "source": [
    "#### 12.8 Parsing HTML using BeautifulSoup"
   ]
  },
  {
   "cell_type": "markdown",
   "id": "e6f3d7c4",
   "metadata": {},
   "source": [
    "Even though HTML looks like XML2 and some pages are carefully constructed to be XML, most HTML is generally broken in ways that cause an XML parser to reject the entire page of HTML as improperly formed.\n",
    "\n",
    "There are a number of Python libraries which can help you parse HTML and extract data from the pages. Each of the libraries has its strengths and weaknesses and you can pick one based on your needs.\n",
    "\n",
    "As an example, we will simply parse some HTML input and extract links using the BeautifulSoup library. BeautifulSoup tolerates highly flawed HTML and still lets you easily extract the data you need. You can download and install the BeautifulSoup code from:  \n",
    "https://pypi.python.org/pypi/beautifulsoup4\n",
    "\n",
    "Information on installing BeautifulSoup with the Python Package Index tool pip is available at:  \n",
    "https://packaging.python.org/tutorials/installing-packages/\n",
    "\n",
    "We will use urllib to read the page and then use BeautifulSoup to extract the href attributes from the anchor (a) tags."
   ]
  },
  {
   "cell_type": "code",
   "execution_count": null,
   "id": "19cf93f1",
   "metadata": {},
   "outputs": [],
   "source": [
    "# To run this, download the BeautifulSoup zip file\n",
    "# http://www.py4e.com/code3/bs4.zip\n",
    "# and unzip it in the same directory as this file\n",
    "\n",
    "import urllib.request, urllib.parse, urllib.error\n",
    "from bs4 import BeautifulSoup\n",
    "import ssl\n",
    "\n",
    "# Ignore SSL certificate errors\n",
    "ctx = ssl.create_default_context()\n",
    "ctx.check_hostname = False\n",
    "ctx.verify_mode = ssl.CERT_NONE\n",
    "\n",
    "url = input('Enter - ')\n",
    "html = urllib.request.urlopen(url, context=ctx).read()\n",
    "soup = BeautifulSoup(html, 'html.parser')\n",
    "\n",
    "# Retrieve all of the anchor tags\n",
    "tags = soup('a')\n",
    "for tag in tags:\n",
    "    print(tag.get('href', None))"
   ]
  },
  {
   "cell_type": "markdown",
   "id": "1855903b",
   "metadata": {},
   "source": [
    "The program prompts for a web address, then opens the web page, reads the data and passes the data to the BeautifulSoup parser, and then retrieves all of the anchor tags and prints out the href attribute for each tag.\n",
    "\n",
    "When the program runs, it produces the output as above.\n",
    "\n",
    "This list is much longer because some HTML anchor tags are relative paths (e.g., tutorial/index.html) or in-page references (e.g., ‘#’) that do not include “http://” or “https://”, which was a requirement in our regular expression.\n",
    "\n",
    "You can use also BeautifulSoup to pull out various parts of each tag:"
   ]
  },
  {
   "cell_type": "code",
   "execution_count": null,
   "id": "31e4e2af",
   "metadata": {},
   "outputs": [],
   "source": [
    "# To run this, download the BeautifulSoup zip file\n",
    "# http://www.py4e.com/code3/bs4.zip\n",
    "# and unzip it in the same directory as this file\n",
    "\n",
    "from urllib.request import urlopen\n",
    "from bs4 import BeautifulSoup\n",
    "import ssl\n",
    "\n",
    "# Ignore SSL certificate errors\n",
    "ctx = ssl.create_default_context()\n",
    "ctx.check_hostname = False\n",
    "ctx.verify_mode = ssl.CERT_NONE\n",
    "\n",
    "url = input('Enter - ')\n",
    "html = urlopen(url, context = ctx).read()\n",
    "soup = BeautifulSoup(html, \"html.parser\")\n",
    "\n",
    "# retrieve all of the anchor tags\n",
    "tags = soup('a')\n",
    "for tag in tags:\n",
    "#     look at the parts of a tag\n",
    "    print('TAG:', tag)\n",
    "    print('URL:', tag.get('href', None))\n",
    "    print('Contents:', tag.contents[0])\n",
    "    print('Attrs:', tag.attrs)"
   ]
  },
  {
   "cell_type": "markdown",
   "id": "3bad558f",
   "metadata": {},
   "source": [
    "html.parser is the HTML parser included in the standard Python 3 library. Information on other HTML parsers is available at:\n",
    "\n",
    "http://www.crummy.com/software/BeautifulSoup/bs4/doc/#installing-a-parser\n",
    "\n",
    "These examples only begin to show the power of BeautifulSoup when it comes to parsing HTML."
   ]
  },
  {
   "cell_type": "markdown",
   "id": "f2dfb642",
   "metadata": {},
   "source": [
    "#### 12.9 Bonus section for Unix/Linux Users"
   ]
  },
  {
   "cell_type": "markdown",
   "id": "42309743",
   "metadata": {},
   "source": [
    "If you have a Linux, Unix, or Macintosh computer, you probably have commands built in to your operating system that retrieves both plain text and binary files using the HTTP or File Transfer (FTP) protocols. One of these commands is curl:\n",
    "\n",
    "$ curl -O http://www.py4e.com/cover.jpg\n",
    "\n",
    "The command curl is short for “copy URL” and so the two examples listed earlier to retrieve binary files with urllib are cleverly named curl1.py and curl2.py on www.py4e.com/code3 as they implement similar functionality to the curl command. There is also a curl3.py sample program that does this task a little more effectively, in case you actually want to use this pattern in a program you are\n",
    "writing.\n",
    "\n",
    "A second command that functions very similarly is wget:\n",
    "\n",
    "$ wget http://www.py4e.com/cover.jpg\n",
    "\n",
    "Both of these commands make retrieving webpages and remote files a simple task."
   ]
  },
  {
   "cell_type": "markdown",
   "id": "570c9636",
   "metadata": {},
   "source": [
    "#### 12.10 Excercises"
   ]
  },
  {
   "cell_type": "markdown",
   "id": "d1cba557",
   "metadata": {},
   "source": [
    "Exercise 1: \n",
    "\n",
    "Change the socket program socket1.py to prompt the user for the\n",
    "URL so it can read any web page. \n",
    "\n",
    "You can use split('/') to break the URL into its component parts so you can extract the host name for the socket connect call. Add error checking using try and except to handle the condition where the user enters an improperly formatted or non-existent URL."
   ]
  },
  {
   "cell_type": "code",
   "execution_count": null,
   "id": "5dbab0ef",
   "metadata": {},
   "outputs": [],
   "source": [
    "import socket\n",
    "\n",
    "while True:\n",
    "    try:\n",
    "#       prompt the user for the URL\n",
    "        url = input('Enter - ').strip()\n",
    "    \n",
    "#       check if the url is properly formatted\n",
    "        if not url.startswith(\"http://\") and not url.startswith(\"https://\"):\n",
    "            raise ValueError(\"URL must start with 'http://' or 'https://'\")\n",
    "\n",
    "#       split the url to extract the hostname    \n",
    "        parts = url.split('/')\n",
    "        host = parts[2]     # the hostname is the third part (after \"http://\")\n",
    "        \n",
    "#       create a socket connection\n",
    "        mysock = socket.socket(socket.AF_INET, socket.SOCK_STREAM)\n",
    "        mysock.connect((host, 80))\n",
    "        \n",
    "#       from the GET request command\n",
    "        cmd = f'GET {url} HTTP/1.0\\r\\n\\r\\n'.encode()\n",
    "        mysock.send(cmd)\n",
    "        \n",
    "#       recieve and print data from server\n",
    "        while True:\n",
    "            data = mysock.recv(512)\n",
    "            if len(data) < 1:\n",
    "                break\n",
    "            print(data.decode(), end='')\n",
    "        \n",
    "#       close the socket.\n",
    "        mysock.close()\n",
    "        break   # Exit the loop after successful execution \n",
    "        \n",
    "    except IndexErrror:\n",
    "        print('Error: The URL seems improperly formatted. Please try again.')\n",
    "    except socket.gaierror:\n",
    "        print('Error: Unable to resolve host. Please check the URL and try again.')\n",
    "    except Exception as e:\n",
    "        print(f\"An unexpected error occured: {e}\")"
   ]
  },
  {
   "cell_type": "markdown",
   "id": "02d64700",
   "metadata": {},
   "source": [
    "Exercise 2: \n",
    "\n",
    "Change your socket program so that it counts the number of characters it has received and stops displaying any text after it has shown 3000 characters. The program should retrieve the entire document and count the total number of characters and display the count of the number of characters at the end of the\n",
    "document."
   ]
  },
  {
   "cell_type": "code",
   "execution_count": null,
   "id": "1ed19191",
   "metadata": {},
   "outputs": [],
   "source": [
    "import socket\n",
    "\n",
    "while True:\n",
    "    try:\n",
    "#       prompt the user for the URL\n",
    "        url = input('Enter - ').strip()\n",
    "    \n",
    "#       check if the url is properly formatted\n",
    "        if not url.startswith(\"http://\") and not url.startswith(\"https://\"):\n",
    "            raise ValueError(\"URL must start with 'http://' or 'https://'\")\n",
    "\n",
    "#       split the url to extract the hostname    \n",
    "        parts = url.split('/')\n",
    "        host = parts[2]     # the hostname is the third part (after \"http://\")\n",
    "        \n",
    "#       create a socket connection\n",
    "        mysock = socket.socket(socket.AF_INET, socket.SOCK_STREAM)\n",
    "        mysock.connect((host, 80))\n",
    "        \n",
    "#       from the GET request command\n",
    "        cmd = f'GET {url} HTTP/1.0\\r\\n\\r\\n'.encode()\n",
    "        mysock.send(cmd)\n",
    "        \n",
    "#       initialize the counters and variables\n",
    "        total_chars = 0\n",
    "        displayed_chars = 0\n",
    "        max_display = 3000\n",
    "        \n",
    "#       recieve and print data from server\n",
    "        while True:\n",
    "            data = mysock.recv(512)\n",
    "            if len(data) < 1:\n",
    "                break\n",
    "            \n",
    "#           count total characters recieved\n",
    "            total_chars += len(data)\n",
    "            \n",
    "#           Display up to 3000\n",
    "            if displayed_chars < max_display:\n",
    "                to_show = min(len(data), max_display - displayed_chars)\n",
    "                print(data[:to_show].decode(), end='')\n",
    "                displayed_chars += to_show\n",
    "        \n",
    "#       close the socket.\n",
    "        mysock.close()\n",
    "    \n",
    "        print(\"\\n\\nTotal Characters received:\", total_chars)\n",
    "        break   # Exit the loop after successful execution \n",
    "        \n",
    "    except IndexErrror:\n",
    "        print('Error: The URL seems improperly formatted. Please try again.')\n",
    "    except socket.gaierror:\n",
    "        print('Error: Unable to resolve host. Please check the URL and try again.')\n",
    "    except Exception as e:\n",
    "        print(f\"An unexpected error occured: {e}\")"
   ]
  },
  {
   "cell_type": "markdown",
   "id": "f49a1f4d",
   "metadata": {},
   "source": [
    "Exercise 3: \n",
    "\n",
    "Use urllib to replicate the previous exercise of (1) retrieving the\n",
    "document from a URL, (2) displaying up to 3000 characters, and (3) counting the overall number of characters in the document. Don’t worry about the headers for this exercise, simply show the first 3000 characters of the document contents."
   ]
  },
  {
   "cell_type": "code",
   "execution_count": null,
   "id": "5ae6f280",
   "metadata": {},
   "outputs": [],
   "source": [
    "import urllib.request\n",
    "\n",
    "url = input('Enter a URL: ')\n",
    "\n",
    "try:\n",
    "    response = urllib.request.urlopen(url)\n",
    "    total_char = 0\n",
    "    displayed_chars = 0\n",
    "    max_display = 3000\n",
    "    \n",
    "    while True:\n",
    "        data = response.read(512)\n",
    "        if len(data) < 1:\n",
    "            break\n",
    "        \n",
    "        total_chars += len(data)\n",
    "        \n",
    "        if displayed_chars < max_display:\n",
    "            to_show = min(len(data), max_display - displayed_chars)\n",
    "            print(data[:to_show].decode(), end=\"\")\n",
    "            displayed_chars += to_show\n",
    "            \n",
    "    print((\"\\nTotal characters in the document:\", total_chars))\n",
    "        \n",
    "except Exception as e:\n",
    "    print(\"Error:\", e)"
   ]
  },
  {
   "cell_type": "markdown",
   "id": "4a3e9c02",
   "metadata": {},
   "source": [
    "Exercise 4: \n",
    "\n",
    "Change the urllinks.py program to extract and count paragraph (p)\n",
    "tags from the retrieved HTML document and display the count of the paragraphs as the output of your program. Do not display the paragraph text, only count them. Test your program on several small web pages as well as some larger web pages."
   ]
  },
  {
   "cell_type": "code",
   "execution_count": null,
   "id": "314312c2",
   "metadata": {},
   "outputs": [],
   "source": [
    "import urllib.request\n",
    "from bs4 import BeautifulSoup\n",
    "import ssl\n",
    "\n",
    "# Ignore SSL certificate errors\n",
    "ctx = ssl.create_default_context()\n",
    "ctx.check_hostname = False\n",
    "ctx.verify_mode = ssl.CERT_NONE\n",
    "\n",
    "url = input('Enter - ')\n",
    "\n",
    "try:\n",
    "#     retrieve the html docuemnt\n",
    "    html = urllib.request.urlopen(url, context=ctx).read()\n",
    "    soup = BeautifulSoup(html, 'html.parser')\n",
    "    \n",
    "#     find all the paragraph tags\n",
    "    tags = soup('p')\n",
    "    print('Number of paragraph tags:', len(tags))\n",
    "    \n",
    "except Exception as e:\n",
    "    print('Error:', e)"
   ]
  },
  {
   "cell_type": "markdown",
   "id": "fb6b3f91",
   "metadata": {},
   "source": [
    "Exercise 5: \n",
    "\n",
    "(Advanced) Change the socket program so that it only shows data\n",
    "after the headers and a blank line have been received. Remember that recv receives characters (newlines and all), not lines."
   ]
  },
  {
   "cell_type": "code",
   "execution_count": null,
   "id": "4f65c593",
   "metadata": {},
   "outputs": [],
   "source": [
    "import socket\n",
    "\n",
    "url = input('Enter URL: ')\n",
    "\n",
    "try:\n",
    "    parts = url.split('/')\n",
    "    host = parts[2]\n",
    "    path = '/' + '/'.join(parts[3:])\n",
    "    \n",
    "    mysock = socket.socket(socket.AF_INET, socket.SOCK_STREAM)\n",
    "    mysock.connect((host, 80))\n",
    "    \n",
    "    cmd = f'GET {path} HTTP/1.0\\r\\nHOST: {host}\\r\\n\\r\\n'.encode()\n",
    "    mysock.send(cmd)\n",
    "    \n",
    "    response = b\"\"\n",
    "    while True:\n",
    "        data = mysock.recv(512)\n",
    "        if len(data) < 1:\n",
    "            break\n",
    "        response += data\n",
    "        \n",
    "    mysock.close()\n",
    "    \n",
    "    response = response.decode()\n",
    "    header_end = response.find(\"\\r\\n\\r\\n\")\n",
    "    \n",
    "    if header_end != -1:\n",
    "        body = response[header_end + 4:]\n",
    "        print(body)\n",
    "    else:\n",
    "        print('No headers found.')\n",
    "except Exception as e:\n",
    "    print('Error:', e)"
   ]
  },
  {
   "cell_type": "markdown",
   "id": "38f2880f",
   "metadata": {},
   "source": [
    "## Chapter 13"
   ]
  },
  {
   "cell_type": "markdown",
   "id": "af207153",
   "metadata": {},
   "source": [
    "### Using Web Services"
   ]
  },
  {
   "cell_type": "markdown",
   "id": "850a8417",
   "metadata": {},
   "source": [
    "Once it became easy to retrieve documents and parse documents over HTTP using programs, it did not take long to develop an approach where we started producing documents that were specifically designed to be consumed by other programs (i.e., not HTML to be displayed in a browser).\n",
    "\n",
    "There are two common formats that we use when exchanging data across the web. eXtensible Markup Language (XML) has been in use for a very long time and is best suited for exchanging document-style data. When programs just want to exchange dictionaries, lists, or other internal information with each other, they use JavaScript Object Notation (JSON) (see www.json.org). We will look at both formats."
   ]
  },
  {
   "cell_type": "markdown",
   "id": "331471b3",
   "metadata": {},
   "source": [
    "#### 13.1 eXtensible Markup Language - XML"
   ]
  },
  {
   "cell_type": "markdown",
   "id": "df9d4144",
   "metadata": {},
   "source": [
    "XML looks very similar to HTML, but XML is more structured than HTML. Here is a sample of an XML document:\n",
    "\n",
    "Each pair of opening (e.g., <person>) and closing tags (e.g., </person>) represents a element or node with the same name as the tag (e.g., person). Each element can have some text, some attributes (e.g., hide), and other nested elements. If an XML element is empty (i.e., has no content), then it may be depicted by a self-closing tag (e.g., <email />).\n",
    "\n",
    "Often it is helpful to think of an XML document as a tree structure where there is a top element (here: person), and other tags (e.g., phone) are drawn as children of their parent elements."
   ]
  },
  {
   "cell_type": "code",
   "execution_count": null,
   "id": "74738f71",
   "metadata": {},
   "outputs": [],
   "source": [
    "''' \n",
    "    <person>  \n",
    "        <name>Chuck</name>   \n",
    "        <phone type=\"intl\">  \n",
    "            +1 734 303 4456  \n",
    "        </phone>  \n",
    "        <email hide=\"yes\" />  \n",
    "    </person>\n",
    "'''"
   ]
  },
  {
   "cell_type": "markdown",
   "id": "0f4e7cbf",
   "metadata": {},
   "source": [
    "#### 13.2 Parsing the XML"
   ]
  },
  {
   "cell_type": "markdown",
   "id": "97f4510b",
   "metadata": {},
   "source": [
    "Here is a simple application that parses some XML and extracts some data elements from the XML:"
   ]
  },
  {
   "cell_type": "code",
   "execution_count": null,
   "id": "682d6762",
   "metadata": {},
   "outputs": [],
   "source": [
    "import xml.etree.ElementTree as ET\n",
    "\n",
    "data = '''\n",
    "<person>\n",
    "    <name>Chuck</name>\n",
    "    <phone type=\"intl\">\n",
    "        +1 734 303 4456\n",
    "    </phone>\n",
    "    <email hide=\"yes\" />\n",
    "</person>'''\n",
    "\n",
    "tree = ET.fromstring(data)\n",
    "print('Name:', tree.find('name').text)\n",
    "print('Attr:', tree.find('email').get('hide'))"
   ]
  },
  {
   "cell_type": "markdown",
   "id": "556fdd61",
   "metadata": {},
   "source": [
    "The triple single quote ('''), as well as the triple double quote (\"\"\"), allow for the creation of strings that span multiple lines.\n",
    "\n",
    "Calling fromstring converts the string representation of the XML into a “tree” of XML elements. When the XML is in a tree, we have a series of methods we can call to extract portions of data from the XML string. The find function searches through the XML tree and retrieves the element that matches the specified tag.\n",
    "\n",
    "Name: Chuck  \n",
    "Attr: yes  \n",
    "\n",
    "Using an XML parser such as ElementTree has the advantage that while the XML in this example is quite simple, it turns out there are many rules regarding valid XML, and using ElementTree allows us to extract data from XML without worrying about the rules of XML syntax."
   ]
  },
  {
   "cell_type": "markdown",
   "id": "9d629072",
   "metadata": {},
   "source": [
    "#### 13.3 Looping through nodes"
   ]
  },
  {
   "cell_type": "markdown",
   "id": "d7ef8722",
   "metadata": {},
   "source": [
    "Often the XML has multiple nodes and we need to write a loop to process all of the nodes. In the following program, we loop through all of the user nodes:"
   ]
  },
  {
   "cell_type": "code",
   "execution_count": null,
   "id": "890a1094",
   "metadata": {},
   "outputs": [],
   "source": [
    "import xml.etree.ElementTree as ET\n",
    "\n",
    "input = '''\n",
    "<stuff>\n",
    "    <users>\n",
    "        <user x=\"2\">\n",
    "            <id>001</id>\n",
    "            <name>Chuck</name>\n",
    "        </user>\n",
    "        <user x=\"7\">\n",
    "            <id>009</id>\n",
    "            <name>Brent</name>\n",
    "        </user>\n",
    "    </users>\n",
    "</stuff>'''\n",
    "\n",
    "stuff = ET.fromstring(input)\n",
    "lst = stuff.findall('users/user')\n",
    "print('User count:', len(lst))\n",
    "\n",
    "for item in lst:\n",
    "    print('Name:', item.find('name').text)\n",
    "    print('Id:', item.find('id').text)\n",
    "    print('Attribute', item.get('x'))"
   ]
  },
  {
   "cell_type": "markdown",
   "id": "aa585ebf",
   "metadata": {},
   "source": [
    "The findall method retrieves a Python list of subtrees that represent the user structures in the XML tree. Then we can write a for loop that looks at each of the user nodes, and prints the name and id text elements as well as the x attribute from the user node.\n",
    "\n",
    "It is important to include all parent level elements in the findall statement except for the top level element (e.g., users/user). Otherwise, Python will not find any desired nodes."
   ]
  },
  {
   "cell_type": "code",
   "execution_count": null,
   "id": "b0032926",
   "metadata": {},
   "outputs": [],
   "source": [
    "import xml.etree.ElementTree as ET\n",
    "\n",
    "input = '''\n",
    "<stuff>\n",
    "    <users>\n",
    "        <user x=\"2\">\n",
    "            <id>001</id>\n",
    "            <name>Chuck</name>\n",
    "        </user>\n",
    "        <user x=\"7\">\n",
    "            <id>009</id>\n",
    "            <name>Brent</name>\n",
    "        </user>\n",
    "    </users>\n",
    "</stuff>'''\n",
    "\n",
    "stuff = ET.fromstring(input)\n",
    "\n",
    "lst = stuff.findall('users/user')\n",
    "print('User count:', len(lst))\n",
    "\n",
    "lst2 = stuff.findall('user')\n",
    "print('User count:', len(lst2))"
   ]
  },
  {
   "cell_type": "markdown",
   "id": "cde9f6bd",
   "metadata": {},
   "source": [
    "lst stores all user elements that are nested within their users parent. lst2 looks for user elements that are not nested within the top level stuff element where there are none.\n",
    "\n",
    "User count: 2  \n",
    "User count: 0"
   ]
  },
  {
   "cell_type": "markdown",
   "id": "03d993fc",
   "metadata": {},
   "source": [
    "#### 13.4 JavaScript Object Notation - JSON"
   ]
  },
  {
   "cell_type": "markdown",
   "id": "aa087123",
   "metadata": {},
   "source": [
    "The JSON format was inspired by the object and array format used in the JavaScript language. But since Python was invented before JavaScript, Python’s syntax for dictionaries and lists influenced the syntax of JSON. So the format of JSON is nearly identical to a combination of Python lists and dictionaries.\n",
    "\n",
    "Here is a JSON encoding that is roughly equivalent to the simple XML from above:"
   ]
  },
  {
   "cell_type": "code",
   "execution_count": null,
   "id": "b202902b",
   "metadata": {},
   "outputs": [],
   "source": [
    "{\n",
    "    \"name\" : \"Chuck\",\n",
    "    \"phone\" : {\n",
    "        \"type\" : \"intl\",\n",
    "        \"number\" : \"+1 734 303 4456\"\n",
    "                },\n",
    "            \"email\" : {\n",
    "            \"hide\" : \"yes\"\n",
    "    }\n",
    "}"
   ]
  },
  {
   "cell_type": "markdown",
   "id": "bac6af7c",
   "metadata": {},
   "source": [
    "You will notice some differences. First, in XML, we can add attributes like “intl” to the “phone” tag. In JSON, we simply have key-value pairs. Also the XML “person” tag is gone, replaced by a set of outer curly braces.\n",
    "\n",
    "In general, JSON structures are simpler than XML because JSON has fewer capabilities than XML. But JSON has the advantage that it maps directly to some combination of dictionaries and lists. And since nearly all programming languages have something equivalent to Python’s dictionaries and lists, JSON is a very natural format to have two cooperating programs exchange data.\n",
    "\n",
    "JSON is quickly becoming the format of choice for nearly all data exchange between applications because of its relative simplicity compared to XML."
   ]
  },
  {
   "cell_type": "markdown",
   "id": "0411c5ba",
   "metadata": {},
   "source": [
    "#### 13.5 Parsing JSON"
   ]
  },
  {
   "cell_type": "markdown",
   "id": "3456a539",
   "metadata": {},
   "source": [
    "We construct our JSON by nesting dictionaries and lists as needed. In this example, we represent a list of users where each user is a set of key-value pairs (i.e., a dictionary). So we have a list of dictionaries.\n",
    "\n",
    "In the following program, we use the built-in json library to parse the JSON and read through the data. Compare this closely to the equivalent XML data and code above. The JSON has less detail, so we must know in advance that we are getting a list and that the list is of users and each user is a set of key-value pairs. The JSON\n",
    "is more succinct (an advantage) but also is less self-describing (a disadvantage)."
   ]
  },
  {
   "cell_type": "code",
   "execution_count": null,
   "id": "2f4f7065",
   "metadata": {},
   "outputs": [],
   "source": [
    "import json\n",
    "\n",
    "data = '''\n",
    "[\n",
    "{ \"id\" : \"001\",\n",
    "    \"x\" : \"2\",\n",
    "    \"name\" : \"Chuck\"\n",
    "} ,\n",
    "{ \"id\" : \"009\",\n",
    "    \"x\" : \"7\",\n",
    "    \"name\" : \"Brent\"\n",
    "}\n",
    "]'''\n",
    "\n",
    "info = json.loads(data)\n",
    "print('User count:', len(info))\n",
    "\n",
    "for item in info:\n",
    "    print('Name', item['name'])\n",
    "    print('Id', item['id'])\n",
    "    print('Attribute', item['x'])"
   ]
  },
  {
   "cell_type": "markdown",
   "id": "ade23169",
   "metadata": {},
   "source": [
    "If you compare the code to extract data from the parsed JSON and XML you will see that what we get from json.loads() is a Python list which we traverse with a for loop, and each item within that list is a Python dictionary. Once the JSON has been parsed, we can use the Python index operator to extract the various bits of data for each user. We don’t have to use the JSON library to dig through the parsed JSON, since the returned data is simply native Python structures.\n",
    "\n",
    "The output of this program is exactly the same as the XML version above.\n",
    "\n",
    "User count: 2  \n",
    "Name Chuck  \n",
    "Id 001  \n",
    "Attribute 2  \n",
    "Name Brent  \n",
    "Id 009  \n",
    "Attribute 7  \n",
    "\n",
    "In general, there is an industry trend away from XML and towards JSON for web services. Because the JSON is simpler and more directly maps to native data structures we already have in programming languages, the parsing and data extraction code is usually simpler and more direct when using JSON. But XML is more selfdescriptive than JSON and so there are some applications where XML retains an advantage. For example, most word processors store documents internally using XML rather than JSON."
   ]
  },
  {
   "cell_type": "markdown",
   "id": "6fee042b",
   "metadata": {},
   "source": [
    "#### 13.6 Application Programming Interfaces"
   ]
  },
  {
   "cell_type": "markdown",
   "id": "020ae21c",
   "metadata": {},
   "source": [
    "We now have the ability to exchange data between applications using Hypertext Transport Protocol (HTTP) and a way to represent complex data that we are sending back and forth between these applications using eXtensible Markup Language (XML) or JavaScript Object Notation (JSON).\n",
    "\n",
    "The next step is to begin to define and document “contracts” between applications using these techniques. The general name for these application-to-application contracts is Application Program Interfaces (APIs). When we use an API, generally one program makes a set of services available for use by other applications and publishes the APIs (i.e., the “rules”) that must be followed to access the services provided by the program.\n",
    "\n",
    "When we begin to build our programs where the functionality of our program includes access to services provided by other programs, we call the approach a Service-oriented architecture (SOA). An SOA approach is one where our overall application makes use of the services of other applications. A non-SOA approach is where the application is a single standalone application which contains all of the code necessary to implement the application."
   ]
  },
  {
   "cell_type": "markdown",
   "id": "b8af825c",
   "metadata": {},
   "source": [
    "#### 13.7 Security and API usage"
   ]
  },
  {
   "cell_type": "markdown",
   "id": "0064c286",
   "metadata": {},
   "source": [
    "It is quite common that you need an API key to make use of a vendor’s API. The general idea is that they want to know who is using their services and how much each user is using. Perhaps they have free and pay tiers of their services or have a policy that limits the number of requests that a single individual can make during a particular time period.\n",
    "\n",
    "Sometimes once you get your API key, you simply include the key as part of POST data or perhaps as a parameter on the URL when calling the API.\n",
    "\n",
    "Other times, the vendor wants increased assurance of the source of the requests and so they expect you to send cryptographically signed messages using shared keys and secrets. A very common technology that is used to sign requests over the Internet is called OAuth. You can read more about the OAuth protocol at\n",
    "www.oauth.net.\n",
    "\n",
    "Thankfully there are a number of convenient and free OAuth libraries so you can avoid writing an OAuth implementation from scratch by reading the specification. These libraries are of varying complexity and have varying degrees of richness. The OAuth web site has information about various OAuth libraries."
   ]
  },
  {
   "cell_type": "markdown",
   "id": "4096a3bf",
   "metadata": {},
   "source": [
    "#### Google geocoding web service"
   ]
  },
  {
   "cell_type": "markdown",
   "id": "fda2ea7e",
   "metadata": {},
   "source": [
    "Google has an excellent web service that allows us to make use of their large database of geographic information. We can submit a geographical search string like “Ann Arbor, MI” to their geocoding API and have Google return its best guess as to where on a map we might find our search string and tell us about the landmarks nearby.\n",
    "\n",
    "The geocoding service is free but rate limited so you cannot make unlimited use of the API in a commercial application. But if you have some survey data where an end user has entered a location in a free-format input box, you can use this API to clean up your data quite nicely.\n",
    "\n",
    "*When you are using a free API, you need to be respectful in your use of these resources. If too many people abuse the service, Google might drop or significantly curtail its free service.*\n",
    "\n",
    "The following is a simple application to prompt the user for a search string, call the Google geocoding API, and extract information from the returned JSON."
   ]
  },
  {
   "cell_type": "code",
   "execution_count": null,
   "id": "9a39cb5a",
   "metadata": {},
   "outputs": [],
   "source": [
    "import urllib.request, urllib.parse, urllib.error\n",
    "import json\n",
    "import ssl\n",
    "\n",
    "servicecurl = 'https://py4e-data.dr-chuck.net/opengeo?'\n",
    "\n",
    "ctx = ssl.create_default_context()\n",
    "ctx.check_hostname = False\n",
    "ctx.verify_mode = ssl.CERT_NONE\n",
    "\n",
    "while True:\n",
    "    address = input('Enter location: ')\n",
    "    if len(address) < 1:\n",
    "        break\n",
    "    \n",
    "    address = address.strip()\n",
    "    parms = dict()\n",
    "    parms['q'] = address\n",
    "    \n",
    "    url = servicecurl + urllib.parse.urlencode(parms)\n",
    "    \n",
    "    print('retrieveing', url)\n",
    "    uh = urllib.request.urlopen(url, context=ctx)\n",
    "    data = uh.read().decode()\n",
    "    print('Retrieved', len(data), 'characters', data[:20].replace('\\n', ' '))\n",
    "    \n",
    "    try:\n",
    "        js = json.loads(data)\n",
    "    except:\n",
    "        js = None\n",
    "        \n",
    "    if not js or 'features' not in js:\n",
    "        print('=== Download Error ===')\n",
    "        print(data)\n",
    "        break\n",
    "        \n",
    "    if len(js['features']) == 0:\n",
    "        print('=== Object not found ===')\n",
    "        print(data)\n",
    "        break\n",
    "        \n",
    "    print(json.dumps(js, indent=4))\n",
    "    \n",
    "    lat = js['features'][0]['properties']['lat']\n",
    "    lon = js['features'][0]['properties']['lon']\n",
    "    print('lat', lat, 'lon', lon)\n",
    "    location = js['features'][0]['properties']['formatted']\n",
    "    print(location)"
   ]
  },
  {
   "cell_type": "markdown",
   "id": "e544c52a",
   "metadata": {},
   "source": [
    "## Chapter 14"
   ]
  },
  {
   "cell_type": "markdown",
   "id": "6c4a01aa",
   "metadata": {},
   "source": [
    "### Object-oriented programming"
   ]
  },
  {
   "cell_type": "markdown",
   "id": "290d68a7",
   "metadata": {},
   "source": [
    "#### 14.1 Managing larger programs"
   ]
  },
  {
   "cell_type": "markdown",
   "id": "7763775b",
   "metadata": {},
   "source": [
    "At the beginning of this book, we came up with four basic programming patterns which we use to construct programs:\n",
    "\n",
    "• Sequential code  \n",
    "• Conditional code (if statements)  \n",
    "• Repetitive code (loops)  \n",
    "• Store and reuse (functions)  \n",
    "\n",
    "In later chapters, we explored simple variables as well as collection data structures like lists, tuples, and dictionaries.\n",
    "\n",
    "As we build programs, we design data structures and write code to manipulate those data structures. There are many ways to write programs and by now, you probably have written some programs that are “not so elegant” and other programs that are “more elegant”. Even though your programs may be small, you are starting to see how there is a bit of art and aesthetic to writing code.\n",
    "\n",
    "As programs get to be millions of lines long, it becomes increasingly important to write code that is easy to understand. If you are working on a million-line program, you can never keep the entire program in your mind at the same time. We need ways to break large programs into multiple smaller pieces so that we have less to\n",
    "look at when solving a problem, fix a bug, or add a new feature.\n",
    "\n",
    "In a way, object oriented programming is a way to arrange your code so that you can zoom into 50 lines of the code and understand it while ignoring the other 999,950 lines of code for the moment."
   ]
  },
  {
   "cell_type": "markdown",
   "id": "db84d094",
   "metadata": {},
   "source": [
    "#### 14.2 Getting started"
   ]
  },
  {
   "cell_type": "markdown",
   "id": "88b3f63f",
   "metadata": {},
   "source": [
    "Like many aspects of programming, it is necessary to learn the concepts of object oriented programming before you can use them effectively. You should approach this chapter as a way to learn some terms and concepts and work through a few simple examples to lay a foundation for future learning.\n",
    "\n",
    "The key outcome of this chapter is to have a basic understanding of how objects are constructed and how they function and most importantly how we make use of the capabilities of objects that are provided to us by Python and Python libraries."
   ]
  },
  {
   "cell_type": "markdown",
   "id": "c68c1595",
   "metadata": {},
   "source": [
    "#### 14.3 Using Objects"
   ]
  },
  {
   "cell_type": "markdown",
   "id": "6d6224c0",
   "metadata": {},
   "source": [
    "As it turns out, we have been using objects all along in this book. Python provides us with many built-in objects. Here is some simple code where the first few lines should feel very simple and natural to you.\n",
    "\n",
    "stuff = list()  \n",
    "stuff.append('python')  \n",
    "stuff.append('chuck')  \n",
    "stuff.sort()   \n",
    "print (stuff[0])  \n",
    "print (stuff.__getitem__(0))  \n",
    "print (list.__getitem__(stuff,0))  \n",
    "\n",
    "Instead of focusing on what these lines accomplish, let’s look at what is really happening from the point of view of object-oriented programming. Don’t worry if the following paragraphs don’t make any sense the first time you read them because we have not yet defined all of these terms.\n",
    "\n",
    "The first line constructs an object of type list, the second and third lines call the append() method, the fourth line calls the sort() method, and the fifth line retrieves the item at position 0.\n",
    "\n",
    "The sixth line calls the __getitem__() method in the stuff list with a parameter of zero.\n",
    "\n",
    "print (stuff.__getitem__(0))\n",
    "\n",
    "The seventh line is an even more verbose way of retrieving the 0th item in the list.\n",
    "\n",
    "print (list.__getitem__(stuff,0))\n",
    "\n",
    "In this code, we call the __getitem__ method in the list class and pass the list and the item we want retrieved from the list as parameters. The last three lines of the program are equivalent, but it is more convenient to simply use the square bracket syntax to look up an item at a particular position in a list.\n",
    "\n",
    "We can take a look at the capabilities of an object by looking at the output of the dir() function:\n",
    "\n",
    ">>> stuff = list()  \n",
    ">>> dir(stuff)  \n",
    "['__add__', '__class__', '__contains__', '__delattr__',  \n",
    "'__delitem__', '__dir__', '__doc__', '__eq__',  \n",
    "'__format__', '__ge__', '__getattribute__', '__getitem__',  \n",
    "'__gt__', '__hash__', '__iadd__', '__imul__', '__init__',  \n",
    "'__iter__', '__le__', '__len__', '__lt__', '__mul__',  \n",
    "'__ne__', '__new__', '__reduce__', '__reduce_ex__',  \n",
    "'__repr__', '__reversed__', '__rmul__', '__setattr__',  \n",
    "'__setitem__', '__sizeof__', '__str__', '__subclasshook__',  \n",
    "'append', 'clear', 'copy', 'count', 'extend', 'index',  \n",
    "'insert', 'pop', 'remove', 'reverse', 'sort']  \n",
    ">>> \n",
    "\n",
    "The rest of this chapter will define all of the above terms so make sure to come back after you finish the chapter and re-read the above paragraphs to check your understanding."
   ]
  },
  {
   "cell_type": "markdown",
   "id": "98021674",
   "metadata": {},
   "source": [
    "#### 14.4 Starting with programs"
   ]
  },
  {
   "cell_type": "markdown",
   "id": "a1435ccd",
   "metadata": {},
   "source": [
    "A program in its most basic form takes some input, does some processing, and produces some output. Our elevator conversion program demonstrates a very short but complete program showing all three of these steps."
   ]
  },
  {
   "cell_type": "code",
   "execution_count": null,
   "id": "f613cdb1",
   "metadata": {},
   "outputs": [],
   "source": [
    "usf = input('Enter the US floor Number: ')\n",
    "wf = int(usf) - 1\n",
    "print('Non-US Floor Number is: ', wf)"
   ]
  },
  {
   "cell_type": "markdown",
   "id": "cddce471",
   "metadata": {},
   "source": [
    "If we think a bit more about this program, there is the “outside world” and the program. The input and output aspects are where the program interacts with the outside world. Within the program we have code and data to accomplish the task the program is designed to solve.\n",
    "\n",
    "One way to think about object-oriented programming is that it separates our program into multiple “zones.” Each zone contains some code and data (like a program) and has well defined interactions with the outside world and the other zones within the program.\n",
    "\n",
    "If we look back at the link extraction application where we used the BeautifulSoup library, we can see a program that is constructed by connecting different objects together to accomplish a task:"
   ]
  },
  {
   "cell_type": "code",
   "execution_count": null,
   "id": "b0fe81a1",
   "metadata": {},
   "outputs": [],
   "source": [
    "# To run this, download the BeautifulSoup zip file\n",
    "# http://www.py4e.com/code3/bs4.zip\n",
    "# and unzip it in the same directory as this file\n",
    "\n",
    "import urllib.request, urllib.parse, urllib.error\n",
    "from bs4 import BeautifulSoup\n",
    "import ssl\n",
    "\n",
    "ctx = ssl.create_default_context()\n",
    "ctx.check_hostname = False\n",
    "soup = BeautifulSoup(html, 'html.parser')\n",
    "\n",
    "tags = soup('a')\n",
    "for tag in tags:\n",
    "    print(tag.get('href', None))"
   ]
  },
  {
   "cell_type": "markdown",
   "id": "1c7bf123",
   "metadata": {},
   "source": [
    "We read the URL into a string and then pass that into urllib to retrieve the data from the web. The urllib library uses the socket library to make the actual network connection to retrieve the data. We take the string that urllib returns and hand it to BeautifulSoup for parsing. BeautifulSoup makes use of the object html.parser1 and returns an object. We call the tags() method on the returned object that returns a dictionary of tag objects. We loop through the tags and call the get() method for each tag to print out the href attribute.\n",
    "\n",
    "We can draw a picture of this program and how the objects work together.\n",
    "\n",
    "The key here is not to understand perfectly how this program works but to see how we build a network of interacting objects and orchestrate the movement of information between the objects to create a program. It is also important to note that when you looked at that program several chapters back, you could fully understand what was going on in the program without even realizing that the program was “orchestrating the movement of data between objects.” It was just lines of code that got the job done."
   ]
  },
  {
   "cell_type": "markdown",
   "id": "a32b8a23",
   "metadata": {},
   "source": [
    "#### 14.5 Subdividing a problem"
   ]
  },
  {
   "cell_type": "markdown",
   "id": "eafbfe5e",
   "metadata": {},
   "source": [
    "One of the advantages of the object-oriented approach is that it can hide complexity. For example, while we need to know how to use the urllib and BeautifulSoup code, we do not need to know how those libraries work internally. This allows us to focus on the part of the problem we need to solve and ignore the other parts of the program.\n",
    "\n",
    "This ability to focus exclusively on the part of a program that we care about and ignore the rest is also helpful to the developers of the objects that we use. For example, the programmers developing BeautifulSoup do not need to know or care about how we retrieve our HTML page, what parts we want to read, or what we plan to do with the data we extract from the web page."
   ]
  },
  {
   "cell_type": "markdown",
   "id": "a4f906be",
   "metadata": {},
   "source": [
    "#### 14.6 Our first Python object"
   ]
  },
  {
   "cell_type": "markdown",
   "id": "79fa46cf",
   "metadata": {},
   "source": [
    "At a basic level, an object is simply some code plus data structures that are smaller than a whole program. Defining a function allows us to store a bit of code and give it a name and then later invoke that code using the name of the function.\n",
    "\n",
    "An object can contain a number of functions (which we call methods) as well as data that is used by those functions. We call data items that are part of the object attributes.\n",
    "\n",
    "We use the class keyword to define the data and code that will make up each of the objects. The class keyword includes the name of the class and begins an indented block of code where we include the attributes (data) and methods (code)."
   ]
  },
  {
   "cell_type": "code",
   "execution_count": null,
   "id": "9cb8aa5c",
   "metadata": {},
   "outputs": [],
   "source": [
    "class PartyAnimal:\n",
    "    def __init__(self):\n",
    "        self.x = 0\n",
    "    \n",
    "    def party(self):\n",
    "        self.x = self.x + 1\n",
    "        print('So far', self.x)\n",
    "        \n",
    "an = PartyAnimal()\n",
    "an.party()\n",
    "an.party()\n",
    "an.party()"
   ]
  },
  {
   "cell_type": "markdown",
   "id": "d7ae9cda",
   "metadata": {},
   "source": [
    "Each method looks like a function, starting with the def keyword and consisting of an indented block of code.\n",
    "\n",
    "The first method is a specially-named method called __init()__. This method is called to do any initial setup of the data we want to store in the object. In this class we allocate the x attribute using dot notation and initialize it to zero.\n",
    "\n",
    "self.x = 0\n",
    "\n",
    "The other method named party. The methods all have a special first parameter that we name by convention self. The first parameter gives us access to the object instance so we can set attributes and call methods using dot notation.\n",
    "\n",
    "Just as the def keyword does not cause function code to be executed, the class keyword does not create an object. Instead, the class keyword defines a template indicating what data and code will be contained in each object of type PartyAnimal. The class is like a cookie cutter and the objects created using the class are the\n",
    "cookies2. You don’t put frosting on the cookie cutter; you put frosting on the cookies, and you can put different frosting on each cookie.\n",
    "\n",
    "If we continue through this sample program, we see the first executable line of code:\n",
    "\n",
    "an = PartyAnimal()\n",
    "\n",
    "This is where we instruct Python to construct (i.e., create) an object or instance of the class PartyAnimal. It looks like a function call to the class itself. Python constructs the object with the right data and methods and returns the object which is then assigned to the variable an. In a way this is quite similar to the following line which we have been using all along:\n",
    "\n",
    "counts = dict()\n",
    "\n",
    "Here we instruct Python to construct an object using the dict template (already present in Python), return the instance of dictionary, and assign it to the variable counts.\n",
    "\n",
    "When the PartyAnimal class is used to construct an object, the variable an is used to point to that object. We use an to access the code and data for that particular instance of the PartyAnimal class.\n",
    "\n",
    "Each Partyanimal object/instance contains within it a variable x and a method/function named party. We call the party method in this line:\n",
    "\n",
    "an.party()\n",
    "\n",
    "When the party method is called, the first parameter (which we call by convention self) points to the particular instance of the PartyAnimal object that party is called from. Within the party method, we see the line:\n",
    "\n",
    "self.x = self.x + 1\n",
    "\n",
    "This syntax using the dot operator is saying ‘the x within self.’ Each time party() is called, the internal x value is incremented by 1 and the value is printed out.\n",
    "\n",
    "The following line is another way to call the party method within the an object:\n",
    "\n",
    "PartyAnimal.party(an)\n",
    "\n",
    "In this variation, we access the code from within the class and explicitly pass the object pointer an as the first parameter (i.e., self within the method). You can think of an.party() as shorthand for the above line.\n",
    "\n",
    "When the program executes, it produces the following output:\n",
    "\n",
    "So far 1  \n",
    "So far 2  \n",
    "So far 3  \n",
    "So far 4  \n",
    "\n",
    "The object is constructed, and the party method is called four times, both incrementing and printing the value for x within the an object."
   ]
  },
  {
   "cell_type": "markdown",
   "id": "338359b9",
   "metadata": {},
   "source": [
    "#### 14.7 Classes as types"
   ]
  },
  {
   "cell_type": "markdown",
   "id": "a789cb09",
   "metadata": {},
   "source": [
    "As we have seen, in Python all variables have a type. We can use the built-in dir function to examine the capabilities of a variable. We can also use type and dir with the classes that we create."
   ]
  },
  {
   "cell_type": "code",
   "execution_count": null,
   "id": "7568aeab",
   "metadata": {},
   "outputs": [],
   "source": [
    "class PartyAnimal:\n",
    "    \n",
    "    def __init__(self):\n",
    "        self.x = 0\n",
    "            \n",
    "    def party(self):\n",
    "        self.x = self.x + 1\n",
    "        print(\"So far\", self.x)\n",
    "        \n",
    "an = PartyAnimal()\n",
    "print(\"Type\", type(an))\n",
    "print(\"Dir\", dir(an))\n",
    "print(\"Type\", type(an.x))\n",
    "print(\"Type\", type(an.party))"
   ]
  },
  {
   "cell_type": "markdown",
   "id": "d5fb5d6a",
   "metadata": {},
   "source": [
    "You can see that using the class keyword, we have created a new type. From the dir output, you can see both the x integer attribute and the party method are available in the object."
   ]
  },
  {
   "cell_type": "markdown",
   "id": "111e0c07",
   "metadata": {},
   "source": [
    "#### 14.8 Object lifecycle"
   ]
  },
  {
   "cell_type": "markdown",
   "id": "8cb9fd7a",
   "metadata": {},
   "source": [
    "In the previous examples, we define a class (template), use that class to create an instance of that class (object), and then use the instance. When the program finishes, all of the variables are discarded. Usually, we don’t think much about the creation and destruction of variables, but often as our objects become more\n",
    "complex, we need to take some action within the object to set things up as the object is constructed and possibly clean things up as the object is discarded.\n",
    "\n",
    "If we want our object to be aware of these moments of construction and destruction, we add specially named methods to our object:"
   ]
  },
  {
   "cell_type": "code",
   "execution_count": null,
   "id": "70f3a19b",
   "metadata": {},
   "outputs": [],
   "source": [
    "class PartyAnimal:\n",
    "    \n",
    "    def __init__(self):\n",
    "        self.x = 0\n",
    "        print('I am constructed')\n",
    "        \n",
    "    def party(self):\n",
    "        self.x = self.x + 1\n",
    "        print('So far', self.x)\n",
    "        \n",
    "    def __del__(self):\n",
    "        print('I am destructed', self.x)\n",
    "        \n",
    "an = PartyAnimal()\n",
    "an.party()\n",
    "an.party()\n",
    "an = 42\n",
    "print('an contains', an)"
   ]
  },
  {
   "cell_type": "markdown",
   "id": "748a042b",
   "metadata": {},
   "source": [
    "When this program executes, it produces the above output.\n",
    "\n",
    "As Python constructs our object, it calls our __init__ method to give us a chance to set up some default or initial values for the object. When Python encounters the line:\n",
    "\n",
    "an = 42\n",
    "\n",
    "It actually “throws our object away” so it can reuse the an variable to store the value 42. Just at the moment when our an object is being “destroyed” our destructor code (__del__) is called. We cannot stop our variable from being destroyed, but we can do any necessary cleanup right before our object no longer exists.\n",
    "\n",
    "When developing objects, it is quite common to add a constructor to an object to set up initial values for the object. It is relatively rare to need a destructor for an object."
   ]
  },
  {
   "cell_type": "markdown",
   "id": "42f4cf66",
   "metadata": {},
   "source": [
    "#### 14.9 Multiple instances"
   ]
  },
  {
   "cell_type": "markdown",
   "id": "d09065c3",
   "metadata": {},
   "source": [
    "So far, we have defined a class, constructed a single object, used that object, and then thrown the object away. However, the real power in object-oriented programming happens when we construct multiple instances of our class.\n",
    "\n",
    "When we construct multiple objects from our class, we might want to set up different initial values for each of the objects. We can pass data to the constructors to give each object a different initial value:"
   ]
  },
  {
   "cell_type": "code",
   "execution_count": null,
   "id": "23c887b0",
   "metadata": {},
   "outputs": [],
   "source": [
    "class PartyAnimal():\n",
    "    \n",
    "    def __init__(self, nam):\n",
    "        self.x = 0\n",
    "        self.name = nam\n",
    "        print(self.name, 'constructed')\n",
    "        \n",
    "    def party(self):\n",
    "        self.x = self.x + 1\n",
    "        print(self.name, 'party count', self.x)\n",
    "        \n",
    "s = PartyAnimal('Sally')\n",
    "s.party()\n",
    "j = PartyAnimal('Jim')\n",
    "\n",
    "j.party()\n",
    "s.party()"
   ]
  },
  {
   "cell_type": "markdown",
   "id": "c1e3da56",
   "metadata": {},
   "source": [
    "The constructor has both a self parameter that points to the object instance and additional parameters that are passed into the constructor as the object is constructed:\n",
    "\n",
    "s = PartyAnimal('Sally')\n",
    "\n",
    "Within the constructor, the second line copies the parameter (nam) that is passed into the name attribute within the object instance.\n",
    "\n",
    "self.name = nam\n",
    "\n",
    "The output of the program shows that each of the objects (s and j) contain their own independent copies of x and nam:\n",
    "\n",
    "Sally constructed  \n",
    "Jim constructed  \n",
    "Sally party count 1  \n",
    "Jim party count 1  \n",
    "Sally party count 2  "
   ]
  },
  {
   "cell_type": "markdown",
   "id": "462779a6",
   "metadata": {},
   "source": [
    "#### 14.10 Inheritance"
   ]
  },
  {
   "cell_type": "markdown",
   "id": "679ab026",
   "metadata": {},
   "source": [
    "Another powerful feature of object-oriented programming is the ability to create a new class by extending an existing class. When extending a class, we call the original class the parent class and the new class the child class.\n",
    "\n",
    "For this example, we move our PartyAnimal class into its own file. Then, we can ‘import’ the PartyAnimal class in a new file and extend it, as follows:"
   ]
  },
  {
   "cell_type": "code",
   "execution_count": null,
   "id": "9d9a2cd2",
   "metadata": {},
   "outputs": [],
   "source": [
    "from party import PartyAnimal\n",
    "\n",
    "class CricketFan(PartyAnimal):\n",
    "    \n",
    "    def __init__(self, nam):\n",
    "        super().__init__(nam)\n",
    "        self.points = 0\n",
    "        \n",
    "    def six(self):\n",
    "        self.points = self.points + 6\n",
    "        self.party()\n",
    "        print(self.name, 'points', self.points)\n",
    "        \n",
    "\n",
    "s = PartyAnimal('Sally')\n",
    "s.party()\n",
    "j = CricketFan('Jim')\n",
    "j.party()\n",
    "j.six()\n",
    "print(dir(j))"
   ]
  },
  {
   "cell_type": "markdown",
   "id": "c9d50dcd",
   "metadata": {},
   "source": [
    "When we define the CricketFan class, we indicate that we are extending the PartyAnimal class. This means that all of the variables (x) and methods (party) from the PartyAnimal class are inherited by the CricketFan class. For example, within the six method in the CricketFan class, we call the party method from\n",
    "the PartyAnimal class.\n",
    "\n",
    "We use a special syntax in the __init__() method in the CricketFan class to insure that we call the __init()__ method in the PartyAnimal so that whatever setup that PartyAnimal needs is done in addition to the setup needed for the CriocketFan extensions.\n",
    "\n",
    "def __init__(self, nam) :  \n",
    "    super().__init__(nam)  \n",
    "    self.points = 0  \n",
    "\n",
    "The super() syntax is telling Python to call the __init__ method in the class that we are extending. PartyAnimal is the super (or parent) class and CricketFan is the sub (or child) class.\n",
    "\n",
    "As the program executes, we create s and j as independent instances of PartyAnimal and CricketFan. The j object has additional capabilities beyond the s object.\n",
    "\n",
    "Sally constructed  \n",
    "Sally party count 1  \n",
    "Jim constructed  \n",
    "Jim party count 1  \n",
    "Jim party count 2  \n",
    "Jim points 6  \n",
    "['__class__', '__delattr__', ... '__weakref__',\n",
    "'name', 'party', 'points', 'six', 'x']  \n",
    "\n",
    "In the dir output for the j object (instance of the CricketFan class), we see that it has the attributes and methods of the parent class, as well as the attributes and methods that were added when the class was extended to create the CricketFan class."
   ]
  },
  {
   "cell_type": "markdown",
   "id": "ca683cae",
   "metadata": {},
   "source": [
    "#### 14.11 Summary"
   ]
  },
  {
   "cell_type": "markdown",
   "id": "73966093",
   "metadata": {},
   "source": [
    "This is a very quick introduction to object-oriented programming that focuses mainly on terminology and the syntax of defining and using objects. Let’s quickly review the code that we looked at in the beginning of the chapter. At this point you should fully understand what is going on."
   ]
  },
  {
   "cell_type": "code",
   "execution_count": null,
   "id": "5feddb20",
   "metadata": {},
   "outputs": [],
   "source": [
    "stuff = list()\n",
    "stuff.append('python')\n",
    "stuff.append('chuck')\n",
    "stuff.sort()\n",
    "print(stuff[0])\n",
    "print(stuff.__getitem__(0))\n",
    "print(list.__getitem__(stuff, 0))"
   ]
  },
  {
   "cell_type": "markdown",
   "id": "b3934dd2",
   "metadata": {},
   "source": [
    "The first line constructs a list object. When Python creates the list object, it calls the constructor method (named __init__) to set up the internal data attributes that will be used to store the list data. We have not passed any parameters to the constructor. When the constructor returns, we use the variable stuff to point to the returned instance of the list class.\n",
    "\n",
    "The second and third lines call the append method with one parameter to add a new item at the end of the list by updating the attributes within stuff. Then in the fourth line, we call the sort method with no parameters to sort the data within the stuff object.\n",
    "\n",
    "We then print out the first item in the list using the square brackets which are a shortcut to calling the __getitem__ method within the stuff. This is equivalent to calling the __getitem__ method in the list class and passing the stuff object as the first parameter and the position we are looking for as the second parameter.\n",
    "\n",
    "At the end of the program, the stuff object is discarded but not before calling the destructor (named __del__) so that the object can clean up any loose ends as necessary.\n",
    "\n",
    "Those are the basics of object-oriented programming. There are many additional details as to how to best use object-oriented approaches when developing large applications and libraries that are beyond the scope of this chapter.3"
   ]
  },
  {
   "cell_type": "markdown",
   "id": "e9886a59",
   "metadata": {},
   "source": [
    "## Chapter 15"
   ]
  },
  {
   "cell_type": "markdown",
   "id": "fc1468b8",
   "metadata": {},
   "source": [
    "### Using Databases and SQL"
   ]
  },
  {
   "cell_type": "markdown",
   "id": "59fdfb9b",
   "metadata": {},
   "source": [
    "#### 15.1 What is a database?"
   ]
  },
  {
   "cell_type": "markdown",
   "id": "61528327",
   "metadata": {},
   "source": [
    "A database is a file structured to store and manage data efficiently. Like a dictionary, it maps keys to values, but unlike a dictionary, it is stored on permanent storage, such as a disk, allowing it to persist even after the program ends. This also enables databases to hold much larger volumes of data compared to dictionaries, which are limited by the computer’s memory.\n",
    "\n",
    "Similar to dictionaries, databases are optimized for fast data insertion and retrieval, even with large datasets. They achieve this efficiency by creating indexes as data is added, allowing quick access to specific entries.\n",
    "\n",
    "There are various database systems tailored for different purposes, such as Oracle, MySQL, Microsoft SQL Server, PostgreSQL, and SQLite. This text focuses on SQLite because it is widely used, integrated into Python, and designed to be embedded in applications. For instance, the Firefox browser and many other products use SQLite internally.\n",
    "\n",
    "SQLite is particularly suitable for addressing data manipulation challenges encountered in Informatics. For more details, visit SQLite’s website."
   ]
  },
  {
   "cell_type": "markdown",
   "id": "b186552c",
   "metadata": {},
   "source": [
    "#### 15.2 Database concepts"
   ]
  },
  {
   "cell_type": "markdown",
   "id": "f7372a63",
   "metadata": {},
   "source": [
    "When you first look at a database it looks like a spreadsheet with multiple sheets. The primary data structures in a database are: tables, rows, and columns.\n",
    "\n",
    "In technical descriptions of relational databases the concepts of table, row, and column are more formally referred to as relation, tuple, and attribute, respectively. We will use the less formal terms in this chapter."
   ]
  },
  {
   "cell_type": "markdown",
   "id": "c8dba1ae",
   "metadata": {},
   "source": [
    "#### 15.3 Database Browser for SQLite"
   ]
  },
  {
   "cell_type": "markdown",
   "id": "98bab210",
   "metadata": {},
   "source": [
    "While this chapter will focus on using Python to work with data in SQLite database files, many operations can be done more conveniently using software called the Database Browser for SQLite which is freely available from:\n",
    "\n",
    "http://sqlitebrowser.org/\n",
    "\n",
    "Using the browser you can easily create tables, insert data, edit data, or run simple SQL queries on the data in the database.\n",
    "\n",
    "In a sense, the database browser is similar to a text editor when working with text files. When you want to do one or very few operations on a text file, you can just open it in a text editor and make the changes you want. When you have many changes that you need to do to a text file, often you will write a simple Python\n",
    "program. You will find the same pattern when working with databases. You will do simple operations in the database manager and more complex operations will be most conveniently done in Python."
   ]
  },
  {
   "cell_type": "markdown",
   "id": "310ec466",
   "metadata": {},
   "source": [
    "#### 15.4 Creating a database table"
   ]
  },
  {
   "cell_type": "markdown",
   "id": "589b43be",
   "metadata": {},
   "source": [
    "Databases require more defined structure than Python lists or dictionaries1.\n",
    "\n",
    "When we create a database table we must tell the database in advance the names of each of the columns in the table and the type of data which we are planning to store in each column. When the database software knows the type of data in each column, it can choose the most efficient way to store and look up the data based\n",
    "on the type of data.\n",
    "\n",
    "You can look at the various data types supported by SQLite at the following url:  \n",
    "http://www.sqlite.org/datatypes.html\n",
    "\n",
    "Defining structure for your data up front may seem inconvenient at the beginning, but the payoff is fast access to your data even when the database contains a large amount of data.\n",
    "\n",
    "The code to create a database file and a table named Track with two columns in the database is as follows:"
   ]
  },
  {
   "cell_type": "code",
   "execution_count": null,
   "id": "e151ebdc",
   "metadata": {},
   "outputs": [],
   "source": [
    "import sqlite3\n",
    "\n",
    "conn = sqlite3.connect('music.sqlite')\n",
    "cur = conn.cursor()\n",
    "\n",
    "cur.execute('DROP TABLE IF EXISTS Track')\n",
    "cur.execute('CREATE TABLE Track (title TEXT, plays INTEGER)')\n",
    "\n",
    "conn.close()"
   ]
  },
  {
   "cell_type": "markdown",
   "id": "4be72ed5",
   "metadata": {},
   "source": [
    "The connect operation makes a “connection” to the database stored in the file music.sqlite in the current directory. If the file does not exist, it will be created. The reason this is called a “connection” is that sometimes the database is stored on a separate “database server” from the server on which we are running our\n",
    "application. In our simple examples the database will just be a local file in the same directory as the Python code we are running.\n",
    "\n",
    "A cursor is like a file handle that we can use to perform operations on the data stored in the database. Calling cursor() is very similar conceptually to calling open() when dealing with text files.\n",
    "\n",
    "Once we have the cursor, we can begin to execute commands on the contents of the database using the execute() method.\n",
    "\n",
    "Database commands are expressed in a special language that has been standardized across many different database vendors to allow us to learn a single database language. The database language is called Structured Query Language or SQL for short.\n",
    "\n",
    "http://en.wikipedia.org/wiki/SQL\n",
    "\n",
    "In our example, we are executing two SQL commands in our database. As a convention, we will show the SQL keywords in uppercase and the parts of the command that we are adding (such as the table and column names) will be shown in lowercase.\n",
    "\n",
    "The first SQL command removes the Track table from the database if it exists. This pattern is simply to allow us to run the same program to create the Track table over and over again without causing an error. Note that the DROP TABLE command deletes the table and all of its contents from the database (i.e., there is\n",
    "no “undo”).\n",
    "\n",
    "cur.execute('DROP TABLE IF EXISTS Track ')\n",
    "\n",
    "The second command creates a table named Track with a text column named title and an integer column named plays.\n",
    "\n",
    "cur.execute('CREATE TABLE Track (title TEXT, plays INTEGER)')\n",
    "\n",
    "Now that we have created a table named Track, we can put some data into that table using the SQL INSERT operation. Again, we begin by making a connection to the database and obtaining the cursor. We can then execute SQL commands using the cursor.\n",
    "\n",
    "The SQL INSERT command indicates which table we are using and then defines a new row by listing the fields we want to include (title, plays) followed by the VALUES we want placed in the new row. We specify the values as question marks (?, ?) to indicate that the actual values are passed in as a tuple ( 'My Way', 15 ) as the second parameter to the execute() call."
   ]
  },
  {
   "cell_type": "code",
   "execution_count": null,
   "id": "9abf8166",
   "metadata": {},
   "outputs": [],
   "source": [
    "import sqlite3\n",
    "\n",
    "conn = sqlite3.connect('music.sqlite')\n",
    "cur = conn.cursor()\n",
    "\n",
    "cur.execute('INSERT INTO Track (title, plays) VALUES (?, ?)', \n",
    "            ('Thunderstruck', 20))\n",
    "cur.execute('INSERT INTO Track (title, plays) VALUES (?, ?)',\n",
    "           ('My Way', 15))\n",
    "conn.commit()\n",
    "\n",
    "print('Track:')\n",
    "cur.execute('SELECT title, plays FROM Track')\n",
    "for row in cur:\n",
    "    print(row)\n",
    "    \n",
    "cur.execute('DELETE FROM Track WHERE plays < 100')\n",
    "conn.commit()\n",
    "\n",
    "cur.close()"
   ]
  },
  {
   "cell_type": "markdown",
   "id": "882ec48b",
   "metadata": {},
   "source": [
    "First we INSERT two rows into our table and use commit() to force the data to be written to the database file.\n",
    "\n",
    "Then we use the SELECT command to retrieve the rows we just inserted from the table. On the SELECT command, we indicate which columns we would like (title, plays) and indicate which table we want to retrieve the data from. After we execute the SELECT statement, the cursor is something we can loop through in a for statement. For efficiency, the cursor does not read all of the data from the database when we execute the SELECT statement. Instead, the data is read on demand as we loop through the rows in the for statement.\n",
    "\n",
    "The output of the program is as follows:  \n",
    "Track:   \n",
    "('Thunderstruck', 20)  \n",
    "('My Way', 15)\n",
    "\n",
    "Our for loop finds two rows, and each row is a Python tuple with the first value as the title and the second value as the number of plays.\n",
    "\n",
    "At the very end of the program, we execute an SQL command to DELETE the rows we have just created so we can run the program over and over. The DELETE command shows the use of a WHERE clause that allows us to express a selection criterion so that we can ask the database to apply the command to only the rows that match the criterion. In this example the criterion happens to apply to all the rows so we empty the table out so we can run the program repeatedly. After the DELETE is performed, we also call commit() to force the data to be removed from the database."
   ]
  },
  {
   "cell_type": "markdown",
   "id": "06c2793b",
   "metadata": {},
   "source": [
    "#### 15.5 Structured Query Language Summary"
   ]
  },
  {
   "cell_type": "markdown",
   "id": "90fa520d",
   "metadata": {},
   "source": [
    "So far, we have been using the Structured Query Language in our Python examples and have covered many of the basics of the SQL commands. In this section, we look at the SQL language in particular and give an overview of SQL syntax.\n",
    "\n",
    "Since there are so many different database vendors, the Structured Query Language (SQL) was standardized so we could communicate in a portable manner to database systems from multiple vendors.\n",
    "\n",
    "A relational database is made up of tables, rows, and columns. The columns generally have a type such as text, numeric, or date data. When we create a table, we indicate the names and types of the columns:\n",
    "\n",
    "CREATE TABLE Track (title TEXT, plays INTEGER)\n",
    "\n",
    "To insert a row into a table, we use the SQL INSERT command:\n",
    "\n",
    "INSERT INTO Track (title, plays) VALUES ('My Way', 15)\n",
    "\n",
    "The INSERT statement specifies the table name, then a list of the fields/columns that you would like to set in the new row, and then the keyword VALUES and a list of corresponding values for each of the fields.\n",
    "\n",
    "The SQL SELECT command is used to retrieve rows and columns from a database. The SELECT statement lets you specify which columns you would like to retrieve as well as a WHERE clause to select which rows you would like to see. It also allows an optional ORDER BY clause to control the sorting of the returned rows.\n",
    "\n",
    "SELECT * FROM Track WHERE title = 'My Way'\n",
    "\n",
    "Using * indicates that you want the database to return all of the columns for each row that matches the WHERE clause.\n",
    "\n",
    "Note, unlike in Python, in a SQL WHERE clause we use a single equal sign to indicate a test for equality rather than a double equal sign. Other logical operations allowed in a WHERE clause include <, >, <=, >=, !=, as well as AND and OR and parentheses to build your logical expressions.\n",
    "\n",
    "You can request that the returned rows be sorted by one of the fields as follows:\n",
    "\n",
    "SELECT title,plays FROM Track ORDER BY title\n",
    "\n",
    "It is possible to UPDATE a column or columns within one or more rows in a table using the SQL UPDATE statement as follows:\n",
    "\n",
    "UPDATE Track SET plays = 16 WHERE title = 'My Way'\n",
    "\n",
    "The UPDATE statement specifies a table and then a list of fields and values to change after the SET keyword and then an optional WHERE clause to select the rows that are to be updated. A single UPDATE statement will change all of the rows that match the WHERE clause. If a WHERE clause is not specified, it performs the UPDATE\n",
    "on all of the rows in the table.\n",
    "\n",
    "To remove a row, you need a WHERE clause on an SQL DELETE statement. The WHERE clause determines which rows are to be deleted:\n",
    "\n",
    "DELETE FROM Track WHERE title = 'My Way'\n",
    "\n",
    "These four basic SQL commands (INSERT, SELECT, UPDATE, and DELETE) allow the four basic operations needed to create and maintain data. We use “CRUD” (Create, Read, Update, and Delete) to capture all these concepts in a single term.2"
   ]
  },
  {
   "cell_type": "markdown",
   "id": "58bed493",
   "metadata": {},
   "source": [
    "#### 15.6 Multiple tables and basic data modeling"
   ]
  },
  {
   "cell_type": "markdown",
   "id": "46d752df",
   "metadata": {},
   "source": [
    "The real power of a relational database is when we create multiple tables and make links between those tables. The act of deciding how to break up your application data into multiple tables and establishing the relationships between the tables is called data modeling. The design document that shows the tables and their\n",
    "relationships is called a data model.\n",
    "\n",
    "Data modeling is a relatively sophisticated skill and we will only introduce the most basic concepts of relational data modeling in this section. For more detail on data modeling you can start with:\n",
    "\n",
    "http://en.wikipedia.org/wiki/Relational_model\n",
    "\n",
    "Lets say for our tracks database we wanted to track the name of the artist for each track in addition to the title and number of plays for each track. A simple approach might be to simply add another column to the database called artist and put the name of the artist in the column as follows:\n",
    "\n",
    "DROP TABLE IF EXISTS Track;  \n",
    "CREATE TABLE Track (title TEXT, plays INTEGER, artist TEXT);  \n",
    "\n",
    "Then we could insert a few tracks into our table.\n",
    "\n",
    "INSERT INTO Track (title, plays, artist)  \n",
    "VALUES ('My Way', 15, 'Frank Sinatra');  \n",
    "INSERT INTO Track (title, plays, artist)  \n",
    "VALUES ('New York', 25, 'Frank Sinatra');  \n",
    "\n",
    "If we were to look at our data with a SELECT * FROM Track statement, it looks like we have done a fine job.\n",
    "\n",
    "sqlite> SELECT * FROM Track;  \n",
    "My Way|15|Frank Sinatra  \n",
    "New York|25|Frank Sinatra  \n",
    "sqlite>  \n",
    "\n",
    "We have made a very bad error in our data modeling. We have violated the rules of database normalization.  \n",
    "https://en.wikipedia.org/wiki/Database_normalization\n",
    "\n",
    "While database normalization seems very complex on the surface and contains a lot of mathematical justifications, for now we can reduce it all into one simple rule that we will follow.\n",
    "\n",
    "We should never put the same string data in a column more than once. If we need the data more than once, we create a numeric key for the data and reference the actual data using this key. Especially if the multiple entries refer to the same object.\n",
    "\n",
    "To demonstrate the slippery slope we are going down by assigning string columns to out database model, think about how we would change the data model if we wanted to keep track of the eye color of our artists? Would we do this?\n",
    "\n",
    "DROP TABLE IF EXISTS Track;  \n",
    "CREATE TABLE Track (title TEXT, plays INTEGER,  \n",
    "artist TEXT, eyes TEXT);  \n",
    "INSERT INTO Track (title, plays, artist, eyes)  \n",
    "VALUES ('My Way', 15, 'Frank Sinatra', 'Blue');  \n",
    "INSERT INTO Track (title, plays, artist, eyes)  \n",
    "VALUES ('New York', 25, 'Frank Sinatra', 'Blue');  \n",
    "\n",
    "Since Frank Sinatra recorded over 1200 songs, are we really going to put the string ‘Blue’ in 1200 rows in our Track table. And what would happen if we decided his eye color was ‘Light Blue’? Something just does not feel right.\n",
    "\n",
    "The correct solution is to create a table for the each Artist and store all the data about the artist in that table. And then somehow we need to make a connection between a row in the Track table to a row in the Artist table. Perhaps we could call this “link” between two “tables” a “relationship” between two tables. And that is exactly what database experts decided to all these links.\n",
    "\n",
    "Lets make an Artist table as follows:\n",
    "\n",
    "DROP TABLE IF EXISTS Artist;  \n",
    "CREATE TABLE Artist (name TEXT, eyes TEXT);  \n",
    "INSERT INTO Artist (name, eyes)  \n",
    "VALUES ('Frank Sinatra', 'blue');  \n",
    "\n",
    "Now we have two tables but we need a way to link rows in the two tables. To do this, we need what we call ‘keys’. These keys will just be integer numbers that we can use to lookup a row in different table. If we are going to make links to rows inside of a table, we need to add a primary key to the rows in the table. By\n",
    "convention we usually name the primary key column ‘id’. So our Artist table looks as follows:\n",
    "\n",
    "DROP TABLE IF EXISTS Artist;  \n",
    "CREATE TABLE Artist (id INTEGER, name TEXT, eyes TEXT);  \n",
    "INSERT INTO Artist (id, name, eyes)  \n",
    "VALUES (42, 'Frank Sinatra', 'blue');  \n",
    "\n",
    "Now we have a row in the table for ‘Frank Sinatra’ (and his eye color) and a primary key of ‘42’ to use to link our tracks to him. So we alter our Track table as follows:\n",
    "\n",
    "DROP TABLE IF EXISTS Track;  \n",
    "CREATE TABLE Track (title TEXT, plays INTEGER,  \n",
    "artist_id INTEGER);  \n",
    "INSERT INTO Track (title, plays, artist_id)  \n",
    "VALUES ('My Way', 15, 42);  \n",
    "INSERT INTO Track (title, plays, artist_id)  \n",
    "VALUES ('New York', 25, 42);  \n",
    "\n",
    "The artist_id column is an integer, and by naming convention is a foreign key pointing at a primary key in the Artist table. We call it a foreign key because it is pointing to a row in a different table.\n",
    "\n",
    "Now we are following the rules of database normalization, but when we want to get data out of our database, we don’t want to see the 42, we want to see the name and eye color of the artist. To do this we use the JOIN keyword in our SELECT statement.\n",
    "\n",
    "SELECT title, plays, name, eyes  \n",
    "FROM Track JOIN Artist  \n",
    "ON Track.artist_id = Artist.id;  \n",
    "\n",
    "The JOIN clause includes an ON condition that defines how the rows are to to be connected. For each row in Track add the data from Artist from the row where artist_id Track table matches the id from the Artist table.\n",
    "\n",
    "The output would be:\n",
    "\n",
    "My Way|15|Frank Sinatra|blue  \n",
    "New York|25|Frank Sinatra|blue  \n",
    "\n",
    "While it might seem a little clunky and your instincts might tell you that it would be faster just to keep the data in one table, it turns out the the limit on database performance is how much data needs to be scanned when retrieving a query. While the details are very complex, integers are a lot smaller than strings (especially\n",
    "Unicode) and far quicker to to move and compare."
   ]
  },
  {
   "cell_type": "markdown",
   "id": "fbddee92",
   "metadata": {},
   "source": [
    "#### 15.7 Data model diagrams"
   ]
  },
  {
   "cell_type": "markdown",
   "id": "1ed7665d",
   "metadata": {},
   "source": [
    "While our Track and Artist database design is simple with just two tables and a single one-to-many relationship, these data models can get complicated quickly and are easier to understand if we can make a graphical representation of our data model.\n",
    "\n",
    "While there are many graphical representations of data models, we will use one of the “classic” approaches, called “Crow’s Foot Diagrams” as shown in Figure 15.4. Each table is shown as a box with the name of the table and its columns. Then where there is a relationship between two tables a line is drawn connecting the tables with a notation added to the end of each line indicating the nature of the relationship."
   ]
  },
  {
   "cell_type": "markdown",
   "id": "a1818099",
   "metadata": {},
   "source": [
    "## Add the diagram"
   ]
  },
  {
   "cell_type": "markdown",
   "id": "1c2eaedf",
   "metadata": {},
   "source": [
    "https://en.wikipedia.org/wiki/Entity-relationship_model  \n",
    "In this case, “many” tracks can be associated with each artist. So the track end is shown with the crow’s foot spread out indicating it is the\" “many” end. The artist end is shown with a vertical like that indicates “one”. There will be “many” artists in general, but the important aspect is that for each artist there will be many tracks. And each of those artists may be associated with multiple tracks.\n",
    "\n",
    "You will note that the column that holds the foreign_key like artist_id is on the “many” end and the primary key is at the “one” end.\n",
    "\n",
    "Since the pattern of foreign and primary key placement is so consistent and follows the “many” and “one” ends of the lines, we never include either the primary or foreign key columns in our diagram of the data model as shown in the second diagram as shown in Figure 15.5. The columns are thought of as “implementation detail” to capture the nature of the relationship details and not an essential part of the data being modeled."
   ]
  },
  {
   "cell_type": "markdown",
   "id": "6990258f",
   "metadata": {},
   "source": [
    "#### 15.8 Automatically creating primary keys"
   ]
  },
  {
   "cell_type": "markdown",
   "id": "b6190099",
   "metadata": {},
   "source": [
    "In the above example, we arbitrarily assigned Frank the primary key of 42. However when we are inserting millions or rows, it is nice to have the database automatically generate the values for the id column. We do this by declaring the id column as a PRIMARY KEY and leave out the id value when inserting the row:\n",
    "\n",
    "DROP TABLE IF EXISTS Artist;  \n",
    "CREATE TABLE Artist (id INTEGER PRIMARY KEY,  \n",
    "name TEXT, eyes TEXT);  \n",
    "INSERT INTO Artist (name, eyes)  \n",
    "VALUES ('Frank Sinatra', 'blue');  \n",
    "\n",
    "Now we have instructed the database to auto-assign us a unique value to the Frank Sinatra row. But we then need a way to have the database tell us the id value for the recently inserted row. One way is to use a SELECT statement to retrieve data from an SQLite built-in-fuction called last_insert_rowid().\n",
    "\n",
    "sqlite> DROP TABLE IF EXISTS Artist;  \n",
    "sqlite> CREATE TABLE Artist (id INTEGER PRIMARY KEY,   \n",
    "...> name TEXT, eyes TEXT);  \n",
    "sqlite> INSERT INTO Artist (name, eyes)  \n",
    "...> VALUES ('Frank Sinatra', 'blue');  \n",
    "sqlite> select last_insert_rowid();  \n",
    "1  \n",
    "sqlite> SELECT * FROM Artist;  \n",
    "1|Frank Sinatra|blue  \n",
    "sqlite>  \n",
    "\n",
    "Once we know the id of our ‘Frank Sinatra’ row, we can use it when we INSERT the tracks into the Track table. As a general strategy, we add these id columns to any table we create:\n",
    "  \n",
    "sqlite> DROP TABLE IF EXISTS Track;  \n",
    "sqlite> CREATE TABLE Track (id INTEGER PRIMARY KEY,  \n",
    "...> title TEXT, plays INTEGER, artist_id INTEGER);  \n",
    "\n",
    "Note that the artist_id value is the new auto-assigned row in the Artist table and that while we added an INTEGER PRIMARY KEY to the the Track table, we did not include id in the list of fields on the INSERT statements into the Track table. Again this tells the database to choose a unique value for us for the id column.\n",
    "\n",
    "sqlite> INSERT INTO Track (title, plays, artist_id)  \n",
    "...> VALUES ('My Way', 15, 1);  \n",
    "sqlite> select last_insert_rowid();  \n",
    "1  \n",
    "sqlite> INSERT INTO Track (title, plays, artist_id)  \n",
    "...> VALUES ('New York', 25, 1);  \n",
    "sqlite> select last_insert_rowid();  \n",
    "2  \n",
    "sqlite>  \n",
    "\n",
    "You can call SELECT last_insert_rowid(); after each of the inserts to retrieve the value that the database assigned to the id of each newly created row. Later when we are coding in Python, we can ask for the id value in our code and store it in a variable for later use."
   ]
  },
  {
   "cell_type": "markdown",
   "id": "d603329d",
   "metadata": {},
   "source": [
    "#### 15.9 Logical keys for fast lookup"
   ]
  },
  {
   "cell_type": "markdown",
   "id": "110e5514",
   "metadata": {},
   "source": [
    "If we had a table full of artists and a table full of tracks, each with a foreign key link to a row in a table full of artists and we wanted to list all the tracks that were sung by ‘Frank Sinatra’ as follows:\n",
    "\n",
    "SELECT title, plays, name, eyes  \n",
    "FROM Track JOIN Artist  \n",
    "ON Track.artist_id = Artist.id   \n",
    "WHERE Artist.name = 'Frank Sinatra';  \n",
    "\n",
    "Since we have two tables and a foreign key between the two tables, our data is well-modeled, but if we are going to have millions of records in the Artist table and going to do a lot of lookups by artist name, we would benefit if we gave the database a hint about our intended use of the name column.\n",
    "\n",
    "We do this by adding an “index” to a text column that we intend to use in WHERE clauses:\n",
    "\n",
    "CREATE INDEX artist_name ON Artist(name);\n",
    "\n",
    "When the database has been told that an index is needed on a column in a table, it stores extra information to make it possible to look up a row more quickly using the indexed field (name in this example). Once you request that an index be created, there is nothing special that is needed in the SQL to access the table. The database keeps the index up to date as data is inserted, deleted, and updated, and uses it automatically if it will increase the performance of a database query. \n",
    "\n",
    "These text columns that are used to find rows based on some information in the “real world” like the name of an artist are called Logical keys."
   ]
  },
  {
   "cell_type": "markdown",
   "id": "9a861099",
   "metadata": {},
   "source": [
    "#### 15.10 Adding constraints to the data database"
   ]
  },
  {
   "cell_type": "markdown",
   "id": "de5dd1aa",
   "metadata": {},
   "source": [
    "We can also use an index to enforce a constraint (i.e. rules) on our database operations. The most common constraint is a uniqueness constraint which insists that all of the values in a column are unique. We can add the optional UNIQUE keyword, to the CREATE INDEX statement to tell the database that we would like it to enforce the constraint on our SQL. We can drop and re-create the artist_name\n",
    "index with a UNIQUE constraint as follows.\n",
    "\n",
    "DROP INDEX artist_name;  \n",
    "CREATE UNIQUE INDEX artist_name ON Artist(name);  \n",
    "\n",
    "If we try to insert ‘Frank Sinatra’ a second time, it will fail with an error.\n",
    "\n",
    "sqlite> SELECT * FROM Artist;  \n",
    "1|Frank Sinatra|blue  \n",
    "sqlite> INSERT INTO Artist (name, eyes)  \n",
    "...> VALUES ('Frank Sinatra', 'blue');  \n",
    "Runtime error: UNIQUE constraint failed: Artist.name (19)  \n",
    "sqlite>  \n",
    "\n",
    "We can tell the database to ignore any duplicate key errors by adding the IGNORE keyword to the INSERT statement as follows:\n",
    "\n",
    "sqlite> INSERT OR IGNORE INTO Artist (name, eyes)  \n",
    "...> VALUES ('Frank Sinatra', 'blue');  \n",
    "sqlite> SELECT id FROM Artist WHERE name='Frank Sinatra';  \n",
    "1  \n",
    "sqlite> \n",
    "\n",
    "By combining an INSERT OR IGNORE and a SELECT we can insert a new record if the name is not already there and whether or not the record is already there, retrieve the primary key of the record.\n",
    "\n",
    "sqlite> INSERT OR IGNORE INTO Artist (name, eyes)  \n",
    "...> VALUES ('Elvis', 'blue');  \n",
    "sqlite> SELECT id FROM Artist WHERE name='Elvis';  \n",
    "2  \n",
    "sqlite> SELECT * FROM Artist;  \n",
    "1|Frank Sinatra|blue  \n",
    "2|Elvis|blue  \n",
    "sqlite>  \n",
    "\n",
    "Since we have not added a uniqueness constraint to the eye color column, there is no problem having multiple ‘Blue’ values in the eye column."
   ]
  },
  {
   "cell_type": "markdown",
   "id": "7c1dc3bb",
   "metadata": {},
   "source": [
    "#### 15.11 Sample multi-table application"
   ]
  },
  {
   "cell_type": "markdown",
   "id": "0fb363c6",
   "metadata": {},
   "source": [
    "A sample application called tracks_csv.py shows how these ideas can be combined to parse textual data and load it into several tables using a proper data model with relational connections between the tables.\n",
    "\n",
    "This application reads and parses a comma-separated file tracks.csv based on an export from Dr. Chuck’s iTunes library.\n",
    "\n",
    "Another One Bites The Dust,Queen,Greatest Hits,55,100,217103  \n",
    "Asche Zu Asche,Rammstein,Herzeleid,79,100,231810  \n",
    "Beauty School Dropout,Various,Grease,48,100,239960  \n",
    "Black Dog,Led Zeppelin,IV,109,100,296620  \n",
    "...  \n",
    "\n",
    "The columns in this file are: title, artist, album, number of plays, rating (0-100) and length in milliseconds.\n",
    "\n",
    "Our data model is shown in Figure 15.6 and described in SQL as follows:\n",
    "\n",
    "DROP TABLE IF EXISTS Artist;  \n",
    "DROP TABLE IF EXISTS Album;  \n",
    "DROP TABLE IF EXISTS Track;  \n",
    "\n",
    "CREATE TABLE Artist (  \n",
    "    id INTEGER PRIMARY KEY,  \n",
    "    name TEXT UNIQUE  \n",
    ");  \n",
    "\n",
    "CREATE TABLE Album (  \n",
    "    id INTEGER PRIMARY KEY,  \n",
    "    artist_id INTEGER,  \n",
    "    title TEXT UNIQUE  \n",
    ");\n",
    "\n",
    "CREATE TABLE Track (    \n",
    "    id INTEGER PRIMARY KEY,  \n",
    "    title TEXT UNIQUE,  \n",
    "    album_id INTEGER,  \n",
    "    len INTEGER, rating INTEGER, count INTEGER  \n",
    ");  \n",
    "\n",
    "We are adding the UNIQUE keyword to TEXT columns that we would like to have a uniqueness constraint that we will use in INSERT IGNORE statements. This is more succinct that separate CREATE INDEX statements but has the same effect.\n",
    "\n",
    "With these tables in place, we write the following code tracks_csv.py to parse the data and insert it into the tables:"
   ]
  },
  {
   "cell_type": "code",
   "execution_count": null,
   "id": "6c06a65b",
   "metadata": {},
   "outputs": [],
   "source": [
    "import sqlite3\n",
    "\n",
    "conn = sqlite3.connect('trackdb.sqlite')\n",
    "cur = conn.cursor()\n",
    "\n",
    "handle = open('tracks.csv')\n",
    "\n",
    "for line in handle:\n",
    "    line = line.strip()\n",
    "    pieces = line.split(',')\n",
    "    if len(pieces) != 6:\n",
    "        continue\n",
    "        \n",
    "    name = pieces[0]\n",
    "    artist = pieces[1]\n",
    "    album = pieces[2]\n",
    "    count = pieces[3]\n",
    "    rating = pieces[4]\n",
    "    length = pieces[5]\n",
    "    \n",
    "    print(name, artist, album, count, rating, length)\n",
    "    \n",
    "    cur.execute('''INSERT OR IGNORE INTO Artist (name) VALUES (?)''',\n",
    "               (artist, ))\n",
    "    cur.execute('SELECT id FROM Artist WHERE name = ? ', (artist, ))\n",
    "    artist_id = cur.fetchone()[0]\n",
    "    cur.execute('''INSERT OR IGNORE INTO Album (title, artist_id) VALUES (?, ?)''',\n",
    "               (album, artist_id))\n",
    "    cur.execute('SELECT id FROM Album WHERE title = ?', (album, ))\n",
    "    album_id = cur.fetchone()[0]\n",
    "    \n",
    "    cur.execute('''INSERT OR REPLACE INTO Track (title, album_id, len, rating, count) VALUES (?, ?, ?, ?, ?)''',\n",
    "               (name, album_id, length, rating, count))\n",
    "    conn.commit()"
   ]
  },
  {
   "cell_type": "markdown",
   "id": "c72d800f",
   "metadata": {},
   "source": [
    "You can see that we are repeating the pattern of INSERT OR IGNORE followed by a SELECT to get the appropriate artist_id and album_id for use in later INSERT statements. We start from Artist because we need artist_id to insert the Album and need the album_id to insert the Track.\n",
    "\n",
    "If we look at the Album table, we can see that the entries were added and assigned a primary key as necessary as the data was parsed. We can also see the foreign key pointing to a row in the Artist table for each Album row.\n",
    "\n",
    "sqlite> .mode column  \n",
    "sqlite> SELECT * FROM Album LIMIT 5; \n",
    "\n",
    "id artist_id title  \n",
    "1  1           Greatest Hits  \n",
    "2  2           Herzeleid  \n",
    "3  3           Grease  \n",
    "4  4           IV  \n",
    "5  5           The Wall [Disc 2]  \n",
    "\n",
    "We can reconstruct all of the Track data, following all the relations using JOIN / ON clauses. You can see both ends of each of the (2) relational connections in each row in the output below:\n",
    "  \n",
    "sqlite> .mode line  \n",
    "sqlite> SELECT * FROM Track  \n",
    "    ...> JOIN Album ON Track.album_id = Album.id  \n",
    "    ...> JOIN Artist ON Album.artist_id = Artist.id  \n",
    "    ...> LIMIT 2;   \n",
    "        id = 1  \n",
    "        title = Another One Bites The Dust  \n",
    "    album_id = 1  \n",
    "        len = 217103  \n",
    "    rating = 100  \n",
    "        count = 55  \n",
    "        id = 1  \n",
    "    artist_id = 1  \n",
    "        title = Greatest Hits  \n",
    "            id = 1  \n",
    "        name = Queen  \n",
    "        id = 2  \n",
    "        title = Asche Zu Asche  \n",
    "    album_id = 2  \n",
    "        len = 231810  \n",
    "    rating = 100  \n",
    "        count = 79  \n",
    "        id = 2  \n",
    "    artist_id = 2  \n",
    "        title = Herzeleid  \n",
    "            id = 2  \n",
    "        name = Rammstein  \n",
    "        \n",
    "This example shows three tables and two one-to-many relationships between the tables. It also shows how to use indexes and uniqueness constraints to programmatically construct the tables and their relationships.\n",
    "\n",
    "https://en.wikipedia.org/wiki/One-to-many_(data_model)\n",
    "\n",
    "Up next we will look at the many-to-many relationships in data models."
   ]
  },
  {
   "cell_type": "markdown",
   "id": "18bcfd00",
   "metadata": {},
   "source": [
    "#### 15.12 Many to many relationship in databases"
   ]
  },
  {
   "cell_type": "markdown",
   "id": "87f7091a",
   "metadata": {},
   "source": [
    "Some data relationships cannot be modeled by a simple one-to-many relationship. For example, lets say we are going to build a data model for a course management system. There will be courses, users, and rosters. A user can be on the roster for many courses and a course will have many users on its roster.\n",
    "\n",
    "It is pretty simple to draw a many-to-many relationship as shown in Figure 15.7. We simply draw two tables and connect them with a line that has the “many” indicator on both ends of the lines. The problem is how to implement the relationship using primary keys and foreign keys.\n",
    "\n",
    "Before we explore how we implement many-to-many relationships, let’s see if we could hack something up by extending a one-to many relationship.\n",
    "\n",
    "If SQL supported the notion of arrays, we might try to define this:\n",
    "\n",
    "CREATE TABLE Course(  \n",
    "    id INTEGER PRIMARY KEY,  \n",
    "    title TEXT UNIQUE,  \n",
    "    student_ids ARRAY OF INTEGER;  \n",
    ");\n",
    "\n",
    "Sadly, while this is a tempting idea, SQL does not support arrays.3\n",
    "Or we could just make long string and concatenate all the User primary keys into a long string separated by commas.\n",
    "\n",
    "CREATE TABLE Course (  \n",
    "    id INTEGER PRIMARY KEY,  \n",
    "    title TEXT UNIQUE  \n",
    "    student_ids ARRAY OF INTEGER;  \n",
    ");\n",
    "\n",
    "INSERT INTO Course (title, student_ids)  \n",
    "VALUES( 'si311', '1,3,4,5,6,9,14');  \n",
    "\n",
    "This would be very inefficient because as the course roster grows in size and the number of courses increases it becomes quite expensive to figure out which courses have student 14 on their roster.\n",
    "\n",
    "Instead of either of these approaches, we model a many-to-many relationship using an additional table that we call a “junction table”, “through table”, “connector table”, or “join table” as shown in Figure 15.8. The purpose of this table is to capture the connection between a course and a student.\n",
    "\n",
    "In a sense the table sits between the Course and User table and has a one-to-many relationship to both tables. By using an intermediate table we break a many-tomany relationship into two one-to-many relationships. Databases are very good at modeling and processing one-to-many relationships.\n",
    "\n",
    "An example Member table would be as follows:\n",
    "\n",
    "CREATE TABLE User (  \n",
    "    id INTEGER PRIMARY KEY,  \n",
    "    name TEXT UNIQUE  \n",
    ");\n",
    "\n",
    "CREATE TABLE Course (   \n",
    "    id INTEGER PRIMARY KEY,  \n",
    "    title TEXT UNIQUE  \n",
    ");\n",
    "\n",
    "CREATE TABLE Member (  \n",
    "    user_id INTEGER,  \n",
    "    course_id INTEGER,  \n",
    "    PRIMARY KEY (user_id, course_id)  \n",
    ");\n",
    "\n",
    "Following our naming convention, Member.user_id and Member.course_id are foreign keys pointing at the corresponding rows in the User and Course tables. Each entry in the member table links a row in the User table to a row in the Course table by going through the Member table.\n",
    "\n",
    "We indicate that the combination of course_id and user_id is the PRIMARY KEY for the Member table, also creating an uniqueness constraint for a course_id / user_id combination.\n",
    "\n",
    "Now lets say we need to insert a number of students into the rosters of a number of courses. Lets assume the data comes to us in a JSON-formatted file with records like this:\n",
    "\n",
    "[  \n",
    "[ \"Charley\", \"si110\"],  \n",
    "[ \"Mea\", \"si110\"],  \n",
    "[ \"Hattie\", \"si110\"],  \n",
    "[ \"Keziah\", \"si110\"],  \n",
    "[ \"Rosa\", \"si106\"],  \n",
    "[ \"Mea\", \"si106\"],  \n",
    "[ \"Mairin\", \"si106\"],  \n",
    "[ \"Zendel\", \"si106\"],  \n",
    "[ \"Honie\", \"si106\"],  \n",
    "[ \"Rosa\", \"si106\"],  \n",
    "...  \n",
    "]  \n",
    "\n",
    "We could write code as follows to read the JSON file and insert the members of each course roster into the database using the following code:"
   ]
  },
  {
   "cell_type": "code",
   "execution_count": null,
   "id": "89561a15",
   "metadata": {},
   "outputs": [],
   "source": [
    "import json\n",
    "import sqlite3\n",
    "\n",
    "conn = sqlite.connect('rosterdb.sqlite')\n",
    "cur = conn.cursor()\n",
    "\n",
    "str_data = open('roaster_data_sample.json').read()\n",
    "json_data = json.loads(str_data)\n",
    "\n",
    "for entry in json_data:\n",
    "    name = entry[0]\n",
    "    title = entry[1]\n",
    "    \n",
    "    print((name, title))\n",
    "    \n",
    "    cur.execute('''InSERT OR IGNORE INTO User (name)\n",
    "    VALUES (?)''', (name, ))\n",
    "    cur.execute('SELCT id FROM User WHERE name = ?', (name, ))\n",
    "    user_id = cur.fetchone()[0]\n",
    "    \n",
    "    cur.execute('''INSERT OR INGNORE INTO Courese (title)\n",
    "    VALUES (?)''', (title, ))\n",
    "    cur.execute('SELECT id FROM Course WHERE titel = ?', (title, ))\n",
    "    course_id = cur.fetchone()[0]\n",
    "    \n",
    "    cur.execute('''INSERT OR REPLACE INTO Member\n",
    "    (user_id, course_id) VALUES (?, ?)''',\n",
    "               (user_id, course_id))\n",
    "    \n",
    "    conn.commit()"
   ]
  },
  {
   "cell_type": "markdown",
   "id": "23aec3a9",
   "metadata": {},
   "source": [
    "Like in a previous example, we first make sure that we have an entry in the User table and know the primary key of the entry as well as an entry in the Course table and know its primary key. We use the ‘INSERT OR IGNORE’ and ‘SELECT’ pattern so our code works regardless of whether the record is in the table or not.\n",
    "\n",
    "Our insert into the Member table is simply inserting the two integers as a new or existing row depending on the constraint to make sure we do not end up with duplicate entries in the Member table for a particular user_id / course_id combination.\n",
    "\n",
    "To reconstruct our data across all three tables, we again use JOIN / ON to construct a SELECT query;\n",
    "\n",
    "sqlite> SELECT * FROM Course  \n",
    "...> JOIN Member ON Course.id = Member.course_id  \n",
    "...> JOIN User ON Member.user_id = User.id;  \n",
    "+----+-------+---------+-----------+----+---------+  \n",
    "| id | title | user_id | course_id | id | name |  \n",
    "+----+-------+---------+-----------+----+---------+  \n",
    "| 1 | si110 | 1 | 1 | 1 | Charley |  \n",
    "| 1 | si110 | 2 | 1 | 2 | Mea |  \n",
    "| 1 | si110 | 3 | 1 | 3 | Hattie |  \n",
    "| 1 | si110 | 4 | 1 | 4 | Lyena |  \n",
    "| 1 | si110 | 5 | 1 | 5 | Keziah |  \n",
    "| 1 | si110 | 6 | 1 | 6 | Ellyce |  \n",
    "| 1 | si110 | 7 | 1 | 7 | Thalia |  \n",
    "| 1 | si110 | 8 | 1 | 8 | Meabh |  \n",
    "| 2 | si106 | 2 | 2 | 2 | Mea |  \n",
    "| 2 | si106 | 10 | 2 | 10 | Mairin |  \n",
    "| 2 | si106 | 11 | 2 | 11 | Zendel |  \n",
    "| 2 | si106 | 12 | 2 | 12 | Honie |  \n",
    "| 2 | si106 | 9 | 2 | 9 | Rosa |  \n",
    "+----+-------+---------+-----------+----+---------+  \n",
    "sqlite>  \n",
    "\n",
    "You can see the three tables from left to right - Course, Member, and User and you can see the connections between the primary keys and foreign keys in each row of output."
   ]
  },
  {
   "cell_type": "markdown",
   "id": "0af6f60b",
   "metadata": {},
   "source": [
    "#### 15.13 Modeling data at the many-to-many connection"
   ]
  },
  {
   "cell_type": "markdown",
   "id": "9c8f61fc",
   "metadata": {},
   "source": [
    "While we have presented the “join table” as having two foreign keys making a connection between rows in two tables, this is the simplest form of a join table. It is quite common to want to add some data to the connection itself.\n",
    "\n",
    "Continuing with our example of users, courses, and rosters to model a simple learning management system, we will also need to understand the role that each user is assigned in each course.\n",
    "\n",
    "If we first try to solve this by adding an “instructor” flag to the User table, we will find that this does not work because a user can be a instructor in one course and a student in another course. If we add an instructor_id to the Course table it will not work because a course can have multiple instructors. And there is no one-to-many hack that can deal with the fact that the number of roles will expand into roles like Teaching Assistant or Parent.\n",
    "\n",
    "But if we simply add a role column to the Member table - we can represent a wide range of roles, role combinations, etc.\n",
    "\n",
    "Lets change our member table as follows:\n",
    "\n",
    "DROP TABLE Member;  \n",
    "CREATE TABLE Member (  \n",
    "user_id INTEGER,  \n",
    "course_id INTEGER,  \n",
    "role INTEGER,  \n",
    "PRIMARY KEY (user_id, course_id)  \n",
    ");  \n",
    "\n",
    "For simplicity, we will decide that zero in the role means “student” and one in the role means instructor. Lets assume our JSON data is augmented with the role as follows:\n",
    "\n",
    "[  \n",
    "[ \"Charley\", \"si110\", 1],  \n",
    "[ \"Mea\", \"si110\", 0],  \n",
    "[ \"Hattie\", \"si110\", 0],  \n",
    "[ \"Keziah\", \"si110\", 0],  \n",
    "[ \"Rosa\", \"si106\", 0], \n",
    "[ \"Mea\", \"si106\", 1],   \n",
    "[ \"Mairin\", \"si106\", 0],  \n",
    "[ \"Zendel\", \"si106\", 0],  \n",
    "[ \"Honie\", \"si106\", 0],  \n",
    "[ \"Rosa\", \"si106\", 0],  \n",
    "...  \n",
    "]\n",
    "\n",
    "We could alter the roster.py program above to incorporate role as follows:\n",
    "\n",
    "for entry in json_data:  \n",
    "name = entry[0]  \n",
    "title = entry[1]  \n",
    "role = entry[2]  \n",
    "...\n",
    "\n",
    "cur.execute('''INSERT OR REPLACE INTO Member  \n",
    "(user_id, course_id, role) VALUES ( ?, ?, ? )''',  \n",
    "( user_id, course_id, role ) )  \n",
    "\n",
    "In a real system, we would proably build a Role table and make the role column in Member a foreign key into the Role table as follows:\n",
    "\n",
    "DROP TABLE Member;  \n",
    "\n",
    "CREATE TABLE Member (  \n",
    "user_id INTEGER,   \n",
    "course_id INTEGER, \n",
    "role_id INTEGER,   \n",
    "PRIMARY KEY (user_id, course_id, role_id)  \n",
    ");  \n",
    "\n",
    "CREATE TABLE Role (  \n",
    "id INTEGER PRIMARY KEY,  \n",
    "name TEXT UNIQUE  \n",
    ");  \n",
    "\n",
    "INSERT INTO Role (id, name) VALUES (0, 'Student');  \n",
    "INSERT INTO Role (id, name) VALUES (1, 'Instructor');  \n",
    "\n",
    "Notice that because we declared the id column in the Role table as a PRIMARY KEY, we could omit it in the INSERT statement. But we can also choose the id value as long as the value is not already in the id column and does not violate the implied UNIQUE constaint on primary keys."
   ]
  },
  {
   "cell_type": "markdown",
   "id": "491d8f1f",
   "metadata": {},
   "source": [
    "#### 15.15 Debugging"
   ]
  },
  {
   "cell_type": "markdown",
   "id": "38804b83",
   "metadata": {},
   "source": [
    "One common pattern when you are developing a Python program to connect to an SQLite database will be to run a Python program and check the results using the Database Browser for SQLite. The browser allows you to quickly check to see  if your program is working properly.\n",
    "\n",
    "You must be careful because SQLite takes care to keep two programs from changing the same data at the same time. For example, if you open a database in the browser and make a change to the database and have not yet pressed the “save” button in the browser, the browser “locks” the database file and keeps any other program from accessing the file. In particular, your Python program will not be able to access the file if it is locked.\n",
    "\n",
    "So a solution is to make sure to either close the database browser or use the File menu to close the database in the browser before you attempt to access the database from Python to avoid the problem of your Python code failing because the database is locked."
   ]
  },
  {
   "cell_type": "markdown",
   "id": "1265629d",
   "metadata": {},
   "source": [
    "## Chapter 16"
   ]
  },
  {
   "cell_type": "markdown",
   "id": "c526fdd7",
   "metadata": {},
   "source": [
    "### Visualizing data"
   ]
  },
  {
   "cell_type": "markdown",
   "id": "90a68f37",
   "metadata": {},
   "source": [
    "So far we have been learning the Python language and then learning how to use Python, the network, and databases to manipulate data.\n",
    "\n",
    "In this chapter, we take a look at three complete applications that bring all of these things together to manage and visualize data. You might use these applications as sample code to help get you started in solving a real-world problem.\n",
    "\n",
    "Each of the applications is a ZIP file that you can download and extract onto your computer and execute."
   ]
  },
  {
   "cell_type": "markdown",
   "id": "3962d234",
   "metadata": {},
   "source": [
    "#### 16.1 Building an OpenStreetMap from geocoded data"
   ]
  },
  {
   "cell_type": "markdown",
   "id": "d1600a11",
   "metadata": {},
   "source": [
    "In this project, we are using the OpenStreetMap geocoding API to clean up some user-entered geographic locations of university names and then placing the data on an actual OpenStreetMap.\n",
    "\n",
    "To get started, download the application from:  \n",
    "www.py4e.com/code3/opengeo.zip\n",
    "\n",
    "The first problem to solve is that these geocoding APIs are rate-limited to a certain number of requests per day. If you have a lot of data, you might need to stop and restart the lookup process several times. So we break the problem into two phases.\n",
    "\n",
    "In the first phase we take our input “survey” data in the file where.data and read it one line at a time, and retrieve the geocoded information from Google and store it in a database geodata.sqlite. Before we use the geocoding API for each user-entered location, we simply check to see if we already have the data for that particular line of input. The database is functioning as a local “cache” of our geocoding data to make sure we never ask Google for the same data twice.\n",
    "\n",
    "You can restart the process at any time by removing the file geodata.sqlite.\n",
    "\n",
    "Run the geoload.py program. This program will read the input lines in where.data and for each line check to see if it is already in the database. If we don’t have the data for the location, it will call the geocoding API to retrieve the data and store it in the database.\n",
    "\n",
    "Here is a sample run after there is already some data in the database:\n",
    "\n",
    "Found in database AGH University of Science and Technology  \n",
    "Found in database Academy of Fine Arts Warsaw Poland  \n",
    "Found in database American University in Cairo  \n",
    "Found in database Arizona State University  \n",
    "Found in database Athens Information Technology  \n",
    "Retrieving https://py4e-data.dr-chuck.net/  \n",
    "opengeo?q=BITS+Pilani  \n",
    "Retrieved 794 characters {\"type\":\"FeatureColl  \n",
    "Retrieving https://py4e-data.dr-chuck.net/  \n",
    "opengeo?q=Babcock+University  \n",
    "Retrieved 760 characters {\"type\":\"FeatureColl  \n",
    "Retrieving https://py4e-data.dr-chuck.net/  \n",
    "opengeo?q=Banaras+Hindu+University   \n",
    "Retrieved 866 characters {\"type\":\"FeatureColl  \n",
    "...  \n",
    "\n",
    "The first five locations are already in the database and so they are skipped. The program scans to the point where it finds new locations and starts retrieving them.\n",
    "\n",
    "The geoload.py program can be stopped at any time, and there is a counter that you can use to limit the number of calls to the geocoding API for each run. Given that the where.data only has a few hundred data items, you should not run into the daily rate limit, but if you had more data it might take several runs over several days to get your database to have all of the geocoded data for your input.\n",
    "\n",
    "Once you have some data loaded into geodata.sqlite, you can visualize the data using the geodump.py program. This program reads the database and writes the file where.js with the location, latitude, and longitude in the form of executable JavaScript code.\n",
    "\n",
    "A run of the geodump.py program is as follows:\n",
    "\n",
    "AGH University of Science and Technology, Czarnowiejska,  \n",
    "Czarna Wies, Krowodrza, Krakow, Lesser Poland  \n",
    "Voivodeship, 31-126, Poland 50.0657 19.91895  \n",
    "\n",
    "Academy of Fine Arts, Krakowskie Przedmiescie,  \n",
    "Northern Srodmiescie, Srodmiescie, Warsaw, Masovian  \n",
    "Voivodeship, 00-046, Poland 52.239 21.0155  \n",
    "...  \n",
    "260 lines were written to where.js  \n",
    "Open the where.html file in a web browser to view the data.  \n",
    "\n",
    "The file where.html consists of HTML and JavaScript to visualize a Google map. It reads the most recent data in where.js to get the data to be visualized. Here is the format of the where.js file:\n",
    "\n",
    "myData = [  \n",
    "[50.0657,19.91895,  \n",
    "'AGH University of Science and Technology, Czarnowiejska,  \n",
    "Czarna Wies, Krowodrza, Krakow, Lesser Poland  \n",
    "Voivodeship, 31-126, Poland '],  \n",
    "[52.239,21.0155,  \n",
    "'Academy of Fine Arts, Krakowskie Przedmiesciee,  \n",
    "Srodmiescie Polnocne, Srodmiescie, Warsaw,  \n",
    "Masovian Voivodeship, 00-046, Poland'],  \n",
    "...  \n",
    "];  \n",
    "\n",
    "This is a JavaScript variable that contains a list of lists. The syntax for JavaScript list constants is very similar to Python, so the syntax should be familiar to you.\n",
    "\n",
    "Simply open where.html in a browser to see the locations. You can hover over each map pin to find the location that the geocoding API returned for the user-entered input. If you cannot see any data when you open the where.html file, you might want to check the JavaScript or developer console for your browser."
   ]
  },
  {
   "cell_type": "code",
   "execution_count": null,
   "id": "a42c03f8",
   "metadata": {},
   "outputs": [],
   "source": [
    "import urllib.request, urllib.parse, urllib.error\n",
    "import http\n",
    "import sqlite3\n",
    "import json\n",
    "import time\n",
    "import ssl\n",
    "import sys\n",
    "\n",
    "# https://py4e-data.dr-chuck.net/opengeo?q=Ann+Arbor%2C+MI\n",
    "serviceurl = 'https://py4e-data.dr-chuck.net/opengeo?'\n",
    "\n",
    "# Additional detail for urllib\n",
    "# http.client.HTTPConnection.debuglevel = 1\n",
    "\n",
    "conn = sqlite3.connect('opengeo.sqlite')\n",
    "cur = conn.cursor()\n",
    "\n",
    "cur.execute('''CREATE TABLE IF NOT EXISTS Locations (address TEXT, geodata TEXT)''')\n",
    "\n",
    "# Ignore SSL certificate errors\n",
    "ctx = ssl.create_default_context()\n",
    "ctx.check_hostname = False\n",
    "ctx.verify_mode = ssl.CERT_NONE\n",
    "\n",
    "fh = open(\"where.data\")\n",
    "count = 0\n",
    "nofound = 0\n",
    "for line in fh:\n",
    "    if count > 100:\n",
    "        print('Retrieved 100 locations, restart to retrieve more')\n",
    "        break\n",
    "    \n",
    "    address = line.strip()\n",
    "    print('')\n",
    "    cur.execute(\"SELECT geodata FROM Locations WHERE address = ?\",\n",
    "               (memoryview(address.encode()), ))\n",
    "    \n",
    "    try:\n",
    "        data = cur.fetchone()[0]\n",
    "        print(\"FOund in database\", address)\n",
    "        continue\n",
    "    except:\n",
    "        pass\n",
    "    \n",
    "    parms = dict()\n",
    "    parms['q'] = address\n",
    "    \n",
    "    url = serviceurl + urllib.parse.urlencode(parms)\n",
    "    \n",
    "    print('Retrieving', url)\n",
    "    uh = urllib.request.urlopen(url, context=ctx)\n",
    "    data = uh.read().decode()\n",
    "    print('Retrieved', len(data), 'characters', data[:20].replace('\\n', ' '))\n",
    "    count = count + 1\n",
    "    \n",
    "    try:\n",
    "        js = json.loads(data)\n",
    "    except:\n",
    "        print(data)\n",
    "        continue\n",
    "        \n",
    "    if not js or 'features' not in js:\n",
    "        print('==== Download error ====')\n",
    "        print(data)\n",
    "        break\n",
    "        \n",
    "    if len(js['features']) == 0:\n",
    "        print('==== Object not found ====')\n",
    "        nofound = nofound + 1\n",
    "        \n",
    "    cur.execute('''INSERT INTO Locations (address, geodata) VALUES (?, ?)''',\n",
    "               (memoryview(address.encode()), memoryview(data.encode())))\n",
    "    \n",
    "    conn.commit()\n",
    "    \n",
    "    if count % 10 == 0:\n",
    "        print('Pausing for a bit...')\n",
    "        time.sleep(5)\n",
    "        \n",
    "if nofound > 0:\n",
    "    print('Number of features for which the location could not be found:', nofound)\n",
    "    \n",
    "print(\"Run geodump.py to read the data from the database so you can visualize it on a map.\")"
   ]
  },
  {
   "cell_type": "markdown",
   "id": "bf136d99",
   "metadata": {},
   "source": [
    "#### 16.2 Visualizing networks and interconnections"
   ]
  },
  {
   "cell_type": "markdown",
   "id": "3c388260",
   "metadata": {},
   "source": [
    "In this application, we will perform some of the functions of a search engine. We will first spider a small subset of the web and run a simplified version of the Google page rank algorithm to determine which pages are most highly connected, and then visualize the page rank and connectivity of our small corner of the web. We will use the D3 JavaScript visualization library http://d3js.org/ to produce the visualization output.\n",
    "\n",
    "You can download and extract this application from:  \n",
    "www.py4e.com/code3/pagerank.zip\n",
    "\n",
    "The first program (spider.py) program crawls a web site and pulls a series of pages into the database (spider.sqlite), recording the links between pages. You can restart the process at any time by removing the spider.sqlite file and rerunning spider.py.\n",
    "\n",
    "Enter web url or enter: http://www.dr-chuck.com/  \n",
    "['http://www.dr-chuck.com']    \n",
    "How many pages:2   \n",
    "1 http://www.dr-chuck.com/ 12    \n",
    "2 http://www.dr-chuck.com/csev-blog/ 57     \n",
    "How many pages:    \n",
    "\n",
    "In this sample run, we told it to crawl a website and retrieve two pages. If you restart the program and tell it to crawl more pages, it will not re-crawl any pages already in the database. Upon restart it goes to a random non-crawled page and starts there. So each successive run of spider.py is additive.\n",
    "\n",
    "Enter web url or enter: http://www.dr-chuck.com/  \n",
    "['http://www.dr-chuck.com']   \n",
    "How many pages:3   \n",
    "3 http://www.dr-chuck.com/csev-blog 57  \n",
    "4 http://www.dr-chuck.com/dr-chuck/resume/speaking.htm 1  \n",
    "5 http://www.dr-chuck.com/dr-chuck/resume/index.htm 13  \n",
    "How many pages:  \n",
    "\n",
    "You can have multiple starting points in the same database–within the program, these are called “webs”. The spider chooses randomly amongst all non-visited links across all the webs as the next page to spider.\n",
    "\n",
    "If you want to dump the contents of the spider.sqlite file, you can run spdump.py as follows:\n",
    "\n",
    "(5, None, 1.0, 3, 'http://www.dr-chuck.com/csev-blog')  \n",
    "(3, None, 1.0, 4, 'http://www.dr-chuck.com/dr-chuck/resume/speaking.htm')  \n",
    "(1, None, 1.0, 2, 'http://www.dr-chuck.com/csev-blog/')  \n",
    "(1, None, 1.0, 5, 'http://www.dr-chuck.com/dr-chuck/resume/index.htm')  \n",
    "4 rows.  \n",
    "\n",
    "This shows the number of incoming links, the old page rank, the new page rank, the id of the page, and the url of the page. The spdump.py program only shows pages that have at least one incoming link to them.\n",
    "\n",
    "Once you have a few pages in the database, you can run page rank on the pages using the sprank.py program. You simply tell it how many page rank iterations to run.\n",
    "\n",
    "How many iterations:2  \n",
    "1 0.546848992536  \n",
    "2 0.226714939664  \n",
    "[(1, 0.559), (2, 0.659), (3, 0.985), (4, 2.135), (5, 0.659)]  \n",
    "\n",
    "You can dump the database again to see that page rank has been updated:\n",
    "\n",
    "(5, 1.0, 0.985, 3, 'http://www.dr-chuck.com/csev-blog')  \n",
    "(3, 1.0, 2.135, 4, 'http://www.dr-chuck.com/dr-chuck/resume/speaking.htm')  \n",
    "(1, 1.0, 0.659, 2, 'http://www.dr-chuck.com/csev-blog/')  \n",
    "(1, 1.0, 0.659, 5, 'http://www.dr-chuck.com/dr-chuck/resume/index.htm')  \n",
    "4 rows.  \n",
    "\n",
    "You can run sprank.py as many times as you like and it will simply refine the page rank each time you run it. You can even run sprank.py a few times and then go spider a few more pages with spider.py and then run sprank.py to reconverge the page rank values. A search engine usually runs both the crawling and ranking\n",
    "programs all the time.\n",
    "\n",
    "If you want to restart the page rank calculations without respidering the web pages, you can use spreset.py and then restart sprank.py.\n",
    "\n",
    "How many iterations:50  \n",
    "1 0.546848992536  \n",
    "2 0.226714939664  \n",
    "3 0.0659516187242  \n",
    "4 0.0244199333  \n",
    "5 0.0102096489546   \n",
    "6 0.00610244329379  \n",
    "...  \n",
    "42 0.000109076928206  \n",
    "43 9.91987599002e-05  \n",
    "44 9.02151706798e-05  \n",
    "45 8.20451504471e-05  \n",
    "46 7.46150183837e-05  \n",
    "47 6.7857770908e-05  \n",
    "48 6.17124694224e-05  \n",
    "49 5.61236959327e-05  \n",
    "50 5.10410499467e-05  \n",
    "[(512, 0.0296), (1, 12.79), (2, 28.93), (3, 6.808), (4, 13.46)]\n",
    "\n",
    "For each iteration of the page rank algorithm it prints the average change in page rank per page. The network initially is quite unbalanced and so the individual page rank values change wildly between iterations. But in a few short iterations, the page rank converges. You should run sprank.py long enough that the page rank values converge.\n",
    "\n",
    "If you want to visualize the current top pages in terms of page rank, run spjson.py to read the database and write the data for the most highly linked pages in JSON format to be viewed in a web browser.\n",
    "\n",
    "Creating JSON output on spider.json...  \n",
    "How many nodes? 30  \n",
    "Open force.html in a browser to view the visualization  \n",
    "\n",
    "You can view this data by opening the file force.html in your web browser. This shows an automatic layout of the nodes and links. You can click and drag any node and you can also double-click on a node to find the URL that is represented by the node.\n",
    "\n",
    "If you rerun the other utilities, rerun spjson.py and press refresh in the browser to get the new data from spider.json."
   ]
  },
  {
   "cell_type": "code",
   "execution_count": null,
   "id": "4d4efc85",
   "metadata": {},
   "outputs": [],
   "source": [
    "import sqlite3\n",
    "import urllib.error\n",
    "import ssl\n",
    "from urllib.parse import urljoin\n",
    "from urllib.parse import urlparse\n",
    "from urllib.request import urlopen\n",
    "from bs4 import BeautifulSoup\n",
    "\n",
    "\n",
    "# Ignore SSL certificate errors\n",
    "ctx = ssl.create_default_context()\n",
    "ctx.check_hostname = False\n",
    "ctx.verify_mode = ssl.CERT_NONE\n",
    "\n",
    "conn = sqlite3.connect('spider.sqlite')\n",
    "cur = conn.cursor()\n",
    "\n",
    "cur.execute('''CREATE TABLE IF NOT EXISTS Pages\n",
    "    (id INTEGER PRIMARY KEY, url TEXT UNIQUE, html TEXT,\n",
    "     error INTEGER, old_rank REAL, new_rank REAL)''')\n",
    "\n",
    "cur.execute('''CREATE TABLE IF NOT EXISTS Links\n",
    "    (from_id INTEGER, to_id INTEGER, UNIQUE(from_id, to_id))''')\n",
    "\n",
    "cur.execute('''CREATE TABLE IF NOT EXISTS Webs (url TEXT UNIQUE)''')\n",
    "\n",
    "# Check to see if we are already in progress...\n",
    "cur.execute('SELECT id,url FROM Pages WHERE html is NULL and error is NULL ORDER BY RANDOM() LIMIT 1')\n",
    "row = cur.fetchone()\n",
    "if row is not None:\n",
    "    print(\"Restarting existing crawl.  Remove spider.sqlite to start a fresh crawl.\")\n",
    "else :\n",
    "    starturl = input('Enter web url or enter: ')\n",
    "    if ( len(starturl) < 1 ) : starturl = 'http://www.dr-chuck.com/'\n",
    "    if ( starturl.endswith('/') ) : starturl = starturl[:-1]\n",
    "    web = starturl\n",
    "    if ( starturl.endswith('.htm') or starturl.endswith('.html') ) :\n",
    "        pos = starturl.rfind('/')\n",
    "        web = starturl[:pos]\n",
    "\n",
    "    if ( len(web) > 1 ) :\n",
    "        cur.execute('INSERT OR IGNORE INTO Webs (url) VALUES ( ? )', ( web, ) )\n",
    "        cur.execute('INSERT OR IGNORE INTO Pages (url, html, new_rank) VALUES ( ?, NULL, 1.0 )', ( starturl, ) )\n",
    "        conn.commit()\n",
    "\n",
    "# Get the current webs\n",
    "cur.execute('''SELECT url FROM Webs''')\n",
    "webs = list()\n",
    "for row in cur:\n",
    "    webs.append(str(row[0]))\n",
    "\n",
    "print(webs)\n",
    "\n",
    "many = 0\n",
    "while True:\n",
    "    if ( many < 1 ) :\n",
    "        sval = input('How many pages:')\n",
    "        if ( len(sval) < 1 ) : break\n",
    "        many = int(sval)\n",
    "    many = many - 1\n",
    "\n",
    "    cur.execute('SELECT id,url FROM Pages WHERE html is NULL and error is NULL ORDER BY RANDOM() LIMIT 1')\n",
    "    try:\n",
    "        row = cur.fetchone()\n",
    "        # print row\n",
    "        fromid = row[0]\n",
    "        url = row[1]\n",
    "    except:\n",
    "        print('No unretrieved HTML pages found')\n",
    "        many = 0\n",
    "        break\n",
    "\n",
    "    print(fromid, url, end=' ')\n",
    "\n",
    "    # If we are retrieving this page, there should be no links from it\n",
    "    cur.execute('DELETE from Links WHERE from_id=?', (fromid, ) )\n",
    "    try:\n",
    "        document = urlopen(url, context=ctx)\n",
    "\n",
    "        html = document.read()\n",
    "        if document.getcode() != 200 :\n",
    "            print(\"Error on page: \",document.getcode())\n",
    "            cur.execute('UPDATE Pages SET error=? WHERE url=?', (document.getcode(), url) )\n",
    "\n",
    "        if 'text/html' != document.info().get_content_type() :\n",
    "            print(\"Ignore non text/html page\")\n",
    "            cur.execute('DELETE FROM Pages WHERE url=?', ( url, ) )\n",
    "            conn.commit()\n",
    "            continue\n",
    "\n",
    "        print('('+str(len(html))+')', end=' ')\n",
    "\n",
    "        soup = BeautifulSoup(html, \"html.parser\")\n",
    "    except KeyboardInterrupt:\n",
    "        print('')\n",
    "        print('Program interrupted by user...')\n",
    "        break\n",
    "    except:\n",
    "        print(\"Unable to retrieve or parse page\")\n",
    "        cur.execute('UPDATE Pages SET error=-1 WHERE url=?', (url, ) )\n",
    "        conn.commit()\n",
    "        continue\n",
    "\n",
    "    cur.execute('INSERT OR IGNORE INTO Pages (url, html, new_rank) VALUES ( ?, NULL, 1.0 )', ( url, ) )\n",
    "    cur.execute('UPDATE Pages SET html=? WHERE url=?', (memoryview(html), url ) )\n",
    "    conn.commit()\n",
    "\n",
    "    # Retrieve all of the anchor tags\n",
    "    tags = soup('a')\n",
    "    count = 0\n",
    "    for tag in tags:\n",
    "        href = tag.get('href', None)\n",
    "        if ( href is None ) : continue\n",
    "        # Resolve relative references like href=\"/contact\"\n",
    "        up = urlparse(href)\n",
    "        if ( len(up.scheme) < 1 ) :\n",
    "            href = urljoin(url, href)\n",
    "        ipos = href.find('#')\n",
    "        if ( ipos > 1 ) : href = href[:ipos]\n",
    "        if ( href.endswith('.png') or href.endswith('.jpg') or href.endswith('.gif') ) : continue\n",
    "        if ( href.endswith('/') ) : href = href[:-1]\n",
    "        # print href\n",
    "        if ( len(href) < 1 ) : continue\n",
    "\n",
    "\t\t# Check if the URL is in any of the webs\n",
    "        found = False\n",
    "        for web in webs:\n",
    "            if ( href.startswith(web) ) :\n",
    "                found = True\n",
    "                break\n",
    "        if not found : continue\n",
    "\n",
    "        cur.execute('INSERT OR IGNORE INTO Pages (url, html, new_rank) VALUES ( ?, NULL, 1.0 )', ( href, ) )\n",
    "        count = count + 1\n",
    "        conn.commit()\n",
    "\n",
    "        cur.execute('SELECT id FROM Pages WHERE url=? LIMIT 1', ( href, ))\n",
    "        try:\n",
    "            row = cur.fetchone()\n",
    "            toid = row[0]\n",
    "        except:\n",
    "            print('Could not retrieve id')\n",
    "            continue\n",
    "        # print fromid, toid\n",
    "        cur.execute('INSERT OR IGNORE INTO Links (from_id, to_id) VALUES ( ?, ? )', ( fromid, toid ) )\n",
    "\n",
    "\n",
    "    print(count)\n",
    "\n",
    "cur.close()\n"
   ]
  },
  {
   "cell_type": "code",
   "execution_count": null,
   "id": "9e887826",
   "metadata": {},
   "outputs": [],
   "source": []
  },
  {
   "cell_type": "code",
   "execution_count": null,
   "id": "baadcdcc",
   "metadata": {},
   "outputs": [],
   "source": []
  },
  {
   "cell_type": "code",
   "execution_count": null,
   "id": "6b43f2d1",
   "metadata": {},
   "outputs": [],
   "source": []
  },
  {
   "cell_type": "code",
   "execution_count": null,
   "id": "55f1e00a",
   "metadata": {},
   "outputs": [],
   "source": []
  },
  {
   "cell_type": "code",
   "execution_count": null,
   "id": "94ed6023",
   "metadata": {},
   "outputs": [],
   "source": []
  },
  {
   "cell_type": "code",
   "execution_count": null,
   "id": "fc0e2c13",
   "metadata": {},
   "outputs": [],
   "source": []
  }
 ],
 "metadata": {
  "kernelspec": {
   "display_name": "Python 3 (ipykernel)",
   "language": "python",
   "name": "python3"
  },
  "language_info": {
   "codemirror_mode": {
    "name": "ipython",
    "version": 3
   },
   "file_extension": ".py",
   "mimetype": "text/x-python",
   "name": "python",
   "nbconvert_exporter": "python",
   "pygments_lexer": "ipython3",
   "version": "3.11.5"
  }
 },
 "nbformat": 4,
 "nbformat_minor": 5
}
